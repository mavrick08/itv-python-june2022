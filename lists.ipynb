{
  "nbformat": 4,
  "nbformat_minor": 0,
  "metadata": {
    "colab": {
      "name": "lists.ipynb",
      "provenance": [],
      "collapsed_sections": []
    },
    "kernelspec": {
      "name": "python3",
      "display_name": "Python 3"
    },
    "language_info": {
      "name": "python"
    }
  },
  "cells": [
    {
      "cell_type": "markdown",
      "source": [
        "1)Python program to interchange first and last elements in a list."
      ],
      "metadata": {
        "id": "ISyp9Wm0MKxc"
      }
    },
    {
      "cell_type": "code",
      "source": [
        "mylist=[10,20,30,40]#using 3rd variable\n",
        "print(\"before swapping: \",mylist)\n",
        "temp=mylist[0]\n",
        "mylist[0]=mylist[3]\n",
        "mylist[3]=temp\n",
        "print(\"after swapping: \",mylist)"
      ],
      "metadata": {
        "colab": {
          "base_uri": "https://localhost:8080/"
        },
        "id": "T5ulnh7qMS0e",
        "outputId": "7541dff8-9e60-4769-9132-f48dd8d7e77e"
      },
      "execution_count": 1,
      "outputs": [
        {
          "output_type": "stream",
          "name": "stdout",
          "text": [
            "before swapping:  [10, 20, 30, 40]\n",
            "after swapping:  [40, 20, 30, 10]\n"
          ]
        }
      ]
    },
    {
      "cell_type": "code",
      "execution_count": 2,
      "metadata": {
        "colab": {
          "base_uri": "https://localhost:8080/"
        },
        "id": "zAL2Uc1VJ2Rv",
        "outputId": "645b78cd-ae1e-4e6c-a415-e20c5307b243"
      },
      "outputs": [
        {
          "output_type": "stream",
          "name": "stdout",
          "text": [
            "before swapping:  [10, 20, 30, 40]\n",
            "after swapping:  [40, 20, 30, 10]\n"
          ]
        }
      ],
      "source": [
        "mylist=[10,20,30,40]#using swapping inbuilt functn\n",
        "print(\"before swapping: \",mylist)\n",
        "mylist[0],mylist[3]=mylist[3],mylist[0]\n",
        "print(\"after swapping: \",mylist)\n"
      ]
    },
    {
      "cell_type": "code",
      "source": [
        "mylist=[10,20,30,40]#using * operand- doubt\n",
        "print(\"before swapping: \",mylist)\n",
        "start, *middle, end=mylist#only one unpack operation allowed in list\n",
        "mylist=[end,*middle, start]\n",
        "print(\"after swapping: \",mylist)#return keyword only be use in fucntion"
      ],
      "metadata": {
        "colab": {
          "base_uri": "https://localhost:8080/"
        },
        "id": "6jVxDBlOOyOF",
        "outputId": "c31865e9-ad10-49a0-da59-c15b8a27e8a4"
      },
      "execution_count": 5,
      "outputs": [
        {
          "output_type": "stream",
          "name": "stdout",
          "text": [
            "before swapping:  [10, 20, 30, 40]\n",
            "after swapping:  [40, 20, 30, 10]\n"
          ]
        }
      ]
    },
    {
      "cell_type": "code",
      "source": [
        "mylist=[10,20,30,40]#using list methods\n",
        "print(\"before swapping: \",mylist)\n",
        "first=mylist.pop(0)#now the 10 is already removed and stored in first variable[20,30,40]\n",
        "last=mylist.pop(2)\n",
        "mylist.insert(0,last)\n",
        "mylist.append(first)\n",
        "print(\"after swapping: \",mylist)"
      ],
      "metadata": {
        "colab": {
          "base_uri": "https://localhost:8080/"
        },
        "id": "E0g00-OxRjb9",
        "outputId": "a001dbb8-b501-460e-d9bb-d2f6c680624f"
      },
      "execution_count": 12,
      "outputs": [
        {
          "output_type": "stream",
          "name": "stdout",
          "text": [
            "before swapping:  [10, 20, 30, 40]\n",
            "after swapping:  [40, 20, 30, 10]\n"
          ]
        }
      ]
    },
    {
      "cell_type": "markdown",
      "source": [
        "2)Python – Swap elements in String list."
      ],
      "metadata": {
        "id": "NnoFd25eVeX1"
      }
    },
    {
      "cell_type": "code",
      "source": [
        "mylist=[\"shru\",\"sami\",\"shash\"]\n",
        "res=\",\".join(mylist)#list to string\n",
        "print(type(res))\n",
        "res=res.replace(\"s\",\"z\")\n",
        "print(res)\n",
        "res1=res.split()\n",
        "print(res1)"
      ],
      "metadata": {
        "colab": {
          "base_uri": "https://localhost:8080/"
        },
        "id": "FaZ4vF_RZJBS",
        "outputId": "fb6f08a1-dcf1-4fd8-abfa-a2dc3e11b014"
      },
      "execution_count": 21,
      "outputs": [
        {
          "output_type": "stream",
          "name": "stdout",
          "text": [
            "<class 'str'>\n",
            "zhru,zami,zhazh\n",
            "['zhru,zami,zhazh']\n"
          ]
        }
      ]
    },
    {
      "cell_type": "markdown",
      "source": [
        "3)way to find lenth of list"
      ],
      "metadata": {
        "id": "YFG3j5gdlNAG"
      }
    },
    {
      "cell_type": "code",
      "source": [
        "mylist=[10,20,30,40]#doubt- how to do by loop\n",
        "counter=0\n",
        "print(len(mylist))\n",
        "for item in mylist:\n",
        "  counter=counter+1\n",
        "  print(str(counter))\n",
        "  "
      ],
      "metadata": {
        "colab": {
          "base_uri": "https://localhost:8080/"
        },
        "id": "-JqzNaOylpUV",
        "outputId": "1b5f4d0f-5f18-4943-e51a-c9d80eca7c9f"
      },
      "execution_count": 51,
      "outputs": [
        {
          "output_type": "stream",
          "name": "stdout",
          "text": [
            "4\n",
            "1\n",
            "2\n",
            "3\n",
            "4\n"
          ]
        }
      ]
    },
    {
      "cell_type": "code",
      "source": [
        "for item in [\"shru\",\"sami\"]:#how to define list in loop\n",
        "  print(item)\n"
      ],
      "metadata": {
        "colab": {
          "base_uri": "https://localhost:8080/"
        },
        "id": "-SVAyBGaHWcx",
        "outputId": "2e905a73-320d-47ef-d855-89301c710b39"
      },
      "execution_count": 54,
      "outputs": [
        {
          "output_type": "stream",
          "name": "stdout",
          "text": [
            "shru\n",
            "sami\n"
          ]
        }
      ]
    },
    {
      "cell_type": "code",
      "source": [
        "for i in range(50):\n",
        "  print(i)"
      ],
      "metadata": {
        "colab": {
          "base_uri": "https://localhost:8080/"
        },
        "id": "Zbxu2ssgOHx_",
        "outputId": "ba6e2adb-d985-4b12-803b-ce43c457361e"
      },
      "execution_count": 55,
      "outputs": [
        {
          "output_type": "stream",
          "name": "stdout",
          "text": [
            "0\n",
            "1\n",
            "2\n",
            "3\n",
            "4\n"
          ]
        }
      ]
    },
    {
      "cell_type": "markdown",
      "source": [
        "4)to get max and min number from list"
      ],
      "metadata": {
        "id": "4Ikk7y5ZoH6F"
      }
    },
    {
      "cell_type": "code",
      "source": [
        "mylist=[10,40,50,20,46]#doubt-how to do using loop\n",
        "print(max(mylist))\n",
        "print(min(mylist))"
      ],
      "metadata": {
        "colab": {
          "base_uri": "https://localhost:8080/"
        },
        "id": "S8kOEdwUo9bV",
        "outputId": "9d36922a-acef-419f-854e-e2df299e33d3"
      },
      "execution_count": 28,
      "outputs": [
        {
          "output_type": "execute_result",
          "data": {
            "text/plain": [
              "10"
            ]
          },
          "metadata": {},
          "execution_count": 28
        }
      ]
    },
    {
      "cell_type": "markdown",
      "source": [
        "nested/multidimesnsional list"
      ],
      "metadata": {
        "id": "LpPdac3bqHdS"
      }
    },
    {
      "cell_type": "code",
      "source": [
        "nested_list = [\n",
        "    [\n",
        "        [\"hello\",\"welcome\",33],\n",
        "        [\"shru\",\"shash\"]\n",
        "         \n",
        "\n",
        "    ],\n",
        "    [\n",
        "        [222,333,444],\n",
        "     [\"sami\",\"hello\"]\n",
        "    ]\n",
        "   \n",
        "]"
      ],
      "metadata": {
        "id": "Kv28E8uqu9eA"
      },
      "execution_count": 29,
      "outputs": []
    },
    {
      "cell_type": "code",
      "source": [
        "nested_list[0][1][1]"
      ],
      "metadata": {
        "colab": {
          "base_uri": "https://localhost:8080/",
          "height": 36
        },
        "id": "pWzujl1iv_74",
        "outputId": "8da68681-4a33-4ce0-e66d-53da3074035f"
      },
      "execution_count": 30,
      "outputs": [
        {
          "output_type": "execute_result",
          "data": {
            "text/plain": [
              "'shash'"
            ],
            "application/vnd.google.colaboratory.intrinsic+json": {
              "type": "string"
            }
          },
          "metadata": {},
          "execution_count": 30
        }
      ]
    },
    {
      "cell_type": "code",
      "source": [
        "l = [[[[[\"i\",\"have\",\"the\"],[\"knowledge\",\"of\",\"programming\"]]]]]\n",
        "\n",
        "l[0][0][0].append([1,2,3,4])\n",
        "print(l)"
      ],
      "metadata": {
        "colab": {
          "base_uri": "https://localhost:8080/"
        },
        "id": "Y0myFDvSwbAZ",
        "outputId": "35e8497f-fa8a-41fb-89a2-2b8795927bc1"
      },
      "execution_count": 47,
      "outputs": [
        {
          "output_type": "stream",
          "name": "stdout",
          "text": [
            "[[[[['i', 'have', 'the'], ['knowledge', 'of', 'programming'], [1, 2, 3, 4]]]]]\n"
          ]
        }
      ]
    },
    {
      "cell_type": "code",
      "source": [
        "new_list = [[[[['i', 'have', 'the', 'power', 'of', 'coding'],\n",
        "    ['knowledge', 'in', 'programming', 'python']]]]]\n",
        "new_list[0][0][0][0][0]"
      ],
      "metadata": {
        "colab": {
          "base_uri": "https://localhost:8080/",
          "height": 36
        },
        "id": "NZJ2imo8yJ2D",
        "outputId": "43f984fb-f3d6-41bd-c898-baff6c6141e2"
      },
      "execution_count": 34,
      "outputs": [
        {
          "output_type": "execute_result",
          "data": {
            "text/plain": [
              "'i'"
            ],
            "application/vnd.google.colaboratory.intrinsic+json": {
              "type": "string"
            }
          },
          "metadata": {},
          "execution_count": 34
        }
      ]
    },
    {
      "cell_type": "markdown",
      "source": [
        "5)check the existence of an element in the list"
      ],
      "metadata": {
        "id": "l5Niu1dxDBLm"
      }
    },
    {
      "cell_type": "code",
      "source": [
        "mylist=[10,20,30,40]\n",
        "for item in mylist:\n",
        "  print(item)\n",
        "  \n"
      ],
      "metadata": {
        "colab": {
          "base_uri": "https://localhost:8080/"
        },
        "id": "1B-ZJrPg7iFz",
        "outputId": "fefbf635-fcb0-4ec0-ea17-cebe1497782c"
      },
      "execution_count": 58,
      "outputs": [
        {
          "output_type": "stream",
          "name": "stdout",
          "text": [
            "10\n",
            "20\n",
            "30\n",
            "40\n",
            "item iterated\n",
            "item iterated\n",
            "30\n",
            "item iterated\n"
          ]
        }
      ]
    },
    {
      "cell_type": "code",
      "source": [
        "mylist=[10,20,30,40]\n",
        "for item in mylist:\n",
        "  if item==30:\n",
        "   print(\"item present in list\",item)\n",
        "   #if (4 in test_list): another method\n",
        "    #print (\"Element Exists\")\n",
        "  "
      ],
      "metadata": {
        "colab": {
          "base_uri": "https://localhost:8080/"
        },
        "id": "Zcqv43HvlSQ_",
        "outputId": "8593743c-8bc4-4658-8afd-eb7bf6f8d4e3"
      },
      "execution_count": 61,
      "outputs": [
        {
          "output_type": "stream",
          "name": "stdout",
          "text": [
            "item present in list 30\n"
          ]
        }
      ]
    },
    {
      "cell_type": "code",
      "source": [
        "test_list = [10, 15, 20, 7, 46, 2808,15,15,15]\n",
        "exist_count = test_list.count(15)\n",
        "if exist_count > 0:\n",
        "    print(\"Yes, 15 exists in list\")\n",
        "else:\n",
        "    print(\"No, 15 does not exists in list\")"
      ],
      "metadata": {
        "colab": {
          "base_uri": "https://localhost:8080/"
        },
        "id": "xJwfRbzgmo6b",
        "outputId": "5cbefe4a-d978-4020-d833-4ade0e75addb"
      },
      "execution_count": 63,
      "outputs": [
        {
          "output_type": "stream",
          "name": "stdout",
          "text": [
            "Yes, 15 exists in list\n"
          ]
        }
      ]
    },
    {
      "cell_type": "markdown",
      "source": [
        "reversing of list using insert method"
      ],
      "metadata": {
        "id": "swFvigKxlxpY"
      }
    },
    {
      "cell_type": "code",
      "source": [
        "lst=[10,20]\n",
        "l=[]\n",
        "for i in lst:\n",
        "  l.insert(1,i)\n",
        "print(l)"
      ],
      "metadata": {
        "colab": {
          "base_uri": "https://localhost:8080/"
        },
        "id": "OuQEgupBol0P",
        "outputId": "e6f738e4-fa2b-47e7-e42b-b9803b6289aa"
      },
      "execution_count": 66,
      "outputs": [
        {
          "output_type": "stream",
          "name": "stdout",
          "text": [
            "[10, 20]\n"
          ]
        }
      ]
    },
    {
      "cell_type": "markdown",
      "source": [
        "copy/cloning"
      ],
      "metadata": {
        "id": "ES9A2W2jsGV3"
      }
    },
    {
      "cell_type": "code",
      "source": [
        "li1=[10,20,30,40]\n",
        "#li2=li1 using assignment operator\n",
        "licopy=li1[:]\n",
        "print(licopy)"
      ],
      "metadata": {
        "colab": {
          "base_uri": "https://localhost:8080/"
        },
        "id": "bqcyeuExsJvx",
        "outputId": "55e88dd4-8cae-4b3e-aca6-b74eafd846bd"
      },
      "execution_count": 68,
      "outputs": [
        {
          "output_type": "stream",
          "name": "stdout",
          "text": [
            "[10, 20, 30, 40]\n"
          ]
        }
      ]
    },
    {
      "cell_type": "code",
      "source": [
        "li1=[10,20,30,40]\n",
        "print(licopy.extend(li1))\n",
        "print(licopy)"
      ],
      "metadata": {
        "colab": {
          "base_uri": "https://localhost:8080/"
        },
        "id": "Qeeoi6T8sXfy",
        "outputId": "d889fc48-0573-4fd3-c153-69e03a5e8096"
      },
      "execution_count": 77,
      "outputs": [
        {
          "output_type": "stream",
          "name": "stdout",
          "text": [
            "None\n",
            "[10, 20, 30, 40, 50, 60, 70, 10, 20, 30, 40, 10, 20, 30, 40, 10, 20, 30, 40, 10, 20, 30, 40, 10, 20, 30, 40, 10, 20, 30, 40]\n"
          ]
        }
      ]
    },
    {
      "cell_type": "code",
      "source": [
        "\n"
      ],
      "metadata": {
        "colab": {
          "base_uri": "https://localhost:8080/"
        },
        "id": "3kfGMZ4jvg5S",
        "outputId": "5ef84dc5-1fb9-448e-de8e-32519d12adb4"
      },
      "execution_count": 81,
      "outputs": [
        {
          "output_type": "stream",
          "name": "stdout",
          "text": [
            "[4]\n"
          ]
        }
      ]
    }
  ]
}