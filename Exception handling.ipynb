{
 "cells": [
  {
   "cell_type": "code",
   "execution_count": 11,
   "id": "34bb305e",
   "metadata": {},
   "outputs": [
    {
     "name": "stdout",
     "output_type": "stream",
     "text": [
      "Division by 0 is not allowed\n"
     ]
    }
   ],
   "source": [
    "try:\n",
    "    print(2/0)\n",
    "    print(a)\n",
    "except NameError:\n",
    "    print(\"You are trying to access a variable that is not defined\")\n",
    "    \n",
    "except ZeroDivisionError:\n",
    "    print(\"Division by 0 is not allowed\")"
   ]
  },
  {
   "cell_type": "code",
   "execution_count": null,
   "id": "c2c04dc5",
   "metadata": {},
   "outputs": [],
   "source": []
  },
  {
   "cell_type": "code",
   "execution_count": 14,
   "id": "99a155b9",
   "metadata": {},
   "outputs": [
    {
     "name": "stdout",
     "output_type": "stream",
     "text": [
      "Trying to access a index which is not defined\n"
     ]
    }
   ],
   "source": [
    "try:\n",
    "    lst = [10,20,30,40,50]\n",
    "    print(lst[9])\n",
    "except IndexError:\n",
    "    print(\"Trying to access a index which is not defined\")"
   ]
  },
  {
   "cell_type": "code",
   "execution_count": 13,
   "id": "187d1e9a",
   "metadata": {},
   "outputs": [
    {
     "ename": "IndexError",
     "evalue": "list index out of range",
     "output_type": "error",
     "traceback": [
      "\u001b[0;31m---------------------------------------------------------------------------\u001b[0m",
      "\u001b[0;31mIndexError\u001b[0m                                Traceback (most recent call last)",
      "Input \u001b[0;32mIn [13]\u001b[0m, in \u001b[0;36m<module>\u001b[0;34m\u001b[0m\n\u001b[0;32m----> 1\u001b[0m \u001b[43mlst\u001b[49m\u001b[43m[\u001b[49m\u001b[38;5;241;43m9\u001b[39;49m\u001b[43m]\u001b[49m\n",
      "\u001b[0;31mIndexError\u001b[0m: list index out of range"
     ]
    }
   ],
   "source": []
  },
  {
   "cell_type": "code",
   "execution_count": 16,
   "id": "52c8a4f3",
   "metadata": {},
   "outputs": [
    {
     "name": "stdout",
     "output_type": "stream",
     "text": [
      "No Such File Exists\n"
     ]
    }
   ],
   "source": [
    "try:\n",
    "    with open('Salary.txt','r') as sal_info:\n",
    "        print(sal_info.read())\n",
    "except FileNotFoundError:\n",
    "    print(\"No Such File Exists\")"
   ]
  },
  {
   "cell_type": "code",
   "execution_count": null,
   "id": "eb6b4064",
   "metadata": {},
   "outputs": [],
   "source": []
  }
 ],
 "metadata": {
  "kernelspec": {
   "display_name": "Python 3 (ipykernel)",
   "language": "python",
   "name": "python3"
  },
  "language_info": {
   "codemirror_mode": {
    "name": "ipython",
    "version": 3
   },
   "file_extension": ".py",
   "mimetype": "text/x-python",
   "name": "python",
   "nbconvert_exporter": "python",
   "pygments_lexer": "ipython3",
   "version": "3.8.8"
  }
 },
 "nbformat": 4,
 "nbformat_minor": 5
}
