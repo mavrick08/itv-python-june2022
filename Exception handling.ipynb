{
 "cells": [
  {
   "cell_type": "code",
   "execution_count": 11,
   "id": "34bb305e",
   "metadata": {},
   "outputs": [
    {
     "name": "stdout",
     "output_type": "stream",
     "text": [
      "Division by 0 is not allowed\n"
     ]
    }
   ],
   "source": [
    "try:\n",
    "    print(2/0)\n",
    "    print(a)\n",
    "except NameError:\n",
    "    print(\"You are trying to access a variable that is not defined\")\n",
    "    \n",
    "except ZeroDivisionError:\n",
    "    print(\"Division by 0 is not allowed\")"
   ]
  },
  {
   "cell_type": "code",
   "execution_count": null,
   "id": "c2c04dc5",
   "metadata": {},
   "outputs": [],
   "source": []
  },
  {
   "cell_type": "code",
   "execution_count": 14,
   "id": "99a155b9",
   "metadata": {},
   "outputs": [
    {
     "name": "stdout",
     "output_type": "stream",
     "text": [
      "Trying to access a index which is not defined\n"
     ]
    }
   ],
   "source": [
    "try:\n",
    "    lst = [10,20,30,40,50]\n",
    "    print(lst[9])\n",
    "except IndexError:\n",
    "    print(\"Trying to access a index which is not defined\")"
   ]
  },
  {
   "cell_type": "code",
   "execution_count": 13,
   "id": "187d1e9a",
   "metadata": {},
   "outputs": [
    {
     "ename": "IndexError",
     "evalue": "list index out of range",
     "output_type": "error",
     "traceback": [
      "\u001b[0;31m---------------------------------------------------------------------------\u001b[0m",
      "\u001b[0;31mIndexError\u001b[0m                                Traceback (most recent call last)",
      "Input \u001b[0;32mIn [13]\u001b[0m, in \u001b[0;36m<module>\u001b[0;34m\u001b[0m\n\u001b[0;32m----> 1\u001b[0m \u001b[43mlst\u001b[49m\u001b[43m[\u001b[49m\u001b[38;5;241;43m9\u001b[39;49m\u001b[43m]\u001b[49m\n",
      "\u001b[0;31mIndexError\u001b[0m: list index out of range"
     ]
    }
   ],
   "source": []
  },
  {
   "cell_type": "code",
   "execution_count": 16,
   "id": "52c8a4f3",
   "metadata": {},
   "outputs": [
    {
     "name": "stdout",
     "output_type": "stream",
     "text": [
      "No Such File Exists\n"
     ]
    }
   ],
   "source": [
    "try:\n",
    "    with open('Salary.txt','r') as sal_info:\n",
    "        print(sal_info.read())\n",
    "except FileNotFoundError:\n",
    "    print(\"No Such File Exists\")"
   ]
  },
  {
   "cell_type": "code",
   "execution_count": 1,
   "id": "eb6b4064",
   "metadata": {},
   "outputs": [
    {
     "name": "stdout",
     "output_type": "stream",
     "text": [
      "Enter Num a\n"
     ]
    },
    {
     "ename": "ValueError",
     "evalue": "invalid literal for int() with base 10: 'a'",
     "output_type": "error",
     "traceback": [
      "\u001b[0;31m---------------------------------------------------------------------------\u001b[0m",
      "\u001b[0;31mValueError\u001b[0m                                Traceback (most recent call last)",
      "Input \u001b[0;32mIn [1]\u001b[0m, in \u001b[0;36m<module>\u001b[0;34m\u001b[0m\n\u001b[0;32m----> 1\u001b[0m \u001b[38;5;28;43mint\u001b[39;49m\u001b[43m(\u001b[49m\u001b[38;5;28;43minput\u001b[39;49m\u001b[43m(\u001b[49m\u001b[38;5;124;43m\"\u001b[39;49m\u001b[38;5;124;43mEnter Num \u001b[39;49m\u001b[38;5;124;43m\"\u001b[39;49m\u001b[43m)\u001b[49m\u001b[43m)\u001b[49m\n",
      "\u001b[0;31mValueError\u001b[0m: invalid literal for int() with base 10: 'a'"
     ]
    }
   ],
   "source": [
    "int(input(\"Enter Num \"))"
   ]
  },
  {
   "cell_type": "code",
   "execution_count": 8,
   "id": "3f395501",
   "metadata": {},
   "outputs": [
    {
     "name": "stdout",
     "output_type": "stream",
     "text": [
      "Enter any Number a\n",
      "You Seem to have entered wrong data type \n",
      "I will execute in any given situation \n"
     ]
    }
   ],
   "source": [
    "try:\n",
    "    inp_num1 = int(input(\"Enter any Number \"))\n",
    "    inp_num2 = int(input(\"Enter any Number \"))\n",
    "    result = inp_num1 / inp_num2\n",
    "    print(f'Result is {result}')\n",
    "    \n",
    "except ValueError:\n",
    "    print(\"You Seem to have entered wrong data type \")\n",
    "    \n",
    "except ZeroDivisionError:\n",
    "    print(\"Division by Zero not possible\")\n",
    "    \n",
    "finally:\n",
    "    print(\"I will execute in any given situation \")"
   ]
  },
  {
   "cell_type": "code",
   "execution_count": 7,
   "id": "12d2e5b0",
   "metadata": {},
   "outputs": [
    {
     "ename": "SyntaxError",
     "evalue": "invalid syntax (1395559595.py, line 3)",
     "output_type": "error",
     "traceback": [
      "\u001b[0;36m  Input \u001b[0;32mIn [7]\u001b[0;36m\u001b[0m\n\u001b[0;31m    except:\u001b[0m\n\u001b[0m    ^\u001b[0m\n\u001b[0;31mSyntaxError\u001b[0m\u001b[0;31m:\u001b[0m invalid syntax\n"
     ]
    }
   ],
   "source": [
    "try:\n",
    "    print(\"hello world\"\n",
    "except:\n",
    "    print(\"Some Issue\")"
   ]
  },
  {
   "cell_type": "code",
   "execution_count": 13,
   "id": "81453052",
   "metadata": {},
   "outputs": [
    {
     "ename": "TypeError",
     "evalue": "exceptions must derive from BaseException",
     "output_type": "error",
     "traceback": [
      "\u001b[0;31m---------------------------------------------------------------------------\u001b[0m",
      "\u001b[0;31mNameError\u001b[0m                                 Traceback (most recent call last)",
      "Input \u001b[0;32mIn [13]\u001b[0m, in \u001b[0;36m<module>\u001b[0;34m\u001b[0m\n\u001b[1;32m      1\u001b[0m \u001b[38;5;28;01mtry\u001b[39;00m:\n\u001b[0;32m----> 2\u001b[0m     \u001b[38;5;28mprint\u001b[39m(\u001b[43mcity\u001b[49m)\n\u001b[1;32m      3\u001b[0m \u001b[38;5;28;01mexcept\u001b[39;00m \u001b[38;5;167;01mNameError\u001b[39;00m:\n",
      "\u001b[0;31mNameError\u001b[0m: name 'city' is not defined",
      "\nDuring handling of the above exception, another exception occurred:\n",
      "\u001b[0;31mTypeError\u001b[0m                                 Traceback (most recent call last)",
      "Input \u001b[0;32mIn [13]\u001b[0m, in \u001b[0;36m<module>\u001b[0;34m\u001b[0m\n\u001b[1;32m      2\u001b[0m     \u001b[38;5;28mprint\u001b[39m(city)\n\u001b[1;32m      3\u001b[0m \u001b[38;5;28;01mexcept\u001b[39;00m \u001b[38;5;167;01mNameError\u001b[39;00m:\n\u001b[0;32m----> 4\u001b[0m     \u001b[38;5;28;01mraise\u001b[39;00m(\u001b[38;5;124m'\u001b[39m\u001b[38;5;124mTrying to aceess undefined variable\u001b[39m\u001b[38;5;124m'\u001b[39m)\n",
      "\u001b[0;31mTypeError\u001b[0m: exceptions must derive from BaseException"
     ]
    }
   ],
   "source": [
    "try:\n",
    "    print(city)\n",
    "except NameError:\n",
    "    logger.Error()"
   ]
  },
  {
   "cell_type": "code",
   "execution_count": 16,
   "id": "d89baea0",
   "metadata": {},
   "outputs": [
    {
     "name": "stdout",
     "output_type": "stream",
     "text": [
      "Value is too small\n"
     ]
    }
   ],
   "source": [
    "class ValueSmallError(Exception):\n",
    "    pass\n",
    "try:\n",
    "    num1 = 10\n",
    "    num2 = 20\n",
    "    if num1 < num2:\n",
    "        raise ValueSmallError\n",
    "except ValueSmallError:\n",
    "    print(\"Value is too small\")\n",
    "#     raise(\"Value tooo Small\")"
   ]
  },
  {
   "cell_type": "code",
   "execution_count": null,
   "id": "ccf0a3e6",
   "metadata": {},
   "outputs": [],
   "source": []
  }
 ],
 "metadata": {
  "kernelspec": {
   "display_name": "Python 3 (ipykernel)",
   "language": "python",
   "name": "python3"
  },
  "language_info": {
   "codemirror_mode": {
    "name": "ipython",
    "version": 3
   },
   "file_extension": ".py",
   "mimetype": "text/x-python",
   "name": "python",
   "nbconvert_exporter": "python",
   "pygments_lexer": "ipython3",
   "version": "3.8.8"
  }
 },
 "nbformat": 4,
 "nbformat_minor": 5
}
