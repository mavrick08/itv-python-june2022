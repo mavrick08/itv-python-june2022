{
 "cells": [
  {
   "cell_type": "markdown",
   "id": "6fe3fc04",
   "metadata": {},
   "source": [
    "pip install mysql-connector-python"
   ]
  },
  {
   "cell_type": "markdown",
   "id": "ca2db64a",
   "metadata": {},
   "source": [
    "1) install the mysql connector library  **One time step**\n",
    "\n",
    "2) import mysql connector library\n",
    "\n",
    "3) use the connect() method for doing connections with required arguments.\n",
    "\n",
    "4) use the cursor() method to create cursor object that performs various SQL operations\n",
    "\n",
    "5) Use the execute() or executemany() or executeall() method that runs SQL query.\n",
    "\n",
    "6) Extract the result using fetchall() or fetchone() or fetchmany() to the read the result.\n",
    "\n",
    "7) Close the cursor object and connection objects."
   ]
  },
  {
   "cell_type": "code",
   "execution_count": null,
   "id": "7ebe051c",
   "metadata": {},
   "outputs": [],
   "source": []
  },
  {
   "cell_type": "code",
   "execution_count": 10,
   "id": "8ed282c5",
   "metadata": {},
   "outputs": [
    {
     "name": "stdout",
     "output_type": "stream",
     "text": [
      "('alpha',)\n",
      "('ams',)\n",
      "('crm',)\n",
      "('data_science',)\n",
      "('dcodetech',)\n",
      "('dcodetech_datascience',)\n",
      "('demo',)\n",
      "('django2022',)\n",
      "('doubtsadmin',)\n",
      "('doubtsapp',)\n",
      "('doubtsapp_generator',)\n",
      "('dummy',)\n",
      "('electronics_db',)\n",
      "('furrent1',)\n",
      "('furrent_db',)\n",
      "('generator',)\n",
      "('hansika_db',)\n",
      "('house_rental',)\n",
      "('i3032353_wp10',)\n",
      "('information_schema',)\n",
      "('intenship2022',)\n",
      "('intern_batch2',)\n",
      "('itv',)\n",
      "('logon',)\n",
      "('mysql',)\n",
      "('netmlmpro',)\n",
      "('nishu',)\n",
      "('performance_schema',)\n",
      "('phpmyadmin',)\n",
      "('polykart_db',)\n",
      "('polykart_db_new',)\n",
      "('product_db',)\n",
      "('pythonJune2022',)\n",
      "('realtypro_db',)\n",
      "('rentalmanagement',)\n",
      "('test',)\n",
      "('test_mlmdb',)\n",
      "('tk_db',)\n",
      "('tkinter_data',)\n"
     ]
    }
   ],
   "source": [
    "import mysql.connector\n",
    "from mysql.connector import Error\n",
    "try:\n",
    "    connection = mysql.connector.connect(host='localhost',user='root',password='')\n",
    "    if connection.is_connected():\n",
    "        mycursor = connection.cursor()\n",
    "        mycursor.execute('SHOW DATABASES;')\n",
    "        result = mycursor.fetchall()\n",
    "#         print(result)\n",
    "        for item in result:\n",
    "            print(item)\n",
    "        \n",
    "    else:\n",
    "        print(\"Some issue\")\n",
    "        \n",
    "except Error as e:\n",
    "    print(\"Some issue in SQL\",e)\n",
    "    \n",
    "finally:\n",
    "    if connection.is_connected():\n",
    "        mycursor.close()\n",
    "        connection.close()"
   ]
  },
  {
   "cell_type": "code",
   "execution_count": null,
   "id": "3f3bb3bb",
   "metadata": {},
   "outputs": [],
   "source": []
  },
  {
   "cell_type": "markdown",
   "id": "ae360f97",
   "metadata": {},
   "source": [
    "# creating table using python in mysql"
   ]
  },
  {
   "cell_type": "code",
   "execution_count": 11,
   "id": "292b7a6c",
   "metadata": {},
   "outputs": [
    {
     "name": "stdout",
     "output_type": "stream",
     "text": [
      "Table Created Successfully\n"
     ]
    }
   ],
   "source": [
    "import mysql.connector\n",
    "from mysql.connector import Error\n",
    "\n",
    "try:\n",
    "    connection = mysql.connector.connect(host='localhost',\n",
    "                                        user='root',\n",
    "                                        password='',\n",
    "                                        database='itv-june-2022')\n",
    "    if connection.is_connected():\n",
    "        mycursor = connection.cursor()\n",
    "        create_table_query = \"\"\"\n",
    "        CREATE TABLE students(\n",
    "        student_id int(10) NOT NULL,\n",
    "        student_name varchar(100) NOT NULL,\n",
    "        student_course varchar(100) NOT NULL,\n",
    "        student_admission_date DATE NOT NULL,\n",
    "        PRIMARY KEY(student_id));\"\"\"\n",
    "        \n",
    "        mycursor.execute(create_table_query)\n",
    "        print(\"Table Created Successfully\")\n",
    "        \n",
    "except Error as e:\n",
    "    print(\"Failed to create table\",e)\n",
    "    \n",
    "finally:\n",
    "    if connection.is_connected():\n",
    "        mycursor.close()\n",
    "        connection.close()"
   ]
  },
  {
   "cell_type": "markdown",
   "id": "790e1b09",
   "metadata": {},
   "source": [
    "## inserting records"
   ]
  },
  {
   "cell_type": "code",
   "execution_count": 13,
   "id": "3f1b0630",
   "metadata": {},
   "outputs": [
    {
     "name": "stdout",
     "output_type": "stream",
     "text": [
      "Record Inserted Successfully\n"
     ]
    }
   ],
   "source": [
    "import mysql.connector\n",
    "from mysql.connector import Error\n",
    "\n",
    "try:\n",
    "    connection = mysql.connector.connect(host='localhost',\n",
    "                                        user='root',\n",
    "                                        password='',\n",
    "                                        database='itv-june-2022')\n",
    "    if connection.is_connected():\n",
    "        mycursor = connection.cursor()\n",
    "        insert_query = \"\"\"\n",
    "        INSERT INTO students(student_id,student_name,student_course,\n",
    "        student_admission_date) VALUES (1002,\"Alpha\",\"Web Dev\",\"2022-07-12\")\n",
    "        \"\"\"\n",
    "        mycursor.execute(insert_query)\n",
    "        connection.commit()\n",
    "        print(\"Record Inserted Successfully\")\n",
    "        \n",
    "except Error as e:\n",
    "    print(\"Failed to create table\",e)\n",
    "    \n",
    "finally:\n",
    "    if connection.is_connected():\n",
    "        mycursor.close()\n",
    "        connection.close()"
   ]
  },
  {
   "cell_type": "markdown",
   "id": "caefacdf",
   "metadata": {},
   "source": [
    "## Insert Multiple records in a table"
   ]
  },
  {
   "cell_type": "code",
   "execution_count": 1,
   "id": "366e9940",
   "metadata": {},
   "outputs": [
    {
     "name": "stdout",
     "output_type": "stream",
     "text": [
      "4 Records Inserted Successfully\n"
     ]
    },
    {
     "ename": "NameError",
     "evalue": "name 'mycursor' is not defined",
     "output_type": "error",
     "traceback": [
      "\u001b[0;31m---------------------------------------------------------------------------\u001b[0m",
      "\u001b[0;31mNameError\u001b[0m                                 Traceback (most recent call last)",
      "Input \u001b[0;32mIn [1]\u001b[0m, in \u001b[0;36m<module>\u001b[0;34m\u001b[0m\n\u001b[1;32m     31\u001b[0m \u001b[38;5;28;01mfinally\u001b[39;00m:\n\u001b[1;32m     32\u001b[0m     \u001b[38;5;28;01mif\u001b[39;00m connection\u001b[38;5;241m.\u001b[39mis_connected():\n\u001b[0;32m---> 33\u001b[0m         \u001b[43mmycursor\u001b[49m\u001b[38;5;241m.\u001b[39mclose()\n\u001b[1;32m     34\u001b[0m         connection\u001b[38;5;241m.\u001b[39mclose()\n",
      "\u001b[0;31mNameError\u001b[0m: name 'mycursor' is not defined"
     ]
    }
   ],
   "source": [
    "import mysql.connector\n",
    "from mysql.connector import Error\n",
    "\n",
    "try:\n",
    "    connection = mysql.connector.connect(host='localhost',\n",
    "                                        user='root',\n",
    "                                        password='',\n",
    "                                        database='itv-june-2022')\n",
    "    \n",
    "    cursor = connection.cursor()\n",
    "    insert_query = \"\"\"INSERT INTO students(student_id,student_name,student_course,\n",
    "        student_admission_date) VALUES(%s,%s,%s,%s)\n",
    "    \"\"\"\n",
    "    \n",
    "    \n",
    "    records = [\n",
    "        (1002,'Demo','Full Stack Developer','2022-05-24'),\n",
    "        (1003,'Test User','Java Development Course','2022-06-10'),\n",
    "        (1004,'Pay Less','Data Analytics','2022-07-11'),\n",
    "        (1005,'Beta User','PHP development','2022-08-01')\n",
    "    ]\n",
    "    \n",
    "    cursor.executemany(insert_query,records)\n",
    "    connection.commit()\n",
    "    print(f'{cursor.rowcount} Records Inserted Successfully')\n",
    "    \n",
    "    \n",
    "except Error as e:\n",
    "    print('Some issue in inserting',e)\n",
    "    \n",
    "finally:\n",
    "    if connection.is_connected():\n",
    "        cursor.close()\n",
    "        connection.close()"
   ]
  },
  {
   "cell_type": "code",
   "execution_count": null,
   "id": "42460add",
   "metadata": {},
   "outputs": [],
   "source": []
  },
  {
   "cell_type": "markdown",
   "id": "67760ae5",
   "metadata": {},
   "source": [
    "## Retrive Data from Table"
   ]
  },
  {
   "cell_type": "code",
   "execution_count": 11,
   "id": "1d0bc702",
   "metadata": {},
   "outputs": [
    {
     "name": "stdout",
     "output_type": "stream",
     "text": [
      "Id is 1001\n",
      "Name is Good coder\n",
      "Course is Data Science\n",
      "Date of Admission is 2022-06-10\n",
      "========================================\n",
      "\n",
      "Id is 1002\n",
      "Name is Demo\n",
      "Course is Full Stack Developer\n",
      "Date of Admission is 2022-05-24\n",
      "========================================\n",
      "\n",
      "Id is 1003\n",
      "Name is Test User\n",
      "Course is Java Development Course\n",
      "Date of Admission is 2022-06-10\n",
      "========================================\n",
      "\n",
      "Id is 1004\n",
      "Name is Pay Less\n",
      "Course is Data Analytics\n",
      "Date of Admission is 2022-07-11\n",
      "========================================\n",
      "\n",
      "Id is 1005\n",
      "Name is Beta User\n",
      "Course is PHP development\n",
      "Date of Admission is 2022-08-01\n",
      "========================================\n",
      "\n"
     ]
    }
   ],
   "source": [
    "import mysql.connector\n",
    "from mysql.connector import Error\n",
    "\n",
    "try:\n",
    "    connection = mysql.connector.connect(host='localhost',\n",
    "                                        user='root',\n",
    "                                        password='',\n",
    "                                        database='itv-june-2022')\n",
    "    \n",
    "    cursor = connection.cursor()\n",
    "    query = \"SELECT * FROM students\"\n",
    "    cursor.execute(query)\n",
    "    mydata = cursor.fetchall()\n",
    "#     print(mydata[1])\n",
    "    for item in mydata:\n",
    "        print(f'Id is {item[0]}')\n",
    "        print(f'Name is {item[1]}')\n",
    "        print(f'Course is {item[2]}')\n",
    "        print(f'Date of Admission is {item[3]}')\n",
    "#         print(\"========================================\\n\")\n",
    "except Error as e:\n",
    "    print('Some issue in inserting',e)\n",
    "    \n",
    "finally:\n",
    "    if connection.is_connected():\n",
    "        cursor.close()\n",
    "        connection.close()"
   ]
  },
  {
   "cell_type": "code",
   "execution_count": 15,
   "id": "479a40f0",
   "metadata": {},
   "outputs": [
    {
     "name": "stdout",
     "output_type": "stream",
     "text": [
      "1003\n",
      "Test User\n",
      "Java Development Course\n",
      "2022-06-10\n"
     ]
    }
   ],
   "source": [
    "'''\n",
    "Logic for fetching 1 record at a time. using fetchone\n",
    "'''\n",
    "\n",
    "import mysql.connector\n",
    "from mysql.connector import Error\n",
    "\n",
    "try:\n",
    "    connection = mysql.connector.connect(host='localhost',\n",
    "                                        user='root',\n",
    "                                        password='',\n",
    "                                        database='itv-june-2022')\n",
    "    \n",
    "    cursor = connection.cursor()\n",
    "    query = \"SELECT * FROM students WHERE student_id = 1003\"\n",
    "    cursor.execute(query)\n",
    "    mydata = cursor.fetchone()\n",
    "    print(mydata[0])\n",
    "    print(mydata[1])\n",
    "    print(mydata[2])\n",
    "    print(mydata[3])\n",
    "except Error as e:\n",
    "    print('Some issue in inserting',e)\n",
    "    \n",
    "finally:\n",
    "    if connection.is_connected():\n",
    "        cursor.close()\n",
    "        connection.close()"
   ]
  },
  {
   "cell_type": "code",
   "execution_count": 17,
   "id": "77429033",
   "metadata": {},
   "outputs": [
    {
     "name": "stdout",
     "output_type": "stream",
     "text": [
      "Id is 1001\n",
      "Name is Good coder\n",
      "Course is Data Science\n",
      "Date of Admission is 2022-06-10\n",
      "========================================\n",
      "\n",
      "Id is 1002\n",
      "Name is Demo\n",
      "Course is Full Stack Developer\n",
      "Date of Admission is 2022-05-24\n",
      "========================================\n",
      "\n",
      "Id is 1003\n",
      "Name is Test User\n",
      "Course is Java Development Course\n",
      "Date of Admission is 2022-06-10\n",
      "========================================\n",
      "\n"
     ]
    }
   ],
   "source": [
    "'''\n",
    "Fetch Many \n",
    "'''\n",
    "\n",
    "import mysql.connector\n",
    "from mysql.connector import Error\n",
    "\n",
    "try:\n",
    "    connection = mysql.connector.connect(host='localhost',\n",
    "                                        user='root',\n",
    "                                        password='',\n",
    "                                        database='itv-june-2022')\n",
    "    \n",
    "    cursor = connection.cursor()\n",
    "    query = \"SELECT * FROM students\"\n",
    "    cursor.execute(query)\n",
    "    mydata = cursor.fetchmany(3)\n",
    "#     print(mydata[1])\n",
    "    for item in mydata:\n",
    "        print(f'Id is {item[0]}')\n",
    "        print(f'Name is {item[1]}')\n",
    "        print(f'Course is {item[2]}')\n",
    "        print(f'Date of Admission is {item[3]}')\n",
    "        print(\"========================================\\n\")\n",
    "except Error as e:\n",
    "    print('Some issue in inserting',e)\n",
    "    \n",
    "finally:\n",
    "    if connection.is_connected():\n",
    "        cursor.close()\n",
    "        connection.close()"
   ]
  },
  {
   "cell_type": "code",
   "execution_count": null,
   "id": "d8213ea4",
   "metadata": {},
   "outputs": [],
   "source": []
  },
  {
   "cell_type": "markdown",
   "id": "0d817517",
   "metadata": {},
   "source": [
    "## update"
   ]
  },
  {
   "cell_type": "code",
   "execution_count": 19,
   "id": "d1fda1d5",
   "metadata": {},
   "outputs": [
    {
     "name": "stdout",
     "output_type": "stream",
     "text": [
      "1 Records updated Successfully\n"
     ]
    }
   ],
   "source": [
    "\n",
    "import mysql.connector\n",
    "from mysql.connector import Error\n",
    "\n",
    "try:\n",
    "    connection = mysql.connector.connect(host='localhost',\n",
    "                                        user='root',\n",
    "                                        password='',\n",
    "                                        database='itv-june-2022')\n",
    "    \n",
    "    cursor = connection.cursor()\n",
    "    update_query = \"\"\"\n",
    "    UPDATE students SET student_name = 'Alpha Coder '\n",
    "    WHERE student_id = 1005\"\"\"\n",
    "    cursor.execute(update_query)\n",
    "    connection.commit()\n",
    "    print(f'{cursor.rowcount} Records updated Successfully')\n",
    "    \n",
    "except Error as e:\n",
    "    print('Some issue in inserting',e)\n",
    "    \n",
    "finally:\n",
    "    if connection.is_connected():\n",
    "        cursor.close()\n",
    "        connection.close()"
   ]
  },
  {
   "cell_type": "code",
   "execution_count": null,
   "id": "9bb37df2",
   "metadata": {},
   "outputs": [],
   "source": []
  },
  {
   "cell_type": "markdown",
   "id": "8152b3e2",
   "metadata": {},
   "source": [
    "## Delete"
   ]
  },
  {
   "cell_type": "code",
   "execution_count": 20,
   "id": "b0bc51fe",
   "metadata": {},
   "outputs": [
    {
     "name": "stdout",
     "output_type": "stream",
     "text": [
      "1 Record Deleted Successfully \n"
     ]
    }
   ],
   "source": [
    "import mysql.connector\n",
    "from mysql.connector import Error\n",
    "\n",
    "try:\n",
    "    connection = mysql.connector.connect(host='localhost',\n",
    "                                        user='root',\n",
    "                                        password='',\n",
    "                                        database='itv-june-2022')\n",
    "    \n",
    "    cursor = connection.cursor()\n",
    "    delete_query = \"\"\"\n",
    "    DELETE FROM students where student_id = 1005\n",
    "    \"\"\"\n",
    "    \n",
    "    cursor.execute(delete_query)\n",
    "    connection.commit()\n",
    "    print(f'{cursor.rowcount} Record Deleted Successfully ')\n",
    "    \n",
    "except Error as e:\n",
    "    print('Some issue in inserting',e)\n",
    "    \n",
    "finally:\n",
    "    if connection.is_connected():\n",
    "        cursor.close()\n",
    "        connection.close()"
   ]
  },
  {
   "cell_type": "code",
   "execution_count": null,
   "id": "fb910fc8",
   "metadata": {},
   "outputs": [],
   "source": []
  }
 ],
 "metadata": {
  "kernelspec": {
   "display_name": "Python 3 (ipykernel)",
   "language": "python",
   "name": "python3"
  },
  "language_info": {
   "codemirror_mode": {
    "name": "ipython",
    "version": 3
   },
   "file_extension": ".py",
   "mimetype": "text/x-python",
   "name": "python",
   "nbconvert_exporter": "python",
   "pygments_lexer": "ipython3",
   "version": "3.8.8"
  }
 },
 "nbformat": 4,
 "nbformat_minor": 5
}
