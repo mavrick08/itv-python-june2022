{
 "cells": [
  {
   "cell_type": "markdown",
   "id": "d32feb17",
   "metadata": {},
   "source": [
    "* Two Types of Loops\n",
    "\n",
    "1) For Loop\n",
    "\n",
    "2) While Loop"
   ]
  },
  {
   "cell_type": "markdown",
   "id": "19dd74a1",
   "metadata": {},
   "source": [
    "* For Loop\n",
    "\n",
    "\n",
    "-- Start Point\n",
    "\n",
    "-- End Point \n",
    "\n",
    "\n",
    "-- Step (optional)"
   ]
  },
  {
   "cell_type": "code",
   "execution_count": 1,
   "id": "b4f2ff0f",
   "metadata": {},
   "outputs": [
    {
     "name": "stdout",
     "output_type": "stream",
     "text": [
      "1\n",
      "2\n",
      "3\n",
      "4\n",
      "5\n",
      "6\n",
      "7\n",
      "8\n",
      "9\n",
      "10\n"
     ]
    }
   ],
   "source": [
    "for num in range(1,11):\n",
    "    print(num)"
   ]
  },
  {
   "cell_type": "code",
   "execution_count": 2,
   "id": "7fff4297",
   "metadata": {},
   "outputs": [
    {
     "data": {
      "text/plain": [
       "range(1, 11)"
      ]
     },
     "execution_count": 2,
     "metadata": {},
     "output_type": "execute_result"
    }
   ],
   "source": [
    "range(1,11)"
   ]
  },
  {
   "cell_type": "code",
   "execution_count": 3,
   "id": "7c7091b9",
   "metadata": {},
   "outputs": [
    {
     "name": "stdout",
     "output_type": "stream",
     "text": [
      "10\n",
      "9\n",
      "8\n",
      "7\n",
      "6\n",
      "5\n",
      "4\n",
      "3\n",
      "2\n",
      "1\n"
     ]
    }
   ],
   "source": [
    "for item in range(10,0,-1):\n",
    "    print(item)"
   ]
  },
  {
   "cell_type": "code",
   "execution_count": 7,
   "id": "9dadf6d8",
   "metadata": {},
   "outputs": [
    {
     "name": "stdout",
     "output_type": "stream",
     "text": [
      "55\n"
     ]
    }
   ],
   "source": [
    "total = 0\n",
    "for num in range(1,11):\n",
    "    total = total + num\n",
    "print(total)"
   ]
  },
  {
   "cell_type": "code",
   "execution_count": 8,
   "id": "4bc78ddc",
   "metadata": {},
   "outputs": [
    {
     "name": "stdout",
     "output_type": "stream",
     "text": [
      "3628800\n"
     ]
    }
   ],
   "source": [
    "total = 1\n",
    "for num in range(1,11):\n",
    "    total = total * num\n",
    "print(total)"
   ]
  },
  {
   "cell_type": "code",
   "execution_count": null,
   "id": "364d2f25",
   "metadata": {},
   "outputs": [],
   "source": []
  },
  {
   "cell_type": "code",
   "execution_count": 9,
   "id": "050bd0d6",
   "metadata": {},
   "outputs": [],
   "source": [
    "fruit = \"pineapple\""
   ]
  },
  {
   "cell_type": "code",
   "execution_count": 12,
   "id": "7da03c05",
   "metadata": {},
   "outputs": [
    {
     "name": "stdout",
     "output_type": "stream",
     "text": [
      "0 p\n",
      "1 i\n",
      "2 n\n",
      "3 e\n",
      "4 a\n",
      "5 p\n",
      "6 p\n",
      "7 l\n",
      "8 e\n"
     ]
    }
   ],
   "source": [
    "for count in range(0,len(fruit)):\n",
    "    print(count,fruit[count])"
   ]
  },
  {
   "cell_type": "code",
   "execution_count": null,
   "id": "a37d07d9",
   "metadata": {},
   "outputs": [],
   "source": []
  }
 ],
 "metadata": {
  "kernelspec": {
   "display_name": "Python 3 (ipykernel)",
   "language": "python",
   "name": "python3"
  },
  "language_info": {
   "codemirror_mode": {
    "name": "ipython",
    "version": 3
   },
   "file_extension": ".py",
   "mimetype": "text/x-python",
   "name": "python",
   "nbconvert_exporter": "python",
   "pygments_lexer": "ipython3",
   "version": "3.8.8"
  }
 },
 "nbformat": 4,
 "nbformat_minor": 5
}
