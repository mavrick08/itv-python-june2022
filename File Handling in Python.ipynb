{
 "cells": [
  {
   "cell_type": "code",
   "execution_count": 1,
   "id": "81ff8416",
   "metadata": {},
   "outputs": [
    {
     "data": {
      "text/plain": [
       "'/home/punit/Downloads/IT-V/itv-python-june2022'"
      ]
     },
     "execution_count": 1,
     "metadata": {},
     "output_type": "execute_result"
    }
   ],
   "source": [
    "pwd"
   ]
  },
  {
   "cell_type": "markdown",
   "id": "142fdd59",
   "metadata": {},
   "source": [
    "* reading the file"
   ]
  },
  {
   "cell_type": "code",
   "execution_count": 3,
   "id": "cabe9543",
   "metadata": {},
   "outputs": [
    {
     "name": "stdout",
     "output_type": "stream",
     "text": [
      "this is line 1\n",
      "this is line 2\n",
      "welcome to file handling\n",
      "we will learn some operations\n",
      "\n"
     ]
    }
   ],
   "source": [
    "file_data = open('demo.txt','r')  #opening\n",
    "print(file_data.read())  #operation\n",
    "file_data.close()   #closing"
   ]
  },
  {
   "cell_type": "code",
   "execution_count": 10,
   "id": "405504b0",
   "metadata": {},
   "outputs": [],
   "source": [
    "d1 = {'a':100,'b':200,'c':300}\n",
    "d2 = {'a':300,'b':400,'d':400}"
   ]
  },
  {
   "cell_type": "code",
   "execution_count": 7,
   "id": "f8371c4f",
   "metadata": {},
   "outputs": [],
   "source": [
    "res = d1.items()"
   ]
  },
  {
   "cell_type": "code",
   "execution_count": 8,
   "id": "30bc63e6",
   "metadata": {},
   "outputs": [
    {
     "data": {
      "text/plain": [
       "dict_items([('a', 100), ('b', 200), ('c', 300)])"
      ]
     },
     "execution_count": 8,
     "metadata": {},
     "output_type": "execute_result"
    }
   ],
   "source": [
    "res"
   ]
  },
  {
   "cell_type": "code",
   "execution_count": 9,
   "id": "256edd50",
   "metadata": {},
   "outputs": [
    {
     "name": "stdout",
     "output_type": "stream",
     "text": [
      "dict_items([('a', 100), ('b', 200), ('c', 300)])\n",
      "dict_items([('a', 100), ('b', 200), ('c', 300)])\n",
      "dict_items([('a', 100), ('b', 200), ('c', 300)])\n"
     ]
    }
   ],
   "source": [
    "for i,j in res:\n",
    "    print(res)"
   ]
  },
  {
   "cell_type": "code",
   "execution_count": null,
   "id": "42234367",
   "metadata": {},
   "outputs": [],
   "source": [
    "d1.get()"
   ]
  }
 ],
 "metadata": {
  "kernelspec": {
   "display_name": "Python 3 (ipykernel)",
   "language": "python",
   "name": "python3"
  },
  "language_info": {
   "codemirror_mode": {
    "name": "ipython",
    "version": 3
   },
   "file_extension": ".py",
   "mimetype": "text/x-python",
   "name": "python",
   "nbconvert_exporter": "python",
   "pygments_lexer": "ipython3",
   "version": "3.8.8"
  }
 },
 "nbformat": 4,
 "nbformat_minor": 5
}
