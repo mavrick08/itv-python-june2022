{
 "cells": [
  {
   "cell_type": "markdown",
   "id": "6df36c4f",
   "metadata": {},
   "source": [
    "### Object Oriented Programming in Python"
   ]
  },
  {
   "cell_type": "markdown",
   "id": "6a615062",
   "metadata": {},
   "source": [
    "OOP is a Programming pattern that provides a mean of structuring program so that the properties and behaviour are bundled into a single object.\n",
    "\n",
    "Object can be considered as a real world instance of the class that contains some characteristics and behviour.\n",
    "\n",
    "\n",
    "\n",
    "\n",
    "\n",
    "**Class**\n",
    "\n",
    "1) A user defined prototype that defines a set of attribute and method that charcterize      any object of the class.\n",
    "   \n",
    "   The attributes are (class variable and instance variable) & method are (functions or      behaviour)\n",
    "   \n",
    "**Objects** \n",
    "\n",
    "\n",
    "2) Object can be considered as a real world instance of the class that contains some characteristics and behviour. "
   ]
  },
  {
   "cell_type": "code",
   "execution_count": null,
   "id": "dd962aca",
   "metadata": {},
   "outputs": [],
   "source": []
  },
  {
   "cell_type": "code",
   "execution_count": 2,
   "id": "86cc2449",
   "metadata": {},
   "outputs": [],
   "source": [
    "class Bird:\n",
    "    pass"
   ]
  },
  {
   "cell_type": "code",
   "execution_count": 3,
   "id": "cbc785f3",
   "metadata": {},
   "outputs": [
    {
     "data": {
      "text/plain": [
       "<__main__.Bird at 0x7fa82c1a3820>"
      ]
     },
     "execution_count": 3,
     "metadata": {},
     "output_type": "execute_result"
    }
   ],
   "source": [
    "Bird()"
   ]
  },
  {
   "cell_type": "code",
   "execution_count": 4,
   "id": "add410b2",
   "metadata": {},
   "outputs": [],
   "source": [
    "b1 = Bird()  #object for bird class"
   ]
  },
  {
   "cell_type": "code",
   "execution_count": 5,
   "id": "1b3f0111",
   "metadata": {},
   "outputs": [],
   "source": [
    "b2 = Bird()"
   ]
  },
  {
   "cell_type": "code",
   "execution_count": 6,
   "id": "8117f7e1",
   "metadata": {},
   "outputs": [
    {
     "name": "stdout",
     "output_type": "stream",
     "text": [
      "140360270142048\n",
      "140359777868720\n"
     ]
    }
   ],
   "source": [
    "print(id(b1))\n",
    "print(id(b2))"
   ]
  },
  {
   "cell_type": "markdown",
   "id": "5f9997d6",
   "metadata": {},
   "source": [
    "## Instance Variable"
   ]
  },
  {
   "cell_type": "code",
   "execution_count": 7,
   "id": "ba1a386d",
   "metadata": {},
   "outputs": [],
   "source": [
    "class Employee:\n",
    "    def __init__(self,full_name,salary,designation,location):\n",
    "        '''\n",
    "        Registering properties (variables) in constructor\n",
    "        '''\n",
    "        self.full_name = full_name\n",
    "        self.salary = salary\n",
    "        self.desgn = designation\n",
    "        self.location = location\n",
    "        \n",
    "    def print_data(self):\n",
    "        '''\n",
    "        This is a method\n",
    "        '''\n",
    "        print(f'Full Name is {self.full_name}')\n",
    "        print(f'Salary is {self.salary}')\n",
    "        print(f'Designation is {self.desgn}')\n",
    "        print(f'Location is {self.location}')"
   ]
  },
  {
   "cell_type": "code",
   "execution_count": 9,
   "id": "b81951fa",
   "metadata": {},
   "outputs": [],
   "source": [
    "e1 = Employee(\"Good Coder\",5000,'SDE','Andheri')"
   ]
  },
  {
   "cell_type": "code",
   "execution_count": 10,
   "id": "290f4f06",
   "metadata": {},
   "outputs": [
    {
     "data": {
      "text/plain": [
       "'Good Coder'"
      ]
     },
     "execution_count": 10,
     "metadata": {},
     "output_type": "execute_result"
    }
   ],
   "source": [
    "e1.full_name"
   ]
  },
  {
   "cell_type": "code",
   "execution_count": 11,
   "id": "30df224d",
   "metadata": {},
   "outputs": [
    {
     "data": {
      "text/plain": [
       "5000"
      ]
     },
     "execution_count": 11,
     "metadata": {},
     "output_type": "execute_result"
    }
   ],
   "source": [
    "e1.salary"
   ]
  },
  {
   "cell_type": "code",
   "execution_count": 12,
   "id": "3ac4f00b",
   "metadata": {},
   "outputs": [
    {
     "data": {
      "text/plain": [
       "'SDE'"
      ]
     },
     "execution_count": 12,
     "metadata": {},
     "output_type": "execute_result"
    }
   ],
   "source": [
    "e1.desgn"
   ]
  },
  {
   "cell_type": "code",
   "execution_count": 13,
   "id": "3cbed313",
   "metadata": {},
   "outputs": [
    {
     "data": {
      "text/plain": [
       "'Andheri'"
      ]
     },
     "execution_count": 13,
     "metadata": {},
     "output_type": "execute_result"
    }
   ],
   "source": [
    "e1.location"
   ]
  },
  {
   "cell_type": "code",
   "execution_count": 14,
   "id": "d8519a80",
   "metadata": {},
   "outputs": [
    {
     "name": "stdout",
     "output_type": "stream",
     "text": [
      "Full Name is Good Coder\n",
      "Salary is 5000\n",
      "Designation is SDE\n",
      "Location is Andheri\n"
     ]
    }
   ],
   "source": [
    "e1.print_data()"
   ]
  },
  {
   "cell_type": "code",
   "execution_count": null,
   "id": "f3e2a1db",
   "metadata": {},
   "outputs": [],
   "source": []
  },
  {
   "cell_type": "markdown",
   "id": "0234b83d",
   "metadata": {},
   "source": [
    "## class variable : \n",
    "\n",
    "Any variable that is declared inside the class but outside the constructor is called as \n",
    "class variable"
   ]
  },
  {
   "cell_type": "code",
   "execution_count": 1,
   "id": "827dd43e",
   "metadata": {},
   "outputs": [],
   "source": [
    "class PayRoll:\n",
    "    increment_rate = 2   #this is a class variable\n",
    "    \n",
    "    def __init__(self,full_name,designation,location,salary):\n",
    "        self.full_name = full_name\n",
    "        self.designation = designation\n",
    "        self.location = location\n",
    "        self.salary = salary\n",
    "        \n",
    "        \n",
    "    def info(self):\n",
    "        print(f'Full Name is {self.full_name}')\n",
    "        print(f'Designation is {self.designation}')\n",
    "        print(f'location is {self.location}')\n",
    "        print(f'Salary is {self.salary}')\n",
    "        \n",
    "        \n",
    "    def raise_salary(self):\n",
    "        self.salary = self.salary * self.increment_rate"
   ]
  },
  {
   "cell_type": "code",
   "execution_count": 2,
   "id": "0ef0561d",
   "metadata": {},
   "outputs": [],
   "source": [
    "p1 = PayRoll('Good Coder','SDE','Andheri',5000)"
   ]
  },
  {
   "cell_type": "code",
   "execution_count": 3,
   "id": "624b9b2a",
   "metadata": {},
   "outputs": [
    {
     "name": "stdout",
     "output_type": "stream",
     "text": [
      "Full Name is Good Coder\n",
      "Designation is SDE\n",
      "location is Andheri\n",
      "Salary is 5000\n"
     ]
    }
   ],
   "source": [
    "p1.info()"
   ]
  },
  {
   "cell_type": "code",
   "execution_count": 4,
   "id": "57438e3f",
   "metadata": {},
   "outputs": [],
   "source": [
    "p1.raise_salary()"
   ]
  },
  {
   "cell_type": "code",
   "execution_count": 5,
   "id": "da996a3b",
   "metadata": {},
   "outputs": [
    {
     "name": "stdout",
     "output_type": "stream",
     "text": [
      "Full Name is Good Coder\n",
      "Designation is SDE\n",
      "location is Andheri\n",
      "Salary is 10000\n"
     ]
    }
   ],
   "source": [
    "p1.info()"
   ]
  },
  {
   "cell_type": "code",
   "execution_count": 6,
   "id": "1627249a",
   "metadata": {},
   "outputs": [],
   "source": [
    "p2 = PayRoll('Demo User','WD','Bandra',7000)"
   ]
  },
  {
   "cell_type": "code",
   "execution_count": 7,
   "id": "c4fc13a6",
   "metadata": {},
   "outputs": [
    {
     "data": {
      "text/plain": [
       "2"
      ]
     },
     "execution_count": 7,
     "metadata": {},
     "output_type": "execute_result"
    }
   ],
   "source": [
    "p2.increment_rate"
   ]
  },
  {
   "cell_type": "code",
   "execution_count": 8,
   "id": "4c777a78",
   "metadata": {},
   "outputs": [],
   "source": [
    "p3 = PayRoll('Punit K','DE','USA',10000)"
   ]
  },
  {
   "cell_type": "code",
   "execution_count": 9,
   "id": "b901bc71",
   "metadata": {},
   "outputs": [],
   "source": [
    "p3.increment_rate = 3"
   ]
  },
  {
   "cell_type": "code",
   "execution_count": 10,
   "id": "07d765b0",
   "metadata": {},
   "outputs": [],
   "source": [
    "p3.raise_salary()"
   ]
  },
  {
   "cell_type": "code",
   "execution_count": 11,
   "id": "a9d211aa",
   "metadata": {},
   "outputs": [
    {
     "name": "stdout",
     "output_type": "stream",
     "text": [
      "Full Name is Punit K\n",
      "Designation is DE\n",
      "location is USA\n",
      "Salary is 30000\n"
     ]
    }
   ],
   "source": [
    "p3.info()"
   ]
  },
  {
   "cell_type": "code",
   "execution_count": 12,
   "id": "e894254a",
   "metadata": {},
   "outputs": [],
   "source": [
    "p4 = PayRoll('Alpha','DA','Mumbai',4000)"
   ]
  },
  {
   "cell_type": "code",
   "execution_count": 13,
   "id": "3ce811d7",
   "metadata": {},
   "outputs": [
    {
     "data": {
      "text/plain": [
       "2"
      ]
     },
     "execution_count": 13,
     "metadata": {},
     "output_type": "execute_result"
    }
   ],
   "source": [
    "p4.increment_rate"
   ]
  },
  {
   "cell_type": "markdown",
   "id": "8f385b4d",
   "metadata": {},
   "source": [
    "### class method"
   ]
  },
  {
   "cell_type": "code",
   "execution_count": 14,
   "id": "c3f4517b",
   "metadata": {},
   "outputs": [],
   "source": [
    "class EmpPayRoll:\n",
    "    increment_rate = 2  #class variable\n",
    "    \n",
    "    def __init__(self,full_name,department,designation,salary):\n",
    "        self.full_name = full_name\n",
    "        self.department = department\n",
    "        self.designation = designation\n",
    "        self.salary = salary\n",
    "        \n",
    "    def print_emp_info(self):\n",
    "        print(f'Name is {self.full_name}')\n",
    "        print(f'Department is {self.department}')\n",
    "        print(f'Designation is {self.designation}')\n",
    "        print(f'Salary is {self.salary}')\n",
    "        \n",
    "        \n",
    "    def apply_raise(self):\n",
    "        self.salary = self.salary * self.increment_rate\n",
    "        \n",
    "    @classmethod    \n",
    "    def set_raise_amount(cls,rate):\n",
    "        cls.increment_rate = rate"
   ]
  },
  {
   "cell_type": "code",
   "execution_count": 15,
   "id": "aa840195",
   "metadata": {},
   "outputs": [],
   "source": [
    "ep1 = EmpPayRoll(\"Good Coder\",\"IT\",'SDE',5000)"
   ]
  },
  {
   "cell_type": "code",
   "execution_count": 16,
   "id": "afd235e0",
   "metadata": {},
   "outputs": [
    {
     "data": {
      "text/plain": [
       "2"
      ]
     },
     "execution_count": 16,
     "metadata": {},
     "output_type": "execute_result"
    }
   ],
   "source": [
    "ep1.increment_rate"
   ]
  },
  {
   "cell_type": "code",
   "execution_count": 17,
   "id": "c40dcb8c",
   "metadata": {},
   "outputs": [],
   "source": [
    "ep1.apply_raise()"
   ]
  },
  {
   "cell_type": "code",
   "execution_count": 18,
   "id": "aa75d431",
   "metadata": {},
   "outputs": [
    {
     "name": "stdout",
     "output_type": "stream",
     "text": [
      "Name is Good Coder\n",
      "Department is IT\n",
      "Designation is SDE\n",
      "Salary is 10000\n"
     ]
    }
   ],
   "source": [
    "ep1.print_emp_info()"
   ]
  },
  {
   "cell_type": "code",
   "execution_count": 19,
   "id": "cbaec3bd",
   "metadata": {},
   "outputs": [],
   "source": [
    "ep1.set_raise_amount(4)"
   ]
  },
  {
   "cell_type": "code",
   "execution_count": 20,
   "id": "2b46b478",
   "metadata": {},
   "outputs": [],
   "source": [
    "ep2 = EmpPayRoll(\"Punit K\",\"Analytics\",\"DA\",8000)"
   ]
  },
  {
   "cell_type": "code",
   "execution_count": 21,
   "id": "3871c8b7",
   "metadata": {},
   "outputs": [
    {
     "data": {
      "text/plain": [
       "4"
      ]
     },
     "execution_count": 21,
     "metadata": {},
     "output_type": "execute_result"
    }
   ],
   "source": [
    "ep2.increment_rate"
   ]
  },
  {
   "cell_type": "code",
   "execution_count": 22,
   "id": "14042e01",
   "metadata": {},
   "outputs": [],
   "source": [
    "ep2.apply_raise()"
   ]
  },
  {
   "cell_type": "code",
   "execution_count": 23,
   "id": "3aea7137",
   "metadata": {},
   "outputs": [
    {
     "name": "stdout",
     "output_type": "stream",
     "text": [
      "Name is Punit K\n",
      "Department is Analytics\n",
      "Designation is DA\n",
      "Salary is 32000\n"
     ]
    }
   ],
   "source": [
    "ep2.print_emp_info()"
   ]
  },
  {
   "cell_type": "code",
   "execution_count": null,
   "id": "1f38d8eb",
   "metadata": {},
   "outputs": [],
   "source": []
  },
  {
   "cell_type": "markdown",
   "id": "94f2368b",
   "metadata": {},
   "source": [
    "### Static Method"
   ]
  },
  {
   "cell_type": "markdown",
   "id": "6a7d18c8",
   "metadata": {},
   "source": [
    "A static method is a built-in feature where it does not recieve any reference argument \n",
    "whether it is called by instance or by the class itself."
   ]
  },
  {
   "cell_type": "code",
   "execution_count": 24,
   "id": "8f309e5a",
   "metadata": {},
   "outputs": [],
   "source": [
    "class Student:\n",
    "    name = \"Demo User\"\n",
    "    def __init__(self,age):\n",
    "        self.age = age\n",
    "    \n",
    "    @staticmethod\n",
    "    def college_name():\n",
    "        clg_name = \"TCET\"\n",
    "        print(clg_name)"
   ]
  },
  {
   "cell_type": "code",
   "execution_count": 25,
   "id": "fe5ea088",
   "metadata": {},
   "outputs": [
    {
     "name": "stdout",
     "output_type": "stream",
     "text": [
      "TCET\n"
     ]
    }
   ],
   "source": [
    "Student.college_name() #accessing static method by using class name"
   ]
  },
  {
   "cell_type": "code",
   "execution_count": 26,
   "id": "4da3f185",
   "metadata": {},
   "outputs": [],
   "source": [
    "s1 = Student(22)"
   ]
  },
  {
   "cell_type": "code",
   "execution_count": 28,
   "id": "a94be568",
   "metadata": {},
   "outputs": [
    {
     "name": "stdout",
     "output_type": "stream",
     "text": [
      "TCET\n"
     ]
    }
   ],
   "source": [
    "s1.college_name()   #accessing static method through object name."
   ]
  },
  {
   "cell_type": "code",
   "execution_count": null,
   "id": "49c80f32",
   "metadata": {},
   "outputs": [],
   "source": []
  },
  {
   "cell_type": "markdown",
   "id": "379ddc3d",
   "metadata": {},
   "source": [
    "**Inheritence**"
   ]
  },
  {
   "cell_type": "markdown",
   "id": "68a586c5",
   "metadata": {},
   "source": [
    "*Single Inheritence*: In single inheritence there is only one parent and one child class."
   ]
  },
  {
   "cell_type": "code",
   "execution_count": 32,
   "id": "3f3310d2",
   "metadata": {},
   "outputs": [],
   "source": [
    "class Parent:\n",
    "    def can_earn(self):\n",
    "        print(\"Parents Can Earn\")\n",
    "        \n",
    "class Child(Parent):\n",
    "    def can_play(self):\n",
    "        print(\"Child Can play whole day \")"
   ]
  },
  {
   "cell_type": "code",
   "execution_count": 33,
   "id": "05d52f9b",
   "metadata": {},
   "outputs": [],
   "source": [
    "p1 = Parent()"
   ]
  },
  {
   "cell_type": "code",
   "execution_count": 34,
   "id": "77557107",
   "metadata": {},
   "outputs": [
    {
     "name": "stdout",
     "output_type": "stream",
     "text": [
      "Parents Can Earn\n"
     ]
    }
   ],
   "source": [
    "p1.can_earn()"
   ]
  },
  {
   "cell_type": "code",
   "execution_count": 36,
   "id": "1312b120",
   "metadata": {},
   "outputs": [],
   "source": [
    "c1 = Child()"
   ]
  },
  {
   "cell_type": "code",
   "execution_count": 37,
   "id": "b0a6dc6c",
   "metadata": {},
   "outputs": [
    {
     "name": "stdout",
     "output_type": "stream",
     "text": [
      "Child Can play whole day \n"
     ]
    }
   ],
   "source": [
    "c1.can_play()"
   ]
  },
  {
   "cell_type": "code",
   "execution_count": 38,
   "id": "b31ade4d",
   "metadata": {},
   "outputs": [
    {
     "name": "stdout",
     "output_type": "stream",
     "text": [
      "Parents Can Earn\n"
     ]
    }
   ],
   "source": [
    "c1.can_earn()"
   ]
  },
  {
   "cell_type": "code",
   "execution_count": null,
   "id": "b9249d0e",
   "metadata": {},
   "outputs": [],
   "source": []
  },
  {
   "cell_type": "markdown",
   "id": "c73eb454",
   "metadata": {},
   "source": [
    "**Multiple Inheritence** \n",
    "\n",
    "In multiple inheritence the child class can inherit the properties of one or more than\n",
    "1 parent class."
   ]
  },
  {
   "cell_type": "code",
   "execution_count": null,
   "id": "4e164e08",
   "metadata": {},
   "outputs": [],
   "source": []
  },
  {
   "cell_type": "code",
   "execution_count": 39,
   "id": "d05cbbad",
   "metadata": {},
   "outputs": [],
   "source": [
    "class Mom:\n",
    "    def can_cook_can_earns(self):\n",
    "        print(\"Mom can cook and mom can earn\")\n",
    "        \n",
    "class Dad:\n",
    "    def can_earn(self):\n",
    "        print(\"Dad can earn\")\n",
    "        \n",
    "class Child(Mom,Dad):\n",
    "    def can_play(self):\n",
    "        print(\"Child Can Play\")"
   ]
  },
  {
   "cell_type": "code",
   "execution_count": 40,
   "id": "7a3dbdef",
   "metadata": {},
   "outputs": [],
   "source": [
    "c1 = Child()"
   ]
  },
  {
   "cell_type": "code",
   "execution_count": 41,
   "id": "a8643169",
   "metadata": {},
   "outputs": [
    {
     "name": "stdout",
     "output_type": "stream",
     "text": [
      "Mom can cook and mom can earn\n"
     ]
    }
   ],
   "source": [
    "c1.can_cook_can_earns()"
   ]
  },
  {
   "cell_type": "code",
   "execution_count": 42,
   "id": "94bcacf6",
   "metadata": {},
   "outputs": [
    {
     "name": "stdout",
     "output_type": "stream",
     "text": [
      "Dad can earn\n"
     ]
    }
   ],
   "source": [
    "c1.can_earn()"
   ]
  },
  {
   "cell_type": "code",
   "execution_count": 43,
   "id": "c0a44cc6",
   "metadata": {},
   "outputs": [
    {
     "name": "stdout",
     "output_type": "stream",
     "text": [
      "Child Can Play\n"
     ]
    }
   ],
   "source": [
    "c1.can_play()"
   ]
  },
  {
   "cell_type": "code",
   "execution_count": null,
   "id": "4e856fa3",
   "metadata": {},
   "outputs": [],
   "source": []
  },
  {
   "cell_type": "code",
   "execution_count": 44,
   "id": "3b1db314",
   "metadata": {},
   "outputs": [],
   "source": [
    "class TeamMember:\n",
    "    def __init__(self,name,empid):\n",
    "        self.name = name\n",
    "        self.empid = empid\n",
    "    \n",
    "class Worker:\n",
    "    def __init__(self,pay,job_title):\n",
    "        self.pay = pay\n",
    "        self.job_title = job_title\n",
    "        \n",
    "class TeamLeader(TeamMember,Worker):\n",
    "    def __init__(self,name,empid,pay,job_title,exp):\n",
    "        TeamMember.__init__(self,name,empid)\n",
    "        Worker.__init__(self,pay,job_title)\n",
    "        self.exp = exp\n",
    "        \n",
    "    def print_info(self):\n",
    "        print(f'Employee Name {self.name}')\n",
    "        print(f'Employee ID {self.empid}')\n",
    "        print(f'Pay is {self.pay}')\n",
    "        print(f'Job title is {self.job_title}')\n",
    "        print(f'Experience is {self.exp}')"
   ]
  },
  {
   "cell_type": "code",
   "execution_count": 45,
   "id": "24050ace",
   "metadata": {},
   "outputs": [],
   "source": [
    "tl1 = TeamLeader(\"Good coder\",10001,5000,'SDE',1)"
   ]
  },
  {
   "cell_type": "code",
   "execution_count": 46,
   "id": "f3a331bd",
   "metadata": {},
   "outputs": [
    {
     "name": "stdout",
     "output_type": "stream",
     "text": [
      "Employee Name Good coder\n",
      "Employee ID 10001\n",
      "Pay is 5000\n",
      "Job title is SDE\n",
      "Experience is 1\n"
     ]
    }
   ],
   "source": [
    "tl1.print_info()"
   ]
  },
  {
   "cell_type": "code",
   "execution_count": null,
   "id": "dc8fa4a5",
   "metadata": {},
   "outputs": [],
   "source": []
  },
  {
   "cell_type": "markdown",
   "id": "f73f70ed",
   "metadata": {},
   "source": [
    "## Multi-level Inheritence"
   ]
  },
  {
   "cell_type": "code",
   "execution_count": 47,
   "id": "a54678af",
   "metadata": {},
   "outputs": [],
   "source": [
    "class GrandFather:\n",
    "    def grand_father_property(self):\n",
    "        print(\"Grand Father has 30 Acers of land \")\n",
    "\n",
    "class Father(GrandFather):\n",
    "    def father_property(self):\n",
    "        print(\"Father has 1 BHK flat\")\n",
    "        \n",
    "class Child(Father):\n",
    "    def child_property(self):\n",
    "        print(\"Has no property\")"
   ]
  },
  {
   "cell_type": "code",
   "execution_count": 48,
   "id": "0b80614c",
   "metadata": {},
   "outputs": [],
   "source": [
    "c1 = Child()"
   ]
  },
  {
   "cell_type": "code",
   "execution_count": 49,
   "id": "20b3481b",
   "metadata": {},
   "outputs": [
    {
     "name": "stdout",
     "output_type": "stream",
     "text": [
      "Has no property\n"
     ]
    }
   ],
   "source": [
    "c1.child_property()"
   ]
  },
  {
   "cell_type": "code",
   "execution_count": 50,
   "id": "ad481390",
   "metadata": {},
   "outputs": [
    {
     "name": "stdout",
     "output_type": "stream",
     "text": [
      "Father has 1 BHK flat\n"
     ]
    }
   ],
   "source": [
    "c1.father_property()"
   ]
  },
  {
   "cell_type": "code",
   "execution_count": 51,
   "id": "35bf0a49",
   "metadata": {},
   "outputs": [
    {
     "name": "stdout",
     "output_type": "stream",
     "text": [
      "Grand Father has 30 Acers of land \n"
     ]
    }
   ],
   "source": [
    "c1.grand_father_property()"
   ]
  },
  {
   "cell_type": "code",
   "execution_count": null,
   "id": "0f0c3fa0",
   "metadata": {},
   "outputs": [],
   "source": []
  },
  {
   "cell_type": "code",
   "execution_count": 28,
   "id": "f2023fbb",
   "metadata": {},
   "outputs": [],
   "source": [
    "class CL1:\n",
    "    def __init__(self):\n",
    "        print(\"Hi I am a constructor in Class CL1\")\n",
    "    \n",
    "    def print_num(self,num):\n",
    "        print(\"I am getting printed from class CL1\",num)\n",
    "        \n",
    "\n",
    "class CL2(CL1):\n",
    "    def __init__(self):\n",
    "        print(\"Hi I am getting initialised in class CL2\")\n",
    "        \n",
    "    def print_num(self,num):\n",
    "        print(\"I am getting initialised from class CL2\",num)\n",
    "        super().print_num(100)\n",
    "    \n",
    "    \n",
    "class CL3(CL2):\n",
    "    def __init__(self):\n",
    "        print(\"Hi i am getting initialised in class CL3\")\n",
    "        super().__init__()\n",
    "        \n",
    "    \n",
    "    def print_num(self,num):\n",
    "        print(\"Hi i am getting initialised from CL3\",num)\n",
    "        super().print_num(20)"
   ]
  },
  {
   "cell_type": "code",
   "execution_count": 29,
   "id": "b2ea3808",
   "metadata": {},
   "outputs": [
    {
     "name": "stdout",
     "output_type": "stream",
     "text": [
      "Hi i am getting initialised in class CL3\n",
      "Hi I am getting initialised in class CL2\n"
     ]
    }
   ],
   "source": [
    "obj3 = CL3()"
   ]
  },
  {
   "cell_type": "code",
   "execution_count": 24,
   "id": "5abec0f2",
   "metadata": {},
   "outputs": [
    {
     "name": "stdout",
     "output_type": "stream",
     "text": [
      "Hi i am getting initialised from CL3 10\n",
      "I am getting initialised from class CL2 20\n"
     ]
    }
   ],
   "source": [
    "obj3.print_num(10)"
   ]
  },
  {
   "cell_type": "code",
   "execution_count": null,
   "id": "a15fd964",
   "metadata": {},
   "outputs": [],
   "source": []
  },
  {
   "cell_type": "code",
   "execution_count": 26,
   "id": "dd6c6285",
   "metadata": {},
   "outputs": [
    {
     "name": "stdout",
     "output_type": "stream",
     "text": [
      "Hi I am getting initialised in class CL2\n"
     ]
    }
   ],
   "source": [
    "obj2 = CL2()"
   ]
  },
  {
   "cell_type": "code",
   "execution_count": 27,
   "id": "b558bcf0",
   "metadata": {},
   "outputs": [
    {
     "name": "stdout",
     "output_type": "stream",
     "text": [
      "I am getting initialised from class CL2 30\n",
      "I am getting printed from class CL1 100\n"
     ]
    }
   ],
   "source": [
    "obj2.print_num(30)"
   ]
  },
  {
   "cell_type": "markdown",
   "id": "7d4db759",
   "metadata": {},
   "source": [
    "### Hierarchical Inheritence\n",
    "\n",
    "In this type of inheritence, various childs inherit the property of their Single parent\n",
    "\n",
    "There is no inheritence between child to child"
   ]
  },
  {
   "cell_type": "code",
   "execution_count": 1,
   "id": "a940411d",
   "metadata": {},
   "outputs": [],
   "source": [
    "class Parent:\n",
    "    def can_earn(self):\n",
    "        print(\"Parent Can Earn \")\n",
    "        \n",
    "class Child1(Parent):\n",
    "    def can_swim_can_skate(self):\n",
    "        print(\"Child 1 can swim and skate\")\n",
    "        \n",
    "        \n",
    "class Child2(Parent):\n",
    "    def can_sing_can_run(self):\n",
    "        print(\"Child 2 can sing and can run\")"
   ]
  },
  {
   "cell_type": "code",
   "execution_count": 2,
   "id": "8d487e4b",
   "metadata": {},
   "outputs": [],
   "source": [
    "p1 = Parent()\n",
    "c1 = Child1()\n",
    "c2 = Child2()"
   ]
  },
  {
   "cell_type": "code",
   "execution_count": 3,
   "id": "4606e835",
   "metadata": {},
   "outputs": [
    {
     "name": "stdout",
     "output_type": "stream",
     "text": [
      "Parent Can Earn \n"
     ]
    }
   ],
   "source": [
    "p1.can_earn()"
   ]
  },
  {
   "cell_type": "code",
   "execution_count": 4,
   "id": "51e29d5b",
   "metadata": {},
   "outputs": [
    {
     "name": "stdout",
     "output_type": "stream",
     "text": [
      "Child 1 can swim and skate\n"
     ]
    }
   ],
   "source": [
    "c1.can_swim_can_skate()"
   ]
  },
  {
   "cell_type": "code",
   "execution_count": 5,
   "id": "763600b6",
   "metadata": {},
   "outputs": [
    {
     "name": "stdout",
     "output_type": "stream",
     "text": [
      "Parent Can Earn \n"
     ]
    }
   ],
   "source": [
    "c1.can_earn()"
   ]
  },
  {
   "cell_type": "code",
   "execution_count": 6,
   "id": "17da7e88",
   "metadata": {},
   "outputs": [
    {
     "name": "stdout",
     "output_type": "stream",
     "text": [
      "Child 2 can sing and can run\n"
     ]
    }
   ],
   "source": [
    "c2.can_sing_can_run()"
   ]
  },
  {
   "cell_type": "code",
   "execution_count": 7,
   "id": "267af826",
   "metadata": {},
   "outputs": [
    {
     "name": "stdout",
     "output_type": "stream",
     "text": [
      "Parent Can Earn \n"
     ]
    }
   ],
   "source": [
    "c2.can_earn()"
   ]
  },
  {
   "cell_type": "code",
   "execution_count": null,
   "id": "ae108f0a",
   "metadata": {},
   "outputs": [],
   "source": []
  },
  {
   "cell_type": "markdown",
   "id": "c90cffa4",
   "metadata": {},
   "source": [
    "## Hybrid Inheritence"
   ]
  },
  {
   "cell_type": "code",
   "execution_count": 8,
   "id": "c74738cd",
   "metadata": {},
   "outputs": [],
   "source": [
    "class School:\n",
    "    def func(self):\n",
    "        print(\"This is a function inside School class \")\n",
    "        \n",
    "class Student1(School):\n",
    "    def func1(self):\n",
    "        print(\"This is a function inside Student 1 Class\")\n",
    "        \n",
    "\n",
    "class Student2(School):\n",
    "    def func2(self):\n",
    "        print(\"This is a function inside Student 2 Class\")\n",
    "        \n",
    "class Student3(Student2,Student1):\n",
    "    def func3(self):\n",
    "        print(\"This is a function in student 3 class\")"
   ]
  },
  {
   "cell_type": "code",
   "execution_count": 9,
   "id": "878087fd",
   "metadata": {},
   "outputs": [],
   "source": [
    "s3 = Student3()"
   ]
  },
  {
   "cell_type": "code",
   "execution_count": 10,
   "id": "ccfd75b6",
   "metadata": {},
   "outputs": [
    {
     "name": "stdout",
     "output_type": "stream",
     "text": [
      "This is a function in student 3 class\n"
     ]
    }
   ],
   "source": [
    "s3.func3()"
   ]
  },
  {
   "cell_type": "code",
   "execution_count": 11,
   "id": "5194f837",
   "metadata": {},
   "outputs": [
    {
     "name": "stdout",
     "output_type": "stream",
     "text": [
      "This is a function inside Student 2 Class\n"
     ]
    }
   ],
   "source": [
    "s3.func2()"
   ]
  },
  {
   "cell_type": "code",
   "execution_count": 12,
   "id": "5734f6ea",
   "metadata": {},
   "outputs": [
    {
     "name": "stdout",
     "output_type": "stream",
     "text": [
      "This is a function inside Student 1 Class\n"
     ]
    }
   ],
   "source": [
    "s3.func1()"
   ]
  },
  {
   "cell_type": "code",
   "execution_count": 13,
   "id": "941e46bb",
   "metadata": {},
   "outputs": [],
   "source": [
    "s1 = Student1()"
   ]
  },
  {
   "cell_type": "code",
   "execution_count": 14,
   "id": "60c50bec",
   "metadata": {},
   "outputs": [
    {
     "name": "stdout",
     "output_type": "stream",
     "text": [
      "This is a function inside Student 1 Class\n"
     ]
    }
   ],
   "source": [
    "s1.func1()"
   ]
  },
  {
   "cell_type": "code",
   "execution_count": 15,
   "id": "107f08ff",
   "metadata": {},
   "outputs": [
    {
     "name": "stdout",
     "output_type": "stream",
     "text": [
      "This is a function inside School class \n"
     ]
    }
   ],
   "source": [
    "s1.func()"
   ]
  },
  {
   "cell_type": "code",
   "execution_count": null,
   "id": "bba6eb17",
   "metadata": {},
   "outputs": [],
   "source": []
  },
  {
   "cell_type": "markdown",
   "id": "15861f85",
   "metadata": {},
   "source": [
    "## Encapsulation"
   ]
  },
  {
   "cell_type": "markdown",
   "id": "55447cea",
   "metadata": {},
   "source": [
    "Encapsulation describes the idea of wrapping the data and the methods that work on data with one unit.\n",
    "\n",
    "This puts restriction on accessing the variables and the methods directly and can prevent accidental modification of the data.\n",
    "\n",
    "**Protected Members**\n",
    "Protected Members are those members of the class that cannot be accessed outside the class but can be accessed with in the class & its subclass.\n",
    "\n",
    "\n",
    "**Private Members**\n",
    "Private Members are similar to protected, the difference is that class members declared private cannot be accessed outside the class nor can be accessed by any sub class."
   ]
  },
  {
   "cell_type": "code",
   "execution_count": null,
   "id": "d87d72cc",
   "metadata": {},
   "outputs": [],
   "source": []
  },
  {
   "cell_type": "code",
   "execution_count": null,
   "id": "a96d287e",
   "metadata": {},
   "outputs": [],
   "source": []
  },
  {
   "cell_type": "markdown",
   "id": "04416452",
   "metadata": {},
   "source": [
    "## Protected Members"
   ]
  },
  {
   "cell_type": "code",
   "execution_count": 34,
   "id": "ddd25147",
   "metadata": {},
   "outputs": [],
   "source": [
    "class Base:\n",
    "    def __init__(self):\n",
    "        self.age = 23 # normal property / variable\n",
    "        self._number = 100 # protected variable num\n",
    "        \n",
    "class Derived(Base):\n",
    "    def __init__(self):\n",
    "        Base.__init__(self)\n",
    "        print(\"Age is \",self.age)\n",
    "        print(\"Number is\",self._number)"
   ]
  },
  {
   "cell_type": "code",
   "execution_count": 35,
   "id": "d0f30e52",
   "metadata": {},
   "outputs": [
    {
     "name": "stdout",
     "output_type": "stream",
     "text": [
      "Age is  23\n",
      "Number is 100\n"
     ]
    }
   ],
   "source": [
    "d1 = Derived()"
   ]
  },
  {
   "cell_type": "code",
   "execution_count": 36,
   "id": "105dd2b0",
   "metadata": {},
   "outputs": [
    {
     "data": {
      "text/plain": [
       "23"
      ]
     },
     "execution_count": 36,
     "metadata": {},
     "output_type": "execute_result"
    }
   ],
   "source": [
    "d1.age"
   ]
  },
  {
   "cell_type": "code",
   "execution_count": 38,
   "id": "5845e174",
   "metadata": {},
   "outputs": [
    {
     "data": {
      "text/plain": [
       "100"
      ]
     },
     "execution_count": 38,
     "metadata": {},
     "output_type": "execute_result"
    }
   ],
   "source": [
    "d1._number"
   ]
  },
  {
   "cell_type": "code",
   "execution_count": null,
   "id": "0fc72206",
   "metadata": {},
   "outputs": [],
   "source": []
  },
  {
   "cell_type": "markdown",
   "id": "1e2a11c6",
   "metadata": {},
   "source": [
    "### Private"
   ]
  },
  {
   "cell_type": "code",
   "execution_count": 41,
   "id": "9952fc0e",
   "metadata": {},
   "outputs": [],
   "source": [
    "class Parent:\n",
    "    def __init__(self):\n",
    "        self.data= \"I am accessible from anywhere\"\n",
    "        self.__name = \"You cannot access me at any cost\"\n",
    "        \n",
    "class Child(Parent):\n",
    "    def __init__(self):\n",
    "        Parent.__init__(self)\n",
    "        print('Data is',self.data)\n",
    "        print('Name is',self.__name)"
   ]
  },
  {
   "cell_type": "code",
   "execution_count": 42,
   "id": "2d7da241",
   "metadata": {},
   "outputs": [
    {
     "name": "stdout",
     "output_type": "stream",
     "text": [
      "Data is I am accessible from anywhere\n"
     ]
    },
    {
     "ename": "AttributeError",
     "evalue": "'Child' object has no attribute '_Child__name'",
     "output_type": "error",
     "traceback": [
      "\u001b[0;31m---------------------------------------------------------------------------\u001b[0m",
      "\u001b[0;31mAttributeError\u001b[0m                            Traceback (most recent call last)",
      "Input \u001b[0;32mIn [42]\u001b[0m, in \u001b[0;36m<module>\u001b[0;34m\u001b[0m\n\u001b[0;32m----> 1\u001b[0m c1 \u001b[38;5;241m=\u001b[39m \u001b[43mChild\u001b[49m\u001b[43m(\u001b[49m\u001b[43m)\u001b[49m\n",
      "Input \u001b[0;32mIn [41]\u001b[0m, in \u001b[0;36mChild.__init__\u001b[0;34m(self)\u001b[0m\n\u001b[1;32m      8\u001b[0m Parent\u001b[38;5;241m.\u001b[39m\u001b[38;5;21m__init__\u001b[39m(\u001b[38;5;28mself\u001b[39m)\n\u001b[1;32m      9\u001b[0m \u001b[38;5;28mprint\u001b[39m(\u001b[38;5;124m'\u001b[39m\u001b[38;5;124mData is\u001b[39m\u001b[38;5;124m'\u001b[39m,\u001b[38;5;28mself\u001b[39m\u001b[38;5;241m.\u001b[39mdata)\n\u001b[0;32m---> 10\u001b[0m \u001b[38;5;28mprint\u001b[39m(\u001b[38;5;124m'\u001b[39m\u001b[38;5;124mName is\u001b[39m\u001b[38;5;124m'\u001b[39m,\u001b[38;5;28;43mself\u001b[39;49m\u001b[38;5;241;43m.\u001b[39;49m\u001b[43m__name\u001b[49m)\n",
      "\u001b[0;31mAttributeError\u001b[0m: 'Child' object has no attribute '_Child__name'"
     ]
    }
   ],
   "source": [
    "c1 = Child()"
   ]
  },
  {
   "cell_type": "code",
   "execution_count": 43,
   "id": "e21928c0",
   "metadata": {},
   "outputs": [
    {
     "ename": "AttributeError",
     "evalue": "'Child1' object has no attribute '__name'",
     "output_type": "error",
     "traceback": [
      "\u001b[0;31m---------------------------------------------------------------------------\u001b[0m",
      "\u001b[0;31mAttributeError\u001b[0m                            Traceback (most recent call last)",
      "Input \u001b[0;32mIn [43]\u001b[0m, in \u001b[0;36m<module>\u001b[0;34m\u001b[0m\n\u001b[0;32m----> 1\u001b[0m \u001b[43mc1\u001b[49m\u001b[38;5;241;43m.\u001b[39;49m\u001b[43m__name\u001b[49m\n",
      "\u001b[0;31mAttributeError\u001b[0m: 'Child1' object has no attribute '__name'"
     ]
    }
   ],
   "source": [
    "c1.__name"
   ]
  },
  {
   "cell_type": "code",
   "execution_count": null,
   "id": "8282d4b4",
   "metadata": {},
   "outputs": [],
   "source": []
  },
  {
   "cell_type": "markdown",
   "id": "97a526be",
   "metadata": {},
   "source": [
    "## Polymorphism"
   ]
  },
  {
   "cell_type": "code",
   "execution_count": 44,
   "id": "63226479",
   "metadata": {},
   "outputs": [],
   "source": [
    "def mul(num1,num2):\n",
    "    return num1*num2"
   ]
  },
  {
   "cell_type": "code",
   "execution_count": 45,
   "id": "9f536581",
   "metadata": {},
   "outputs": [
    {
     "data": {
      "text/plain": [
       "20"
      ]
     },
     "execution_count": 45,
     "metadata": {},
     "output_type": "execute_result"
    }
   ],
   "source": [
    "mul(10,2)"
   ]
  },
  {
   "cell_type": "code",
   "execution_count": null,
   "id": "65a6ea57",
   "metadata": {},
   "outputs": [],
   "source": []
  },
  {
   "cell_type": "code",
   "execution_count": 46,
   "id": "3695e171",
   "metadata": {},
   "outputs": [],
   "source": [
    "def mul(num1,num2,num3):\n",
    "    return num1*num2*num3"
   ]
  },
  {
   "cell_type": "code",
   "execution_count": 47,
   "id": "67e8de7a",
   "metadata": {},
   "outputs": [
    {
     "data": {
      "text/plain": [
       "24"
      ]
     },
     "execution_count": 47,
     "metadata": {},
     "output_type": "execute_result"
    }
   ],
   "source": [
    "mul(2,3,4)"
   ]
  },
  {
   "cell_type": "code",
   "execution_count": 48,
   "id": "5ee7863e",
   "metadata": {},
   "outputs": [
    {
     "ename": "TypeError",
     "evalue": "mul() missing 1 required positional argument: 'num3'",
     "output_type": "error",
     "traceback": [
      "\u001b[0;31m---------------------------------------------------------------------------\u001b[0m",
      "\u001b[0;31mTypeError\u001b[0m                                 Traceback (most recent call last)",
      "Input \u001b[0;32mIn [48]\u001b[0m, in \u001b[0;36m<module>\u001b[0;34m\u001b[0m\n\u001b[0;32m----> 1\u001b[0m \u001b[43mmul\u001b[49m\u001b[43m(\u001b[49m\u001b[38;5;241;43m10\u001b[39;49m\u001b[43m,\u001b[49m\u001b[38;5;241;43m7\u001b[39;49m\u001b[43m)\u001b[49m\n",
      "\u001b[0;31mTypeError\u001b[0m: mul() missing 1 required positional argument: 'num3'"
     ]
    }
   ],
   "source": [
    "mul(10,7)"
   ]
  },
  {
   "cell_type": "code",
   "execution_count": 49,
   "id": "9168a5f3",
   "metadata": {},
   "outputs": [],
   "source": [
    "a = 10\n",
    "\n",
    "b = 10"
   ]
  },
  {
   "cell_type": "code",
   "execution_count": 50,
   "id": "fa5be1ed",
   "metadata": {},
   "outputs": [
    {
     "name": "stdout",
     "output_type": "stream",
     "text": [
      "94366648163936\n",
      "94366648163936\n"
     ]
    }
   ],
   "source": [
    "print(id(a))\n",
    "print(id(b))"
   ]
  },
  {
   "cell_type": "code",
   "execution_count": 51,
   "id": "2423f760",
   "metadata": {},
   "outputs": [],
   "source": [
    "def mul(a,b,c=1):\n",
    "    return a*b*c"
   ]
  },
  {
   "cell_type": "code",
   "execution_count": 52,
   "id": "d4fd8a35",
   "metadata": {},
   "outputs": [
    {
     "data": {
      "text/plain": [
       "20"
      ]
     },
     "execution_count": 52,
     "metadata": {},
     "output_type": "execute_result"
    }
   ],
   "source": [
    "mul(10,2)"
   ]
  },
  {
   "cell_type": "code",
   "execution_count": 53,
   "id": "087ad778",
   "metadata": {},
   "outputs": [
    {
     "data": {
      "text/plain": [
       "60"
      ]
     },
     "execution_count": 53,
     "metadata": {},
     "output_type": "execute_result"
    }
   ],
   "source": [
    "mul(10,2,3)"
   ]
  },
  {
   "cell_type": "code",
   "execution_count": null,
   "id": "91bd5b51",
   "metadata": {},
   "outputs": [],
   "source": []
  },
  {
   "cell_type": "code",
   "execution_count": 54,
   "id": "26cc8aea",
   "metadata": {},
   "outputs": [],
   "source": [
    "class Bird:\n",
    "    def intro(self):\n",
    "        print(\"There are different types of birds\")\n",
    "        \n",
    "    def flight(self):\n",
    "        print(\"Most bird can fly some cannot\")\n",
    "        \n",
    "class Sparrow(Bird):\n",
    "    def flight(self):\n",
    "        print(\"Sparrow can fly\")\n",
    "        \n",
    "class Ostrich(Bird):\n",
    "    def flight(self):\n",
    "        print(\"Ostrich cannot fly\")"
   ]
  },
  {
   "cell_type": "code",
   "execution_count": 55,
   "id": "48129e34",
   "metadata": {},
   "outputs": [],
   "source": [
    "o = Ostrich()"
   ]
  },
  {
   "cell_type": "code",
   "execution_count": 56,
   "id": "22a7c42b",
   "metadata": {},
   "outputs": [
    {
     "name": "stdout",
     "output_type": "stream",
     "text": [
      "Ostrich cannot fly\n"
     ]
    }
   ],
   "source": [
    "o.flight()"
   ]
  },
  {
   "cell_type": "code",
   "execution_count": 57,
   "id": "1961fd47",
   "metadata": {},
   "outputs": [],
   "source": [
    "s = Sparrow()"
   ]
  },
  {
   "cell_type": "code",
   "execution_count": 58,
   "id": "a4997439",
   "metadata": {},
   "outputs": [
    {
     "name": "stdout",
     "output_type": "stream",
     "text": [
      "Sparrow can fly\n"
     ]
    }
   ],
   "source": [
    "s.flight()"
   ]
  },
  {
   "cell_type": "code",
   "execution_count": 59,
   "id": "ad420295",
   "metadata": {},
   "outputs": [
    {
     "name": "stdout",
     "output_type": "stream",
     "text": [
      "There are different types of birds\n"
     ]
    }
   ],
   "source": [
    "s.intro()"
   ]
  },
  {
   "cell_type": "code",
   "execution_count": 60,
   "id": "2809712f",
   "metadata": {},
   "outputs": [],
   "source": [
    "b = Bird()"
   ]
  },
  {
   "cell_type": "code",
   "execution_count": 61,
   "id": "31296663",
   "metadata": {},
   "outputs": [
    {
     "name": "stdout",
     "output_type": "stream",
     "text": [
      "Most bird can fly some cannot\n"
     ]
    }
   ],
   "source": [
    "b.flight()"
   ]
  },
  {
   "cell_type": "code",
   "execution_count": 62,
   "id": "6aac7202",
   "metadata": {},
   "outputs": [
    {
     "name": "stdout",
     "output_type": "stream",
     "text": [
      "There are different types of birds\n"
     ]
    }
   ],
   "source": [
    "b.intro()"
   ]
  },
  {
   "cell_type": "code",
   "execution_count": null,
   "id": "cac3fe28",
   "metadata": {},
   "outputs": [],
   "source": []
  }
 ],
 "metadata": {
  "kernelspec": {
   "display_name": "Python 3 (ipykernel)",
   "language": "python",
   "name": "python3"
  },
  "language_info": {
   "codemirror_mode": {
    "name": "ipython",
    "version": 3
   },
   "file_extension": ".py",
   "mimetype": "text/x-python",
   "name": "python",
   "nbconvert_exporter": "python",
   "pygments_lexer": "ipython3",
   "version": "3.8.8"
  }
 },
 "nbformat": 4,
 "nbformat_minor": 5
}
