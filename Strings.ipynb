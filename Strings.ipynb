{
 "cells": [
  {
   "cell_type": "markdown",
   "id": "5daabdf1",
   "metadata": {},
   "source": [
    "* Strings:\n",
    "\n",
    "\n",
    "1) Strings are a collection of characters, special characters and numbers.\n",
    "\n",
    "2) It should either be enclosed within a '' (single quote) OR a \"\" (double quote)\n",
    "\n",
    "3) Strings are immutable. "
   ]
  },
  {
   "cell_type": "code",
   "execution_count": 1,
   "id": "fccb3adf",
   "metadata": {},
   "outputs": [],
   "source": [
    "data = \"coding\""
   ]
  },
  {
   "cell_type": "code",
   "execution_count": 2,
   "id": "5e3192db",
   "metadata": {},
   "outputs": [
    {
     "name": "stdout",
     "output_type": "stream",
     "text": [
      "coding\n"
     ]
    }
   ],
   "source": [
    "print(data)"
   ]
  },
  {
   "cell_type": "code",
   "execution_count": 3,
   "id": "ff29e7cb",
   "metadata": {},
   "outputs": [
    {
     "name": "stdout",
     "output_type": "stream",
     "text": [
      "<class 'str'>\n"
     ]
    }
   ],
   "source": [
    "print(type(data))"
   ]
  },
  {
   "cell_type": "code",
   "execution_count": null,
   "id": "ad8a5297",
   "metadata": {},
   "outputs": [],
   "source": []
  },
  {
   "cell_type": "code",
   "execution_count": 4,
   "id": "34b47b31",
   "metadata": {},
   "outputs": [
    {
     "data": {
      "text/plain": [
       "'CODING'"
      ]
     },
     "execution_count": 4,
     "metadata": {},
     "output_type": "execute_result"
    }
   ],
   "source": [
    "data.upper()"
   ]
  },
  {
   "cell_type": "code",
   "execution_count": 5,
   "id": "0251faad",
   "metadata": {},
   "outputs": [
    {
     "data": {
      "text/plain": [
       "'coding'"
      ]
     },
     "execution_count": 5,
     "metadata": {},
     "output_type": "execute_result"
    }
   ],
   "source": [
    "data"
   ]
  },
  {
   "cell_type": "code",
   "execution_count": 6,
   "id": "a2e392c9",
   "metadata": {},
   "outputs": [
    {
     "data": {
      "text/plain": [
       "139693750082672"
      ]
     },
     "execution_count": 6,
     "metadata": {},
     "output_type": "execute_result"
    }
   ],
   "source": [
    "id(data)"
   ]
  },
  {
   "cell_type": "code",
   "execution_count": 7,
   "id": "5396e153",
   "metadata": {},
   "outputs": [],
   "source": [
    "data = data.upper()"
   ]
  },
  {
   "cell_type": "code",
   "execution_count": 8,
   "id": "7e1e332d",
   "metadata": {},
   "outputs": [
    {
     "data": {
      "text/plain": [
       "139693745846704"
      ]
     },
     "execution_count": 8,
     "metadata": {},
     "output_type": "execute_result"
    }
   ],
   "source": [
    "id(data)"
   ]
  },
  {
   "cell_type": "code",
   "execution_count": null,
   "id": "b59e0e4c",
   "metadata": {},
   "outputs": [],
   "source": []
  },
  {
   "cell_type": "code",
   "execution_count": 9,
   "id": "72c6d8ed",
   "metadata": {},
   "outputs": [
    {
     "data": {
      "text/plain": [
       "'CODING'"
      ]
     },
     "execution_count": 9,
     "metadata": {},
     "output_type": "execute_result"
    }
   ],
   "source": [
    "data"
   ]
  },
  {
   "cell_type": "code",
   "execution_count": 10,
   "id": "6f2aea0c",
   "metadata": {},
   "outputs": [
    {
     "data": {
      "text/plain": [
       "'coding'"
      ]
     },
     "execution_count": 10,
     "metadata": {},
     "output_type": "execute_result"
    }
   ],
   "source": [
    "data.lower()"
   ]
  },
  {
   "cell_type": "code",
   "execution_count": null,
   "id": "bee23dba",
   "metadata": {},
   "outputs": [],
   "source": []
  },
  {
   "cell_type": "code",
   "execution_count": 11,
   "id": "bcbc6632",
   "metadata": {},
   "outputs": [],
   "source": [
    "name = \"mumbai\""
   ]
  },
  {
   "cell_type": "code",
   "execution_count": 12,
   "id": "c47a2a74",
   "metadata": {},
   "outputs": [
    {
     "data": {
      "text/plain": [
       "'Mumbai'"
      ]
     },
     "execution_count": 12,
     "metadata": {},
     "output_type": "execute_result"
    }
   ],
   "source": [
    "name.capitalize()"
   ]
  },
  {
   "cell_type": "code",
   "execution_count": null,
   "id": "a9a7557e",
   "metadata": {},
   "outputs": [],
   "source": []
  },
  {
   "cell_type": "code",
   "execution_count": 13,
   "id": "96f50bc7",
   "metadata": {},
   "outputs": [],
   "source": [
    "name = \"good coder\""
   ]
  },
  {
   "cell_type": "code",
   "execution_count": 14,
   "id": "c73a812b",
   "metadata": {},
   "outputs": [
    {
     "data": {
      "text/plain": [
       "'Good Coder'"
      ]
     },
     "execution_count": 14,
     "metadata": {},
     "output_type": "execute_result"
    }
   ],
   "source": [
    "name.title()"
   ]
  },
  {
   "cell_type": "code",
   "execution_count": null,
   "id": "fbe0f5d3",
   "metadata": {},
   "outputs": [],
   "source": []
  },
  {
   "cell_type": "code",
   "execution_count": 15,
   "id": "6dbb84dc",
   "metadata": {},
   "outputs": [
    {
     "data": {
      "text/plain": [
       "'CODING'"
      ]
     },
     "execution_count": 15,
     "metadata": {},
     "output_type": "execute_result"
    }
   ],
   "source": [
    "data"
   ]
  },
  {
   "cell_type": "code",
   "execution_count": 16,
   "id": "d4258fd9",
   "metadata": {},
   "outputs": [
    {
     "data": {
      "text/plain": [
       "'                      CODING                      '"
      ]
     },
     "execution_count": 16,
     "metadata": {},
     "output_type": "execute_result"
    }
   ],
   "source": [
    "data.center(50)"
   ]
  },
  {
   "cell_type": "code",
   "execution_count": 17,
   "id": "9acd63e6",
   "metadata": {},
   "outputs": [],
   "source": [
    "sample = '                      CODING                      '"
   ]
  },
  {
   "cell_type": "code",
   "execution_count": 18,
   "id": "65531a94",
   "metadata": {},
   "outputs": [
    {
     "data": {
      "text/plain": [
       "'                      CODING                      '"
      ]
     },
     "execution_count": 18,
     "metadata": {},
     "output_type": "execute_result"
    }
   ],
   "source": [
    "sample"
   ]
  },
  {
   "cell_type": "code",
   "execution_count": 19,
   "id": "769b0be2",
   "metadata": {},
   "outputs": [
    {
     "data": {
      "text/plain": [
       "'CODING                      '"
      ]
     },
     "execution_count": 19,
     "metadata": {},
     "output_type": "execute_result"
    }
   ],
   "source": [
    "sample.lstrip()"
   ]
  },
  {
   "cell_type": "code",
   "execution_count": 20,
   "id": "4ccccd7f",
   "metadata": {},
   "outputs": [
    {
     "data": {
      "text/plain": [
       "'                      CODING'"
      ]
     },
     "execution_count": 20,
     "metadata": {},
     "output_type": "execute_result"
    }
   ],
   "source": [
    "sample.rstrip()"
   ]
  },
  {
   "cell_type": "code",
   "execution_count": 23,
   "id": "f0599fe7",
   "metadata": {},
   "outputs": [],
   "source": [
    "sample = sample.strip()"
   ]
  },
  {
   "cell_type": "code",
   "execution_count": null,
   "id": "c91f4de4",
   "metadata": {},
   "outputs": [],
   "source": []
  },
  {
   "cell_type": "code",
   "execution_count": 24,
   "id": "e108dcd3",
   "metadata": {},
   "outputs": [
    {
     "data": {
      "text/plain": [
       "'CODING'"
      ]
     },
     "execution_count": 24,
     "metadata": {},
     "output_type": "execute_result"
    }
   ],
   "source": [
    "sample"
   ]
  },
  {
   "cell_type": "code",
   "execution_count": 25,
   "id": "c0938a1c",
   "metadata": {},
   "outputs": [
    {
     "data": {
      "text/plain": [
       "'O'"
      ]
     },
     "execution_count": 25,
     "metadata": {},
     "output_type": "execute_result"
    }
   ],
   "source": [
    "sample[1]"
   ]
  },
  {
   "cell_type": "code",
   "execution_count": 26,
   "id": "e792fd88",
   "metadata": {},
   "outputs": [
    {
     "data": {
      "text/plain": [
       "'G'"
      ]
     },
     "execution_count": 26,
     "metadata": {},
     "output_type": "execute_result"
    }
   ],
   "source": [
    "sample[-1]"
   ]
  },
  {
   "cell_type": "code",
   "execution_count": 27,
   "id": "97b1f3c6",
   "metadata": {},
   "outputs": [
    {
     "data": {
      "text/plain": [
       "'G'"
      ]
     },
     "execution_count": 27,
     "metadata": {},
     "output_type": "execute_result"
    }
   ],
   "source": [
    "sample[5]"
   ]
  },
  {
   "cell_type": "code",
   "execution_count": 28,
   "id": "557eaf16",
   "metadata": {},
   "outputs": [],
   "source": [
    "fruit = 'pineapple'"
   ]
  },
  {
   "cell_type": "code",
   "execution_count": 32,
   "id": "2dc2484c",
   "metadata": {},
   "outputs": [
    {
     "data": {
      "text/plain": [
       "'pineapple'"
      ]
     },
     "execution_count": 32,
     "metadata": {},
     "output_type": "execute_result"
    }
   ],
   "source": [
    "fruit"
   ]
  },
  {
   "cell_type": "code",
   "execution_count": 30,
   "id": "5ce3be99",
   "metadata": {},
   "outputs": [
    {
     "data": {
      "text/plain": [
       "'pine'"
      ]
     },
     "execution_count": 30,
     "metadata": {},
     "output_type": "execute_result"
    }
   ],
   "source": [
    "fruit[0:4]"
   ]
  },
  {
   "cell_type": "code",
   "execution_count": 31,
   "id": "51e3d269",
   "metadata": {},
   "outputs": [
    {
     "data": {
      "text/plain": [
       "'apple'"
      ]
     },
     "execution_count": 31,
     "metadata": {},
     "output_type": "execute_result"
    }
   ],
   "source": [
    "fruit[4:9]"
   ]
  },
  {
   "cell_type": "code",
   "execution_count": 34,
   "id": "f7eb77b6",
   "metadata": {},
   "outputs": [
    {
     "data": {
      "text/plain": [
       "'pineapple'"
      ]
     },
     "execution_count": 34,
     "metadata": {},
     "output_type": "execute_result"
    }
   ],
   "source": [
    "fruit"
   ]
  },
  {
   "cell_type": "code",
   "execution_count": 35,
   "id": "bec757a8",
   "metadata": {},
   "outputs": [
    {
     "data": {
      "text/plain": [
       "3"
      ]
     },
     "execution_count": 35,
     "metadata": {},
     "output_type": "execute_result"
    }
   ],
   "source": [
    "fruit.count('p')"
   ]
  },
  {
   "cell_type": "code",
   "execution_count": 36,
   "id": "be86a070",
   "metadata": {},
   "outputs": [
    {
     "data": {
      "text/plain": [
       "1"
      ]
     },
     "execution_count": 36,
     "metadata": {},
     "output_type": "execute_result"
    }
   ],
   "source": [
    "fruit.count('apple')"
   ]
  },
  {
   "cell_type": "code",
   "execution_count": 37,
   "id": "73d8a99d",
   "metadata": {},
   "outputs": [
    {
     "data": {
      "text/plain": [
       "'pineapple'"
      ]
     },
     "execution_count": 37,
     "metadata": {},
     "output_type": "execute_result"
    }
   ],
   "source": [
    "fruit"
   ]
  },
  {
   "cell_type": "code",
   "execution_count": 38,
   "id": "a0f98e14",
   "metadata": {},
   "outputs": [
    {
     "data": {
      "text/plain": [
       "1"
      ]
     },
     "execution_count": 38,
     "metadata": {},
     "output_type": "execute_result"
    }
   ],
   "source": [
    "fruit.index('i')"
   ]
  },
  {
   "cell_type": "code",
   "execution_count": 40,
   "id": "7f795091",
   "metadata": {},
   "outputs": [
    {
     "data": {
      "text/plain": [
       "5"
      ]
     },
     "execution_count": 40,
     "metadata": {},
     "output_type": "execute_result"
    }
   ],
   "source": [
    "fruit.index('p',4,9)"
   ]
  },
  {
   "cell_type": "code",
   "execution_count": 42,
   "id": "7334d9a7",
   "metadata": {},
   "outputs": [
    {
     "data": {
      "text/plain": [
       "1"
      ]
     },
     "execution_count": 42,
     "metadata": {},
     "output_type": "execute_result"
    }
   ],
   "source": [
    "fruit[4:9].index('p')"
   ]
  },
  {
   "cell_type": "code",
   "execution_count": 43,
   "id": "f600155f",
   "metadata": {},
   "outputs": [
    {
     "data": {
      "text/plain": [
       "'pineapple'"
      ]
     },
     "execution_count": 43,
     "metadata": {},
     "output_type": "execute_result"
    }
   ],
   "source": [
    "fruit"
   ]
  },
  {
   "cell_type": "code",
   "execution_count": 48,
   "id": "32b8a07a",
   "metadata": {},
   "outputs": [
    {
     "data": {
      "text/plain": [
       "'zineapple'"
      ]
     },
     "execution_count": 48,
     "metadata": {},
     "output_type": "execute_result"
    }
   ],
   "source": [
    "fruit.replace('p','z',1)"
   ]
  },
  {
   "cell_type": "code",
   "execution_count": null,
   "id": "70e4139f",
   "metadata": {},
   "outputs": [],
   "source": []
  },
  {
   "cell_type": "code",
   "execution_count": 49,
   "id": "08d5dc84",
   "metadata": {},
   "outputs": [
    {
     "data": {
      "text/plain": [
       "'pinegrapes'"
      ]
     },
     "execution_count": 49,
     "metadata": {},
     "output_type": "execute_result"
    }
   ],
   "source": [
    "fruit.replace('apple','grapes')"
   ]
  },
  {
   "cell_type": "code",
   "execution_count": 50,
   "id": "43e5d616",
   "metadata": {},
   "outputs": [],
   "source": [
    "email = 'punit.k@q2.com'"
   ]
  },
  {
   "cell_type": "code",
   "execution_count": 51,
   "id": "26fd4eef",
   "metadata": {},
   "outputs": [
    {
     "data": {
      "text/plain": [
       "'punit-k@q2-com'"
      ]
     },
     "execution_count": 51,
     "metadata": {},
     "output_type": "execute_result"
    }
   ],
   "source": [
    "email.replace('.','-')"
   ]
  },
  {
   "cell_type": "code",
   "execution_count": 54,
   "id": "b3e6e705",
   "metadata": {},
   "outputs": [
    {
     "data": {
      "text/plain": [
       "'pineapple'"
      ]
     },
     "execution_count": 54,
     "metadata": {},
     "output_type": "execute_result"
    }
   ],
   "source": [
    "fruit"
   ]
  },
  {
   "cell_type": "code",
   "execution_count": 52,
   "id": "b865ba05",
   "metadata": {},
   "outputs": [
    {
     "data": {
      "text/plain": [
       "True"
      ]
     },
     "execution_count": 52,
     "metadata": {},
     "output_type": "execute_result"
    }
   ],
   "source": [
    "fruit.isalpha()"
   ]
  },
  {
   "cell_type": "code",
   "execution_count": 53,
   "id": "39160bd8",
   "metadata": {},
   "outputs": [
    {
     "data": {
      "text/plain": [
       "False"
      ]
     },
     "execution_count": 53,
     "metadata": {},
     "output_type": "execute_result"
    }
   ],
   "source": [
    "email.isalpha()"
   ]
  },
  {
   "cell_type": "code",
   "execution_count": 55,
   "id": "991514a0",
   "metadata": {},
   "outputs": [
    {
     "data": {
      "text/plain": [
       "False"
      ]
     },
     "execution_count": 55,
     "metadata": {},
     "output_type": "execute_result"
    }
   ],
   "source": [
    "fruit.isupper()"
   ]
  },
  {
   "cell_type": "code",
   "execution_count": 62,
   "id": "243a9071",
   "metadata": {},
   "outputs": [],
   "source": [
    "fruit = 'pineapple123'"
   ]
  },
  {
   "cell_type": "code",
   "execution_count": 57,
   "id": "803c07de",
   "metadata": {},
   "outputs": [
    {
     "data": {
      "text/plain": [
       "False"
      ]
     },
     "execution_count": 57,
     "metadata": {},
     "output_type": "execute_result"
    }
   ],
   "source": [
    "fruit.isupper()"
   ]
  },
  {
   "cell_type": "code",
   "execution_count": 60,
   "id": "30fecdf9",
   "metadata": {},
   "outputs": [
    {
     "data": {
      "text/plain": [
       "True"
      ]
     },
     "execution_count": 60,
     "metadata": {},
     "output_type": "execute_result"
    }
   ],
   "source": [
    "fruit.islower()"
   ]
  },
  {
   "cell_type": "code",
   "execution_count": 63,
   "id": "33a87980",
   "metadata": {},
   "outputs": [
    {
     "data": {
      "text/plain": [
       "True"
      ]
     },
     "execution_count": 63,
     "metadata": {},
     "output_type": "execute_result"
    }
   ],
   "source": [
    "fruit.isalnum()"
   ]
  },
  {
   "cell_type": "code",
   "execution_count": 66,
   "id": "0e49b0b8",
   "metadata": {},
   "outputs": [],
   "source": [
    "data = ' aaaa'"
   ]
  },
  {
   "cell_type": "code",
   "execution_count": 67,
   "id": "007f8e85",
   "metadata": {},
   "outputs": [
    {
     "data": {
      "text/plain": [
       "False"
      ]
     },
     "execution_count": 67,
     "metadata": {},
     "output_type": "execute_result"
    }
   ],
   "source": [
    "data.isspace()"
   ]
  },
  {
   "cell_type": "code",
   "execution_count": 70,
   "id": "fa1507c6",
   "metadata": {},
   "outputs": [],
   "source": [
    "name = 'Steve Jobs'"
   ]
  },
  {
   "cell_type": "code",
   "execution_count": 69,
   "id": "3802ed64",
   "metadata": {},
   "outputs": [
    {
     "data": {
      "text/plain": [
       "False"
      ]
     },
     "execution_count": 69,
     "metadata": {},
     "output_type": "execute_result"
    }
   ],
   "source": [
    "name.istitle()"
   ]
  },
  {
   "cell_type": "code",
   "execution_count": 72,
   "id": "1b8d4efe",
   "metadata": {},
   "outputs": [
    {
     "data": {
      "text/plain": [
       "True"
      ]
     },
     "execution_count": 72,
     "metadata": {},
     "output_type": "execute_result"
    }
   ],
   "source": [
    "name.istitle()"
   ]
  },
  {
   "cell_type": "code",
   "execution_count": null,
   "id": "0afc9ec2",
   "metadata": {},
   "outputs": [],
   "source": []
  },
  {
   "cell_type": "code",
   "execution_count": 73,
   "id": "ce51859c",
   "metadata": {},
   "outputs": [
    {
     "data": {
      "text/plain": [
       "'pineapple123'"
      ]
     },
     "execution_count": 73,
     "metadata": {},
     "output_type": "execute_result"
    }
   ],
   "source": [
    "fruit"
   ]
  },
  {
   "cell_type": "code",
   "execution_count": 74,
   "id": "fda7fa57",
   "metadata": {},
   "outputs": [
    {
     "ename": "ValueError",
     "evalue": "substring not found",
     "output_type": "error",
     "traceback": [
      "\u001b[0;31m---------------------------------------------------------------------------\u001b[0m",
      "\u001b[0;31mValueError\u001b[0m                                Traceback (most recent call last)",
      "Input \u001b[0;32mIn [74]\u001b[0m, in \u001b[0;36m<module>\u001b[0;34m\u001b[0m\n\u001b[0;32m----> 1\u001b[0m \u001b[43mfruit\u001b[49m\u001b[38;5;241;43m.\u001b[39;49m\u001b[43mindex\u001b[49m\u001b[43m(\u001b[49m\u001b[38;5;124;43m'\u001b[39;49m\u001b[38;5;124;43mZ\u001b[39;49m\u001b[38;5;124;43m'\u001b[39;49m\u001b[43m)\u001b[49m\n",
      "\u001b[0;31mValueError\u001b[0m: substring not found"
     ]
    }
   ],
   "source": [
    "fruit.index('Z')"
   ]
  },
  {
   "cell_type": "code",
   "execution_count": 75,
   "id": "bfb75ccf",
   "metadata": {},
   "outputs": [
    {
     "data": {
      "text/plain": [
       "0"
      ]
     },
     "execution_count": 75,
     "metadata": {},
     "output_type": "execute_result"
    }
   ],
   "source": [
    "fruit.find('p')"
   ]
  },
  {
   "cell_type": "code",
   "execution_count": 76,
   "id": "ec316336",
   "metadata": {},
   "outputs": [
    {
     "data": {
      "text/plain": [
       "-1"
      ]
     },
     "execution_count": 76,
     "metadata": {},
     "output_type": "execute_result"
    }
   ],
   "source": [
    "fruit.find('Z')"
   ]
  },
  {
   "cell_type": "code",
   "execution_count": 81,
   "id": "04cdab27",
   "metadata": {},
   "outputs": [
    {
     "data": {
      "text/plain": [
       "'pineapple123'"
      ]
     },
     "execution_count": 81,
     "metadata": {},
     "output_type": "execute_result"
    }
   ],
   "source": [
    "fruit"
   ]
  },
  {
   "cell_type": "code",
   "execution_count": 78,
   "id": "2700a7e4",
   "metadata": {},
   "outputs": [
    {
     "data": {
      "text/plain": [
       "False"
      ]
     },
     "execution_count": 78,
     "metadata": {},
     "output_type": "execute_result"
    }
   ],
   "source": [
    "fruit.startswith('P')"
   ]
  },
  {
   "cell_type": "code",
   "execution_count": 84,
   "id": "3ddfee00",
   "metadata": {},
   "outputs": [
    {
     "data": {
      "text/plain": [
       "True"
      ]
     },
     "execution_count": 84,
     "metadata": {},
     "output_type": "execute_result"
    }
   ],
   "source": [
    "fruit.endswith('3')"
   ]
  },
  {
   "cell_type": "code",
   "execution_count": null,
   "id": "8d0b922e",
   "metadata": {},
   "outputs": [],
   "source": []
  },
  {
   "cell_type": "code",
   "execution_count": 85,
   "id": "25f98c21",
   "metadata": {},
   "outputs": [],
   "source": [
    "hobbies = \"cricket,swimming,cooking\""
   ]
  },
  {
   "cell_type": "code",
   "execution_count": 86,
   "id": "69a100bb",
   "metadata": {},
   "outputs": [
    {
     "data": {
      "text/plain": [
       "'c'"
      ]
     },
     "execution_count": 86,
     "metadata": {},
     "output_type": "execute_result"
    }
   ],
   "source": [
    "hobbies[0]"
   ]
  },
  {
   "cell_type": "code",
   "execution_count": 87,
   "id": "f8d82ea6",
   "metadata": {},
   "outputs": [
    {
     "data": {
      "text/plain": [
       "['cricket', 'swimming', 'cooking']"
      ]
     },
     "execution_count": 87,
     "metadata": {},
     "output_type": "execute_result"
    }
   ],
   "source": [
    "hobbies.split(',')"
   ]
  },
  {
   "cell_type": "code",
   "execution_count": 88,
   "id": "e02ba2ac",
   "metadata": {},
   "outputs": [],
   "source": [
    "data = ['cricket', 'swimming', 'cooking']"
   ]
  },
  {
   "cell_type": "code",
   "execution_count": 89,
   "id": "a101f42a",
   "metadata": {},
   "outputs": [
    {
     "data": {
      "text/plain": [
       "['cricket', 'swimming', 'cooking']"
      ]
     },
     "execution_count": 89,
     "metadata": {},
     "output_type": "execute_result"
    }
   ],
   "source": [
    "data"
   ]
  },
  {
   "cell_type": "code",
   "execution_count": 90,
   "id": "febfdd0b",
   "metadata": {},
   "outputs": [
    {
     "data": {
      "text/plain": [
       "'cricket,swimming,cooking'"
      ]
     },
     "execution_count": 90,
     "metadata": {},
     "output_type": "execute_result"
    }
   ],
   "source": [
    "\",\".join(data)"
   ]
  },
  {
   "cell_type": "code",
   "execution_count": 91,
   "id": "b6d8545f",
   "metadata": {},
   "outputs": [],
   "source": [
    "hobbies = \"cricket\\nswimming\\ncooking\""
   ]
  },
  {
   "cell_type": "code",
   "execution_count": 92,
   "id": "2f69009b",
   "metadata": {},
   "outputs": [
    {
     "name": "stdout",
     "output_type": "stream",
     "text": [
      "cricket\n",
      "swimming\n",
      "cooking\n"
     ]
    }
   ],
   "source": [
    "print(hobbies)"
   ]
  },
  {
   "cell_type": "code",
   "execution_count": 93,
   "id": "36cec43f",
   "metadata": {},
   "outputs": [
    {
     "data": {
      "text/plain": [
       "['cricket', 'swimming', 'cooking']"
      ]
     },
     "execution_count": 93,
     "metadata": {},
     "output_type": "execute_result"
    }
   ],
   "source": [
    "hobbies.splitlines()"
   ]
  },
  {
   "cell_type": "code",
   "execution_count": null,
   "id": "e495ff86",
   "metadata": {},
   "outputs": [],
   "source": []
  },
  {
   "cell_type": "code",
   "execution_count": 1,
   "id": "9e271a98",
   "metadata": {},
   "outputs": [],
   "source": [
    "fname = 'good'\n",
    "lname = 'coder'"
   ]
  },
  {
   "cell_type": "code",
   "execution_count": 3,
   "id": "4894e6d0",
   "metadata": {},
   "outputs": [
    {
     "name": "stdout",
     "output_type": "stream",
     "text": [
      "good coder\n"
     ]
    }
   ],
   "source": [
    "print(fname+' '+lname)"
   ]
  },
  {
   "cell_type": "markdown",
   "id": "3965bc53",
   "metadata": {},
   "source": [
    "Hello my first name is good and my last name is coder"
   ]
  },
  {
   "cell_type": "code",
   "execution_count": 8,
   "id": "a912d512",
   "metadata": {},
   "outputs": [
    {
     "name": "stdout",
     "output_type": "stream",
     "text": [
      "Hello my first name is good and my last name is coder\n"
     ]
    }
   ],
   "source": [
    "print('Hello my first name is '+fname+' and my last name is '+lname)"
   ]
  },
  {
   "cell_type": "code",
   "execution_count": 9,
   "id": "5655f04e",
   "metadata": {},
   "outputs": [
    {
     "ename": "TypeError",
     "evalue": "unsupported operand type(s) for +: 'int' and 'str'",
     "output_type": "error",
     "traceback": [
      "\u001b[0;31m---------------------------------------------------------------------------\u001b[0m",
      "\u001b[0;31mTypeError\u001b[0m                                 Traceback (most recent call last)",
      "Input \u001b[0;32mIn [9]\u001b[0m, in \u001b[0;36m<module>\u001b[0;34m\u001b[0m\n\u001b[0;32m----> 1\u001b[0m \u001b[38;5;241;43m100\u001b[39;49m\u001b[38;5;241;43m+\u001b[39;49m\u001b[38;5;124;43m'\u001b[39;49m\u001b[38;5;124;43ma\u001b[39;49m\u001b[38;5;124;43m'\u001b[39;49m\n",
      "\u001b[0;31mTypeError\u001b[0m: unsupported operand type(s) for +: 'int' and 'str'"
     ]
    }
   ],
   "source": [
    "100+'a'"
   ]
  },
  {
   "cell_type": "code",
   "execution_count": 10,
   "id": "8c0773c0",
   "metadata": {},
   "outputs": [
    {
     "name": "stdout",
     "output_type": "stream",
     "text": [
      "good coder\n"
     ]
    }
   ],
   "source": [
    "print(fname,lname)"
   ]
  },
  {
   "cell_type": "code",
   "execution_count": 11,
   "id": "9e1eff60",
   "metadata": {},
   "outputs": [
    {
     "name": "stdout",
     "output_type": "stream",
     "text": [
      "hello 10\n"
     ]
    }
   ],
   "source": [
    "print('hello',10)"
   ]
  },
  {
   "cell_type": "code",
   "execution_count": null,
   "id": "23613287",
   "metadata": {},
   "outputs": [],
   "source": []
  },
  {
   "cell_type": "code",
   "execution_count": 13,
   "id": "c4e08f25",
   "metadata": {},
   "outputs": [
    {
     "name": "stdout",
     "output_type": "stream",
     "text": [
      "Hello My first name is good and my last name is coder\n"
     ]
    }
   ],
   "source": [
    "print(f\"Hello My first name is {fname} and my last name is {lname}\")"
   ]
  },
  {
   "cell_type": "code",
   "execution_count": null,
   "id": "0ba704f4",
   "metadata": {},
   "outputs": [],
   "source": []
  },
  {
   "cell_type": "code",
   "execution_count": 14,
   "id": "eb01e86a",
   "metadata": {},
   "outputs": [
    {
     "name": "stdout",
     "output_type": "stream",
     "text": [
      "Enter Your Full Name Good Coder\n",
      "Good Coder\n"
     ]
    }
   ],
   "source": [
    "full_name = input(\"Enter Your Full Name \")\n",
    "print(full_name)"
   ]
  },
  {
   "cell_type": "code",
   "execution_count": 19,
   "id": "19f30e81",
   "metadata": {},
   "outputs": [
    {
     "name": "stdout",
     "output_type": "stream",
     "text": [
      "Enter Your Age 44\n",
      "34\n"
     ]
    }
   ],
   "source": [
    "input_age = int(input(\"Enter Your Age \"))\n",
    "total = input_age - 10\n",
    "print(total)\n"
   ]
  },
  {
   "cell_type": "code",
   "execution_count": 17,
   "id": "a1f01bd3",
   "metadata": {},
   "outputs": [
    {
     "name": "stdout",
     "output_type": "stream",
     "text": [
      "Enter your percentage 44.22\n",
      "44.22\n",
      "<class 'float'>\n"
     ]
    }
   ],
   "source": [
    "percentage = float(input(\"Enter your percentage \"))\n",
    "print(percentage)\n",
    "print(type(percentage))"
   ]
  },
  {
   "cell_type": "code",
   "execution_count": 20,
   "id": "7d97ab3b",
   "metadata": {},
   "outputs": [
    {
     "name": "stdout",
     "output_type": "stream",
     "text": [
      "Enter Boolean False\n",
      "True\n"
     ]
    }
   ],
   "source": [
    "my_bool = bool(input(\"Enter Boolean \"))\n",
    "print(my_bool)"
   ]
  },
  {
   "cell_type": "code",
   "execution_count": null,
   "id": "f318b790",
   "metadata": {},
   "outputs": [],
   "source": []
  }
 ],
 "metadata": {
  "kernelspec": {
   "display_name": "Python 3 (ipykernel)",
   "language": "python",
   "name": "python3"
  },
  "language_info": {
   "codemirror_mode": {
    "name": "ipython",
    "version": 3
   },
   "file_extension": ".py",
   "mimetype": "text/x-python",
   "name": "python",
   "nbconvert_exporter": "python",
   "pygments_lexer": "ipython3",
   "version": "3.8.8"
  }
 },
 "nbformat": 4,
 "nbformat_minor": 5
}
