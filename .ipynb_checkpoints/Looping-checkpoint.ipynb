{
 "cells": [
  {
   "cell_type": "markdown",
   "id": "d32feb17",
   "metadata": {},
   "source": [
    "* Two Types of Loops\n",
    "\n",
    "1) For Loop\n",
    "\n",
    "2) While Loop"
   ]
  },
  {
   "cell_type": "markdown",
   "id": "19dd74a1",
   "metadata": {},
   "source": [
    "* For Loop\n",
    "\n",
    "\n",
    "-- Start Point\n",
    "\n",
    "-- End Point \n",
    "\n",
    "\n",
    "-- Step (optional)"
   ]
  },
  {
   "cell_type": "code",
   "execution_count": 1,
   "id": "b4f2ff0f",
   "metadata": {},
   "outputs": [
    {
     "name": "stdout",
     "output_type": "stream",
     "text": [
      "1\n",
      "2\n",
      "3\n",
      "4\n",
      "5\n",
      "6\n",
      "7\n",
      "8\n",
      "9\n",
      "10\n"
     ]
    }
   ],
   "source": [
    "for num in range(1,11):\n",
    "    print(num)"
   ]
  },
  {
   "cell_type": "code",
   "execution_count": 2,
   "id": "7fff4297",
   "metadata": {},
   "outputs": [
    {
     "data": {
      "text/plain": [
       "range(1, 11)"
      ]
     },
     "execution_count": 2,
     "metadata": {},
     "output_type": "execute_result"
    }
   ],
   "source": [
    "range(1,11)"
   ]
  },
  {
   "cell_type": "code",
   "execution_count": 3,
   "id": "7c7091b9",
   "metadata": {},
   "outputs": [
    {
     "name": "stdout",
     "output_type": "stream",
     "text": [
      "10\n",
      "9\n",
      "8\n",
      "7\n",
      "6\n",
      "5\n",
      "4\n",
      "3\n",
      "2\n",
      "1\n"
     ]
    }
   ],
   "source": [
    "for item in range(10,0,-1):\n",
    "    print(item)"
   ]
  },
  {
   "cell_type": "code",
   "execution_count": 7,
   "id": "9dadf6d8",
   "metadata": {},
   "outputs": [
    {
     "name": "stdout",
     "output_type": "stream",
     "text": [
      "55\n"
     ]
    }
   ],
   "source": [
    "total = 0\n",
    "for num in range(1,11):\n",
    "    total = total + num\n",
    "print(total)"
   ]
  },
  {
   "cell_type": "code",
   "execution_count": 8,
   "id": "4bc78ddc",
   "metadata": {},
   "outputs": [
    {
     "name": "stdout",
     "output_type": "stream",
     "text": [
      "3628800\n"
     ]
    }
   ],
   "source": [
    "total = 1\n",
    "for num in range(1,11):\n",
    "    total = total * num\n",
    "print(total)"
   ]
  },
  {
   "cell_type": "code",
   "execution_count": null,
   "id": "364d2f25",
   "metadata": {},
   "outputs": [],
   "source": []
  },
  {
   "cell_type": "code",
   "execution_count": 1,
   "id": "050bd0d6",
   "metadata": {},
   "outputs": [],
   "source": [
    "fruit = \"pineapple\""
   ]
  },
  {
   "cell_type": "code",
   "execution_count": 12,
   "id": "7da03c05",
   "metadata": {},
   "outputs": [
    {
     "name": "stdout",
     "output_type": "stream",
     "text": [
      "0 p\n",
      "1 i\n",
      "2 n\n",
      "3 e\n",
      "4 a\n",
      "5 p\n",
      "6 p\n",
      "7 l\n",
      "8 e\n"
     ]
    }
   ],
   "source": [
    "for count in range(0,len(fruit)):\n",
    "    print(count,fruit[count])"
   ]
  },
  {
   "cell_type": "code",
   "execution_count": 2,
   "id": "a37d07d9",
   "metadata": {},
   "outputs": [
    {
     "data": {
      "text/plain": [
       "'pineapple'"
      ]
     },
     "execution_count": 2,
     "metadata": {},
     "output_type": "execute_result"
    }
   ],
   "source": [
    "fruit"
   ]
  },
  {
   "cell_type": "code",
   "execution_count": 5,
   "id": "2ea2c40b",
   "metadata": {},
   "outputs": [
    {
     "name": "stdout",
     "output_type": "stream",
     "text": [
      "P\n",
      "I\n",
      "N\n",
      "E\n",
      "A\n",
      "P\n",
      "P\n",
      "L\n",
      "E\n"
     ]
    }
   ],
   "source": [
    "for char in range(0,len(fruit)):\n",
    "    print(fruit[char].upper())"
   ]
  },
  {
   "cell_type": "code",
   "execution_count": 7,
   "id": "975c58f2",
   "metadata": {},
   "outputs": [
    {
     "name": "stdout",
     "output_type": "stream",
     "text": [
      "ieae"
     ]
    }
   ],
   "source": [
    "for char in range(0,len(fruit)):\n",
    "    if (fruit[char] == 'a' or fruit[char] == 'e' or fruit[char] == 'i' \n",
    "        or fruit[char] == 'o' or fruit[char] == 'u'):\n",
    "        print(fruit[char],end='')"
   ]
  },
  {
   "cell_type": "code",
   "execution_count": 8,
   "id": "f950f707",
   "metadata": {},
   "outputs": [
    {
     "data": {
      "text/plain": [
       "'pineapple'"
      ]
     },
     "execution_count": 8,
     "metadata": {},
     "output_type": "execute_result"
    }
   ],
   "source": [
    "fruit"
   ]
  },
  {
   "cell_type": "code",
   "execution_count": 9,
   "id": "72c74af8",
   "metadata": {},
   "outputs": [
    {
     "name": "stdout",
     "output_type": "stream",
     "text": [
      "p\n",
      "i\n",
      "n\n",
      "e\n",
      "a\n",
      "p\n",
      "p\n",
      "l\n",
      "e\n"
     ]
    }
   ],
   "source": [
    "for item in fruit:\n",
    "    print(item)"
   ]
  },
  {
   "cell_type": "code",
   "execution_count": 11,
   "id": "64ffa2dc",
   "metadata": {},
   "outputs": [
    {
     "data": {
      "text/plain": [
       "4"
      ]
     },
     "execution_count": 11,
     "metadata": {},
     "output_type": "execute_result"
    }
   ],
   "source": [
    "len(hobbies)"
   ]
  },
  {
   "cell_type": "code",
   "execution_count": 10,
   "id": "a5b86647",
   "metadata": {},
   "outputs": [],
   "source": [
    "hobbies = ['cricket','swimming','cooking','skating']"
   ]
  },
  {
   "cell_type": "code",
   "execution_count": 13,
   "id": "3fc97d38",
   "metadata": {},
   "outputs": [
    {
     "name": "stdout",
     "output_type": "stream",
     "text": [
      "cricket\n",
      "swimming\n",
      "cooking\n",
      "skating\n"
     ]
    }
   ],
   "source": [
    "for item in range(0,len(hobbies)):\n",
    "    print(hobbies[item])"
   ]
  },
  {
   "cell_type": "code",
   "execution_count": 14,
   "id": "67366fcf",
   "metadata": {},
   "outputs": [],
   "source": [
    "even_numbers = []"
   ]
  },
  {
   "cell_type": "code",
   "execution_count": 16,
   "id": "6608ef55",
   "metadata": {},
   "outputs": [],
   "source": [
    "for item in range(1,51):\n",
    "    if (item%2==0):\n",
    "        even_numbers.append(item)"
   ]
  },
  {
   "cell_type": "code",
   "execution_count": 17,
   "id": "fc51711e",
   "metadata": {},
   "outputs": [
    {
     "name": "stdout",
     "output_type": "stream",
     "text": [
      "[2, 4, 6, 8, 10, 12, 14, 16, 18, 20, 22, 24, 26, 28, 30, 32, 34, 36, 38, 40, 42, 44, 46, 48, 50]\n"
     ]
    }
   ],
   "source": [
    "print(even_numbers)"
   ]
  },
  {
   "cell_type": "code",
   "execution_count": null,
   "id": "e0b87927",
   "metadata": {},
   "outputs": [],
   "source": []
  },
  {
   "cell_type": "code",
   "execution_count": null,
   "id": "503283ce",
   "metadata": {},
   "outputs": [],
   "source": []
  },
  {
   "cell_type": "code",
   "execution_count": 18,
   "id": "e3567d26",
   "metadata": {},
   "outputs": [
    {
     "name": "stdout",
     "output_type": "stream",
     "text": [
      "How Many Hobbies Do You Have 4\n",
      "Enter the Name of Your Hobby cricket\n",
      "Enter the Name of Your Hobby swimming\n",
      "Enter the Name of Your Hobby cooking\n",
      "Enter the Name of Your Hobby sleeping\n",
      "['cricket', 'swimming', 'cooking', 'sleeping']\n"
     ]
    }
   ],
   "source": [
    "hobbies = []\n",
    "no_of_hobbies = int(input(\"How Many Hobbies Do You Have \"))\n",
    "for item in range(1,no_of_hobbies+1):\n",
    "    inp_hobby = input(\"Enter the Name of Your Hobby \")\n",
    "    hobbies.append(inp_hobby)\n",
    "    \n",
    "print(hobbies)"
   ]
  },
  {
   "cell_type": "code",
   "execution_count": 23,
   "id": "2bd3b4f3",
   "metadata": {},
   "outputs": [
    {
     "name": "stdout",
     "output_type": "stream",
     "text": [
      "How Many Subjects Do You Have 3\n",
      "Enter the Marks 10\n",
      "Enter the Marks 20\n",
      "Enter the Marks 30\n",
      "Your Total Marks is 60\n"
     ]
    }
   ],
   "source": [
    "my_marks = []\n",
    "inp_subject = int(input(\"How Many Subjects Do You Have \"))\n",
    "for item in range(1,inp_subject+1):\n",
    "    inp_marks = int(input(\"Enter the Marks \"))\n",
    "    my_marks.append(inp_marks)\n",
    "\n",
    "total = 0\n",
    "for num in range(0,len(my_marks)):\n",
    "    total = total+my_marks[num]\n",
    "print(f'Your Total Marks is {total}')"
   ]
  },
  {
   "cell_type": "code",
   "execution_count": 24,
   "id": "fef7713d",
   "metadata": {},
   "outputs": [
    {
     "data": {
      "text/plain": [
       "['cricket', 'swimming', 'cooking', 'sleeping']"
      ]
     },
     "execution_count": 24,
     "metadata": {},
     "output_type": "execute_result"
    }
   ],
   "source": [
    "hobbies"
   ]
  },
  {
   "cell_type": "code",
   "execution_count": 25,
   "id": "54dbf8e6",
   "metadata": {},
   "outputs": [
    {
     "name": "stdout",
     "output_type": "stream",
     "text": [
      "cricket\n",
      "swimming\n",
      "cooking\n",
      "sleeping\n"
     ]
    }
   ],
   "source": [
    "for item in hobbies:\n",
    "    print(item)"
   ]
  },
  {
   "cell_type": "code",
   "execution_count": null,
   "id": "428af5a3",
   "metadata": {},
   "outputs": [],
   "source": []
  },
  {
   "cell_type": "code",
   "execution_count": 26,
   "id": "a0703b91",
   "metadata": {},
   "outputs": [],
   "source": [
    "mytup = (100,200,300,400,500)"
   ]
  },
  {
   "cell_type": "code",
   "execution_count": 30,
   "id": "0bf16506",
   "metadata": {},
   "outputs": [
    {
     "name": "stdout",
     "output_type": "stream",
     "text": [
      "0 100\n",
      "1 200\n",
      "2 300\n",
      "3 400\n",
      "4 500\n"
     ]
    }
   ],
   "source": [
    "for item in range(0,len(mytup)):\n",
    "    print(item,mytup[item])"
   ]
  },
  {
   "cell_type": "code",
   "execution_count": 29,
   "id": "7dbe3ce9",
   "metadata": {},
   "outputs": [
    {
     "name": "stdout",
     "output_type": "stream",
     "text": [
      "100\n",
      "200\n",
      "300\n",
      "400\n",
      "500\n"
     ]
    }
   ],
   "source": [
    "for val in mytup:\n",
    "    print(val)"
   ]
  },
  {
   "cell_type": "code",
   "execution_count": null,
   "id": "98f515cc",
   "metadata": {},
   "outputs": [],
   "source": []
  },
  {
   "cell_type": "code",
   "execution_count": 31,
   "id": "08a96fb2",
   "metadata": {},
   "outputs": [],
   "source": [
    "my_info = {\n",
    "    'name':'good coder',\n",
    "    'age':30,\n",
    "    'designation':'DE',\n",
    "    'qual':'ME',\n",
    "    'loc':'Mumbai'\n",
    "}"
   ]
  },
  {
   "cell_type": "code",
   "execution_count": 32,
   "id": "dbf0ec5d",
   "metadata": {},
   "outputs": [
    {
     "data": {
      "text/plain": [
       "{'name': 'good coder',\n",
       " 'age': 30,\n",
       " 'designation': 'DE',\n",
       " 'qual': 'ME',\n",
       " 'loc': 'Mumbai'}"
      ]
     },
     "execution_count": 32,
     "metadata": {},
     "output_type": "execute_result"
    }
   ],
   "source": [
    "my_info"
   ]
  },
  {
   "cell_type": "code",
   "execution_count": 33,
   "id": "d01a12fb",
   "metadata": {},
   "outputs": [
    {
     "name": "stdout",
     "output_type": "stream",
     "text": [
      "name\n",
      "age\n",
      "designation\n",
      "qual\n",
      "loc\n"
     ]
    }
   ],
   "source": [
    "for key in my_info.keys():\n",
    "    print(key)"
   ]
  },
  {
   "cell_type": "code",
   "execution_count": 34,
   "id": "69ddaacd",
   "metadata": {},
   "outputs": [
    {
     "name": "stdout",
     "output_type": "stream",
     "text": [
      "good coder\n",
      "30\n",
      "DE\n",
      "ME\n",
      "Mumbai\n"
     ]
    }
   ],
   "source": [
    "for val in my_info.values():\n",
    "    print(val)"
   ]
  },
  {
   "cell_type": "code",
   "execution_count": 36,
   "id": "82723f8b",
   "metadata": {},
   "outputs": [
    {
     "name": "stdout",
     "output_type": "stream",
     "text": [
      "name good coder\n",
      "age 30\n",
      "designation DE\n",
      "qual ME\n",
      "loc Mumbai\n"
     ]
    }
   ],
   "source": [
    "for k,v in my_info.items():\n",
    "    print(k,v)"
   ]
  },
  {
   "cell_type": "code",
   "execution_count": null,
   "id": "6e47eb18",
   "metadata": {},
   "outputs": [],
   "source": []
  },
  {
   "cell_type": "code",
   "execution_count": 37,
   "id": "c16aca14",
   "metadata": {},
   "outputs": [],
   "source": []
  },
  {
   "cell_type": "code",
   "execution_count": 42,
   "id": "9001046d",
   "metadata": {},
   "outputs": [
    {
     "name": "stdout",
     "output_type": "stream",
     "text": [
      "How Many Keys for Your Dictionary 3\n",
      "How Many Values for Your Dictionary 3\n",
      "Enter Your Key name\n",
      "Enter Your Value good coder\n",
      "Enter Your Key loc\n",
      "Enter Your Value Mum\n",
      "Enter Your Key desgn\n",
      "Enter Your Value SDE\n",
      "{'name': 'good coder', 'loc': 'Mum', 'desgn': 'SDE'}\n"
     ]
    }
   ],
   "source": [
    "myinfo = {}\n",
    "inp_key = int(input(\"How Many Keys for Your Dictionary \"))\n",
    "inp_val = int(input(\"How Many Values for Your Dictionary \"))\n",
    "\n",
    "if inp_key == inp_val:\n",
    "    for item in range(0,inp_key):\n",
    "        key_data = input(\"Enter Your Key \")\n",
    "        value_data = input(\"Enter Your Value \")\n",
    "        myinfo[key_data] = value_data\n",
    "else:\n",
    "    print(\"Keys and Values Should Be Same \")\n",
    "    \n",
    "    \n",
    "print(myinfo)"
   ]
  },
  {
   "cell_type": "code",
   "execution_count": null,
   "id": "1b45e055",
   "metadata": {},
   "outputs": [],
   "source": []
  },
  {
   "cell_type": "code",
   "execution_count": null,
   "id": "fce55d51",
   "metadata": {},
   "outputs": [],
   "source": []
  },
  {
   "cell_type": "code",
   "execution_count": null,
   "id": "55c6973d",
   "metadata": {},
   "outputs": [],
   "source": []
  },
  {
   "cell_type": "code",
   "execution_count": null,
   "id": "32fcfe1f",
   "metadata": {},
   "outputs": [],
   "source": []
  },
  {
   "cell_type": "code",
   "execution_count": 43,
   "id": "9ca8d6bd",
   "metadata": {},
   "outputs": [],
   "source": [
    "my_dict = {}"
   ]
  },
  {
   "cell_type": "code",
   "execution_count": 45,
   "id": "aa771a9c",
   "metadata": {},
   "outputs": [],
   "source": [
    "for item in range(1,11):\n",
    "    my_dict[item] = item**2"
   ]
  },
  {
   "cell_type": "code",
   "execution_count": 46,
   "id": "86956b4f",
   "metadata": {},
   "outputs": [
    {
     "name": "stdout",
     "output_type": "stream",
     "text": [
      "{1: 1, 2: 4, 3: 9, 4: 16, 5: 25, 6: 36, 7: 49, 8: 64, 9: 81, 10: 100}\n"
     ]
    }
   ],
   "source": [
    "print(my_dict)"
   ]
  },
  {
   "cell_type": "code",
   "execution_count": null,
   "id": "dd3e2c41",
   "metadata": {},
   "outputs": [],
   "source": []
  },
  {
   "cell_type": "code",
   "execution_count": 47,
   "id": "5eaa612a",
   "metadata": {},
   "outputs": [
    {
     "data": {
      "text/plain": [
       "'pineapple'"
      ]
     },
     "execution_count": 47,
     "metadata": {},
     "output_type": "execute_result"
    }
   ],
   "source": [
    "fruit"
   ]
  },
  {
   "cell_type": "code",
   "execution_count": null,
   "id": "b652a393",
   "metadata": {},
   "outputs": [],
   "source": []
  }
 ],
 "metadata": {
  "kernelspec": {
   "display_name": "Python 3 (ipykernel)",
   "language": "python",
   "name": "python3"
  },
  "language_info": {
   "codemirror_mode": {
    "name": "ipython",
    "version": 3
   },
   "file_extension": ".py",
   "mimetype": "text/x-python",
   "name": "python",
   "nbconvert_exporter": "python",
   "pygments_lexer": "ipython3",
   "version": "3.8.8"
  }
 },
 "nbformat": 4,
 "nbformat_minor": 5
}
