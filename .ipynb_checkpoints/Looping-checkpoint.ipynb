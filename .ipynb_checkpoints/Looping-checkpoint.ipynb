{
 "cells": [
  {
   "cell_type": "markdown",
   "id": "d32feb17",
   "metadata": {},
   "source": [
    "* Two Types of Loops\n",
    "\n",
    "1) For Loop\n",
    "\n",
    "2) While Loop"
   ]
  },
  {
   "cell_type": "markdown",
   "id": "19dd74a1",
   "metadata": {},
   "source": [
    "* For Loop\n",
    "\n",
    "\n",
    "-- Start Point\n",
    "\n",
    "-- End Point \n",
    "\n",
    "\n",
    "-- Step (optional)"
   ]
  },
  {
   "cell_type": "code",
   "execution_count": 1,
   "id": "b4f2ff0f",
   "metadata": {},
   "outputs": [
    {
     "name": "stdout",
     "output_type": "stream",
     "text": [
      "1\n",
      "2\n",
      "3\n",
      "4\n",
      "5\n",
      "6\n",
      "7\n",
      "8\n",
      "9\n",
      "10\n"
     ]
    }
   ],
   "source": [
    "for num in range(1,11):\n",
    "    print(num)"
   ]
  },
  {
   "cell_type": "code",
   "execution_count": 2,
   "id": "7fff4297",
   "metadata": {},
   "outputs": [
    {
     "data": {
      "text/plain": [
       "range(1, 11)"
      ]
     },
     "execution_count": 2,
     "metadata": {},
     "output_type": "execute_result"
    }
   ],
   "source": [
    "range(1,11)"
   ]
  },
  {
   "cell_type": "code",
   "execution_count": 3,
   "id": "7c7091b9",
   "metadata": {},
   "outputs": [
    {
     "name": "stdout",
     "output_type": "stream",
     "text": [
      "10\n",
      "9\n",
      "8\n",
      "7\n",
      "6\n",
      "5\n",
      "4\n",
      "3\n",
      "2\n",
      "1\n"
     ]
    }
   ],
   "source": [
    "for item in range(10,0,-1):\n",
    "    print(item)"
   ]
  },
  {
   "cell_type": "code",
   "execution_count": 7,
   "id": "9dadf6d8",
   "metadata": {},
   "outputs": [
    {
     "name": "stdout",
     "output_type": "stream",
     "text": [
      "55\n"
     ]
    }
   ],
   "source": [
    "total = 0\n",
    "for num in range(1,11):\n",
    "    total = total + num\n",
    "print(total)"
   ]
  },
  {
   "cell_type": "code",
   "execution_count": 8,
   "id": "4bc78ddc",
   "metadata": {},
   "outputs": [
    {
     "name": "stdout",
     "output_type": "stream",
     "text": [
      "3628800\n"
     ]
    }
   ],
   "source": [
    "total = 1\n",
    "for num in range(1,11):\n",
    "    total = total * num\n",
    "print(total)"
   ]
  },
  {
   "cell_type": "code",
   "execution_count": null,
   "id": "364d2f25",
   "metadata": {},
   "outputs": [],
   "source": []
  },
  {
   "cell_type": "code",
   "execution_count": 1,
   "id": "050bd0d6",
   "metadata": {},
   "outputs": [],
   "source": [
    "fruit = \"pineapple\""
   ]
  },
  {
   "cell_type": "code",
   "execution_count": 12,
   "id": "7da03c05",
   "metadata": {},
   "outputs": [
    {
     "name": "stdout",
     "output_type": "stream",
     "text": [
      "0 p\n",
      "1 i\n",
      "2 n\n",
      "3 e\n",
      "4 a\n",
      "5 p\n",
      "6 p\n",
      "7 l\n",
      "8 e\n"
     ]
    }
   ],
   "source": [
    "for count in range(0,len(fruit)):\n",
    "    print(count,fruit[count])"
   ]
  },
  {
   "cell_type": "code",
   "execution_count": 2,
   "id": "a37d07d9",
   "metadata": {},
   "outputs": [
    {
     "data": {
      "text/plain": [
       "'pineapple'"
      ]
     },
     "execution_count": 2,
     "metadata": {},
     "output_type": "execute_result"
    }
   ],
   "source": [
    "fruit"
   ]
  },
  {
   "cell_type": "code",
   "execution_count": 5,
   "id": "0854bccf",
   "metadata": {},
   "outputs": [
    {
     "name": "stdout",
     "output_type": "stream",
     "text": [
      "P\n",
      "I\n",
      "N\n",
      "E\n",
      "A\n",
      "P\n",
      "P\n",
      "L\n",
      "E\n"
     ]
    }
   ],
   "source": [
    "for char in range(0,len(fruit)):\n",
    "    print(fruit[char].upper())"
   ]
  },
  {
   "cell_type": "code",
   "execution_count": 7,
   "id": "8dc7cb01",
   "metadata": {},
   "outputs": [
    {
     "name": "stdout",
     "output_type": "stream",
     "text": [
      "ieae"
     ]
    }
   ],
   "source": [
    "for char in range(0,len(fruit)):\n",
    "    if (fruit[char] == 'a' or fruit[char] == 'e' or fruit[char] == 'i' \n",
    "        or fruit[char] == 'o' or fruit[char] == 'u'):\n",
    "        print(fruit[char],end='')"
   ]
  },
  {
   "cell_type": "code",
   "execution_count": 8,
   "id": "f2ff4bc6",
   "metadata": {},
   "outputs": [
    {
     "data": {
      "text/plain": [
       "'pineapple'"
      ]
     },
     "execution_count": 8,
     "metadata": {},
     "output_type": "execute_result"
    }
   ],
   "source": [
    "fruit"
   ]
  },
  {
   "cell_type": "code",
   "execution_count": 9,
   "id": "152a349f",
   "metadata": {},
   "outputs": [
    {
     "name": "stdout",
     "output_type": "stream",
     "text": [
      "p\n",
      "i\n",
      "n\n",
      "e\n",
      "a\n",
      "p\n",
      "p\n",
      "l\n",
      "e\n"
     ]
    }
   ],
   "source": [
    "for item in fruit:\n",
    "    print(item)"
   ]
  },
  {
   "cell_type": "code",
   "execution_count": 11,
   "id": "11388833",
   "metadata": {},
   "outputs": [
    {
     "data": {
      "text/plain": [
       "4"
      ]
     },
     "execution_count": 11,
     "metadata": {},
     "output_type": "execute_result"
    }
   ],
   "source": [
    "len(hobbies)"
   ]
  },
  {
   "cell_type": "code",
   "execution_count": 10,
   "id": "b39f2fc0",
   "metadata": {},
   "outputs": [],
   "source": [
    "hobbies = ['cricket','swimming','cooking','skating']"
   ]
  },
  {
   "cell_type": "code",
   "execution_count": 13,
   "id": "58cedf15",
   "metadata": {},
   "outputs": [
    {
     "name": "stdout",
     "output_type": "stream",
     "text": [
      "cricket\n",
      "swimming\n",
      "cooking\n",
      "skating\n"
     ]
    }
   ],
   "source": [
    "for item in range(0,len(hobbies)):\n",
    "    print(hobbies[item])"
   ]
  },
  {
   "cell_type": "code",
   "execution_count": 14,
   "id": "d67f8fc0",
   "metadata": {},
   "outputs": [],
   "source": [
    "even_numbers = []"
   ]
  },
  {
   "cell_type": "code",
   "execution_count": 16,
   "id": "bace2508",
   "metadata": {},
   "outputs": [],
   "source": [
    "for item in range(1,51):\n",
    "    if (item%2==0):\n",
    "        even_numbers.append(item)"
   ]
  },
  {
   "cell_type": "code",
   "execution_count": 17,
   "id": "69362ee5",
   "metadata": {},
   "outputs": [
    {
     "name": "stdout",
     "output_type": "stream",
     "text": [
      "[2, 4, 6, 8, 10, 12, 14, 16, 18, 20, 22, 24, 26, 28, 30, 32, 34, 36, 38, 40, 42, 44, 46, 48, 50]\n"
     ]
    }
   ],
   "source": [
    "print(even_numbers)"
   ]
  },
  {
   "cell_type": "code",
   "execution_count": null,
   "id": "f4d8e6df",
   "metadata": {},
   "outputs": [],
   "source": []
  },
  {
   "cell_type": "code",
   "execution_count": null,
   "id": "2dd58caf",
   "metadata": {},
   "outputs": [],
   "source": []
  },
  {
   "cell_type": "code",
   "execution_count": 18,
   "id": "9b68c77a",
   "metadata": {},
   "outputs": [
    {
     "name": "stdout",
     "output_type": "stream",
     "text": [
      "How Many Hobbies Do You Have 4\n",
      "Enter the Name of Your Hobby cricket\n",
      "Enter the Name of Your Hobby swimming\n",
      "Enter the Name of Your Hobby cooking\n",
      "Enter the Name of Your Hobby sleeping\n",
      "['cricket', 'swimming', 'cooking', 'sleeping']\n"
     ]
    }
   ],
   "source": [
    "hobbies = []\n",
    "no_of_hobbies = int(input(\"How Many Hobbies Do You Have \"))\n",
    "for item in range(1,no_of_hobbies+1):\n",
    "    inp_hobby = input(\"Enter the Name of Your Hobby \")\n",
    "    hobbies.append(inp_hobby)\n",
    "    \n",
    "print(hobbies)"
   ]
  },
  {
   "cell_type": "code",
   "execution_count": 23,
   "id": "2bdd039c",
   "metadata": {},
   "outputs": [
    {
     "name": "stdout",
     "output_type": "stream",
     "text": [
      "How Many Subjects Do You Have 3\n",
      "Enter the Marks 10\n",
      "Enter the Marks 20\n",
      "Enter the Marks 30\n",
      "Your Total Marks is 60\n"
     ]
    }
   ],
   "source": [
    "my_marks = []\n",
    "inp_subject = int(input(\"How Many Subjects Do You Have \"))\n",
    "for item in range(1,inp_subject+1):\n",
    "    inp_marks = int(input(\"Enter the Marks \"))\n",
    "    my_marks.append(inp_marks)\n",
    "\n",
    "total = 0\n",
    "for num in range(0,len(my_marks)):\n",
    "    total = total+my_marks[num]\n",
    "print(f'Your Total Marks is {total}')"
   ]
  },
  {
   "cell_type": "code",
   "execution_count": 24,
   "id": "39d3cde6",
   "metadata": {},
   "outputs": [
    {
     "data": {
      "text/plain": [
       "['cricket', 'swimming', 'cooking', 'sleeping']"
      ]
     },
     "execution_count": 24,
     "metadata": {},
     "output_type": "execute_result"
    }
   ],
   "source": [
    "hobbies"
   ]
  },
  {
   "cell_type": "code",
   "execution_count": 25,
   "id": "995e4807",
   "metadata": {},
   "outputs": [
    {
     "name": "stdout",
     "output_type": "stream",
     "text": [
      "cricket\n",
      "swimming\n",
      "cooking\n",
      "sleeping\n"
     ]
    }
   ],
   "source": [
    "for item in hobbies:\n",
    "    print(item)"
   ]
  },
  {
   "cell_type": "code",
   "execution_count": null,
   "id": "e23f8db4",
   "metadata": {},
   "outputs": [],
   "source": []
  },
  {
   "cell_type": "code",
   "execution_count": 26,
   "id": "1e623d25",
   "metadata": {},
   "outputs": [],
   "source": [
    "mytup = (100,200,300,400,500)"
   ]
  },
  {
   "cell_type": "code",
   "execution_count": 30,
   "id": "2f9ad998",
   "metadata": {},
   "outputs": [
    {
     "name": "stdout",
     "output_type": "stream",
     "text": [
      "0 100\n",
      "1 200\n",
      "2 300\n",
      "3 400\n",
      "4 500\n"
     ]
    }
   ],
   "source": [
    "for item in range(0,len(mytup)):\n",
    "    print(item,mytup[item])"
   ]
  },
  {
   "cell_type": "code",
   "execution_count": 29,
   "id": "77f33484",
   "metadata": {},
   "outputs": [
    {
     "name": "stdout",
     "output_type": "stream",
     "text": [
      "100\n",
      "200\n",
      "300\n",
      "400\n",
      "500\n"
     ]
    }
   ],
   "source": [
    "for val in mytup:\n",
    "    print(val)"
   ]
  },
  {
   "cell_type": "code",
   "execution_count": null,
   "id": "dca8fd33",
   "metadata": {},
   "outputs": [],
   "source": []
  },
  {
   "cell_type": "code",
   "execution_count": 31,
   "id": "0da7b16e",
   "metadata": {},
   "outputs": [],
   "source": [
    "my_info = {\n",
    "    'name':'good coder',\n",
    "    'age':30,\n",
    "    'designation':'DE',\n",
    "    'qual':'ME',\n",
    "    'loc':'Mumbai'\n",
    "}"
   ]
  },
  {
   "cell_type": "code",
   "execution_count": 32,
   "id": "e7e1faca",
   "metadata": {},
   "outputs": [
    {
     "data": {
      "text/plain": [
       "{'name': 'good coder',\n",
       " 'age': 30,\n",
       " 'designation': 'DE',\n",
       " 'qual': 'ME',\n",
       " 'loc': 'Mumbai'}"
      ]
     },
     "execution_count": 32,
     "metadata": {},
     "output_type": "execute_result"
    }
   ],
   "source": [
    "my_info"
   ]
  },
  {
   "cell_type": "code",
   "execution_count": 33,
   "id": "70566351",
   "metadata": {},
   "outputs": [
    {
     "name": "stdout",
     "output_type": "stream",
     "text": [
      "name\n",
      "age\n",
      "designation\n",
      "qual\n",
      "loc\n"
     ]
    }
   ],
   "source": [
    "for key in my_info.keys():\n",
    "    print(key)"
   ]
  },
  {
   "cell_type": "code",
   "execution_count": 34,
   "id": "b4bfaaa5",
   "metadata": {},
   "outputs": [
    {
     "name": "stdout",
     "output_type": "stream",
     "text": [
      "good coder\n",
      "30\n",
      "DE\n",
      "ME\n",
      "Mumbai\n"
     ]
    }
   ],
   "source": [
    "for val in my_info.values():\n",
    "    print(val)"
   ]
  },
  {
   "cell_type": "code",
   "execution_count": 36,
   "id": "67d2d18f",
   "metadata": {},
   "outputs": [
    {
     "name": "stdout",
     "output_type": "stream",
     "text": [
      "name good coder\n",
      "age 30\n",
      "designation DE\n",
      "qual ME\n",
      "loc Mumbai\n"
     ]
    }
   ],
   "source": [
    "for k,v in my_info.items():\n",
    "    print(k,v)"
   ]
  },
  {
   "cell_type": "code",
   "execution_count": null,
   "id": "88622d03",
   "metadata": {},
   "outputs": [],
   "source": []
  },
  {
   "cell_type": "code",
   "execution_count": 37,
   "id": "ef776a74",
   "metadata": {},
   "outputs": [],
   "source": []
  },
  {
   "cell_type": "code",
   "execution_count": 42,
   "id": "852f3557",
   "metadata": {},
   "outputs": [
    {
     "name": "stdout",
     "output_type": "stream",
     "text": [
      "How Many Keys for Your Dictionary 3\n",
      "How Many Values for Your Dictionary 3\n",
      "Enter Your Key name\n",
      "Enter Your Value good coder\n",
      "Enter Your Key loc\n",
      "Enter Your Value Mum\n",
      "Enter Your Key desgn\n",
      "Enter Your Value SDE\n",
      "{'name': 'good coder', 'loc': 'Mum', 'desgn': 'SDE'}\n"
     ]
    }
   ],
   "source": [
    "myinfo = {}\n",
    "inp_key = int(input(\"How Many Keys for Your Dictionary \"))\n",
    "inp_val = int(input(\"How Many Values for Your Dictionary \"))\n",
    "\n",
    "if inp_key == inp_val:\n",
    "    for item in range(0,inp_key):\n",
    "        key_data = input(\"Enter Your Key \")\n",
    "        value_data = input(\"Enter Your Value \")\n",
    "        myinfo[key_data] = value_data\n",
    "else:\n",
    "    print(\"Keys and Values Should Be Same \")\n",
    "    \n",
    "    \n",
    "print(myinfo)"
   ]
  },
  {
   "cell_type": "code",
   "execution_count": null,
   "id": "a8e4f45b",
   "metadata": {},
   "outputs": [],
   "source": []
  },
  {
   "cell_type": "code",
   "execution_count": null,
   "id": "32f2357a",
   "metadata": {},
   "outputs": [],
   "source": []
  },
  {
   "cell_type": "code",
   "execution_count": null,
   "id": "56a374af",
   "metadata": {},
   "outputs": [],
   "source": []
  },
  {
   "cell_type": "code",
   "execution_count": null,
   "id": "4fea9e3d",
   "metadata": {},
   "outputs": [],
   "source": []
  },
  {
   "cell_type": "code",
   "execution_count": 43,
   "id": "ab2bef83",
   "metadata": {},
   "outputs": [],
   "source": [
    "my_dict = {}"
   ]
  },
  {
   "cell_type": "code",
   "execution_count": 45,
   "id": "c326dc58",
   "metadata": {},
   "outputs": [],
   "source": [
    "for item in range(1,11):\n",
    "    my_dict[item] = item**2"
   ]
  },
  {
   "cell_type": "code",
   "execution_count": 46,
   "id": "91b73c57",
   "metadata": {},
   "outputs": [
    {
     "name": "stdout",
     "output_type": "stream",
     "text": [
      "{1: 1, 2: 4, 3: 9, 4: 16, 5: 25, 6: 36, 7: 49, 8: 64, 9: 81, 10: 100}\n"
     ]
    }
   ],
   "source": [
    "print(my_dict)"
   ]
  },
  {
   "cell_type": "code",
   "execution_count": null,
   "id": "46b7651c",
   "metadata": {},
   "outputs": [],
   "source": []
  },
  {
   "cell_type": "code",
   "execution_count": 1,
   "id": "2f579ed6",
   "metadata": {},
   "outputs": [],
   "source": [
    "fruit = 'pineapple'"
   ]
  },
  {
   "cell_type": "markdown",
   "id": "6ec7d889",
   "metadata": {},
   "source": [
    "{'p':3,'i':1,'n':1,'e':2,'l':1,'a':1}"
   ]
  },
  {
   "cell_type": "code",
   "execution_count": 3,
   "id": "4590431f",
   "metadata": {},
   "outputs": [
    {
     "name": "stdout",
     "output_type": "stream",
     "text": [
      "{'p': 3, 'i': 1, 'n': 1, 'e': 2, 'a': 1, 'l': 1}\n"
     ]
    }
   ],
   "source": [
    "char_count = {}\n",
    "for item in range(0,len(fruit)):\n",
    "    char_count[fruit[item]] = fruit.count(fruit[item])\n",
    "    \n",
    "print(char_count)"
   ]
  },
  {
   "cell_type": "code",
   "execution_count": null,
   "id": "d7b19ba4",
   "metadata": {},
   "outputs": [],
   "source": []
  },
  {
   "cell_type": "code",
   "execution_count": 4,
   "id": "5a6d2915",
   "metadata": {},
   "outputs": [],
   "source": [
    "myset = {100,200,300,400,500,600,70,'hi','bye'}"
   ]
  },
  {
   "cell_type": "code",
   "execution_count": 5,
   "id": "89553e83",
   "metadata": {},
   "outputs": [
    {
     "name": "stdout",
     "output_type": "stream",
     "text": [
      "bye\n",
      "100\n",
      "70\n",
      "200\n",
      "300\n",
      "400\n",
      "hi\n",
      "500\n",
      "600\n"
     ]
    }
   ],
   "source": [
    "for item in myset:\n",
    "    print(item)"
   ]
  },
  {
   "cell_type": "code",
   "execution_count": 6,
   "id": "64974849",
   "metadata": {},
   "outputs": [],
   "source": [
    "even_set = set()"
   ]
  },
  {
   "cell_type": "code",
   "execution_count": 7,
   "id": "baaa5c15",
   "metadata": {},
   "outputs": [],
   "source": [
    "for item in range(1,51):\n",
    "    if item%2 == 0:\n",
    "        even_set.add(item)"
   ]
  },
  {
   "cell_type": "code",
   "execution_count": 8,
   "id": "96d3a42c",
   "metadata": {},
   "outputs": [
    {
     "data": {
      "text/plain": [
       "{2,\n",
       " 4,\n",
       " 6,\n",
       " 8,\n",
       " 10,\n",
       " 12,\n",
       " 14,\n",
       " 16,\n",
       " 18,\n",
       " 20,\n",
       " 22,\n",
       " 24,\n",
       " 26,\n",
       " 28,\n",
       " 30,\n",
       " 32,\n",
       " 34,\n",
       " 36,\n",
       " 38,\n",
       " 40,\n",
       " 42,\n",
       " 44,\n",
       " 46,\n",
       " 48,\n",
       " 50}"
      ]
     },
     "execution_count": 8,
     "metadata": {},
     "output_type": "execute_result"
    }
   ],
   "source": [
    "even_set"
   ]
  },
  {
   "cell_type": "markdown",
   "id": "354b528d",
   "metadata": {},
   "source": [
    "### Write a Python program to sum all the items in a dictionary.\n",
    "### dictionary = {1: 10, 2: 20, 3: 30, 4: 40, 5: 50, 6: 60}\n",
    "\n",
    "### Output: 210"
   ]
  },
  {
   "cell_type": "code",
   "execution_count": 10,
   "id": "df4fc2d1",
   "metadata": {},
   "outputs": [
    {
     "name": "stdout",
     "output_type": "stream",
     "text": [
      "210\n"
     ]
    }
   ],
   "source": [
    "total = 0\n",
    "dictionary = {1: 10, 2: 20, 3: 30, 4: 40, 5: 50, 6: 60}\n",
    "for item in dictionary.values():\n",
    "    total = total + item\n",
    "    \n",
    "print(total)"
   ]
  },
  {
   "cell_type": "markdown",
   "id": "2839a602",
   "metadata": {},
   "source": [
    "### Write a Python script to generate and print a dictionary that contains\n",
    "### a number (between 1 and n) in the form (x, x*x)\n",
    "### Sample Dictionary ( n = 5) :\n",
    "### Expected Output : {1: 1, 2: 4, 3: 9, 4: 16, 5: 25}"
   ]
  },
  {
   "cell_type": "code",
   "execution_count": 11,
   "id": "4f3462f9",
   "metadata": {},
   "outputs": [
    {
     "name": "stdout",
     "output_type": "stream",
     "text": [
      "{1: 1, 2: 4, 3: 9, 4: 16, 5: 25}\n"
     ]
    }
   ],
   "source": [
    "n = 5\n",
    "square = {}\n",
    "for item in range(1,n+1):\n",
    "    square[item] = item ** 2\n",
    "print(square)"
   ]
  },
  {
   "cell_type": "code",
   "execution_count": null,
   "id": "4bb054ef",
   "metadata": {},
   "outputs": [],
   "source": []
  },
  {
   "cell_type": "markdown",
   "id": "02160052",
   "metadata": {},
   "source": [
    "## While Loop"
   ]
  },
  {
   "cell_type": "markdown",
   "id": "d178b049",
   "metadata": {},
   "source": [
    "1) iterating variable registration\n",
    "\n",
    "2) define your while loop\n",
    "\n",
    "3) to write the logic for your loop block\n",
    "\n",
    "4) increment or decrement"
   ]
  },
  {
   "cell_type": "code",
   "execution_count": 13,
   "id": "0752c659",
   "metadata": {},
   "outputs": [
    {
     "name": "stdout",
     "output_type": "stream",
     "text": [
      "1\n",
      "2\n",
      "3\n",
      "4\n",
      "5\n",
      "6\n",
      "7\n",
      "8\n",
      "9\n",
      "10\n"
     ]
    }
   ],
   "source": [
    "number = 1\n",
    "while(number<=10):\n",
    "    print(number)\n",
    "    number = number+1     # number+=1"
   ]
  },
  {
   "cell_type": "code",
   "execution_count": 14,
   "id": "2fd565c9",
   "metadata": {},
   "outputs": [
    {
     "name": "stdout",
     "output_type": "stream",
     "text": [
      "10\n",
      "9\n",
      "8\n",
      "7\n",
      "6\n",
      "5\n",
      "4\n",
      "3\n",
      "2\n",
      "1\n"
     ]
    }
   ],
   "source": [
    "num = 10\n",
    "while(num>0):\n",
    "    print(num)\n",
    "    num = num -1    #num-=1"
   ]
  },
  {
   "cell_type": "code",
   "execution_count": 15,
   "id": "f14a0fe6",
   "metadata": {},
   "outputs": [],
   "source": [
    "fruit = \"pineapple\""
   ]
  },
  {
   "cell_type": "code",
   "execution_count": 17,
   "id": "a8e83dbd",
   "metadata": {},
   "outputs": [
    {
     "name": "stdout",
     "output_type": "stream",
     "text": [
      "p\n",
      "i\n",
      "n\n",
      "e\n",
      "a\n",
      "p\n",
      "p\n",
      "l\n",
      "e\n"
     ]
    }
   ],
   "source": [
    "index = 0\n",
    "while(index<len(fruit)):\n",
    "    print(fruit[index])\n",
    "    index=index+1"
   ]
  },
  {
   "cell_type": "code",
   "execution_count": 18,
   "id": "65e868fc",
   "metadata": {},
   "outputs": [],
   "source": [
    "even_list = []\n",
    "odd_list = []\n",
    "\n",
    "num = 1\n",
    "while(num<=100):\n",
    "    if num%2==0:\n",
    "        even_list.append(num)\n",
    "        num=num+1\n",
    "    else:\n",
    "        odd_list.append(num)\n",
    "        num=num+1"
   ]
  },
  {
   "cell_type": "code",
   "execution_count": 19,
   "id": "70e418b7",
   "metadata": {},
   "outputs": [
    {
     "data": {
      "text/plain": [
       "[2,\n",
       " 4,\n",
       " 6,\n",
       " 8,\n",
       " 10,\n",
       " 12,\n",
       " 14,\n",
       " 16,\n",
       " 18,\n",
       " 20,\n",
       " 22,\n",
       " 24,\n",
       " 26,\n",
       " 28,\n",
       " 30,\n",
       " 32,\n",
       " 34,\n",
       " 36,\n",
       " 38,\n",
       " 40,\n",
       " 42,\n",
       " 44,\n",
       " 46,\n",
       " 48,\n",
       " 50,\n",
       " 52,\n",
       " 54,\n",
       " 56,\n",
       " 58,\n",
       " 60,\n",
       " 62,\n",
       " 64,\n",
       " 66,\n",
       " 68,\n",
       " 70,\n",
       " 72,\n",
       " 74,\n",
       " 76,\n",
       " 78,\n",
       " 80,\n",
       " 82,\n",
       " 84,\n",
       " 86,\n",
       " 88,\n",
       " 90,\n",
       " 92,\n",
       " 94,\n",
       " 96,\n",
       " 98,\n",
       " 100]"
      ]
     },
     "execution_count": 19,
     "metadata": {},
     "output_type": "execute_result"
    }
   ],
   "source": [
    "even_list"
   ]
  },
  {
   "cell_type": "code",
   "execution_count": 20,
   "id": "816fba56",
   "metadata": {},
   "outputs": [
    {
     "data": {
      "text/plain": [
       "[1,\n",
       " 3,\n",
       " 5,\n",
       " 7,\n",
       " 9,\n",
       " 11,\n",
       " 13,\n",
       " 15,\n",
       " 17,\n",
       " 19,\n",
       " 21,\n",
       " 23,\n",
       " 25,\n",
       " 27,\n",
       " 29,\n",
       " 31,\n",
       " 33,\n",
       " 35,\n",
       " 37,\n",
       " 39,\n",
       " 41,\n",
       " 43,\n",
       " 45,\n",
       " 47,\n",
       " 49,\n",
       " 51,\n",
       " 53,\n",
       " 55,\n",
       " 57,\n",
       " 59,\n",
       " 61,\n",
       " 63,\n",
       " 65,\n",
       " 67,\n",
       " 69,\n",
       " 71,\n",
       " 73,\n",
       " 75,\n",
       " 77,\n",
       " 79,\n",
       " 81,\n",
       " 83,\n",
       " 85,\n",
       " 87,\n",
       " 89,\n",
       " 91,\n",
       " 93,\n",
       " 95,\n",
       " 97,\n",
       " 99]"
      ]
     },
     "execution_count": 20,
     "metadata": {},
     "output_type": "execute_result"
    }
   ],
   "source": [
    "odd_list"
   ]
  },
  {
   "cell_type": "markdown",
   "id": "08ed6568",
   "metadata": {},
   "source": [
    "### Create a function that takes an email address and returns the name in\n",
    "the address.\n",
    "### • The \"name\" is the letters/alphabetical characters before the @ in the address.\n",
    "### •The \"name\" will not always be an actual name.\n",
    "### • Email addresses will end in something like @domain.com\n",
    "\n",
    "* Examples\n",
    "\n",
    "\n",
    "* get_name(\"yourname@example.com\") ➞ \"yourname\"\n",
    "\n",
    "* get_name(\"john64@gmail.com\") ➞ \"john\"\n",
    "\n",
    "* get_name(\"pamela78_Cole@hotmail.com\") ➞ \"pamelaCole\"\n",
    "\n",
    "\n",
    "* get_name(\"Chickenlololol29@yahoo.com\") ➞ \"Chickenlololol\""
   ]
  },
  {
   "cell_type": "code",
   "execution_count": null,
   "id": "7998f2ad",
   "metadata": {},
   "outputs": [],
   "source": []
  },
  {
   "cell_type": "code",
   "execution_count": 1,
   "id": "d59c1bc4",
   "metadata": {},
   "outputs": [],
   "source": [
    "data = 'yourname@example.com'"
   ]
  },
  {
   "cell_type": "code",
   "execution_count": 2,
   "id": "130c8ba8",
   "metadata": {},
   "outputs": [
    {
     "data": {
      "text/plain": [
       "'yourname@example.com'"
      ]
     },
     "execution_count": 2,
     "metadata": {},
     "output_type": "execute_result"
    }
   ],
   "source": [
    "data"
   ]
  },
  {
   "cell_type": "code",
   "execution_count": 3,
   "id": "9ed7b32e",
   "metadata": {},
   "outputs": [],
   "source": [
    "res = data.split('@')"
   ]
  },
  {
   "cell_type": "code",
   "execution_count": 4,
   "id": "bdc37aab",
   "metadata": {},
   "outputs": [
    {
     "data": {
      "text/plain": [
       "['yourname', 'example.com']"
      ]
     },
     "execution_count": 4,
     "metadata": {},
     "output_type": "execute_result"
    }
   ],
   "source": [
    "res"
   ]
  },
  {
   "cell_type": "code",
   "execution_count": 5,
   "id": "9a5a7435",
   "metadata": {},
   "outputs": [
    {
     "data": {
      "text/plain": [
       "'yourname'"
      ]
     },
     "execution_count": 5,
     "metadata": {},
     "output_type": "execute_result"
    }
   ],
   "source": [
    "res[0]"
   ]
  },
  {
   "cell_type": "code",
   "execution_count": 6,
   "id": "e882911e",
   "metadata": {},
   "outputs": [],
   "source": [
    "data = 'pamela78_Cole@hotmail.com'"
   ]
  },
  {
   "cell_type": "code",
   "execution_count": 7,
   "id": "50b5e310",
   "metadata": {},
   "outputs": [],
   "source": [
    "res = data.split('@')[0]"
   ]
  },
  {
   "cell_type": "code",
   "execution_count": 8,
   "id": "8714b2f1",
   "metadata": {},
   "outputs": [
    {
     "data": {
      "text/plain": [
       "'pamela78_Cole'"
      ]
     },
     "execution_count": 8,
     "metadata": {},
     "output_type": "execute_result"
    }
   ],
   "source": [
    "res"
   ]
  },
  {
   "cell_type": "code",
   "execution_count": 9,
   "id": "040491ff",
   "metadata": {},
   "outputs": [
    {
     "name": "stdout",
     "output_type": "stream",
     "text": [
      "pamelaCole\n"
     ]
    }
   ],
   "source": [
    "data = 'pamela78_Cole@hotmail.com'\n",
    "res = data.split('@')[0]\n",
    "final = ''\n",
    "for item in res:\n",
    "    if item.isalpha():\n",
    "        final = final+item\n",
    "print(final)"
   ]
  },
  {
   "cell_type": "code",
   "execution_count": null,
   "id": "83d9315d",
   "metadata": {},
   "outputs": [],
   "source": []
  },
  {
   "cell_type": "code",
   "execution_count": 10,
   "id": "adb1ca79",
   "metadata": {},
   "outputs": [
    {
     "name": "stdout",
     "output_type": "stream",
     "text": [
      "1\n",
      "2\n",
      "3\n",
      "4\n",
      "5\n",
      "6\n",
      "7\n",
      "8\n",
      "9\n",
      "10\n",
      "11\n",
      "12\n",
      "13\n",
      "14\n"
     ]
    }
   ],
   "source": [
    "for item in range(1,21):\n",
    "    if item == 15:\n",
    "        break\n",
    "    else:\n",
    "        print(item)"
   ]
  },
  {
   "cell_type": "code",
   "execution_count": 11,
   "id": "5dcfec41",
   "metadata": {},
   "outputs": [
    {
     "name": "stdout",
     "output_type": "stream",
     "text": [
      "10\n",
      "9\n",
      "8\n",
      "7\n",
      "6\n"
     ]
    }
   ],
   "source": [
    "num = 10\n",
    "while (num>0):\n",
    "    if num == 5:\n",
    "        break\n",
    "    else:\n",
    "        print(num)\n",
    "        num=num-1"
   ]
  },
  {
   "cell_type": "code",
   "execution_count": 12,
   "id": "0186b207",
   "metadata": {},
   "outputs": [],
   "source": [
    "hobbies = ['cricket','swimming','cooking','travelling','skating']"
   ]
  },
  {
   "cell_type": "code",
   "execution_count": 13,
   "id": "4cc11bfd",
   "metadata": {},
   "outputs": [
    {
     "name": "stdout",
     "output_type": "stream",
     "text": [
      "cricket\n",
      "swimming\n"
     ]
    }
   ],
   "source": [
    "for item in hobbies:\n",
    "    if item == 'cooking':\n",
    "        break\n",
    "    else:\n",
    "        print(item)"
   ]
  },
  {
   "cell_type": "code",
   "execution_count": 15,
   "id": "dafc76c2",
   "metadata": {},
   "outputs": [
    {
     "name": "stdout",
     "output_type": "stream",
     "text": [
      "1\n",
      "2\n",
      "3\n",
      "4\n",
      "I will be sent back to the loop with value 5\n",
      "6\n",
      "7\n",
      "8\n",
      "9\n",
      "10\n"
     ]
    }
   ],
   "source": [
    "for num in range(1,11):\n",
    "    if num == 5:\n",
    "        print(f'I will be sent back to the loop with value {num}')\n",
    "        continue\n",
    "    else:\n",
    "        print(num)"
   ]
  },
  {
   "cell_type": "code",
   "execution_count": 16,
   "id": "bdd73ba3",
   "metadata": {},
   "outputs": [],
   "source": [
    "lst = ['raj','rahul','punit','steve','henry']"
   ]
  },
  {
   "cell_type": "code",
   "execution_count": 17,
   "id": "2a6ddf5c",
   "metadata": {},
   "outputs": [
    {
     "name": "stdout",
     "output_type": "stream",
     "text": [
      "raj\n",
      "rahul\n",
      "steve\n",
      "henry\n"
     ]
    }
   ],
   "source": [
    "for item in lst:\n",
    "    if item == 'punit':\n",
    "        continue\n",
    "    else:\n",
    "        print(item)"
   ]
  },
  {
   "cell_type": "code",
   "execution_count": 21,
   "id": "7fac142d",
   "metadata": {},
   "outputs": [
    {
     "data": {
      "text/plain": [
       "5"
      ]
     },
     "execution_count": 21,
     "metadata": {},
     "output_type": "execute_result"
    }
   ],
   "source": [
    "len(lst)"
   ]
  },
  {
   "cell_type": "code",
   "execution_count": 22,
   "id": "c94c40e2",
   "metadata": {},
   "outputs": [
    {
     "data": {
      "text/plain": [
       "['raj', 'rahul', 'punit', 'steve', 'henry']"
      ]
     },
     "execution_count": 22,
     "metadata": {},
     "output_type": "execute_result"
    }
   ],
   "source": [
    "lst"
   ]
  },
  {
   "cell_type": "code",
   "execution_count": 23,
   "id": "b643e877",
   "metadata": {},
   "outputs": [
    {
     "name": "stdout",
     "output_type": "stream",
     "text": [
      "raj\n",
      "rahul\n",
      "steve\n",
      "henry\n"
     ]
    }
   ],
   "source": [
    "index = 0\n",
    "while(index < len(lst)):\n",
    "    if lst[index] == 'punit':\n",
    "        index = index+1\n",
    "        continue\n",
    "    else:\n",
    "        print(lst[index])\n",
    "        index=index+1"
   ]
  },
  {
   "cell_type": "code",
   "execution_count": null,
   "id": "2425d913",
   "metadata": {},
   "outputs": [],
   "source": []
  },
  {
   "cell_type": "markdown",
   "id": "33d3ac60",
   "metadata": {},
   "source": [
    "* List Comprehension"
   ]
  },
  {
   "cell_type": "markdown",
   "id": "935458b4",
   "metadata": {},
   "source": [
    "[expression loop condition]\n",
    "\n",
    "[num for num in range(1,20)]"
   ]
  },
  {
   "cell_type": "code",
   "execution_count": null,
   "id": "a52239bc",
   "metadata": {},
   "outputs": [],
   "source": []
  },
  {
   "cell_type": "code",
   "execution_count": 24,
   "id": "33eaa7f7",
   "metadata": {},
   "outputs": [
    {
     "name": "stdout",
     "output_type": "stream",
     "text": [
      "[1, 2, 3, 4, 5, 6, 7, 8, 9, 10, 11, 12, 13, 14, 15, 16, 17, 18, 19, 20]\n"
     ]
    }
   ],
   "source": [
    "lst = []\n",
    "for num in range(1,21):\n",
    "    lst.append(num)\n",
    "print(lst)"
   ]
  },
  {
   "cell_type": "code",
   "execution_count": null,
   "id": "94853535",
   "metadata": {},
   "outputs": [],
   "source": []
  },
  {
   "cell_type": "code",
   "execution_count": 25,
   "id": "13c09679",
   "metadata": {},
   "outputs": [],
   "source": [
    "mylst = [num for num in range(1,21)]"
   ]
  },
  {
   "cell_type": "code",
   "execution_count": 26,
   "id": "b5f08805",
   "metadata": {},
   "outputs": [
    {
     "data": {
      "text/plain": [
       "[1, 2, 3, 4, 5, 6, 7, 8, 9, 10, 11, 12, 13, 14, 15, 16, 17, 18, 19, 20]"
      ]
     },
     "execution_count": 26,
     "metadata": {},
     "output_type": "execute_result"
    }
   ],
   "source": [
    "mylst"
   ]
  },
  {
   "cell_type": "code",
   "execution_count": null,
   "id": "7ce92195",
   "metadata": {},
   "outputs": [],
   "source": []
  },
  {
   "cell_type": "code",
   "execution_count": 27,
   "id": "67c811be",
   "metadata": {},
   "outputs": [],
   "source": [
    "cube = [val**3 for val in range(1,21)]"
   ]
  },
  {
   "cell_type": "code",
   "execution_count": 28,
   "id": "f74d7569",
   "metadata": {},
   "outputs": [
    {
     "data": {
      "text/plain": [
       "[1,\n",
       " 8,\n",
       " 27,\n",
       " 64,\n",
       " 125,\n",
       " 216,\n",
       " 343,\n",
       " 512,\n",
       " 729,\n",
       " 1000,\n",
       " 1331,\n",
       " 1728,\n",
       " 2197,\n",
       " 2744,\n",
       " 3375,\n",
       " 4096,\n",
       " 4913,\n",
       " 5832,\n",
       " 6859,\n",
       " 8000]"
      ]
     },
     "execution_count": 28,
     "metadata": {},
     "output_type": "execute_result"
    }
   ],
   "source": [
    "cube"
   ]
  },
  {
   "cell_type": "code",
   "execution_count": 29,
   "id": "18ad0040",
   "metadata": {},
   "outputs": [],
   "source": [
    "odd_list  = [num for num in range(1,51) if num % 2 !=0]"
   ]
  },
  {
   "cell_type": "code",
   "execution_count": 30,
   "id": "458d837d",
   "metadata": {},
   "outputs": [
    {
     "data": {
      "text/plain": [
       "[1,\n",
       " 3,\n",
       " 5,\n",
       " 7,\n",
       " 9,\n",
       " 11,\n",
       " 13,\n",
       " 15,\n",
       " 17,\n",
       " 19,\n",
       " 21,\n",
       " 23,\n",
       " 25,\n",
       " 27,\n",
       " 29,\n",
       " 31,\n",
       " 33,\n",
       " 35,\n",
       " 37,\n",
       " 39,\n",
       " 41,\n",
       " 43,\n",
       " 45,\n",
       " 47,\n",
       " 49]"
      ]
     },
     "execution_count": 30,
     "metadata": {},
     "output_type": "execute_result"
    }
   ],
   "source": [
    "odd_list"
   ]
  },
  {
   "cell_type": "code",
   "execution_count": 31,
   "id": "c5c4da19",
   "metadata": {},
   "outputs": [],
   "source": [
    "lst = ['the','quick','brown','fox','is','jumping','over','the','lazy','dog']"
   ]
  },
  {
   "cell_type": "code",
   "execution_count": 33,
   "id": "e144cc28",
   "metadata": {},
   "outputs": [
    {
     "data": {
      "text/plain": [
       "[3, 5, 5, 3, 2, 7, 4, 3, 4, 3]"
      ]
     },
     "execution_count": 33,
     "metadata": {},
     "output_type": "execute_result"
    }
   ],
   "source": [
    "[len(item) for item in lst]"
   ]
  },
  {
   "cell_type": "code",
   "execution_count": null,
   "id": "189b9a96",
   "metadata": {},
   "outputs": [],
   "source": []
  },
  {
   "cell_type": "code",
   "execution_count": 36,
   "id": "5af6e0ec",
   "metadata": {},
   "outputs": [
    {
     "data": {
      "text/plain": [
       "['odd',\n",
       " 'even',\n",
       " 'odd',\n",
       " 'even',\n",
       " 'odd',\n",
       " 'even',\n",
       " 'odd',\n",
       " 'even',\n",
       " 'odd',\n",
       " 'even',\n",
       " 'odd',\n",
       " 'even',\n",
       " 'odd',\n",
       " 'even',\n",
       " 'odd',\n",
       " 'even',\n",
       " 'odd',\n",
       " 'even',\n",
       " 'odd',\n",
       " 'even',\n",
       " 'odd',\n",
       " 'even',\n",
       " 'odd',\n",
       " 'even',\n",
       " 'odd',\n",
       " 'even',\n",
       " 'odd',\n",
       " 'even',\n",
       " 'odd',\n",
       " 'even',\n",
       " 'odd',\n",
       " 'even',\n",
       " 'odd',\n",
       " 'even',\n",
       " 'odd',\n",
       " 'even',\n",
       " 'odd',\n",
       " 'even',\n",
       " 'odd',\n",
       " 'even',\n",
       " 'odd',\n",
       " 'even',\n",
       " 'odd',\n",
       " 'even',\n",
       " 'odd',\n",
       " 'even',\n",
       " 'odd',\n",
       " 'even',\n",
       " 'odd',\n",
       " 'even']"
      ]
     },
     "execution_count": 36,
     "metadata": {},
     "output_type": "execute_result"
    }
   ],
   "source": [
    "[\"even\" if num%2 == 0 else \"odd\" for num in range(1,51)]"
   ]
  },
  {
   "cell_type": "code",
   "execution_count": null,
   "id": "28e20318",
   "metadata": {},
   "outputs": [],
   "source": []
  },
  {
   "cell_type": "code",
   "execution_count": 38,
   "id": "c60e2a22",
   "metadata": {},
   "outputs": [],
   "source": [
    "square = {num:num**2 for num in range(1,16)}"
   ]
  },
  {
   "cell_type": "code",
   "execution_count": 39,
   "id": "1823e06a",
   "metadata": {},
   "outputs": [
    {
     "data": {
      "text/plain": [
       "{1: 1,\n",
       " 2: 4,\n",
       " 3: 9,\n",
       " 4: 16,\n",
       " 5: 25,\n",
       " 6: 36,\n",
       " 7: 49,\n",
       " 8: 64,\n",
       " 9: 81,\n",
       " 10: 100,\n",
       " 11: 121,\n",
       " 12: 144,\n",
       " 13: 169,\n",
       " 14: 196,\n",
       " 15: 225}"
      ]
     },
     "execution_count": 39,
     "metadata": {},
     "output_type": "execute_result"
    }
   ],
   "source": [
    "square"
   ]
  },
  {
   "cell_type": "code",
   "execution_count": 41,
   "id": "c0fb884b",
   "metadata": {},
   "outputs": [],
   "source": [
    "data = {item:len(item) for item in lst}"
   ]
  },
  {
   "cell_type": "code",
   "execution_count": 42,
   "id": "f050c8ee",
   "metadata": {},
   "outputs": [
    {
     "data": {
      "text/plain": [
       "{'the': 3,\n",
       " 'quick': 5,\n",
       " 'brown': 5,\n",
       " 'fox': 3,\n",
       " 'is': 2,\n",
       " 'jumping': 7,\n",
       " 'over': 4,\n",
       " 'lazy': 4,\n",
       " 'dog': 3}"
      ]
     },
     "execution_count": 42,
     "metadata": {},
     "output_type": "execute_result"
    }
   ],
   "source": [
    "data"
   ]
  },
  {
   "cell_type": "code",
   "execution_count": null,
   "id": "0b9cef91",
   "metadata": {},
   "outputs": [],
   "source": []
  },
  {
   "cell_type": "markdown",
   "id": "fad6cb8a",
   "metadata": {},
   "source": [
    "### Create a function that takes a number as an argument and\n",
    "### returns \"Fizz\" , \"Buzz\" or \"FizzBuzz\" .\n",
    "\n",
    "\n",
    "• If the number is a multiple of 3 the output should be \"Fizz\" .\n",
    "• If the number given is a multiple of 5, the output should be \"Buzz\" .\n",
    "• If the number given is a multiple of both 3 and 5, the output should\n",
    "be \"FizzBuzz\" .\n",
    "\n",
    "\n",
    "•If the number is not a multiple of either 3 or 5, the number should be\n",
    "output on its own as shown in the examples below.•The output should always be a string even if it is not a multiple of 3\n",
    "or 5.\n",
    "\n",
    "\n",
    "Examples\n",
    "fizz_buzz(3) ➞ \"Fizz\"\n",
    "\n",
    "fizz_buzz(5) ➞ \"Buzz\"\n",
    "\n",
    "fizz_buzz(15) ➞ \"FizzBuzz\"\n",
    "\n",
    "fizz_buzz(4) ➞ \"4\""
   ]
  },
  {
   "cell_type": "code",
   "execution_count": null,
   "id": "9614b9c6",
   "metadata": {},
   "outputs": [],
   "source": []
  }
 ],
 "metadata": {
  "kernelspec": {
   "display_name": "Python 3 (ipykernel)",
   "language": "python",
   "name": "python3"
  },
  "language_info": {
   "codemirror_mode": {
    "name": "ipython",
    "version": 3
   },
   "file_extension": ".py",
   "mimetype": "text/x-python",
   "name": "python",
   "nbconvert_exporter": "python",
   "pygments_lexer": "ipython3",
   "version": "3.8.8"
  }
 },
 "nbformat": 4,
 "nbformat_minor": 5
}
