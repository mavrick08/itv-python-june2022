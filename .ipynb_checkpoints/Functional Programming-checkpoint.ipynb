{
 "cells": [
  {
   "cell_type": "markdown",
   "id": "f551e894",
   "metadata": {},
   "source": [
    "## Functions in Python\n",
    "\n",
    "\n",
    "* A function is a block of code which only runs when it is called.\n",
    "\n",
    "* You can pass data, known as parameter, into a function and can return data as a result.\n",
    "\n",
    "* In Python a function is defined using the keyword **def** , to call a function we need to use the     function name followed by parenthesis.\n",
    "\n",
    "\n",
    "* Parameter : A parameter is the variable listed inside the parenthesis when the function is       defined\n",
    "\n",
    "* Argument : An argument is a value that is sent to the function when it is called.\n",
    "\n",
    "\n",
    "* Varaibles Type in Functions:\n",
    "\n",
    "  1) Local Variable : Any Variable that is defined inside the function body is called as local        variable"
   ]
  },
  {
   "cell_type": "code",
   "execution_count": 1,
   "id": "469527dd",
   "metadata": {},
   "outputs": [],
   "source": [
    "def greet():\n",
    "    #this is function body\n",
    "    print(\"Welcome to Function Session in Python\")"
   ]
  },
  {
   "cell_type": "code",
   "execution_count": 2,
   "id": "7ccc716a",
   "metadata": {},
   "outputs": [
    {
     "name": "stdout",
     "output_type": "stream",
     "text": [
      "Welcome to Function Session in Python\n"
     ]
    }
   ],
   "source": [
    "greet()   #calling the function"
   ]
  },
  {
   "cell_type": "code",
   "execution_count": 4,
   "id": "46d25ed4",
   "metadata": {},
   "outputs": [
    {
     "name": "stdout",
     "output_type": "stream",
     "text": [
      "Welcome to Function Session in Python\n",
      "None\n"
     ]
    }
   ],
   "source": [
    "print(greet()) #printing the function call."
   ]
  },
  {
   "cell_type": "code",
   "execution_count": 5,
   "id": "f97c02c2",
   "metadata": {},
   "outputs": [],
   "source": [
    "def greet1():\n",
    "    return \"Hello Welcome\""
   ]
  },
  {
   "cell_type": "code",
   "execution_count": 6,
   "id": "b13b544d",
   "metadata": {},
   "outputs": [
    {
     "data": {
      "text/plain": [
       "'Hello Welcome'"
      ]
     },
     "execution_count": 6,
     "metadata": {},
     "output_type": "execute_result"
    }
   ],
   "source": [
    "greet1()"
   ]
  },
  {
   "cell_type": "code",
   "execution_count": 7,
   "id": "51ef56d0",
   "metadata": {},
   "outputs": [
    {
     "name": "stdout",
     "output_type": "stream",
     "text": [
      "Hello Welcome\n"
     ]
    }
   ],
   "source": [
    "print(greet1())"
   ]
  },
  {
   "cell_type": "code",
   "execution_count": null,
   "id": "7c6468aa",
   "metadata": {},
   "outputs": [],
   "source": []
  },
  {
   "cell_type": "code",
   "execution_count": 8,
   "id": "14b98f23",
   "metadata": {},
   "outputs": [],
   "source": [
    "def my_func():\n",
    "    name = \"good coder\"\n",
    "    age = 33\n",
    "    print(f\"Your Name is {name} and your age is {age}\")"
   ]
  },
  {
   "cell_type": "code",
   "execution_count": 11,
   "id": "a9982afb",
   "metadata": {},
   "outputs": [
    {
     "name": "stdout",
     "output_type": "stream",
     "text": [
      "Your Name is good coder and your age is 33\n"
     ]
    }
   ],
   "source": [
    "res = my_func()"
   ]
  },
  {
   "cell_type": "code",
   "execution_count": 12,
   "id": "a1872eee",
   "metadata": {},
   "outputs": [
    {
     "name": "stdout",
     "output_type": "stream",
     "text": [
      "None\n"
     ]
    }
   ],
   "source": [
    "print(res)"
   ]
  },
  {
   "cell_type": "code",
   "execution_count": null,
   "id": "d7e1adc1",
   "metadata": {},
   "outputs": [],
   "source": []
  },
  {
   "cell_type": "code",
   "execution_count": 13,
   "id": "df035264",
   "metadata": {},
   "outputs": [],
   "source": [
    "def my_func1():\n",
    "    course=\"python\"\n",
    "    duration=3\n",
    "    return (f'Course Name is {course} and duration is {duration}')"
   ]
  },
  {
   "cell_type": "code",
   "execution_count": 14,
   "id": "50cbe53a",
   "metadata": {},
   "outputs": [
    {
     "data": {
      "text/plain": [
       "'Course Name is python and duration is 3'"
      ]
     },
     "execution_count": 14,
     "metadata": {},
     "output_type": "execute_result"
    }
   ],
   "source": [
    "my_func1()"
   ]
  },
  {
   "cell_type": "code",
   "execution_count": 15,
   "id": "8d3740f0",
   "metadata": {},
   "outputs": [],
   "source": [
    "res1 = my_func1()"
   ]
  },
  {
   "cell_type": "code",
   "execution_count": 16,
   "id": "1660d9c3",
   "metadata": {},
   "outputs": [
    {
     "data": {
      "text/plain": [
       "'Course Name is python and duration is 3'"
      ]
     },
     "execution_count": 16,
     "metadata": {},
     "output_type": "execute_result"
    }
   ],
   "source": [
    "res1"
   ]
  },
  {
   "cell_type": "code",
   "execution_count": null,
   "id": "3f77b8a8",
   "metadata": {},
   "outputs": [],
   "source": []
  },
  {
   "cell_type": "code",
   "execution_count": 17,
   "id": "54ddf88a",
   "metadata": {},
   "outputs": [],
   "source": [
    "def info(name,age):\n",
    "    print(\"Name is\",name)\n",
    "    print(\"Age is\",age)"
   ]
  },
  {
   "cell_type": "code",
   "execution_count": 19,
   "id": "37e2058a",
   "metadata": {},
   "outputs": [
    {
     "name": "stdout",
     "output_type": "stream",
     "text": [
      "Name is alpha\n",
      "Age is 23\n"
     ]
    }
   ],
   "source": [
    "info(\"alpha\",23)"
   ]
  },
  {
   "cell_type": "code",
   "execution_count": 20,
   "id": "8ac5d94a",
   "metadata": {},
   "outputs": [
    {
     "name": "stdout",
     "output_type": "stream",
     "text": [
      "Name is test\n",
      "Age is 21\n"
     ]
    }
   ],
   "source": [
    "info(\"test\",21)"
   ]
  },
  {
   "cell_type": "code",
   "execution_count": 21,
   "id": "bd54b493",
   "metadata": {},
   "outputs": [
    {
     "name": "stdout",
     "output_type": "stream",
     "text": [
      "Name is 23\n",
      "Age is beta\n"
     ]
    }
   ],
   "source": [
    "info(23,\"beta\")"
   ]
  },
  {
   "cell_type": "code",
   "execution_count": 22,
   "id": "6a1c9e1d",
   "metadata": {},
   "outputs": [
    {
     "name": "stdout",
     "output_type": "stream",
     "text": [
      "Name is beta\n",
      "Age is 23\n"
     ]
    }
   ],
   "source": [
    "info(age=23,name=\"beta\")"
   ]
  },
  {
   "cell_type": "code",
   "execution_count": null,
   "id": "143acb91",
   "metadata": {},
   "outputs": [],
   "source": []
  },
  {
   "cell_type": "code",
   "execution_count": 23,
   "id": "d131fd8f",
   "metadata": {},
   "outputs": [],
   "source": [
    "def info(name,age):\n",
    "    return f'Name is {name} Age is {age}'"
   ]
  },
  {
   "cell_type": "code",
   "execution_count": 24,
   "id": "32d265f3",
   "metadata": {},
   "outputs": [
    {
     "data": {
      "text/plain": [
       "'Name is beta Age is 23'"
      ]
     },
     "execution_count": 24,
     "metadata": {},
     "output_type": "execute_result"
    }
   ],
   "source": [
    "info(age=23,name=\"beta\")"
   ]
  },
  {
   "cell_type": "code",
   "execution_count": 25,
   "id": "b034bbf4",
   "metadata": {},
   "outputs": [
    {
     "name": "stdout",
     "output_type": "stream",
     "text": [
      "Name is beta Age is 23\n"
     ]
    }
   ],
   "source": [
    "print(info(age=23,name=\"beta\"))"
   ]
  },
  {
   "cell_type": "code",
   "execution_count": null,
   "id": "5fe277bc",
   "metadata": {},
   "outputs": [],
   "source": []
  }
 ],
 "metadata": {
  "kernelspec": {
   "display_name": "Python 3 (ipykernel)",
   "language": "python",
   "name": "python3"
  },
  "language_info": {
   "codemirror_mode": {
    "name": "ipython",
    "version": 3
   },
   "file_extension": ".py",
   "mimetype": "text/x-python",
   "name": "python",
   "nbconvert_exporter": "python",
   "pygments_lexer": "ipython3",
   "version": "3.9.7"
  }
 },
 "nbformat": 4,
 "nbformat_minor": 5
}
