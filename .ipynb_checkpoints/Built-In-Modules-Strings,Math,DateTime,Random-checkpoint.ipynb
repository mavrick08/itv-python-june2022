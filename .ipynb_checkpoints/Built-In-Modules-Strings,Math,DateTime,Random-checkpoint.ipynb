{
 "cells": [
  {
   "cell_type": "code",
   "execution_count": 2,
   "id": "bb8cfa2d",
   "metadata": {},
   "outputs": [],
   "source": [
    "import string"
   ]
  },
  {
   "cell_type": "code",
   "execution_count": 5,
   "id": "0b0cf339",
   "metadata": {},
   "outputs": [],
   "source": [
    "punctuation = string.punctuation"
   ]
  },
  {
   "cell_type": "code",
   "execution_count": 6,
   "id": "879fc8ba",
   "metadata": {},
   "outputs": [
    {
     "data": {
      "text/plain": [
       "'!\"#$%&\\'()*+,-./:;<=>?@[\\\\]^_`{|}~'"
      ]
     },
     "execution_count": 6,
     "metadata": {},
     "output_type": "execute_result"
    }
   ],
   "source": [
    "punctuation"
   ]
  },
  {
   "cell_type": "code",
   "execution_count": null,
   "id": "5a6d00a4",
   "metadata": {},
   "outputs": [],
   "source": []
  },
  {
   "cell_type": "code",
   "execution_count": 7,
   "id": "94e0f57c",
   "metadata": {},
   "outputs": [
    {
     "data": {
      "text/plain": [
       "'abcdefghijklmnopqrstuvwxyz'"
      ]
     },
     "execution_count": 7,
     "metadata": {},
     "output_type": "execute_result"
    }
   ],
   "source": [
    "string.ascii_lowercase"
   ]
  },
  {
   "cell_type": "code",
   "execution_count": 8,
   "id": "4be10912",
   "metadata": {},
   "outputs": [
    {
     "data": {
      "text/plain": [
       "'ABCDEFGHIJKLMNOPQRSTUVWXYZ'"
      ]
     },
     "execution_count": 8,
     "metadata": {},
     "output_type": "execute_result"
    }
   ],
   "source": [
    "string.ascii_uppercase"
   ]
  },
  {
   "cell_type": "code",
   "execution_count": 9,
   "id": "39be7040",
   "metadata": {},
   "outputs": [
    {
     "data": {
      "text/plain": [
       "'0123456789'"
      ]
     },
     "execution_count": 9,
     "metadata": {},
     "output_type": "execute_result"
    }
   ],
   "source": [
    "string.digits"
   ]
  },
  {
   "cell_type": "code",
   "execution_count": 10,
   "id": "1394dacb",
   "metadata": {},
   "outputs": [
    {
     "data": {
      "text/plain": [
       "' \\t\\n\\r\\x0b\\x0c'"
      ]
     },
     "execution_count": 10,
     "metadata": {},
     "output_type": "execute_result"
    }
   ],
   "source": [
    "string.whitespace"
   ]
  },
  {
   "cell_type": "code",
   "execution_count": 11,
   "id": "cc52f714",
   "metadata": {},
   "outputs": [
    {
     "data": {
      "text/plain": [
       "'0123456789abcdefABCDEF'"
      ]
     },
     "execution_count": 11,
     "metadata": {},
     "output_type": "execute_result"
    }
   ],
   "source": [
    "string.hexdigits"
   ]
  },
  {
   "cell_type": "code",
   "execution_count": null,
   "id": "f3d2f139",
   "metadata": {},
   "outputs": [],
   "source": []
  },
  {
   "cell_type": "code",
   "execution_count": 12,
   "id": "3a21aa69",
   "metadata": {},
   "outputs": [],
   "source": [
    "import math"
   ]
  },
  {
   "cell_type": "code",
   "execution_count": 13,
   "id": "63fbd5d4",
   "metadata": {},
   "outputs": [
    {
     "data": {
      "text/plain": [
       "1.7320508075688772"
      ]
     },
     "execution_count": 13,
     "metadata": {},
     "output_type": "execute_result"
    }
   ],
   "source": [
    "math.sqrt(3)"
   ]
  },
  {
   "cell_type": "code",
   "execution_count": 14,
   "id": "6055edc2",
   "metadata": {},
   "outputs": [
    {
     "data": {
      "text/plain": [
       "27.0"
      ]
     },
     "execution_count": 14,
     "metadata": {},
     "output_type": "execute_result"
    }
   ],
   "source": [
    "math.pow(3,3)"
   ]
  },
  {
   "cell_type": "code",
   "execution_count": 15,
   "id": "7c6421e1",
   "metadata": {},
   "outputs": [
    {
     "data": {
      "text/plain": [
       "16.0"
      ]
     },
     "execution_count": 15,
     "metadata": {},
     "output_type": "execute_result"
    }
   ],
   "source": [
    "math.pow(2,4)"
   ]
  },
  {
   "cell_type": "code",
   "execution_count": 16,
   "id": "62812e47",
   "metadata": {},
   "outputs": [
    {
     "data": {
      "text/plain": [
       "24"
      ]
     },
     "execution_count": 16,
     "metadata": {},
     "output_type": "execute_result"
    }
   ],
   "source": [
    "math.factorial(4)"
   ]
  },
  {
   "cell_type": "code",
   "execution_count": 17,
   "id": "26de1eaa",
   "metadata": {},
   "outputs": [
    {
     "data": {
      "text/plain": [
       "2"
      ]
     },
     "execution_count": 17,
     "metadata": {},
     "output_type": "execute_result"
    }
   ],
   "source": [
    "math.ceil(1.4)"
   ]
  },
  {
   "cell_type": "code",
   "execution_count": 18,
   "id": "89030c58",
   "metadata": {},
   "outputs": [
    {
     "data": {
      "text/plain": [
       "2"
      ]
     },
     "execution_count": 18,
     "metadata": {},
     "output_type": "execute_result"
    }
   ],
   "source": [
    "math.ceil(1.1)"
   ]
  },
  {
   "cell_type": "code",
   "execution_count": 19,
   "id": "06519ac7",
   "metadata": {},
   "outputs": [
    {
     "data": {
      "text/plain": [
       "1"
      ]
     },
     "execution_count": 19,
     "metadata": {},
     "output_type": "execute_result"
    }
   ],
   "source": [
    "math.ceil(1.0)"
   ]
  },
  {
   "cell_type": "code",
   "execution_count": 20,
   "id": "495d58bf",
   "metadata": {},
   "outputs": [
    {
     "data": {
      "text/plain": [
       "2.302585092994046"
      ]
     },
     "execution_count": 20,
     "metadata": {},
     "output_type": "execute_result"
    }
   ],
   "source": [
    "math.log(10)"
   ]
  },
  {
   "cell_type": "code",
   "execution_count": 21,
   "id": "8707935d",
   "metadata": {},
   "outputs": [
    {
     "data": {
      "text/plain": [
       "1.0"
      ]
     },
     "execution_count": 21,
     "metadata": {},
     "output_type": "execute_result"
    }
   ],
   "source": [
    "math.remainder(9,2)"
   ]
  },
  {
   "cell_type": "code",
   "execution_count": 22,
   "id": "4caf4e67",
   "metadata": {},
   "outputs": [
    {
     "data": {
      "text/plain": [
       "1"
      ]
     },
     "execution_count": 22,
     "metadata": {},
     "output_type": "execute_result"
    }
   ],
   "source": [
    "9%2"
   ]
  },
  {
   "cell_type": "code",
   "execution_count": 25,
   "id": "276ed9e4",
   "metadata": {},
   "outputs": [
    {
     "data": {
      "text/plain": [
       "1.5707963267948966"
      ]
     },
     "execution_count": 25,
     "metadata": {},
     "output_type": "execute_result"
    }
   ],
   "source": [
    "math.pi/2"
   ]
  },
  {
   "cell_type": "code",
   "execution_count": 24,
   "id": "9e4ff0bf",
   "metadata": {},
   "outputs": [
    {
     "data": {
      "text/plain": [
       "-0.5440211108893698"
      ]
     },
     "execution_count": 24,
     "metadata": {},
     "output_type": "execute_result"
    }
   ],
   "source": [
    "math.sin(10)"
   ]
  },
  {
   "cell_type": "code",
   "execution_count": 26,
   "id": "9dd9ef93",
   "metadata": {},
   "outputs": [
    {
     "data": {
      "text/plain": [
       "1.0"
      ]
     },
     "execution_count": 26,
     "metadata": {},
     "output_type": "execute_result"
    }
   ],
   "source": [
    "math.sin(math.pi/2)"
   ]
  },
  {
   "cell_type": "code",
   "execution_count": 27,
   "id": "15436ad2",
   "metadata": {},
   "outputs": [
    {
     "data": {
      "text/plain": [
       "88"
      ]
     },
     "execution_count": 27,
     "metadata": {},
     "output_type": "execute_result"
    }
   ],
   "source": [
    "math.trunc(88.44)"
   ]
  },
  {
   "cell_type": "code",
   "execution_count": null,
   "id": "d2d26794",
   "metadata": {},
   "outputs": [],
   "source": []
  },
  {
   "cell_type": "code",
   "execution_count": 28,
   "id": "4fbee7bc",
   "metadata": {},
   "outputs": [],
   "source": [
    "import datetime"
   ]
  },
  {
   "cell_type": "code",
   "execution_count": 30,
   "id": "b6269801",
   "metadata": {},
   "outputs": [],
   "source": [
    "current_time = datetime.datetime.now()"
   ]
  },
  {
   "cell_type": "code",
   "execution_count": 31,
   "id": "60e4cc58",
   "metadata": {},
   "outputs": [
    {
     "name": "stdout",
     "output_type": "stream",
     "text": [
      "2022-08-04 09:16:39.814833\n"
     ]
    }
   ],
   "source": [
    "print(current_time)"
   ]
  },
  {
   "cell_type": "code",
   "execution_count": 39,
   "id": "080abec9",
   "metadata": {},
   "outputs": [],
   "source": [
    "myday = current_time.day"
   ]
  },
  {
   "cell_type": "code",
   "execution_count": 40,
   "id": "64bc4ec6",
   "metadata": {},
   "outputs": [],
   "source": [
    "mymonth = current_time.month"
   ]
  },
  {
   "cell_type": "code",
   "execution_count": 41,
   "id": "b95e0a91",
   "metadata": {},
   "outputs": [],
   "source": [
    "myyear = current_time.year"
   ]
  },
  {
   "cell_type": "code",
   "execution_count": 42,
   "id": "15949e56",
   "metadata": {},
   "outputs": [
    {
     "data": {
      "text/plain": [
       "4"
      ]
     },
     "execution_count": 42,
     "metadata": {},
     "output_type": "execute_result"
    }
   ],
   "source": [
    "myday"
   ]
  },
  {
   "cell_type": "code",
   "execution_count": 43,
   "id": "bcddd78b",
   "metadata": {},
   "outputs": [
    {
     "data": {
      "text/plain": [
       "8"
      ]
     },
     "execution_count": 43,
     "metadata": {},
     "output_type": "execute_result"
    }
   ],
   "source": [
    "mymonth"
   ]
  },
  {
   "cell_type": "code",
   "execution_count": 44,
   "id": "beaf8c4e",
   "metadata": {},
   "outputs": [
    {
     "data": {
      "text/plain": [
       "2022"
      ]
     },
     "execution_count": 44,
     "metadata": {},
     "output_type": "execute_result"
    }
   ],
   "source": [
    "myyear"
   ]
  },
  {
   "cell_type": "code",
   "execution_count": 45,
   "id": "140ad3a0",
   "metadata": {},
   "outputs": [
    {
     "data": {
      "text/plain": [
       "9"
      ]
     },
     "execution_count": 45,
     "metadata": {},
     "output_type": "execute_result"
    }
   ],
   "source": [
    "current_time.hour"
   ]
  },
  {
   "cell_type": "code",
   "execution_count": 46,
   "id": "09860c83",
   "metadata": {},
   "outputs": [
    {
     "data": {
      "text/plain": [
       "16"
      ]
     },
     "execution_count": 46,
     "metadata": {},
     "output_type": "execute_result"
    }
   ],
   "source": [
    "current_time.minute"
   ]
  },
  {
   "cell_type": "code",
   "execution_count": 47,
   "id": "c60f7fd5",
   "metadata": {},
   "outputs": [
    {
     "data": {
      "text/plain": [
       "39"
      ]
     },
     "execution_count": 47,
     "metadata": {},
     "output_type": "execute_result"
    }
   ],
   "source": [
    "current_time.second"
   ]
  },
  {
   "cell_type": "code",
   "execution_count": 48,
   "id": "6f49129f",
   "metadata": {},
   "outputs": [
    {
     "data": {
      "text/plain": [
       "814833"
      ]
     },
     "execution_count": 48,
     "metadata": {},
     "output_type": "execute_result"
    }
   ],
   "source": [
    "current_time.microsecond"
   ]
  },
  {
   "cell_type": "code",
   "execution_count": 49,
   "id": "293c0caf",
   "metadata": {},
   "outputs": [
    {
     "data": {
      "text/plain": [
       "datetime.datetime(2022, 8, 4, 9, 16, 39, 814833)"
      ]
     },
     "execution_count": 49,
     "metadata": {},
     "output_type": "execute_result"
    }
   ],
   "source": [
    "current_time"
   ]
  },
  {
   "cell_type": "code",
   "execution_count": null,
   "id": "b61b6da9",
   "metadata": {},
   "outputs": [],
   "source": []
  },
  {
   "cell_type": "code",
   "execution_count": null,
   "id": "c83cb873",
   "metadata": {},
   "outputs": [],
   "source": [
    "datetime.datetime."
   ]
  },
  {
   "cell_type": "code",
   "execution_count": 52,
   "id": "f056e7d7",
   "metadata": {},
   "outputs": [],
   "source": [
    "todays_date = datetime.date.today()"
   ]
  },
  {
   "cell_type": "code",
   "execution_count": 53,
   "id": "8298d6a8",
   "metadata": {},
   "outputs": [
    {
     "name": "stdout",
     "output_type": "stream",
     "text": [
      "2022-08-04\n"
     ]
    }
   ],
   "source": [
    "print(todays_date)"
   ]
  },
  {
   "cell_type": "code",
   "execution_count": 54,
   "id": "87fc9aeb",
   "metadata": {},
   "outputs": [
    {
     "data": {
      "text/plain": [
       "4"
      ]
     },
     "execution_count": 54,
     "metadata": {},
     "output_type": "execute_result"
    }
   ],
   "source": [
    "todays_date.day"
   ]
  },
  {
   "cell_type": "code",
   "execution_count": 55,
   "id": "faef316d",
   "metadata": {},
   "outputs": [
    {
     "data": {
      "text/plain": [
       "8"
      ]
     },
     "execution_count": 55,
     "metadata": {},
     "output_type": "execute_result"
    }
   ],
   "source": [
    "todays_date.month"
   ]
  },
  {
   "cell_type": "code",
   "execution_count": 56,
   "id": "28b928d1",
   "metadata": {},
   "outputs": [
    {
     "data": {
      "text/plain": [
       "2022"
      ]
     },
     "execution_count": 56,
     "metadata": {},
     "output_type": "execute_result"
    }
   ],
   "source": [
    "todays_date.year"
   ]
  },
  {
   "cell_type": "code",
   "execution_count": null,
   "id": "307e0bf9",
   "metadata": {},
   "outputs": [],
   "source": []
  },
  {
   "cell_type": "code",
   "execution_count": 57,
   "id": "7b17f3bd",
   "metadata": {},
   "outputs": [],
   "source": [
    "from datetime import time"
   ]
  },
  {
   "cell_type": "code",
   "execution_count": 60,
   "id": "473bdbed",
   "metadata": {},
   "outputs": [],
   "source": [
    "current = time(11,15,3)"
   ]
  },
  {
   "cell_type": "code",
   "execution_count": 61,
   "id": "23099ecc",
   "metadata": {},
   "outputs": [
    {
     "name": "stdout",
     "output_type": "stream",
     "text": [
      "11:15:03\n"
     ]
    }
   ],
   "source": [
    "print(current)"
   ]
  },
  {
   "cell_type": "code",
   "execution_count": 62,
   "id": "6b16a952",
   "metadata": {},
   "outputs": [
    {
     "data": {
      "text/plain": [
       "11"
      ]
     },
     "execution_count": 62,
     "metadata": {},
     "output_type": "execute_result"
    }
   ],
   "source": [
    "current.hour"
   ]
  },
  {
   "cell_type": "code",
   "execution_count": 63,
   "id": "365513bd",
   "metadata": {},
   "outputs": [
    {
     "data": {
      "text/plain": [
       "15"
      ]
     },
     "execution_count": 63,
     "metadata": {},
     "output_type": "execute_result"
    }
   ],
   "source": [
    "current.minute"
   ]
  },
  {
   "cell_type": "code",
   "execution_count": 64,
   "id": "cf21df71",
   "metadata": {},
   "outputs": [
    {
     "data": {
      "text/plain": [
       "3"
      ]
     },
     "execution_count": 64,
     "metadata": {},
     "output_type": "execute_result"
    }
   ],
   "source": [
    "current.second"
   ]
  },
  {
   "cell_type": "code",
   "execution_count": 65,
   "id": "77c88517",
   "metadata": {},
   "outputs": [],
   "source": [
    "time_ex2 = time(10,34,44,588383)"
   ]
  },
  {
   "cell_type": "code",
   "execution_count": 66,
   "id": "e799aa11",
   "metadata": {},
   "outputs": [
    {
     "name": "stdout",
     "output_type": "stream",
     "text": [
      "10:34:44.588383\n"
     ]
    }
   ],
   "source": [
    "print(time_ex2)"
   ]
  },
  {
   "cell_type": "code",
   "execution_count": 67,
   "id": "95fa7873",
   "metadata": {},
   "outputs": [
    {
     "data": {
      "text/plain": [
       "588383"
      ]
     },
     "execution_count": 67,
     "metadata": {},
     "output_type": "execute_result"
    }
   ],
   "source": [
    "time_ex2.microsecond"
   ]
  },
  {
   "cell_type": "code",
   "execution_count": 68,
   "id": "75f2eb8b",
   "metadata": {},
   "outputs": [
    {
     "data": {
      "text/plain": [
       "datetime.datetime(2022, 8, 4, 9, 16, 39, 814833)"
      ]
     },
     "execution_count": 68,
     "metadata": {},
     "output_type": "execute_result"
    }
   ],
   "source": [
    "current_time"
   ]
  },
  {
   "cell_type": "code",
   "execution_count": 70,
   "id": "e45a5ce1",
   "metadata": {},
   "outputs": [],
   "source": [
    "mydate_time = datetime.datetime(2022,10,14,7,15,58,388382)"
   ]
  },
  {
   "cell_type": "code",
   "execution_count": 71,
   "id": "f96561c4",
   "metadata": {},
   "outputs": [
    {
     "data": {
      "text/plain": [
       "datetime.datetime(2022, 10, 14, 7, 15, 58, 388382)"
      ]
     },
     "execution_count": 71,
     "metadata": {},
     "output_type": "execute_result"
    }
   ],
   "source": [
    "mydate_time"
   ]
  },
  {
   "cell_type": "code",
   "execution_count": 72,
   "id": "9ba0e82e",
   "metadata": {},
   "outputs": [],
   "source": [
    "data = '2022-10-08'"
   ]
  },
  {
   "cell_type": "code",
   "execution_count": 73,
   "id": "c863a535",
   "metadata": {},
   "outputs": [
    {
     "name": "stdout",
     "output_type": "stream",
     "text": [
      "2022-10-08\n"
     ]
    }
   ],
   "source": [
    "print(data)"
   ]
  },
  {
   "cell_type": "code",
   "execution_count": 74,
   "id": "581cf7a6",
   "metadata": {},
   "outputs": [
    {
     "data": {
      "text/plain": [
       "str"
      ]
     },
     "execution_count": 74,
     "metadata": {},
     "output_type": "execute_result"
    }
   ],
   "source": [
    "type(data)"
   ]
  },
  {
   "cell_type": "code",
   "execution_count": 75,
   "id": "9fdbec25",
   "metadata": {},
   "outputs": [
    {
     "name": "stdout",
     "output_type": "stream",
     "text": [
      "<class 'datetime.datetime'>\n"
     ]
    }
   ],
   "source": [
    "print(type(current_time))\n"
   ]
  },
  {
   "cell_type": "code",
   "execution_count": 78,
   "id": "435f35bd",
   "metadata": {},
   "outputs": [],
   "source": [
    "def test_func(lst,data):\n",
    "    \n",
    "    return lst.count(data)"
   ]
  },
  {
   "cell_type": "code",
   "execution_count": 79,
   "id": "1d222a58",
   "metadata": {},
   "outputs": [
    {
     "name": "stdout",
     "output_type": "stream",
     "text": [
      "['Sept 22', 'Sept 21', 'Oct 15']\n"
     ]
    }
   ],
   "source": [
    "test_func([\"Sept 22\", \"Sept 21\", \"Oct 15\"],\"Oct\")"
   ]
  },
  {
   "cell_type": "code",
   "execution_count": null,
   "id": "772e12c9",
   "metadata": {},
   "outputs": [],
   "source": []
  },
  {
   "cell_type": "code",
   "execution_count": 2,
   "id": "1fb0f884",
   "metadata": {},
   "outputs": [],
   "source": [
    "mydate = '8 August 2022'"
   ]
  },
  {
   "cell_type": "code",
   "execution_count": 3,
   "id": "6ef0c56f",
   "metadata": {},
   "outputs": [
    {
     "name": "stdout",
     "output_type": "stream",
     "text": [
      "8 August 2022\n"
     ]
    }
   ],
   "source": [
    "print(mydate)"
   ]
  },
  {
   "cell_type": "code",
   "execution_count": 7,
   "id": "6489df07",
   "metadata": {},
   "outputs": [],
   "source": [
    "from datetime import datetime"
   ]
  },
  {
   "cell_type": "code",
   "execution_count": null,
   "id": "1540f599",
   "metadata": {},
   "outputs": [],
   "source": []
  },
  {
   "cell_type": "markdown",
   "id": "15c672eb",
   "metadata": {},
   "source": [
    "## string into datetime"
   ]
  },
  {
   "cell_type": "code",
   "execution_count": 4,
   "id": "6596c977",
   "metadata": {},
   "outputs": [],
   "source": [
    "my_date = 'Aug 8 2022 8:30'"
   ]
  },
  {
   "cell_type": "code",
   "execution_count": 5,
   "id": "0c502e5b",
   "metadata": {},
   "outputs": [
    {
     "name": "stdout",
     "output_type": "stream",
     "text": [
      "Aug 8 2022 8:30\n"
     ]
    }
   ],
   "source": [
    "print(my_date)"
   ]
  },
  {
   "cell_type": "code",
   "execution_count": 9,
   "id": "b227c261",
   "metadata": {},
   "outputs": [],
   "source": [
    "converted_date = datetime.datetime.strptime(my_date,'%b %d %Y %I:%M')"
   ]
  },
  {
   "cell_type": "code",
   "execution_count": 10,
   "id": "ffd2a8fe",
   "metadata": {},
   "outputs": [
    {
     "name": "stdout",
     "output_type": "stream",
     "text": [
      "2022-08-08 08:30:00\n"
     ]
    }
   ],
   "source": [
    "print(converted_date)"
   ]
  },
  {
   "cell_type": "code",
   "execution_count": 11,
   "id": "da677f99",
   "metadata": {},
   "outputs": [
    {
     "name": "stdout",
     "output_type": "stream",
     "text": [
      "<class 'datetime.datetime'>\n"
     ]
    }
   ],
   "source": [
    "print(type(converted_date))"
   ]
  },
  {
   "cell_type": "code",
   "execution_count": 12,
   "id": "8e67130e",
   "metadata": {},
   "outputs": [
    {
     "data": {
      "text/plain": [
       "2022"
      ]
     },
     "execution_count": 12,
     "metadata": {},
     "output_type": "execute_result"
    }
   ],
   "source": [
    "converted_date.year"
   ]
  },
  {
   "cell_type": "code",
   "execution_count": 13,
   "id": "1527f79b",
   "metadata": {},
   "outputs": [],
   "source": [
    "my_date = '12-08-2022 13:45:55PM'"
   ]
  },
  {
   "cell_type": "code",
   "execution_count": 14,
   "id": "64df899e",
   "metadata": {},
   "outputs": [
    {
     "name": "stdout",
     "output_type": "stream",
     "text": [
      "12-08-2022 13:45:55PM\n"
     ]
    }
   ],
   "source": [
    "print(my_date)"
   ]
  },
  {
   "cell_type": "code",
   "execution_count": 15,
   "id": "1397768b",
   "metadata": {},
   "outputs": [],
   "source": [
    "new_date = datetime.datetime.strptime(my_date,'%d-%m-%Y %H:%M:%S%p')"
   ]
  },
  {
   "cell_type": "code",
   "execution_count": 16,
   "id": "37a0cf19",
   "metadata": {},
   "outputs": [
    {
     "name": "stdout",
     "output_type": "stream",
     "text": [
      "2022-08-12 13:45:55\n"
     ]
    }
   ],
   "source": [
    "print(new_date)"
   ]
  },
  {
   "cell_type": "code",
   "execution_count": 17,
   "id": "07f5a911",
   "metadata": {},
   "outputs": [
    {
     "name": "stdout",
     "output_type": "stream",
     "text": [
      "<class 'datetime.datetime'>\n"
     ]
    }
   ],
   "source": [
    "print(type(new_date))"
   ]
  },
  {
   "cell_type": "code",
   "execution_count": null,
   "id": "980e157d",
   "metadata": {},
   "outputs": [],
   "source": []
  },
  {
   "cell_type": "markdown",
   "id": "91e0e4d5",
   "metadata": {},
   "source": [
    "## datetime into string "
   ]
  },
  {
   "cell_type": "code",
   "execution_count": 18,
   "id": "9c19ca76",
   "metadata": {},
   "outputs": [],
   "source": [
    "current_data = datetime.datetime.now()"
   ]
  },
  {
   "cell_type": "code",
   "execution_count": 19,
   "id": "8fb88f79",
   "metadata": {},
   "outputs": [
    {
     "name": "stdout",
     "output_type": "stream",
     "text": [
      "2022-08-08 08:46:24.256416\n"
     ]
    }
   ],
   "source": [
    "print(current_data)"
   ]
  },
  {
   "cell_type": "code",
   "execution_count": 20,
   "id": "63e3a0b0",
   "metadata": {},
   "outputs": [
    {
     "name": "stdout",
     "output_type": "stream",
     "text": [
      "<class 'datetime.datetime'>\n"
     ]
    }
   ],
   "source": [
    "print(type(current_data))"
   ]
  },
  {
   "cell_type": "code",
   "execution_count": 21,
   "id": "1263850b",
   "metadata": {},
   "outputs": [],
   "source": [
    "converted = current_data.strftime('%Y-%m-%d')"
   ]
  },
  {
   "cell_type": "code",
   "execution_count": 22,
   "id": "bba53d03",
   "metadata": {},
   "outputs": [
    {
     "name": "stdout",
     "output_type": "stream",
     "text": [
      "2022-08-08\n"
     ]
    }
   ],
   "source": [
    "print(converted)"
   ]
  },
  {
   "cell_type": "code",
   "execution_count": 23,
   "id": "b3b2e6df",
   "metadata": {},
   "outputs": [
    {
     "name": "stdout",
     "output_type": "stream",
     "text": [
      "<class 'str'>\n"
     ]
    }
   ],
   "source": [
    "print(type(converted))"
   ]
  },
  {
   "cell_type": "code",
   "execution_count": 24,
   "id": "960c4f6f",
   "metadata": {},
   "outputs": [
    {
     "data": {
      "text/plain": [
       "'2022/08/08'"
      ]
     },
     "execution_count": 24,
     "metadata": {},
     "output_type": "execute_result"
    }
   ],
   "source": [
    "current_data.strftime('%Y/%m/%d')"
   ]
  },
  {
   "cell_type": "code",
   "execution_count": null,
   "id": "44a51c39",
   "metadata": {},
   "outputs": [],
   "source": []
  },
  {
   "cell_type": "code",
   "execution_count": 25,
   "id": "c97febfb",
   "metadata": {},
   "outputs": [],
   "source": [
    "from datetime import date"
   ]
  },
  {
   "cell_type": "code",
   "execution_count": 26,
   "id": "c3c870dd",
   "metadata": {},
   "outputs": [],
   "source": [
    "dt1 = date(year=2022,month=8,day=30)\n",
    "dt2 = date(year=2022,month=8,day=8)"
   ]
  },
  {
   "cell_type": "code",
   "execution_count": 27,
   "id": "02322ff3",
   "metadata": {},
   "outputs": [
    {
     "data": {
      "text/plain": [
       "datetime.date(2022, 8, 30)"
      ]
     },
     "execution_count": 27,
     "metadata": {},
     "output_type": "execute_result"
    }
   ],
   "source": [
    "dt1"
   ]
  },
  {
   "cell_type": "code",
   "execution_count": 28,
   "id": "0076ba0a",
   "metadata": {},
   "outputs": [
    {
     "data": {
      "text/plain": [
       "datetime.date(2022, 8, 8)"
      ]
     },
     "execution_count": 28,
     "metadata": {},
     "output_type": "execute_result"
    }
   ],
   "source": [
    "dt2"
   ]
  },
  {
   "cell_type": "code",
   "execution_count": 29,
   "id": "ce86695b",
   "metadata": {},
   "outputs": [
    {
     "data": {
      "text/plain": [
       "datetime.timedelta(days=22)"
      ]
     },
     "execution_count": 29,
     "metadata": {},
     "output_type": "execute_result"
    }
   ],
   "source": [
    "dt1 - dt2"
   ]
  },
  {
   "cell_type": "code",
   "execution_count": 30,
   "id": "6795b0a2",
   "metadata": {},
   "outputs": [
    {
     "name": "stdout",
     "output_type": "stream",
     "text": [
      "22 days, 0:00:00\n"
     ]
    }
   ],
   "source": [
    "print(dt1-dt2)"
   ]
  },
  {
   "cell_type": "code",
   "execution_count": 32,
   "id": "424eb3bd",
   "metadata": {},
   "outputs": [],
   "source": [
    "from datetime import datetime"
   ]
  },
  {
   "cell_type": "code",
   "execution_count": 33,
   "id": "021c444c",
   "metadata": {},
   "outputs": [],
   "source": [
    "st = datetime(2021,10,1,7,20,17,100000)\n",
    "et = datetime(2021,10,1,8,25,12,200002)"
   ]
  },
  {
   "cell_type": "code",
   "execution_count": 34,
   "id": "025fbd6c",
   "metadata": {},
   "outputs": [
    {
     "data": {
      "text/plain": [
       "datetime.datetime(2021, 10, 1, 7, 20, 17, 100000)"
      ]
     },
     "execution_count": 34,
     "metadata": {},
     "output_type": "execute_result"
    }
   ],
   "source": [
    "st"
   ]
  },
  {
   "cell_type": "code",
   "execution_count": 35,
   "id": "a94d4ba8",
   "metadata": {},
   "outputs": [
    {
     "data": {
      "text/plain": [
       "datetime.datetime(2021, 10, 1, 8, 25, 12, 200002)"
      ]
     },
     "execution_count": 35,
     "metadata": {},
     "output_type": "execute_result"
    }
   ],
   "source": [
    "et"
   ]
  },
  {
   "cell_type": "code",
   "execution_count": 36,
   "id": "b9d654ba",
   "metadata": {},
   "outputs": [],
   "source": [
    "difference = et - st"
   ]
  },
  {
   "cell_type": "code",
   "execution_count": 37,
   "id": "93836912",
   "metadata": {},
   "outputs": [
    {
     "name": "stdout",
     "output_type": "stream",
     "text": [
      "1:04:55.100002\n"
     ]
    }
   ],
   "source": [
    "print(difference)"
   ]
  },
  {
   "cell_type": "code",
   "execution_count": 40,
   "id": "e4e46ab6",
   "metadata": {},
   "outputs": [
    {
     "data": {
      "text/plain": [
       "64.91833336666667"
      ]
     },
     "execution_count": 40,
     "metadata": {},
     "output_type": "execute_result"
    }
   ],
   "source": [
    "difference.total_seconds() / 60   #converting hours into minutes example."
   ]
  },
  {
   "cell_type": "markdown",
   "id": "aafca76f",
   "metadata": {},
   "source": [
    "## random in python"
   ]
  },
  {
   "cell_type": "code",
   "execution_count": 41,
   "id": "8c59cf79",
   "metadata": {},
   "outputs": [],
   "source": [
    "import random"
   ]
  },
  {
   "cell_type": "code",
   "execution_count": 44,
   "id": "6afc29bc",
   "metadata": {},
   "outputs": [
    {
     "data": {
      "text/plain": [
       "0.39269466287228494"
      ]
     },
     "execution_count": 44,
     "metadata": {},
     "output_type": "execute_result"
    }
   ],
   "source": [
    "random.random()"
   ]
  },
  {
   "cell_type": "code",
   "execution_count": 50,
   "id": "40485d0b",
   "metadata": {},
   "outputs": [
    {
     "data": {
      "text/plain": [
       "77"
      ]
     },
     "execution_count": 50,
     "metadata": {},
     "output_type": "execute_result"
    }
   ],
   "source": [
    "random.randint(10,100)"
   ]
  },
  {
   "cell_type": "code",
   "execution_count": 54,
   "id": "65106dc0",
   "metadata": {},
   "outputs": [
    {
     "data": {
      "text/plain": [
       "61"
      ]
     },
     "execution_count": 54,
     "metadata": {},
     "output_type": "execute_result"
    }
   ],
   "source": [
    "random.randrange(10,100)"
   ]
  },
  {
   "cell_type": "code",
   "execution_count": 62,
   "id": "7856a34c",
   "metadata": {},
   "outputs": [],
   "source": [
    "mylst = ['Mumbai','chennai','ahmedabad','pune','delhi','nagpur']"
   ]
  },
  {
   "cell_type": "code",
   "execution_count": 56,
   "id": "d31c5f26",
   "metadata": {},
   "outputs": [
    {
     "name": "stdout",
     "output_type": "stream",
     "text": [
      "['Mumbai', 'chennai', 'ahmedabad', 'pune', 'delhi', 'nagpur']\n"
     ]
    }
   ],
   "source": [
    "print(mylst)"
   ]
  },
  {
   "cell_type": "code",
   "execution_count": 61,
   "id": "8eb74666",
   "metadata": {},
   "outputs": [
    {
     "data": {
      "text/plain": [
       "'nagpur'"
      ]
     },
     "execution_count": 61,
     "metadata": {},
     "output_type": "execute_result"
    }
   ],
   "source": [
    "random.choice(mylst)"
   ]
  },
  {
   "cell_type": "code",
   "execution_count": 63,
   "id": "6ea602e7",
   "metadata": {},
   "outputs": [
    {
     "data": {
      "text/plain": [
       "['Mumbai', 'chennai', 'ahmedabad', 'pune', 'delhi', 'nagpur']"
      ]
     },
     "execution_count": 63,
     "metadata": {},
     "output_type": "execute_result"
    }
   ],
   "source": [
    "mylst"
   ]
  },
  {
   "cell_type": "code",
   "execution_count": 64,
   "id": "622accde",
   "metadata": {},
   "outputs": [],
   "source": [
    "random.shuffle(mylst)"
   ]
  },
  {
   "cell_type": "code",
   "execution_count": 65,
   "id": "d12ed51a",
   "metadata": {},
   "outputs": [
    {
     "data": {
      "text/plain": [
       "['delhi', 'pune', 'chennai', 'nagpur', 'ahmedabad', 'Mumbai']"
      ]
     },
     "execution_count": 65,
     "metadata": {},
     "output_type": "execute_result"
    }
   ],
   "source": [
    "mylst"
   ]
  },
  {
   "cell_type": "code",
   "execution_count": null,
   "id": "1f5fc6e2",
   "metadata": {},
   "outputs": [],
   "source": []
  },
  {
   "cell_type": "code",
   "execution_count": null,
   "id": "fe898bad",
   "metadata": {},
   "outputs": [],
   "source": []
  }
 ],
 "metadata": {
  "kernelspec": {
   "display_name": "Python 3 (ipykernel)",
   "language": "python",
   "name": "python3"
  },
  "language_info": {
   "codemirror_mode": {
    "name": "ipython",
    "version": 3
   },
   "file_extension": ".py",
   "mimetype": "text/x-python",
   "name": "python",
   "nbconvert_exporter": "python",
   "pygments_lexer": "ipython3",
   "version": "3.8.8"
  }
 },
 "nbformat": 4,
 "nbformat_minor": 5
}
