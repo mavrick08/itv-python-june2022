{
 "cells": [
  {
   "cell_type": "markdown",
   "id": "e781766b",
   "metadata": {},
   "source": [
    "## Functions in Python\n",
    "\n",
    "\n",
    "* A function is a block of code which only runs when it is called.\n",
    "\n",
    "* You can pass data, known as parameter, into a function and can return data as a result.\n",
    "\n",
    "* In Python a function is defined using the keyword **def** , to call a function we need to use the     function name followed by parenthesis.\n",
    "\n",
    "\n",
    "* Parameter : A parameter is the variable listed inside the parenthesis when the function is       defined\n",
    "\n",
    "* Argument : An argument is a value that is sent to the function when it is called.\n",
    "\n",
    "\n",
    "* Varaibles Type in Functions:\n",
    "\n",
    "  1) Local Variable : Any Variable that is defined inside the function body is called as local        variable\n",
    "  \n",
    "  2) Global Variable: A variable that is defined outside the function or having a keyword called       as *global*  is termed as a global variable.\n",
    "  \n",
    "  \n",
    "**Arbitary Arguments** : *args\n",
    "\n",
    "If you do not know how many arguments are to be passed into your function, add a * (asterik) before the parameter name in the function.\n",
    "\n",
    "The function will recieve a **tuple** of arguments and can access the items accordingly.\n",
    "\n",
    "\n",
    "\n",
    "**Arbitary Keyword Arguments** : **kwargs\n",
    "\n",
    "If you do not know how many arguments that will be passed into your function, add two asterik (** ) before the parameter in the function defintion. The function will recieve a dictionary of arguments and can access the item accordingly.\n",
    "\n",
    "\n",
    "**Lambda Functions -- Anonymous** :\n",
    "\n",
    "A lambda functions is a small anonymous function, it can have any number of arguments, but can have only a single expression.\n",
    "\n",
    "lambda arguments : expression"
   ]
  },
  {
   "cell_type": "code",
   "execution_count": 1,
   "id": "8fe30854",
   "metadata": {},
   "outputs": [],
   "source": [
    "def greet():\n",
    "    #this is function body\n",
    "    print(\"Welcome to Function Session in Python\")"
   ]
  },
  {
   "cell_type": "code",
   "execution_count": 2,
   "id": "b889da87",
   "metadata": {},
   "outputs": [
    {
     "name": "stdout",
     "output_type": "stream",
     "text": [
      "Welcome to Function Session in Python\n"
     ]
    }
   ],
   "source": [
    "greet()   #calling the function"
   ]
  },
  {
   "cell_type": "code",
   "execution_count": 4,
   "id": "7224fe15",
   "metadata": {},
   "outputs": [
    {
     "name": "stdout",
     "output_type": "stream",
     "text": [
      "Welcome to Function Session in Python\n",
      "None\n"
     ]
    }
   ],
   "source": [
    "print(greet()) #printing the function call."
   ]
  },
  {
   "cell_type": "code",
   "execution_count": 5,
   "id": "a8a54e34",
   "metadata": {},
   "outputs": [],
   "source": [
    "def greet1():\n",
    "    return \"Hello Welcome\""
   ]
  },
  {
   "cell_type": "code",
   "execution_count": 6,
   "id": "040c1e2d",
   "metadata": {},
   "outputs": [
    {
     "data": {
      "text/plain": [
       "'Hello Welcome'"
      ]
     },
     "execution_count": 6,
     "metadata": {},
     "output_type": "execute_result"
    }
   ],
   "source": [
    "greet1()"
   ]
  },
  {
   "cell_type": "code",
   "execution_count": 7,
   "id": "b47ae3bc",
   "metadata": {},
   "outputs": [
    {
     "name": "stdout",
     "output_type": "stream",
     "text": [
      "Hello Welcome\n"
     ]
    }
   ],
   "source": [
    "print(greet1())"
   ]
  },
  {
   "cell_type": "code",
   "execution_count": null,
   "id": "647133e1",
   "metadata": {},
   "outputs": [],
   "source": []
  },
  {
   "cell_type": "code",
   "execution_count": 8,
   "id": "ab245d56",
   "metadata": {},
   "outputs": [],
   "source": [
    "def my_func():\n",
    "    name = \"good coder\"\n",
    "    age = 33\n",
    "    print(f\"Your Name is {name} and your age is {age}\")"
   ]
  },
  {
   "cell_type": "code",
   "execution_count": 11,
   "id": "a5ec41f4",
   "metadata": {},
   "outputs": [
    {
     "name": "stdout",
     "output_type": "stream",
     "text": [
      "Your Name is good coder and your age is 33\n"
     ]
    }
   ],
   "source": [
    "res = my_func()"
   ]
  },
  {
   "cell_type": "code",
   "execution_count": 12,
   "id": "c0d5efb9",
   "metadata": {},
   "outputs": [
    {
     "name": "stdout",
     "output_type": "stream",
     "text": [
      "None\n"
     ]
    }
   ],
   "source": [
    "print(res)"
   ]
  },
  {
   "cell_type": "code",
   "execution_count": null,
   "id": "3b0c98f3",
   "metadata": {},
   "outputs": [],
   "source": []
  },
  {
   "cell_type": "code",
   "execution_count": 13,
   "id": "32e6380b",
   "metadata": {},
   "outputs": [],
   "source": [
    "def my_func1():\n",
    "    course=\"python\"\n",
    "    duration=3\n",
    "    return (f'Course Name is {course} and duration is {duration}')"
   ]
  },
  {
   "cell_type": "code",
   "execution_count": 14,
   "id": "82ccda3f",
   "metadata": {},
   "outputs": [
    {
     "data": {
      "text/plain": [
       "'Course Name is python and duration is 3'"
      ]
     },
     "execution_count": 14,
     "metadata": {},
     "output_type": "execute_result"
    }
   ],
   "source": [
    "my_func1()"
   ]
  },
  {
   "cell_type": "code",
   "execution_count": 15,
   "id": "b5e07c47",
   "metadata": {},
   "outputs": [],
   "source": [
    "res1 = my_func1()"
   ]
  },
  {
   "cell_type": "code",
   "execution_count": 16,
   "id": "7b5ab796",
   "metadata": {},
   "outputs": [
    {
     "data": {
      "text/plain": [
       "'Course Name is python and duration is 3'"
      ]
     },
     "execution_count": 16,
     "metadata": {},
     "output_type": "execute_result"
    }
   ],
   "source": [
    "res1"
   ]
  },
  {
   "cell_type": "code",
   "execution_count": null,
   "id": "eb7446ca",
   "metadata": {},
   "outputs": [],
   "source": []
  },
  {
   "cell_type": "code",
   "execution_count": 17,
   "id": "12fe7157",
   "metadata": {},
   "outputs": [],
   "source": [
    "def info(name,age):\n",
    "    print(\"Name is\",name)\n",
    "    print(\"Age is\",age)"
   ]
  },
  {
   "cell_type": "code",
   "execution_count": 19,
   "id": "d46f0ec5",
   "metadata": {},
   "outputs": [
    {
     "name": "stdout",
     "output_type": "stream",
     "text": [
      "Name is alpha\n",
      "Age is 23\n"
     ]
    }
   ],
   "source": [
    "info(\"alpha\",23)"
   ]
  },
  {
   "cell_type": "code",
   "execution_count": 20,
   "id": "c27d3075",
   "metadata": {},
   "outputs": [
    {
     "name": "stdout",
     "output_type": "stream",
     "text": [
      "Name is test\n",
      "Age is 21\n"
     ]
    }
   ],
   "source": [
    "info(\"test\",21)"
   ]
  },
  {
   "cell_type": "code",
   "execution_count": 21,
   "id": "eceb4b5b",
   "metadata": {},
   "outputs": [
    {
     "name": "stdout",
     "output_type": "stream",
     "text": [
      "Name is 23\n",
      "Age is beta\n"
     ]
    }
   ],
   "source": [
    "info(23,\"beta\")"
   ]
  },
  {
   "cell_type": "code",
   "execution_count": 22,
   "id": "63dc2368",
   "metadata": {},
   "outputs": [
    {
     "name": "stdout",
     "output_type": "stream",
     "text": [
      "Name is beta\n",
      "Age is 23\n"
     ]
    }
   ],
   "source": [
    "info(age=23,name=\"beta\")"
   ]
  },
  {
   "cell_type": "code",
   "execution_count": null,
   "id": "aae3b3c3",
   "metadata": {},
   "outputs": [],
   "source": []
  },
  {
   "cell_type": "code",
   "execution_count": 23,
   "id": "2aa76f5f",
   "metadata": {},
   "outputs": [],
   "source": [
    "def info(name,age):\n",
    "    return f'Name is {name} Age is {age}'"
   ]
  },
  {
   "cell_type": "code",
   "execution_count": 24,
   "id": "6a74b905",
   "metadata": {},
   "outputs": [
    {
     "data": {
      "text/plain": [
       "'Name is beta Age is 23'"
      ]
     },
     "execution_count": 24,
     "metadata": {},
     "output_type": "execute_result"
    }
   ],
   "source": [
    "info(age=23,name=\"beta\")"
   ]
  },
  {
   "cell_type": "code",
   "execution_count": 25,
   "id": "76769892",
   "metadata": {},
   "outputs": [
    {
     "name": "stdout",
     "output_type": "stream",
     "text": [
      "Name is beta Age is 23\n"
     ]
    }
   ],
   "source": [
    "print(info(age=23,name=\"beta\"))"
   ]
  },
  {
   "cell_type": "code",
   "execution_count": null,
   "id": "b8078533",
   "metadata": {},
   "outputs": [],
   "source": []
  },
  {
   "cell_type": "markdown",
   "id": "862fa07e",
   "metadata": {},
   "source": [
    "**global variable**"
   ]
  },
  {
   "cell_type": "code",
   "execution_count": 3,
   "id": "51cc159c",
   "metadata": {},
   "outputs": [],
   "source": [
    "country = \"India\"    #this is a global variable.\n",
    "\n",
    "def my_country():\n",
    "    print(f'Name of Country is : {country}')"
   ]
  },
  {
   "cell_type": "code",
   "execution_count": 4,
   "id": "6248ebed",
   "metadata": {},
   "outputs": [
    {
     "name": "stdout",
     "output_type": "stream",
     "text": [
      "Name of Country is : India\n"
     ]
    }
   ],
   "source": [
    "my_country()"
   ]
  },
  {
   "cell_type": "code",
   "execution_count": 5,
   "id": "f2ee92dc",
   "metadata": {},
   "outputs": [
    {
     "name": "stdout",
     "output_type": "stream",
     "text": [
      "India\n"
     ]
    }
   ],
   "source": [
    "print(country)"
   ]
  },
  {
   "cell_type": "code",
   "execution_count": 6,
   "id": "3bdf0e16",
   "metadata": {},
   "outputs": [],
   "source": [
    "country = \"USA\""
   ]
  },
  {
   "cell_type": "code",
   "execution_count": 7,
   "id": "b7a0f012",
   "metadata": {},
   "outputs": [
    {
     "name": "stdout",
     "output_type": "stream",
     "text": [
      "Name of Country is : USA\n"
     ]
    }
   ],
   "source": [
    "my_country()"
   ]
  },
  {
   "cell_type": "code",
   "execution_count": null,
   "id": "e532b44c",
   "metadata": {},
   "outputs": [],
   "source": []
  },
  {
   "cell_type": "code",
   "execution_count": 11,
   "id": "e02f24e9",
   "metadata": {},
   "outputs": [
    {
     "name": "stdout",
     "output_type": "stream",
     "text": [
      "Global Address is 3042171853616\n"
     ]
    }
   ],
   "source": [
    "course = \"Python\" #global variable\n",
    "print('Global Address is',id(course))\n",
    "def my_course():\n",
    "    course = \"java\" #local variable\n",
    "    print(f'Course Name is {course}')\n",
    "    print('Local Address is',id(course))"
   ]
  },
  {
   "cell_type": "code",
   "execution_count": 12,
   "id": "8e90689b",
   "metadata": {},
   "outputs": [
    {
     "name": "stdout",
     "output_type": "stream",
     "text": [
      "Course Name is java\n",
      "Local Address is 3042171880752\n"
     ]
    }
   ],
   "source": [
    "my_course()"
   ]
  },
  {
   "cell_type": "code",
   "execution_count": 10,
   "id": "b4142533",
   "metadata": {},
   "outputs": [
    {
     "name": "stdout",
     "output_type": "stream",
     "text": [
      "Python\n"
     ]
    }
   ],
   "source": [
    "print(course)"
   ]
  },
  {
   "cell_type": "code",
   "execution_count": null,
   "id": "d55ae1d7",
   "metadata": {},
   "outputs": [],
   "source": []
  },
  {
   "cell_type": "code",
   "execution_count": 13,
   "id": "2b702f9c",
   "metadata": {},
   "outputs": [],
   "source": [
    "drink = \"pineapple\"  #global variable\n",
    "\n",
    "def change_drink():\n",
    "    global drink\n",
    "    drink = \"sugarcane\"\n",
    "    print(drink)"
   ]
  },
  {
   "cell_type": "code",
   "execution_count": 14,
   "id": "da330f7a",
   "metadata": {},
   "outputs": [
    {
     "name": "stdout",
     "output_type": "stream",
     "text": [
      "sugarcane\n"
     ]
    }
   ],
   "source": [
    "change_drink()"
   ]
  },
  {
   "cell_type": "code",
   "execution_count": 15,
   "id": "28076815",
   "metadata": {},
   "outputs": [
    {
     "name": "stdout",
     "output_type": "stream",
     "text": [
      "sugarcane\n"
     ]
    }
   ],
   "source": [
    "print(drink)"
   ]
  },
  {
   "cell_type": "code",
   "execution_count": null,
   "id": "d83f5256",
   "metadata": {},
   "outputs": [],
   "source": []
  },
  {
   "cell_type": "code",
   "execution_count": 18,
   "id": "7f33b06f",
   "metadata": {},
   "outputs": [],
   "source": [
    "def myfunc():\n",
    "    pass"
   ]
  },
  {
   "cell_type": "markdown",
   "id": "b6f2b6a1",
   "metadata": {},
   "source": [
    "* *args"
   ]
  },
  {
   "cell_type": "code",
   "execution_count": 22,
   "id": "891037e0",
   "metadata": {},
   "outputs": [],
   "source": [
    "def print_num(*num):\n",
    "#     print(num)\n",
    "#     print(type(num))\n",
    "    for item in num:\n",
    "        print(item)"
   ]
  },
  {
   "cell_type": "code",
   "execution_count": 23,
   "id": "f77b863a",
   "metadata": {},
   "outputs": [
    {
     "name": "stdout",
     "output_type": "stream",
     "text": [
      "10\n",
      "20\n",
      "30\n",
      "40\n",
      "50\n",
      "60\n",
      "70\n"
     ]
    }
   ],
   "source": [
    "print_num(10,20,30,40,50,60,70)"
   ]
  },
  {
   "cell_type": "code",
   "execution_count": 24,
   "id": "8161822a",
   "metadata": {},
   "outputs": [],
   "source": [
    "def add_num(*num):\n",
    "    total = 0\n",
    "    for item in num:\n",
    "        total = total + item\n",
    "    print(total)"
   ]
  },
  {
   "cell_type": "code",
   "execution_count": 26,
   "id": "abdddef5",
   "metadata": {},
   "outputs": [
    {
     "name": "stdout",
     "output_type": "stream",
     "text": [
      "55\n"
     ]
    }
   ],
   "source": [
    "add_num(1,2,3,4,5,6,7,8,9,10)"
   ]
  },
  {
   "cell_type": "code",
   "execution_count": null,
   "id": "28d50fba",
   "metadata": {},
   "outputs": [],
   "source": []
  },
  {
   "cell_type": "code",
   "execution_count": 27,
   "id": "ed6715de",
   "metadata": {},
   "outputs": [],
   "source": [
    "def my_info(**info):\n",
    "    print(info)"
   ]
  },
  {
   "cell_type": "code",
   "execution_count": 29,
   "id": "a7e21c5f",
   "metadata": {},
   "outputs": [
    {
     "name": "stdout",
     "output_type": "stream",
     "text": [
      "{'name': 'good coder', 'age': 33, 'desg': 'SDE'}\n"
     ]
    }
   ],
   "source": [
    "my_info(name='good coder',age=33,desg='SDE')"
   ]
  },
  {
   "cell_type": "code",
   "execution_count": null,
   "id": "de73ab3a",
   "metadata": {},
   "outputs": [],
   "source": []
  },
  {
   "cell_type": "code",
   "execution_count": 32,
   "id": "037cc79b",
   "metadata": {},
   "outputs": [],
   "source": [
    "def my_data(*data,**data2):\n",
    "    print(data)\n",
    "    print(data2)"
   ]
  },
  {
   "cell_type": "code",
   "execution_count": 33,
   "id": "b30fa38d",
   "metadata": {},
   "outputs": [
    {
     "name": "stdout",
     "output_type": "stream",
     "text": [
      "('hello', 'hi', 'bye')\n",
      "{'hobby': 'coding', 'sal': 5000, 'loc': 'Mumbai'}\n"
     ]
    }
   ],
   "source": [
    "my_data(\"hello\",\"hi\",\"bye\",hobby='coding',sal=5000,loc='Mumbai')"
   ]
  },
  {
   "cell_type": "code",
   "execution_count": null,
   "id": "a4bfe0d2",
   "metadata": {},
   "outputs": [],
   "source": []
  },
  {
   "cell_type": "code",
   "execution_count": null,
   "id": "6c379004",
   "metadata": {},
   "outputs": [],
   "source": []
  },
  {
   "cell_type": "markdown",
   "id": "911c4676",
   "metadata": {},
   "source": [
    "* Clouser Technique (Nested Function)"
   ]
  },
  {
   "cell_type": "code",
   "execution_count": 37,
   "id": "015f7718",
   "metadata": {},
   "outputs": [],
   "source": [
    "def outer_func():\n",
    "    message = \"Hello Welcome to Functions\"\n",
    "    def inner_func():\n",
    "        print(message)\n",
    "    return inner_func()"
   ]
  },
  {
   "cell_type": "code",
   "execution_count": 38,
   "id": "db2cbbc9",
   "metadata": {},
   "outputs": [
    {
     "name": "stdout",
     "output_type": "stream",
     "text": [
      "Hello Welcome to Functions\n"
     ]
    }
   ],
   "source": [
    "outer_func()"
   ]
  },
  {
   "cell_type": "code",
   "execution_count": null,
   "id": "29ca97b1",
   "metadata": {},
   "outputs": [],
   "source": []
  },
  {
   "cell_type": "code",
   "execution_count": 41,
   "id": "69092b31",
   "metadata": {},
   "outputs": [],
   "source": [
    "def func1():\n",
    "    num1 = 10\n",
    "    def func2():\n",
    "        num2 = 20\n",
    "        def func3():\n",
    "            num3 = 30\n",
    "            print(num1,num2,num3)\n",
    "        return func3()\n",
    "    return func2()"
   ]
  },
  {
   "cell_type": "code",
   "execution_count": 43,
   "id": "5b8cf742",
   "metadata": {},
   "outputs": [
    {
     "name": "stdout",
     "output_type": "stream",
     "text": [
      "10 20 30\n"
     ]
    }
   ],
   "source": [
    "func1()"
   ]
  },
  {
   "cell_type": "code",
   "execution_count": 1,
   "id": "4f515e02",
   "metadata": {},
   "outputs": [],
   "source": [
    "def square(num):\n",
    "    return num**2"
   ]
  },
  {
   "cell_type": "code",
   "execution_count": 2,
   "id": "02efc301",
   "metadata": {},
   "outputs": [
    {
     "data": {
      "text/plain": [
       "100"
      ]
     },
     "execution_count": 2,
     "metadata": {},
     "output_type": "execute_result"
    }
   ],
   "source": [
    "square(10)"
   ]
  },
  {
   "cell_type": "code",
   "execution_count": 3,
   "id": "e5ab70b1",
   "metadata": {},
   "outputs": [],
   "source": [
    "square_num = lambda num : num**2"
   ]
  },
  {
   "cell_type": "code",
   "execution_count": 4,
   "id": "88edae8d",
   "metadata": {},
   "outputs": [
    {
     "data": {
      "text/plain": [
       "<function __main__.<lambda>(num)>"
      ]
     },
     "execution_count": 4,
     "metadata": {},
     "output_type": "execute_result"
    }
   ],
   "source": [
    "square_num"
   ]
  },
  {
   "cell_type": "code",
   "execution_count": 6,
   "id": "fd193d67",
   "metadata": {},
   "outputs": [
    {
     "data": {
      "text/plain": [
       "36"
      ]
     },
     "execution_count": 6,
     "metadata": {},
     "output_type": "execute_result"
    }
   ],
   "source": [
    "square_num(6)"
   ]
  },
  {
   "cell_type": "code",
   "execution_count": 7,
   "id": "b4002bfd",
   "metadata": {},
   "outputs": [],
   "source": [
    "multiplication = lambda num1,num2 : num1 * num2"
   ]
  },
  {
   "cell_type": "code",
   "execution_count": 8,
   "id": "249c01a0",
   "metadata": {},
   "outputs": [
    {
     "data": {
      "text/plain": [
       "40"
      ]
     },
     "execution_count": 8,
     "metadata": {},
     "output_type": "execute_result"
    }
   ],
   "source": [
    "multiplication(10,4)"
   ]
  },
  {
   "cell_type": "code",
   "execution_count": null,
   "id": "0427095b",
   "metadata": {},
   "outputs": [],
   "source": []
  },
  {
   "cell_type": "code",
   "execution_count": 11,
   "id": "090e497d",
   "metadata": {},
   "outputs": [],
   "source": [
    "def calc_num(data):\n",
    "    new_lst = []\n",
    "    for item in data:\n",
    "        new_lst.append(item*2)\n",
    "    print(new_lst)"
   ]
  },
  {
   "cell_type": "code",
   "execution_count": 12,
   "id": "5a6923a6",
   "metadata": {},
   "outputs": [
    {
     "name": "stdout",
     "output_type": "stream",
     "text": [
      "[20, 40, 60, 80, 100]\n"
     ]
    }
   ],
   "source": [
    "calc_num([10,20,30,40,50])"
   ]
  },
  {
   "cell_type": "code",
   "execution_count": null,
   "id": "cb0ef987",
   "metadata": {},
   "outputs": [],
   "source": []
  },
  {
   "cell_type": "code",
   "execution_count": 13,
   "id": "b6abf1e6",
   "metadata": {},
   "outputs": [],
   "source": [
    "lst = [10,20,30,40,50]"
   ]
  },
  {
   "cell_type": "code",
   "execution_count": 28,
   "id": "2b72a30b",
   "metadata": {},
   "outputs": [],
   "source": [
    "mymapfunc = map(lambda num : num*2,lst)"
   ]
  },
  {
   "cell_type": "code",
   "execution_count": 20,
   "id": "6794edbd",
   "metadata": {},
   "outputs": [
    {
     "data": {
      "text/plain": [
       "<map at 0x1dec21e7130>"
      ]
     },
     "execution_count": 20,
     "metadata": {},
     "output_type": "execute_result"
    }
   ],
   "source": [
    "mymapfunc"
   ]
  },
  {
   "cell_type": "code",
   "execution_count": 21,
   "id": "d4f7a95e",
   "metadata": {},
   "outputs": [
    {
     "name": "stdout",
     "output_type": "stream",
     "text": [
      "20\n",
      "40\n",
      "60\n",
      "80\n",
      "100\n"
     ]
    }
   ],
   "source": [
    "for val in mymapfunc:\n",
    "    print(val)"
   ]
  },
  {
   "cell_type": "code",
   "execution_count": 22,
   "id": "dd0a7db0",
   "metadata": {},
   "outputs": [],
   "source": [
    "for item in mymapfunc:\n",
    "    print(item)"
   ]
  },
  {
   "cell_type": "code",
   "execution_count": null,
   "id": "f0272741",
   "metadata": {},
   "outputs": [],
   "source": []
  },
  {
   "cell_type": "code",
   "execution_count": 26,
   "id": "cc1cad2b",
   "metadata": {},
   "outputs": [],
   "source": [
    "list_num = list(mymapfunc)"
   ]
  },
  {
   "cell_type": "code",
   "execution_count": 27,
   "id": "463e9bce",
   "metadata": {},
   "outputs": [
    {
     "name": "stdout",
     "output_type": "stream",
     "text": [
      "[20, 40, 60, 80, 100]\n"
     ]
    }
   ],
   "source": [
    "print(list_num)"
   ]
  },
  {
   "cell_type": "code",
   "execution_count": null,
   "id": "c4d38fdb",
   "metadata": {},
   "outputs": [],
   "source": []
  },
  {
   "cell_type": "code",
   "execution_count": 29,
   "id": "32ab962b",
   "metadata": {},
   "outputs": [],
   "source": [
    "mytup = tuple(mymapfunc)"
   ]
  },
  {
   "cell_type": "code",
   "execution_count": 30,
   "id": "4f240704",
   "metadata": {},
   "outputs": [
    {
     "data": {
      "text/plain": [
       "(20, 40, 60, 80, 100)"
      ]
     },
     "execution_count": 30,
     "metadata": {},
     "output_type": "execute_result"
    }
   ],
   "source": [
    "mytup"
   ]
  },
  {
   "cell_type": "code",
   "execution_count": null,
   "id": "54cd2c37",
   "metadata": {},
   "outputs": [],
   "source": []
  }
 ],
 "metadata": {
  "kernelspec": {
   "display_name": "Python 3 (ipykernel)",
   "language": "python",
   "name": "python3"
  },
  "language_info": {
   "codemirror_mode": {
    "name": "ipython",
    "version": 3
   },
   "file_extension": ".py",
   "mimetype": "text/x-python",
   "name": "python",
   "nbconvert_exporter": "python",
   "pygments_lexer": "ipython3",
   "version": "3.9.7"
  }
 },
 "nbformat": 4,
 "nbformat_minor": 5
}
