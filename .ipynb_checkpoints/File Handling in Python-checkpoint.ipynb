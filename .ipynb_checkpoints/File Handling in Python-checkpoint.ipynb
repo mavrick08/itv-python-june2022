{
 "cells": [
  {
   "cell_type": "code",
   "execution_count": 1,
   "id": "81ff8416",
   "metadata": {},
   "outputs": [
    {
     "data": {
      "text/plain": [
       "'/home/punit/Downloads/IT-V/itv-python-june2022'"
      ]
     },
     "execution_count": 1,
     "metadata": {},
     "output_type": "execute_result"
    }
   ],
   "source": [
    "pwd"
   ]
  },
  {
   "cell_type": "markdown",
   "id": "142fdd59",
   "metadata": {},
   "source": [
    "* reading the file"
   ]
  },
  {
   "cell_type": "code",
   "execution_count": 34,
   "id": "cabe9543",
   "metadata": {},
   "outputs": [
    {
     "name": "stdout",
     "output_type": "stream",
     "text": [
      "this is line 1\n",
      "this is line 2\n",
      "welcome to file handling\n",
      "we will learn some operations\n",
      "\n"
     ]
    }
   ],
   "source": [
    "file_data = open('demo.txt','r')  #opening\n",
    "print(file_data.read())  #operation\n",
    "file_data.close()   #closing"
   ]
  },
  {
   "cell_type": "code",
   "execution_count": 4,
   "id": "593b097c",
   "metadata": {},
   "outputs": [
    {
     "name": "stdout",
     "output_type": "stream",
     "text": [
      "thi\n"
     ]
    }
   ],
   "source": [
    "file_data = open('demo.txt','r')  #opening\n",
    "print(file_data.readline(3))  #operation\n",
    "# print(file_data.readline())  #operation/\n",
    "file_data.close()   #closing"
   ]
  },
  {
   "cell_type": "code",
   "execution_count": 3,
   "id": "2f75b1e0",
   "metadata": {},
   "outputs": [
    {
     "name": "stdout",
     "output_type": "stream",
     "text": [
      "['this is line 1\\n', 'this is line 2\\n', 'welcome to file handling\\n', 'we will learn some operations\\n']\n"
     ]
    }
   ],
   "source": [
    "file_data = open('demo.txt','r')  #opening\n",
    "print(file_data.readlines())  #operation\n",
    "file_data.close()   #closing"
   ]
  },
  {
   "cell_type": "code",
   "execution_count": null,
   "id": "be34df88",
   "metadata": {},
   "outputs": [],
   "source": []
  },
  {
   "cell_type": "code",
   "execution_count": 5,
   "id": "dc751807",
   "metadata": {},
   "outputs": [
    {
     "name": "stdout",
     "output_type": "stream",
     "text": [
      "this is line 1\n",
      "this is line 2\n",
      "welcome to file handling\n",
      "we will learn some operations\n",
      "\n"
     ]
    }
   ],
   "source": [
    "with open('demo.txt','r') as data:\n",
    "    print(data.read())\n"
   ]
  },
  {
   "cell_type": "code",
   "execution_count": 6,
   "id": "4c1c1c81",
   "metadata": {},
   "outputs": [
    {
     "ename": "ValueError",
     "evalue": "I/O operation on closed file.",
     "output_type": "error",
     "traceback": [
      "\u001b[0;31m---------------------------------------------------------------------------\u001b[0m",
      "\u001b[0;31mValueError\u001b[0m                                Traceback (most recent call last)",
      "Input \u001b[0;32mIn [6]\u001b[0m, in \u001b[0;36m<module>\u001b[0;34m\u001b[0m\n\u001b[0;32m----> 1\u001b[0m \u001b[38;5;28mprint\u001b[39m(\u001b[43mdata\u001b[49m\u001b[38;5;241;43m.\u001b[39;49m\u001b[43mread\u001b[49m\u001b[43m(\u001b[49m\u001b[43m)\u001b[49m)\n",
      "\u001b[0;31mValueError\u001b[0m: I/O operation on closed file."
     ]
    }
   ],
   "source": [
    "print(data.read())"
   ]
  },
  {
   "cell_type": "code",
   "execution_count": 7,
   "id": "db4ef1bf",
   "metadata": {},
   "outputs": [
    {
     "data": {
      "text/plain": [
       "'/home/punit/Downloads/IT-V/itv-python-june2022'"
      ]
     },
     "execution_count": 7,
     "metadata": {},
     "output_type": "execute_result"
    }
   ],
   "source": [
    "pwd"
   ]
  },
  {
   "cell_type": "markdown",
   "id": "13f0d1ce",
   "metadata": {},
   "source": [
    "* Write Mode:\n",
    "\n",
    "w  ---> this opens the file in write mode, in the case of existing file, it overrites the \n",
    "        old data and places the new content at the beginning of the file."
   ]
  },
  {
   "cell_type": "code",
   "execution_count": 10,
   "id": "2936c8f8",
   "metadata": {},
   "outputs": [],
   "source": [
    "with open('hello.txt','w') as file:\n",
    "    file.write('This is File Handling session')\n",
    "    file.write('\\n')\n",
    "    file.write('We are exploring new things!!')"
   ]
  },
  {
   "cell_type": "code",
   "execution_count": 11,
   "id": "6d2a7dee",
   "metadata": {},
   "outputs": [],
   "source": [
    "input_lst = ['Name: Demo User', '\\nAddress: Bina Apt, Andheri','\\nCity: Mumbai']"
   ]
  },
  {
   "cell_type": "code",
   "execution_count": 12,
   "id": "92018dfe",
   "metadata": {},
   "outputs": [
    {
     "name": "stdout",
     "output_type": "stream",
     "text": [
      "['Name: Demo User', '\\nAddress: Bina Apt, Andheri', '\\nCity: Mumbai']\n"
     ]
    }
   ],
   "source": [
    "print(input_lst)"
   ]
  },
  {
   "cell_type": "code",
   "execution_count": 13,
   "id": "a445a258",
   "metadata": {},
   "outputs": [],
   "source": [
    "with open('info.txt','w') as file:\n",
    "    file.writelines(input_lst)"
   ]
  },
  {
   "cell_type": "code",
   "execution_count": null,
   "id": "34fc2c1f",
   "metadata": {},
   "outputs": [],
   "source": []
  },
  {
   "cell_type": "code",
   "execution_count": 14,
   "id": "3c98ac38",
   "metadata": {},
   "outputs": [],
   "source": [
    "new_data = ['\\nDesignation: Software Developer','\\nSalary: 40000','\\nQualification:B.Tech']"
   ]
  },
  {
   "cell_type": "code",
   "execution_count": 15,
   "id": "fb07c90c",
   "metadata": {},
   "outputs": [
    {
     "data": {
      "text/plain": [
       "['\\nDesignation: Software Developer',\n",
       " '\\nSalary: 40000',\n",
       " '\\nQualification:B.Tech']"
      ]
     },
     "execution_count": 15,
     "metadata": {},
     "output_type": "execute_result"
    }
   ],
   "source": [
    "new_data"
   ]
  },
  {
   "cell_type": "code",
   "execution_count": 16,
   "id": "781abb90",
   "metadata": {},
   "outputs": [],
   "source": [
    "with open('info.txt','a') as data:\n",
    "    data.writelines(new_data)"
   ]
  },
  {
   "cell_type": "code",
   "execution_count": 20,
   "id": "9cf52534",
   "metadata": {},
   "outputs": [
    {
     "name": "stdout",
     "output_type": "stream",
     "text": [
      "Name: Demo User\n",
      "Address: Bina Apt, Andheri\n",
      "City: Mumbai\n",
      "Designation: Software Developer\n",
      "Salary: 40000\n",
      "Qualification:B.Tech\n"
     ]
    }
   ],
   "source": [
    "with open('info.txt','a+') as info:\n",
    "    info.seek(0)\n",
    "    print(info.read())"
   ]
  },
  {
   "cell_type": "code",
   "execution_count": 22,
   "id": "5e62cd37",
   "metadata": {},
   "outputs": [],
   "source": [
    "hobbies = ['\\nHobbies is: Cricket','\\nHobbies is: Swimming']"
   ]
  },
  {
   "cell_type": "code",
   "execution_count": 24,
   "id": "479c964c",
   "metadata": {},
   "outputs": [
    {
     "name": "stdout",
     "output_type": "stream",
     "text": [
      "Name: Demo User\n",
      "Address: Bina Apt, Andheri\n",
      "City: Mumbai\n",
      "Designation: Software Developer\n",
      "Salary: 40000\n",
      "Qualification:B.Tech\n",
      "Hobbies is: Cricket\n",
      "Hobbies is: Swimming\n",
      "Hobbies is: Cricket\n",
      "Hobbies is: Swimming\n",
      "204\n"
     ]
    }
   ],
   "source": [
    "with open('info.txt','a+') as data:\n",
    "    data.writelines(hobbies)\n",
    "    data.seek(0)\n",
    "    print(data.read())\n",
    "    print(data.tell())"
   ]
  },
  {
   "cell_type": "code",
   "execution_count": null,
   "id": "2ff559a5",
   "metadata": {},
   "outputs": [],
   "source": []
  },
  {
   "cell_type": "code",
   "execution_count": 31,
   "id": "2d9bb188",
   "metadata": {},
   "outputs": [
    {
     "name": "stdout",
     "output_type": "stream",
     "text": [
      "Name: Demo User\n",
      "Address: Bina Apt, Andheri\n",
      "City: Mumbai\n",
      "Designation: Software Developer\n",
      "Salary: 40000\n",
      "Qualification:B.Tech\n",
      "Hobbies is: Cricket\n",
      "Hobbies is: Swimming\n",
      "Hobbies is: Cricket\n",
      "Hobbies is: Swimming\n",
      "Country: India\n",
      "\n"
     ]
    }
   ],
   "source": [
    "with open('info.txt','r+') as f:\n",
    "    print(f.read())\n",
    "    f.write('\\nCountry: India')\n",
    "    print(f.read())"
   ]
  },
  {
   "cell_type": "code",
   "execution_count": 35,
   "id": "baa4f8bc",
   "metadata": {},
   "outputs": [],
   "source": [
    "with open('info.txt','r') as source_data:\n",
    "    with open('copied.txt','w') as write_data:\n",
    "        write_data.write(source_data.read())"
   ]
  },
  {
   "cell_type": "code",
   "execution_count": null,
   "id": "ae14f8d4",
   "metadata": {},
   "outputs": [],
   "source": []
  },
  {
   "cell_type": "markdown",
   "id": "42d30a8f",
   "metadata": {},
   "source": [
    "## OS Module "
   ]
  },
  {
   "cell_type": "code",
   "execution_count": 36,
   "id": "c79ac0c2",
   "metadata": {},
   "outputs": [],
   "source": [
    "import os"
   ]
  },
  {
   "cell_type": "code",
   "execution_count": 37,
   "id": "39ec7f94",
   "metadata": {},
   "outputs": [
    {
     "data": {
      "text/plain": [
       "'/home/punit/Downloads/IT-V/itv-python-june2022'"
      ]
     },
     "execution_count": 37,
     "metadata": {},
     "output_type": "execute_result"
    }
   ],
   "source": [
    "os.getcwd()  # gets the current working directory."
   ]
  },
  {
   "cell_type": "code",
   "execution_count": 38,
   "id": "ba2413a4",
   "metadata": {},
   "outputs": [],
   "source": [
    "os.chdir('../')   # changes the directory"
   ]
  },
  {
   "cell_type": "code",
   "execution_count": 39,
   "id": "2850e7a8",
   "metadata": {},
   "outputs": [
    {
     "data": {
      "text/plain": [
       "'/home/punit/Downloads/IT-V'"
      ]
     },
     "execution_count": 39,
     "metadata": {},
     "output_type": "execute_result"
    }
   ],
   "source": [
    "os.getcwd()"
   ]
  },
  {
   "cell_type": "code",
   "execution_count": 40,
   "id": "c9baf648",
   "metadata": {},
   "outputs": [],
   "source": [
    "os.chdir('../../')  #is to change back upto 2 directories"
   ]
  },
  {
   "cell_type": "code",
   "execution_count": 41,
   "id": "ca74f2bb",
   "metadata": {},
   "outputs": [
    {
     "data": {
      "text/plain": [
       "'/home/punit'"
      ]
     },
     "execution_count": 41,
     "metadata": {},
     "output_type": "execute_result"
    }
   ],
   "source": [
    "os.getcwd()"
   ]
  },
  {
   "cell_type": "code",
   "execution_count": 42,
   "id": "dc207323",
   "metadata": {},
   "outputs": [],
   "source": [
    "os.mkdir('DEMO')  #makes a new directory."
   ]
  },
  {
   "cell_type": "code",
   "execution_count": 43,
   "id": "60e1e8eb",
   "metadata": {},
   "outputs": [
    {
     "data": {
      "text/plain": [
       "['.jupyter',\n",
       " 'snowflake-ssh',\n",
       " 'Postman',\n",
       " 'Untitled.ipynb',\n",
       " '.python_history-55555.tmp',\n",
       " '.swp',\n",
       " '.keras',\n",
       " 'VirtualBox VMs',\n",
       " 'Public',\n",
       " '.atom',\n",
       " 'nltk_data',\n",
       " '.sudo_as_admin_successful',\n",
       " 'anaconda3',\n",
       " '.python_history-52057.tmp',\n",
       " '.sqlite_history',\n",
       " '.equalx',\n",
       " '.gitconfig',\n",
       " 'Android',\n",
       " '.java',\n",
       " '.gphoto',\n",
       " '.vmware',\n",
       " '.jmathedit',\n",
       " '.python_history-94164.tmp',\n",
       " '.viminfo',\n",
       " 'seaborn-data',\n",
       " '.emacs.d',\n",
       " 'PycharmProjects',\n",
       " '.android',\n",
       " 'AndroidStudioProjects',\n",
       " '.thunderbird',\n",
       " '.python_history-23771.tmp',\n",
       " '.bash_logout',\n",
       " 'Music',\n",
       " 'Videos',\n",
       " '.psql_history',\n",
       " 'DEMO',\n",
       " '.continuum',\n",
       " '.ssh',\n",
       " '.ipython',\n",
       " '.python_history',\n",
       " '.gnome',\n",
       " 'Templates',\n",
       " '.cache',\n",
       " '.phpls',\n",
       " '.ipynb_checkpoints',\n",
       " '.zoom',\n",
       " '.local',\n",
       " '.mozilla',\n",
       " 'Desktop',\n",
       " '.condarc',\n",
       " '.profile',\n",
       " '.gnupg',\n",
       " '.config',\n",
       " '.anaconda',\n",
       " 'Calibre Library',\n",
       " 'doubtsapp.com',\n",
       " '.npm',\n",
       " '.conda',\n",
       " '.putty',\n",
       " '.bash_history',\n",
       " '.anydesk',\n",
       " 'doubtsapp.com.zip',\n",
       " 'Downloads',\n",
       " 'Pictures',\n",
       " '.sqlsecrets',\n",
       " '.pgadmin',\n",
       " '.scala_history',\n",
       " '.vscode-react-native',\n",
       " 'Documents',\n",
       " '.bashrc',\n",
       " 'snap',\n",
       " '.oracle_jre_usage',\n",
       " '.pki',\n",
       " '.gradle',\n",
       " '.vscode']"
      ]
     },
     "execution_count": 43,
     "metadata": {},
     "output_type": "execute_result"
    }
   ],
   "source": [
    "os.listdir()   # lists all the folders/ files in directory."
   ]
  },
  {
   "cell_type": "code",
   "execution_count": 44,
   "id": "e360377f",
   "metadata": {},
   "outputs": [],
   "source": [
    "os.chdir('/home/punit/Downloads/IT-V/itv-python-june2022')"
   ]
  },
  {
   "cell_type": "code",
   "execution_count": 45,
   "id": "5978fe0b",
   "metadata": {},
   "outputs": [
    {
     "data": {
      "text/plain": [
       "'/home/punit/Downloads/IT-V/itv-python-june2022'"
      ]
     },
     "execution_count": 45,
     "metadata": {},
     "output_type": "execute_result"
    }
   ],
   "source": [
    "os.getcwd()"
   ]
  },
  {
   "cell_type": "code",
   "execution_count": 47,
   "id": "bce5e317",
   "metadata": {},
   "outputs": [],
   "source": [
    "all_files = os.listdir()"
   ]
  },
  {
   "cell_type": "code",
   "execution_count": 50,
   "id": "017f5089",
   "metadata": {},
   "outputs": [
    {
     "data": {
      "text/plain": [
       "['.git',\n",
       " 'copied.txt',\n",
       " 'Data Structure in Python - Jupyter Notebook.pdf',\n",
       " 'Strings.ipynb',\n",
       " 'File Handling in Python.ipynb',\n",
       " 'Functional Programming.ipynb',\n",
       " 'Nested Loops.ipynb',\n",
       " 'demo.txt',\n",
       " 'hello.txt',\n",
       " '.ipynb_checkpoints',\n",
       " 'info.txt',\n",
       " 'Data Structure in Python.ipynb',\n",
       " 'Session1.ipynb',\n",
       " 'Conditional Statement.ipynb',\n",
       " 'Doubts.ipynb',\n",
       " 'Looping.ipynb']"
      ]
     },
     "execution_count": 50,
     "metadata": {},
     "output_type": "execute_result"
    }
   ],
   "source": [
    "all_files"
   ]
  },
  {
   "cell_type": "code",
   "execution_count": null,
   "id": "132c14c5",
   "metadata": {},
   "outputs": [],
   "source": []
  }
 ],
 "metadata": {
  "kernelspec": {
   "display_name": "Python 3 (ipykernel)",
   "language": "python",
   "name": "python3"
  },
  "language_info": {
   "codemirror_mode": {
    "name": "ipython",
    "version": 3
   },
   "file_extension": ".py",
   "mimetype": "text/x-python",
   "name": "python",
   "nbconvert_exporter": "python",
   "pygments_lexer": "ipython3",
   "version": "3.8.8"
  }
 },
 "nbformat": 4,
 "nbformat_minor": 5
}
