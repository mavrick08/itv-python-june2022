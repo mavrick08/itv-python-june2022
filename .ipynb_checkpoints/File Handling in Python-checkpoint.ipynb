{
 "cells": [
  {
   "cell_type": "code",
   "execution_count": 1,
   "id": "517aa836",
   "metadata": {},
   "outputs": [
    {
     "data": {
      "text/plain": [
       "'/home/punit/Downloads/IT-V/itv-python-june2022'"
      ]
     },
     "execution_count": 1,
     "metadata": {},
     "output_type": "execute_result"
    }
   ],
   "source": [
    "pwd"
   ]
  },
  {
   "cell_type": "markdown",
   "id": "d5c5deb5",
   "metadata": {},
   "source": [
    "* reading the file"
   ]
  },
  {
   "cell_type": "code",
   "execution_count": 3,
   "id": "43b78a46",
   "metadata": {},
   "outputs": [
    {
     "name": "stdout",
     "output_type": "stream",
     "text": [
      "this is line 1\n",
      "this is line 2\n",
      "welcome to file handling\n",
      "we will learn some operations\n",
      "\n"
     ]
    }
   ],
   "source": [
    "file_data = open('demo.txt','r')  #opening\n",
    "print(file_data.read())  #operation\n",
    "file_data.close()   #closing"
   ]
  },
  {
   "cell_type": "code",
   "execution_count": null,
   "id": "2704f034",
   "metadata": {},
   "outputs": [],
   "source": []
  }
 ],
 "metadata": {
  "kernelspec": {
   "display_name": "Python 3 (ipykernel)",
   "language": "python",
   "name": "python3"
  },
  "language_info": {
   "codemirror_mode": {
    "name": "ipython",
    "version": 3
   },
   "file_extension": ".py",
   "mimetype": "text/x-python",
   "name": "python",
   "nbconvert_exporter": "python",
   "pygments_lexer": "ipython3",
   "version": "3.8.8"
  }
 },
 "nbformat": 4,
 "nbformat_minor": 5
}
