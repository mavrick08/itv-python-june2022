{
 "cells": [
  {
   "cell_type": "code",
   "execution_count": 1,
   "id": "74b8df77",
   "metadata": {},
   "outputs": [
    {
     "name": "stdout",
     "output_type": "stream",
     "text": [
      "Welcome to Python session\n"
     ]
    }
   ],
   "source": [
    "print('Welcome to Python session')"
   ]
  },
  {
   "cell_type": "code",
   "execution_count": 2,
   "id": "54c885c8",
   "metadata": {},
   "outputs": [
    {
     "name": "stdout",
     "output_type": "stream",
     "text": [
      "Welcome to Python Session\n"
     ]
    }
   ],
   "source": [
    "print(\"Welcome to Python Session\")"
   ]
  },
  {
   "cell_type": "markdown",
   "id": "6709aeca",
   "metadata": {},
   "source": [
    "''   ---> single quote\n",
    "\n",
    "\n",
    "\"\"   ----> double quote\n",
    "\n",
    "\n",
    "'''  -----> block quote / triple quote\n",
    "'''"
   ]
  },
  {
   "cell_type": "markdown",
   "id": "d3bcc5c7",
   "metadata": {},
   "source": [
    "who's standing there?"
   ]
  },
  {
   "cell_type": "code",
   "execution_count": 4,
   "id": "095ed07a",
   "metadata": {},
   "outputs": [
    {
     "name": "stdout",
     "output_type": "stream",
     "text": [
      "whos standing there?\n"
     ]
    }
   ],
   "source": [
    "print('who''s standing there?')"
   ]
  },
  {
   "cell_type": "code",
   "execution_count": 5,
   "id": "5a20bb40",
   "metadata": {},
   "outputs": [
    {
     "name": "stdout",
     "output_type": "stream",
     "text": [
      "who's standing there?\n"
     ]
    }
   ],
   "source": [
    "print(\"who's standing there?\")"
   ]
  },
  {
   "cell_type": "markdown",
   "id": "17d62026",
   "metadata": {},
   "source": [
    "steve jobs once said \"Stay Hungry Stay Foolish\""
   ]
  },
  {
   "cell_type": "code",
   "execution_count": 6,
   "id": "c7fccfa0",
   "metadata": {},
   "outputs": [
    {
     "name": "stdout",
     "output_type": "stream",
     "text": [
      "\n",
      "Steve Jobs Once Said \"Stay Hungry Stay Foolish!\"\n",
      "\n"
     ]
    }
   ],
   "source": [
    "print('''\n",
    "Steve Jobs Once Said \"Stay Hungry Stay Foolish!\"\n",
    "''')"
   ]
  },
  {
   "cell_type": "code",
   "execution_count": null,
   "id": "b3c621df",
   "metadata": {},
   "outputs": [],
   "source": []
  },
  {
   "cell_type": "markdown",
   "id": "c57eb367",
   "metadata": {},
   "source": [
    "* Data Types:\n",
    "\n",
    "\n",
    "1) int ---> integer\n",
    "\n",
    "2) float --> floating point (decimal)\n",
    "\n",
    "3) str ---> String \n",
    "\n",
    "4) bool ---> boolean \n",
    "\n",
    "5) complex ---> complex numbers"
   ]
  },
  {
   "cell_type": "markdown",
   "id": "49e3e896",
   "metadata": {},
   "source": [
    "* Variables"
   ]
  },
  {
   "cell_type": "markdown",
   "id": "82020563",
   "metadata": {},
   "source": [
    "- Variables are named location that points to the address of the value stored in the      memory.\n",
    "\n",
    "- There are few rules that is required to be followed for giving the variable name:\n",
    "\n",
    "\n",
    "1) We cannot use reserved keyword as a variable name.\n",
    "\n",
    "\n",
    "2) The variable name should always start with a character (a-z OR A-Z)\n",
    "\n",
    "3) It should not consist of empty spaces.\n",
    "\n",
    "4) You can use characters + numbers + special characters while defining the variable      name.\n",
    "\n",
    "5) It is case sensitive.\n"
   ]
  },
  {
   "cell_type": "code",
   "execution_count": null,
   "id": "0c772106",
   "metadata": {},
   "outputs": [],
   "source": []
  },
  {
   "cell_type": "markdown",
   "id": "dc9a9439",
   "metadata": {},
   "source": [
    "## Python variable naming"
   ]
  },
  {
   "cell_type": "code",
   "execution_count": 12,
   "id": "21679ca7",
   "metadata": {},
   "outputs": [],
   "source": [
    "number = -4500"
   ]
  },
  {
   "cell_type": "code",
   "execution_count": 13,
   "id": "2628956f",
   "metadata": {},
   "outputs": [
    {
     "name": "stdout",
     "output_type": "stream",
     "text": [
      "-4500\n"
     ]
    }
   ],
   "source": [
    "print(number)"
   ]
  },
  {
   "cell_type": "code",
   "execution_count": 9,
   "id": "01daf1a9",
   "metadata": {},
   "outputs": [
    {
     "name": "stdout",
     "output_type": "stream",
     "text": [
      "139877831021424\n"
     ]
    }
   ],
   "source": [
    "print(id(number))"
   ]
  },
  {
   "cell_type": "code",
   "execution_count": 10,
   "id": "ded5c062",
   "metadata": {},
   "outputs": [
    {
     "name": "stdout",
     "output_type": "stream",
     "text": [
      "<class 'int'>\n"
     ]
    }
   ],
   "source": [
    "print(type(number))"
   ]
  },
  {
   "cell_type": "code",
   "execution_count": 11,
   "id": "940c7a8a",
   "metadata": {},
   "outputs": [
    {
     "name": "stdout",
     "output_type": "stream",
     "text": [
      "22\n"
     ]
    }
   ],
   "source": [
    "print('22')"
   ]
  },
  {
   "cell_type": "code",
   "execution_count": null,
   "id": "64167a76",
   "metadata": {},
   "outputs": [],
   "source": []
  },
  {
   "cell_type": "code",
   "execution_count": 14,
   "id": "47e8b173",
   "metadata": {},
   "outputs": [],
   "source": [
    "percentage = 4.32"
   ]
  },
  {
   "cell_type": "code",
   "execution_count": 15,
   "id": "0ba0b7b1",
   "metadata": {},
   "outputs": [
    {
     "name": "stdout",
     "output_type": "stream",
     "text": [
      "4.32\n"
     ]
    }
   ],
   "source": [
    "print(percentage)"
   ]
  },
  {
   "cell_type": "code",
   "execution_count": 16,
   "id": "854cf495",
   "metadata": {},
   "outputs": [
    {
     "name": "stdout",
     "output_type": "stream",
     "text": [
      "<class 'float'>\n"
     ]
    }
   ],
   "source": [
    "print(type(percentage))"
   ]
  },
  {
   "cell_type": "code",
   "execution_count": null,
   "id": "737a47ca",
   "metadata": {},
   "outputs": [],
   "source": []
  },
  {
   "cell_type": "code",
   "execution_count": 23,
   "id": "17dbbb72",
   "metadata": {},
   "outputs": [],
   "source": [
    "city = 'mumbai122@#$'"
   ]
  },
  {
   "cell_type": "code",
   "execution_count": 24,
   "id": "c6c800e8",
   "metadata": {},
   "outputs": [
    {
     "name": "stdout",
     "output_type": "stream",
     "text": [
      "mumbai122@#$\n"
     ]
    }
   ],
   "source": [
    "print(city)"
   ]
  },
  {
   "cell_type": "code",
   "execution_count": 22,
   "id": "2ca3d236",
   "metadata": {},
   "outputs": [
    {
     "name": "stdout",
     "output_type": "stream",
     "text": [
      "<class 'str'>\n"
     ]
    }
   ],
   "source": [
    "print(type(city))"
   ]
  },
  {
   "cell_type": "code",
   "execution_count": null,
   "id": "9de470d5",
   "metadata": {},
   "outputs": [],
   "source": []
  },
  {
   "cell_type": "code",
   "execution_count": 25,
   "id": "7af72043",
   "metadata": {},
   "outputs": [],
   "source": [
    "cmp_number = 1+3j"
   ]
  },
  {
   "cell_type": "code",
   "execution_count": 26,
   "id": "31a2919d",
   "metadata": {},
   "outputs": [
    {
     "name": "stdout",
     "output_type": "stream",
     "text": [
      "(1+3j)\n"
     ]
    }
   ],
   "source": [
    "print(cmp_number)"
   ]
  },
  {
   "cell_type": "code",
   "execution_count": 27,
   "id": "e24ba5ec",
   "metadata": {},
   "outputs": [
    {
     "name": "stdout",
     "output_type": "stream",
     "text": [
      "<class 'complex'>\n"
     ]
    }
   ],
   "source": [
    "print(type(cmp_number))"
   ]
  },
  {
   "cell_type": "code",
   "execution_count": 28,
   "id": "61f3b9ef",
   "metadata": {},
   "outputs": [
    {
     "name": "stdout",
     "output_type": "stream",
     "text": [
      "1.0\n"
     ]
    }
   ],
   "source": [
    "print(cmp_number.real)"
   ]
  },
  {
   "cell_type": "code",
   "execution_count": 29,
   "id": "fc539e27",
   "metadata": {},
   "outputs": [
    {
     "name": "stdout",
     "output_type": "stream",
     "text": [
      "3.0\n"
     ]
    }
   ],
   "source": [
    "print(cmp_number.imag)"
   ]
  },
  {
   "cell_type": "code",
   "execution_count": null,
   "id": "14c87f78",
   "metadata": {},
   "outputs": [],
   "source": []
  },
  {
   "cell_type": "code",
   "execution_count": 30,
   "id": "3d7eb0c4",
   "metadata": {},
   "outputs": [],
   "source": [
    "mybool = True"
   ]
  },
  {
   "cell_type": "code",
   "execution_count": 31,
   "id": "4d7b96e7",
   "metadata": {},
   "outputs": [
    {
     "name": "stdout",
     "output_type": "stream",
     "text": [
      "True\n"
     ]
    }
   ],
   "source": [
    "print(mybool)"
   ]
  },
  {
   "cell_type": "code",
   "execution_count": 32,
   "id": "b63f56c9",
   "metadata": {},
   "outputs": [
    {
     "name": "stdout",
     "output_type": "stream",
     "text": [
      "<class 'bool'>\n"
     ]
    }
   ],
   "source": [
    "print(type(mybool))"
   ]
  },
  {
   "cell_type": "code",
   "execution_count": 33,
   "id": "daeae5c9",
   "metadata": {},
   "outputs": [
    {
     "data": {
      "text/plain": [
       "False"
      ]
     },
     "execution_count": 33,
     "metadata": {},
     "output_type": "execute_result"
    }
   ],
   "source": [
    "False"
   ]
  },
  {
   "cell_type": "code",
   "execution_count": null,
   "id": "ead8f25f",
   "metadata": {},
   "outputs": [],
   "source": []
  },
  {
   "cell_type": "markdown",
   "id": "73ab1cac",
   "metadata": {},
   "source": [
    "## Operators in Python"
   ]
  },
  {
   "cell_type": "raw",
   "id": "66efe580",
   "metadata": {},
   "source": [
    "* Arithmetic operator:\n",
    "\n",
    "+ --> addition\n",
    "\n",
    "\n",
    "-  -->  substraction\n",
    "\n",
    "\n",
    "*   ----> multiplication\n",
    "\n",
    "\n",
    "/   ----> division\n",
    "\n",
    "\n",
    "//  ---->  floor division\n",
    "\n",
    "\n",
    "%   ---> modulo\n",
    "\n",
    "\n",
    "** ---> exponential"
   ]
  },
  {
   "cell_type": "code",
   "execution_count": 34,
   "id": "4cdac15e",
   "metadata": {},
   "outputs": [
    {
     "data": {
      "text/plain": [
       "300"
      ]
     },
     "execution_count": 34,
     "metadata": {},
     "output_type": "execute_result"
    }
   ],
   "source": [
    "100+200"
   ]
  },
  {
   "cell_type": "code",
   "execution_count": 35,
   "id": "8889f7d9",
   "metadata": {},
   "outputs": [
    {
     "data": {
      "text/plain": [
       "34.55"
      ]
     },
     "execution_count": 35,
     "metadata": {},
     "output_type": "execute_result"
    }
   ],
   "source": [
    "12+22.55"
   ]
  },
  {
   "cell_type": "code",
   "execution_count": 36,
   "id": "ae05d84c",
   "metadata": {},
   "outputs": [
    {
     "data": {
      "text/plain": [
       "22"
      ]
     },
     "execution_count": 36,
     "metadata": {},
     "output_type": "execute_result"
    }
   ],
   "source": [
    "55-33"
   ]
  },
  {
   "cell_type": "code",
   "execution_count": 37,
   "id": "0e91bf94",
   "metadata": {},
   "outputs": [
    {
     "data": {
      "text/plain": [
       "21.89"
      ]
     },
     "execution_count": 37,
     "metadata": {},
     "output_type": "execute_result"
    }
   ],
   "source": [
    "44-22.11"
   ]
  },
  {
   "cell_type": "code",
   "execution_count": null,
   "id": "6bf74f55",
   "metadata": {},
   "outputs": [],
   "source": []
  },
  {
   "cell_type": "code",
   "execution_count": 38,
   "id": "488ed057",
   "metadata": {},
   "outputs": [
    {
     "data": {
      "text/plain": [
       "20"
      ]
     },
     "execution_count": 38,
     "metadata": {},
     "output_type": "execute_result"
    }
   ],
   "source": [
    "4 * 5"
   ]
  },
  {
   "cell_type": "code",
   "execution_count": 39,
   "id": "d933bd7e",
   "metadata": {},
   "outputs": [
    {
     "data": {
      "text/plain": [
       "38.64"
      ]
     },
     "execution_count": 39,
     "metadata": {},
     "output_type": "execute_result"
    }
   ],
   "source": [
    "12 * 3.22"
   ]
  },
  {
   "cell_type": "code",
   "execution_count": null,
   "id": "bebe9b82",
   "metadata": {},
   "outputs": [],
   "source": []
  },
  {
   "cell_type": "code",
   "execution_count": 40,
   "id": "e61cd15a",
   "metadata": {},
   "outputs": [
    {
     "data": {
      "text/plain": [
       "2.0"
      ]
     },
     "execution_count": 40,
     "metadata": {},
     "output_type": "execute_result"
    }
   ],
   "source": [
    "4/2"
   ]
  },
  {
   "cell_type": "code",
   "execution_count": 41,
   "id": "00b36dea",
   "metadata": {},
   "outputs": [
    {
     "data": {
      "text/plain": [
       "float"
      ]
     },
     "execution_count": 41,
     "metadata": {},
     "output_type": "execute_result"
    }
   ],
   "source": [
    "type(2.0)"
   ]
  },
  {
   "cell_type": "code",
   "execution_count": 42,
   "id": "bdf0bb8e",
   "metadata": {},
   "outputs": [
    {
     "data": {
      "text/plain": [
       "3.142857142857143"
      ]
     },
     "execution_count": 42,
     "metadata": {},
     "output_type": "execute_result"
    }
   ],
   "source": [
    "22/7"
   ]
  },
  {
   "cell_type": "code",
   "execution_count": 43,
   "id": "68d60517",
   "metadata": {},
   "outputs": [
    {
     "data": {
      "text/plain": [
       "3"
      ]
     },
     "execution_count": 43,
     "metadata": {},
     "output_type": "execute_result"
    }
   ],
   "source": [
    "22//7"
   ]
  },
  {
   "cell_type": "code",
   "execution_count": 44,
   "id": "f17fab3c",
   "metadata": {},
   "outputs": [
    {
     "data": {
      "text/plain": [
       "2"
      ]
     },
     "execution_count": 44,
     "metadata": {},
     "output_type": "execute_result"
    }
   ],
   "source": [
    "4//2"
   ]
  },
  {
   "cell_type": "code",
   "execution_count": 45,
   "id": "56d44f0c",
   "metadata": {},
   "outputs": [
    {
     "data": {
      "text/plain": [
       "0"
      ]
     },
     "execution_count": 45,
     "metadata": {},
     "output_type": "execute_result"
    }
   ],
   "source": [
    "4%2"
   ]
  },
  {
   "cell_type": "code",
   "execution_count": 46,
   "id": "de62e2a9",
   "metadata": {},
   "outputs": [
    {
     "data": {
      "text/plain": [
       "16"
      ]
     },
     "execution_count": 46,
     "metadata": {},
     "output_type": "execute_result"
    }
   ],
   "source": [
    "4**2"
   ]
  },
  {
   "cell_type": "code",
   "execution_count": 47,
   "id": "440bb0bb",
   "metadata": {},
   "outputs": [
    {
     "data": {
      "text/plain": [
       "512"
      ]
     },
     "execution_count": 47,
     "metadata": {},
     "output_type": "execute_result"
    }
   ],
   "source": [
    "8**3"
   ]
  },
  {
   "cell_type": "markdown",
   "id": "f954186d",
   "metadata": {},
   "source": [
    "2) Logical Operator \n",
    "\n",
    "* and \n",
    "\n",
    "* or\n",
    "\n",
    "* not"
   ]
  },
  {
   "cell_type": "code",
   "execution_count": null,
   "id": "d11b1d2e",
   "metadata": {},
   "outputs": [],
   "source": []
  },
  {
   "cell_type": "markdown",
   "id": "f9f77d4e",
   "metadata": {},
   "source": [
    "* Comparison Operator\n",
    "\n",
    "1) >    --- greater than\n",
    "\n",
    "2) <    --- less than\n",
    "\n",
    "\n",
    "3) >=   --- greater than equals\n",
    "\n",
    "\n",
    "4) <=   ---- less than equals\n",
    "\n",
    "\n",
    "5) ==   ---- equality\n",
    "\n",
    "\n",
    "6) !=  ---- not equals"
   ]
  },
  {
   "cell_type": "code",
   "execution_count": 48,
   "id": "9a1584e6",
   "metadata": {},
   "outputs": [
    {
     "data": {
      "text/plain": [
       "True"
      ]
     },
     "execution_count": 48,
     "metadata": {},
     "output_type": "execute_result"
    }
   ],
   "source": [
    "33>22"
   ]
  },
  {
   "cell_type": "code",
   "execution_count": 49,
   "id": "fc52895b",
   "metadata": {},
   "outputs": [
    {
     "data": {
      "text/plain": [
       "False"
      ]
     },
     "execution_count": 49,
     "metadata": {},
     "output_type": "execute_result"
    }
   ],
   "source": [
    "22<11"
   ]
  },
  {
   "cell_type": "code",
   "execution_count": 50,
   "id": "b8beb624",
   "metadata": {},
   "outputs": [
    {
     "data": {
      "text/plain": [
       "False"
      ]
     },
     "execution_count": 50,
     "metadata": {},
     "output_type": "execute_result"
    }
   ],
   "source": [
    "18>18"
   ]
  },
  {
   "cell_type": "code",
   "execution_count": 51,
   "id": "a42d0b54",
   "metadata": {},
   "outputs": [
    {
     "data": {
      "text/plain": [
       "True"
      ]
     },
     "execution_count": 51,
     "metadata": {},
     "output_type": "execute_result"
    }
   ],
   "source": [
    "18>=18"
   ]
  },
  {
   "cell_type": "code",
   "execution_count": 52,
   "id": "e92829dd",
   "metadata": {},
   "outputs": [
    {
     "data": {
      "text/plain": [
       "True"
      ]
     },
     "execution_count": 52,
     "metadata": {},
     "output_type": "execute_result"
    }
   ],
   "source": [
    "19 == 19"
   ]
  },
  {
   "cell_type": "code",
   "execution_count": 53,
   "id": "6466c6e4",
   "metadata": {},
   "outputs": [
    {
     "data": {
      "text/plain": [
       "False"
      ]
     },
     "execution_count": 53,
     "metadata": {},
     "output_type": "execute_result"
    }
   ],
   "source": [
    "'apple' == 'APPLE'"
   ]
  },
  {
   "cell_type": "code",
   "execution_count": null,
   "id": "d9efdfb5",
   "metadata": {},
   "outputs": [],
   "source": []
  },
  {
   "cell_type": "code",
   "execution_count": 54,
   "id": "23fd8c7b",
   "metadata": {},
   "outputs": [
    {
     "data": {
      "text/plain": [
       "False"
      ]
     },
     "execution_count": 54,
     "metadata": {},
     "output_type": "execute_result"
    }
   ],
   "source": [
    "12 != 12"
   ]
  },
  {
   "cell_type": "code",
   "execution_count": 55,
   "id": "3a86de86",
   "metadata": {},
   "outputs": [
    {
     "data": {
      "text/plain": [
       "True"
      ]
     },
     "execution_count": 55,
     "metadata": {},
     "output_type": "execute_result"
    }
   ],
   "source": [
    "10 != 15"
   ]
  },
  {
   "cell_type": "markdown",
   "id": "81f14029",
   "metadata": {},
   "source": [
    "* Membership Operator\n",
    "\n",
    "1) in \n",
    "\n",
    "2) not in"
   ]
  },
  {
   "cell_type": "code",
   "execution_count": null,
   "id": "2172f171",
   "metadata": {},
   "outputs": [],
   "source": []
  },
  {
   "cell_type": "markdown",
   "id": "32021712",
   "metadata": {},
   "source": [
    "* Bitwise Operator\n",
    "\n",
    "1) &&  -- bitwise and"
   ]
  },
  {
   "cell_type": "code",
   "execution_count": 57,
   "id": "1525a28b",
   "metadata": {},
   "outputs": [
    {
     "data": {
      "text/plain": [
       "8"
      ]
     },
     "execution_count": 57,
     "metadata": {},
     "output_type": "execute_result"
    }
   ],
   "source": [
    "10 & 8"
   ]
  },
  {
   "cell_type": "code",
   "execution_count": 58,
   "id": "05cd1d9d",
   "metadata": {},
   "outputs": [
    {
     "data": {
      "text/plain": [
       "10"
      ]
     },
     "execution_count": 58,
     "metadata": {},
     "output_type": "execute_result"
    }
   ],
   "source": [
    "10 | 8"
   ]
  },
  {
   "cell_type": "code",
   "execution_count": 63,
   "id": "b9f16c39",
   "metadata": {},
   "outputs": [
    {
     "data": {
      "text/plain": [
       "6"
      ]
     },
     "execution_count": 63,
     "metadata": {},
     "output_type": "execute_result"
    }
   ],
   "source": [
    "5 ^ 3"
   ]
  },
  {
   "cell_type": "code",
   "execution_count": 59,
   "id": "c7a50341",
   "metadata": {},
   "outputs": [
    {
     "data": {
      "text/plain": [
       "False"
      ]
     },
     "execution_count": 59,
     "metadata": {},
     "output_type": "execute_result"
    }
   ],
   "source": [
    "True ^ True"
   ]
  },
  {
   "cell_type": "code",
   "execution_count": 60,
   "id": "05e88ba9",
   "metadata": {},
   "outputs": [
    {
     "data": {
      "text/plain": [
       "True"
      ]
     },
     "execution_count": 60,
     "metadata": {},
     "output_type": "execute_result"
    }
   ],
   "source": [
    "True ^ False"
   ]
  },
  {
   "cell_type": "code",
   "execution_count": 61,
   "id": "6508d99d",
   "metadata": {},
   "outputs": [
    {
     "data": {
      "text/plain": [
       "True"
      ]
     },
     "execution_count": 61,
     "metadata": {},
     "output_type": "execute_result"
    }
   ],
   "source": [
    "False ^ True"
   ]
  },
  {
   "cell_type": "code",
   "execution_count": 62,
   "id": "3895d099",
   "metadata": {},
   "outputs": [
    {
     "data": {
      "text/plain": [
       "False"
      ]
     },
     "execution_count": 62,
     "metadata": {},
     "output_type": "execute_result"
    }
   ],
   "source": [
    "False ^ False"
   ]
  },
  {
   "cell_type": "code",
   "execution_count": 64,
   "id": "5fc8379a",
   "metadata": {},
   "outputs": [
    {
     "data": {
      "text/plain": [
       "-11"
      ]
     },
     "execution_count": 64,
     "metadata": {},
     "output_type": "execute_result"
    }
   ],
   "source": [
    "~10"
   ]
  },
  {
   "cell_type": "code",
   "execution_count": 65,
   "id": "65eb57f9",
   "metadata": {},
   "outputs": [
    {
     "data": {
      "text/plain": [
       "40"
      ]
     },
     "execution_count": 65,
     "metadata": {},
     "output_type": "execute_result"
    }
   ],
   "source": [
    "10 << 2"
   ]
  },
  {
   "cell_type": "code",
   "execution_count": 66,
   "id": "85d70a75",
   "metadata": {},
   "outputs": [
    {
     "data": {
      "text/plain": [
       "2"
      ]
     },
     "execution_count": 66,
     "metadata": {},
     "output_type": "execute_result"
    }
   ],
   "source": [
    "10 >> 2"
   ]
  },
  {
   "cell_type": "code",
   "execution_count": null,
   "id": "769ea15a",
   "metadata": {},
   "outputs": [],
   "source": []
  }
 ],
 "metadata": {
  "kernelspec": {
   "display_name": "Python 3 (ipykernel)",
   "language": "python",
   "name": "python3"
  },
  "language_info": {
   "codemirror_mode": {
    "name": "ipython",
    "version": 3
   },
   "file_extension": ".py",
   "mimetype": "text/x-python",
   "name": "python",
   "nbconvert_exporter": "python",
   "pygments_lexer": "ipython3",
   "version": "3.8.8"
  }
 },
 "nbformat": 4,
 "nbformat_minor": 5
}
