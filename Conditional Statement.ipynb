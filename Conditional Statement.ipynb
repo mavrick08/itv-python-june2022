{
 "cells": [
  {
   "cell_type": "markdown",
   "id": "d4812ef7",
   "metadata": {},
   "source": [
    "if \n",
    "\n",
    "elif --> else if\n",
    "\n",
    "\n",
    "else"
   ]
  },
  {
   "cell_type": "code",
   "execution_count": 7,
   "id": "b544aa2e",
   "metadata": {},
   "outputs": [
    {
     "name": "stdout",
     "output_type": "stream",
     "text": [
      "Enter your age 44\n",
      "Enter the Name of your Country USA\n",
      "You are not Eligible to Vote\n"
     ]
    }
   ],
   "source": [
    "input_age = int(input(\"Enter your age \"))\n",
    "input_country = input(\"Enter the Name of your Country \")\n",
    "input_country = input_country.lower()\n",
    "if(input_age >= 18 and input_country == \"india\"):\n",
    "    print(\"You are Eligible to vote\")\n",
    "else:\n",
    "    print(\"You are not Eligible to Vote\")"
   ]
  },
  {
   "cell_type": "code",
   "execution_count": null,
   "id": "34d3d55c",
   "metadata": {},
   "outputs": [],
   "source": []
  },
  {
   "cell_type": "code",
   "execution_count": 16,
   "id": "9e492a27",
   "metadata": {},
   "outputs": [
    {
     "name": "stdout",
     "output_type": "stream",
     "text": [
      "Enter Your Percentage -44\n",
      "Invalid Data\n"
     ]
    }
   ],
   "source": [
    "inp_percentage = int(input(\"Enter Your Percentage \"))\n",
    "if(inp_percentage>=75 and inp_percentage <=100):\n",
    "    print(\"You have got Distinction class\")\n",
    "    \n",
    "elif(inp_percentage>=60 and inp_percentage<75):\n",
    "    print(\"You have got First Class\")\n",
    "    \n",
    "elif(inp_percentage>=45 and inp_percentage<60):\n",
    "    print(\"You have got Second Class\")\n",
    "    \n",
    "elif(inp_percentage>=35 and inp_percentage<45):\n",
    "    print(\"You have got Pass Class\")\n",
    "    \n",
    "elif(inp_percentage>0 and inp_percentage<35):\n",
    "    print(\"You Have Failed\")\n",
    "    \n",
    "else:\n",
    "    print(\"Invalid Data\")"
   ]
  },
  {
   "cell_type": "code",
   "execution_count": null,
   "id": "5e544f4f",
   "metadata": {},
   "outputs": [],
   "source": []
  },
  {
   "cell_type": "code",
   "execution_count": null,
   "id": "1b162f02",
   "metadata": {},
   "outputs": [],
   "source": []
  },
  {
   "cell_type": "code",
   "execution_count": 3,
   "id": "bc77ede5",
   "metadata": {},
   "outputs": [
    {
     "name": "stdout",
     "output_type": "stream",
     "text": [
      "Enter the speed of the vehicle 65\n",
      "Enter Y if it is birthday or N if it is not Y\n",
      "0 -- No Ticket \n"
     ]
    }
   ],
   "source": [
    "inp_speed = int(input(\"Enter the speed of the vehicle \"))\n",
    "is_birthday = input(\"Enter Y if it is birthday or N if it is not \")\n",
    "\n",
    "if((is_birthday == 'N' and inp_speed <= 60) or \n",
    "   (is_birthday == 'Y' and inp_speed <=65)):\n",
    "    \n",
    "    print(\"0 -- No Ticket \")\n",
    "elif((is_birthday == 'N' and inp_speed >=61 and inp_speed <=80)\n",
    "    or (is_birthday == 'Y' and inp_speed >=66 and inp_speed <=85)):\n",
    "    print(\"1 -- Small Ticket \")\n",
    "    \n",
    "elif((is_birthday == 'N' and inp_speed >=81) or \n",
    "     (is_birthday == 'Y' and inp_speed >= 86)):\n",
    "    print(\"2 --- Big Ticket\")\n",
    "    \n",
    "else:\n",
    "    print(\"Invalid Input Provided\")"
   ]
  },
  {
   "cell_type": "code",
   "execution_count": null,
   "id": "c08b3497",
   "metadata": {},
   "outputs": [],
   "source": [
    "inp_day = int(\"Enter 0 for Sun, 1 for Mon ..... 6 for Sat \")"
   ]
  },
  {
   "cell_type": "code",
   "execution_count": null,
   "id": "d346d039",
   "metadata": {},
   "outputs": [],
   "source": [
    "input_day = input('Enter WD for weekday OR WE for Weekend ')\n",
    "is_vacation = input('Enter Y if on vacation OR N if not ')\n",
    "\n",
    "if(is_vacation == \"N\" and input_day == 'WD'):\n",
    "    print(\"7:00\")\n",
    "elif(is_vacation==\"N\" and input_day == \"WE\"):\n",
    "    print(\"10:00\")\n",
    "    \n",
    "elif(is_vacation==\"Y\" and input_day == \"WD\"):\n",
    "    print(\"10:00\")\n",
    "    \n",
    "elif(is_vacation=='Y' and input_day=='WE'):\n",
    "    print(\"off\")\n",
    "    \n",
    "else:\n",
    "    print(\"Invalid Data \")"
   ]
  },
  {
   "cell_type": "code",
   "execution_count": null,
   "id": "4d380f3d",
   "metadata": {},
   "outputs": [],
   "source": []
  },
  {
   "cell_type": "code",
   "execution_count": null,
   "id": "f008e47f",
   "metadata": {},
   "outputs": [],
   "source": [
    "inp_goal = int(input(\"Enter the row goal you want to achieve \"))\n",
    "inp_small = int(input(\"How many small bricks to use \"))\n",
    "inp_big = int(input(\"How many big brick to use \"))\n",
    "total_big_brick = inp_big * 5\n",
    "total = inp_small + total_big_brick\n",
    "if(total>=goal):\n",
    "    print(\"True\")\n",
    "else:\n",
    "    print(\"False\")"
   ]
  }
 ],
 "metadata": {
  "kernelspec": {
   "display_name": "Python 3 (ipykernel)",
   "language": "python",
   "name": "python3"
  },
  "language_info": {
   "codemirror_mode": {
    "name": "ipython",
    "version": 3
   },
   "file_extension": ".py",
   "mimetype": "text/x-python",
   "name": "python",
   "nbconvert_exporter": "python",
   "pygments_lexer": "ipython3",
   "version": "3.8.8"
  }
 },
 "nbformat": 4,
 "nbformat_minor": 5
}
