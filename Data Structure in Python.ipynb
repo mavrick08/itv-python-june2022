{
 "cells": [
  {
   "cell_type": "markdown",
   "id": "5ffff473",
   "metadata": {},
   "source": [
    "1) List\n",
    "\n",
    "2) Tuple\n",
    "\n",
    "3) Dictionary\n",
    "\n",
    "4) Sets ---> Frozen Set"
   ]
  },
  {
   "cell_type": "markdown",
   "id": "1b68c31b",
   "metadata": {},
   "source": [
    "* List\n",
    "\n",
    "1) You do not require to define the size of the list.\n",
    "\n",
    "2) It is mutable (you can update)\n",
    "\n",
    "3) The indexing of list starts from 0\n",
    "\n",
    "4) you can store different datatypes inside your list"
   ]
  },
  {
   "cell_type": "code",
   "execution_count": null,
   "id": "1c6a4f7b",
   "metadata": {},
   "outputs": [],
   "source": []
  },
  {
   "cell_type": "code",
   "execution_count": 1,
   "id": "01c1e3bd",
   "metadata": {},
   "outputs": [],
   "source": [
    "mylist = [100,200,300,400,500]"
   ]
  },
  {
   "cell_type": "code",
   "execution_count": 2,
   "id": "8bd22662",
   "metadata": {},
   "outputs": [
    {
     "name": "stdout",
     "output_type": "stream",
     "text": [
      "[100, 200, 300, 400, 500]\n"
     ]
    }
   ],
   "source": [
    "print(mylist)"
   ]
  },
  {
   "cell_type": "code",
   "execution_count": 3,
   "id": "cfedd55c",
   "metadata": {},
   "outputs": [
    {
     "name": "stdout",
     "output_type": "stream",
     "text": [
      "<class 'list'>\n"
     ]
    }
   ],
   "source": [
    "print(type(mylist))"
   ]
  },
  {
   "cell_type": "code",
   "execution_count": null,
   "id": "cb0ac31a",
   "metadata": {},
   "outputs": [],
   "source": []
  },
  {
   "cell_type": "code",
   "execution_count": 4,
   "id": "975d4f4d",
   "metadata": {},
   "outputs": [],
   "source": [
    "hobbies = [\"cricket\",\"swimming\",\"coding\",\"sleeping\"]"
   ]
  },
  {
   "cell_type": "code",
   "execution_count": 5,
   "id": "9fd1426d",
   "metadata": {},
   "outputs": [
    {
     "name": "stdout",
     "output_type": "stream",
     "text": [
      "['cricket', 'swimming', 'coding', 'sleeping']\n"
     ]
    }
   ],
   "source": [
    "print(hobbies)"
   ]
  },
  {
   "cell_type": "code",
   "execution_count": null,
   "id": "c54f45bf",
   "metadata": {},
   "outputs": [],
   "source": []
  },
  {
   "cell_type": "code",
   "execution_count": 6,
   "id": "4f017db4",
   "metadata": {},
   "outputs": [],
   "source": [
    "mixed = [\"demo\",100,200,55.33,22.22,True,False,\"demo\"]"
   ]
  },
  {
   "cell_type": "code",
   "execution_count": 7,
   "id": "a8eb8c92",
   "metadata": {},
   "outputs": [
    {
     "name": "stdout",
     "output_type": "stream",
     "text": [
      "['demo', 100, 200, 55.33, 22.22, True, False, 'demo']\n"
     ]
    }
   ],
   "source": [
    "print(mixed)"
   ]
  },
  {
   "cell_type": "code",
   "execution_count": 8,
   "id": "752738dd",
   "metadata": {},
   "outputs": [
    {
     "data": {
      "text/plain": [
       "[100, 200, 300, 400, 500]"
      ]
     },
     "execution_count": 8,
     "metadata": {},
     "output_type": "execute_result"
    }
   ],
   "source": [
    "mylist"
   ]
  },
  {
   "cell_type": "code",
   "execution_count": 9,
   "id": "5198e6f6",
   "metadata": {},
   "outputs": [],
   "source": [
    "mylist.append(\"coding\")"
   ]
  },
  {
   "cell_type": "code",
   "execution_count": 10,
   "id": "6ce2fded",
   "metadata": {},
   "outputs": [
    {
     "data": {
      "text/plain": [
       "[100, 200, 300, 400, 500, 'coding']"
      ]
     },
     "execution_count": 10,
     "metadata": {},
     "output_type": "execute_result"
    }
   ],
   "source": [
    "mylist"
   ]
  },
  {
   "cell_type": "markdown",
   "id": "44877543",
   "metadata": {},
   "source": [
    "1) [100, 200, 300, 400, 500, 'coding',1000]\n",
    "2) Error\n",
    "3) None\n",
    "4) None of above"
   ]
  },
  {
   "cell_type": "code",
   "execution_count": 12,
   "id": "092fed21",
   "metadata": {},
   "outputs": [
    {
     "name": "stdout",
     "output_type": "stream",
     "text": [
      "None\n"
     ]
    }
   ],
   "source": [
    "print(mylist.append(1000))"
   ]
  },
  {
   "cell_type": "code",
   "execution_count": 13,
   "id": "b7a7dc3f",
   "metadata": {},
   "outputs": [
    {
     "data": {
      "text/plain": [
       "[100, 200, 300, 400, 500, 'coding', 1000]"
      ]
     },
     "execution_count": 13,
     "metadata": {},
     "output_type": "execute_result"
    }
   ],
   "source": [
    "mylist"
   ]
  },
  {
   "cell_type": "code",
   "execution_count": null,
   "id": "a8908890",
   "metadata": {},
   "outputs": [],
   "source": []
  },
  {
   "cell_type": "code",
   "execution_count": 14,
   "id": "5da0157a",
   "metadata": {},
   "outputs": [
    {
     "data": {
      "text/plain": [
       "[100, 200, 300, 400, 500, 'coding', 1000]"
      ]
     },
     "execution_count": 14,
     "metadata": {},
     "output_type": "execute_result"
    }
   ],
   "source": [
    "mylist"
   ]
  },
  {
   "cell_type": "code",
   "execution_count": 15,
   "id": "b76dc0e3",
   "metadata": {},
   "outputs": [],
   "source": [
    "mylist.insert(1,\"hello\")"
   ]
  },
  {
   "cell_type": "code",
   "execution_count": 16,
   "id": "ce6db3a8",
   "metadata": {},
   "outputs": [
    {
     "data": {
      "text/plain": [
       "[100, 'hello', 200, 300, 400, 500, 'coding', 1000]"
      ]
     },
     "execution_count": 16,
     "metadata": {},
     "output_type": "execute_result"
    }
   ],
   "source": [
    "mylist"
   ]
  },
  {
   "cell_type": "code",
   "execution_count": 17,
   "id": "cfa3ff7e",
   "metadata": {},
   "outputs": [
    {
     "data": {
      "text/plain": [
       "[100, 'hello', 200, 300, 400, 500, 'coding', 1000]"
      ]
     },
     "execution_count": 17,
     "metadata": {},
     "output_type": "execute_result"
    }
   ],
   "source": [
    "mylist"
   ]
  },
  {
   "cell_type": "code",
   "execution_count": 18,
   "id": "304f5112",
   "metadata": {},
   "outputs": [],
   "source": [
    "mylist.clear()"
   ]
  },
  {
   "cell_type": "code",
   "execution_count": 19,
   "id": "07352be9",
   "metadata": {},
   "outputs": [
    {
     "data": {
      "text/plain": [
       "[]"
      ]
     },
     "execution_count": 19,
     "metadata": {},
     "output_type": "execute_result"
    }
   ],
   "source": [
    "mylist"
   ]
  },
  {
   "cell_type": "code",
   "execution_count": 20,
   "id": "0cf821d2",
   "metadata": {},
   "outputs": [],
   "source": [
    "mylist = [100, 'hello', 200, 300, 400, 500, 'coding', 1000]"
   ]
  },
  {
   "cell_type": "code",
   "execution_count": 21,
   "id": "582b0b05",
   "metadata": {},
   "outputs": [
    {
     "data": {
      "text/plain": [
       "[100, 'hello', 200, 300, 400, 500, 'coding', 1000]"
      ]
     },
     "execution_count": 21,
     "metadata": {},
     "output_type": "execute_result"
    }
   ],
   "source": [
    "mylist"
   ]
  },
  {
   "cell_type": "code",
   "execution_count": 22,
   "id": "9f3513f8",
   "metadata": {},
   "outputs": [
    {
     "data": {
      "text/plain": [
       "1000"
      ]
     },
     "execution_count": 22,
     "metadata": {},
     "output_type": "execute_result"
    }
   ],
   "source": [
    "mylist.pop()"
   ]
  },
  {
   "cell_type": "code",
   "execution_count": 23,
   "id": "3eb9e679",
   "metadata": {},
   "outputs": [
    {
     "data": {
      "text/plain": [
       "[100, 'hello', 200, 300, 400, 500, 'coding']"
      ]
     },
     "execution_count": 23,
     "metadata": {},
     "output_type": "execute_result"
    }
   ],
   "source": [
    "mylist"
   ]
  },
  {
   "cell_type": "code",
   "execution_count": 24,
   "id": "f7d598e1",
   "metadata": {},
   "outputs": [
    {
     "data": {
      "text/plain": [
       "'hello'"
      ]
     },
     "execution_count": 24,
     "metadata": {},
     "output_type": "execute_result"
    }
   ],
   "source": [
    "mylist.pop(1)"
   ]
  },
  {
   "cell_type": "code",
   "execution_count": 25,
   "id": "1e7474b4",
   "metadata": {},
   "outputs": [
    {
     "data": {
      "text/plain": [
       "[100, 200, 300, 400, 500, 'coding']"
      ]
     },
     "execution_count": 25,
     "metadata": {},
     "output_type": "execute_result"
    }
   ],
   "source": [
    "mylist"
   ]
  },
  {
   "cell_type": "code",
   "execution_count": 26,
   "id": "744a6f47",
   "metadata": {},
   "outputs": [],
   "source": [
    "mylist.remove('coding')"
   ]
  },
  {
   "cell_type": "code",
   "execution_count": 27,
   "id": "e006b068",
   "metadata": {},
   "outputs": [
    {
     "data": {
      "text/plain": [
       "[100, 200, 300, 400, 500]"
      ]
     },
     "execution_count": 27,
     "metadata": {},
     "output_type": "execute_result"
    }
   ],
   "source": [
    "mylist"
   ]
  },
  {
   "cell_type": "code",
   "execution_count": 29,
   "id": "c088a44b",
   "metadata": {},
   "outputs": [
    {
     "ename": "ValueError",
     "evalue": "list.remove(x): x not in list",
     "output_type": "error",
     "traceback": [
      "\u001b[0;31m---------------------------------------------------------------------------\u001b[0m",
      "\u001b[0;31mValueError\u001b[0m                                Traceback (most recent call last)",
      "Input \u001b[0;32mIn [29]\u001b[0m, in \u001b[0;36m<module>\u001b[0;34m\u001b[0m\n\u001b[0;32m----> 1\u001b[0m \u001b[43mmylist\u001b[49m\u001b[38;5;241;43m.\u001b[39;49m\u001b[43mremove\u001b[49m\u001b[43m(\u001b[49m\u001b[38;5;124;43m'\u001b[39;49m\u001b[38;5;124;43mapple\u001b[39;49m\u001b[38;5;124;43m'\u001b[39;49m\u001b[43m)\u001b[49m\n",
      "\u001b[0;31mValueError\u001b[0m: list.remove(x): x not in list"
     ]
    }
   ],
   "source": [
    "mylist.remove('apple')"
   ]
  },
  {
   "cell_type": "code",
   "execution_count": 31,
   "id": "afcf4587",
   "metadata": {},
   "outputs": [
    {
     "ename": "TypeError",
     "evalue": "remove() takes exactly one argument (2 given)",
     "output_type": "error",
     "traceback": [
      "\u001b[0;31m---------------------------------------------------------------------------\u001b[0m",
      "\u001b[0;31mTypeError\u001b[0m                                 Traceback (most recent call last)",
      "Input \u001b[0;32mIn [31]\u001b[0m, in \u001b[0;36m<module>\u001b[0;34m\u001b[0m\n\u001b[0;32m----> 1\u001b[0m \u001b[43mmylist\u001b[49m\u001b[38;5;241;43m.\u001b[39;49m\u001b[43mremove\u001b[49m\u001b[43m(\u001b[49m\u001b[38;5;241;43m100\u001b[39;49m\u001b[43m,\u001b[49m\u001b[38;5;241;43m200\u001b[39;49m\u001b[43m)\u001b[49m\n",
      "\u001b[0;31mTypeError\u001b[0m: remove() takes exactly one argument (2 given)"
     ]
    }
   ],
   "source": [
    "mylist.remove(100,200)"
   ]
  },
  {
   "cell_type": "code",
   "execution_count": 33,
   "id": "21d2767d",
   "metadata": {},
   "outputs": [
    {
     "data": {
      "text/plain": [
       "[100, 200, 300, 400, 500]"
      ]
     },
     "execution_count": 33,
     "metadata": {},
     "output_type": "execute_result"
    }
   ],
   "source": [
    "mylist"
   ]
  },
  {
   "cell_type": "code",
   "execution_count": 32,
   "id": "a897e509",
   "metadata": {},
   "outputs": [
    {
     "data": {
      "text/plain": [
       "1"
      ]
     },
     "execution_count": 32,
     "metadata": {},
     "output_type": "execute_result"
    }
   ],
   "source": [
    "mylist.count(100)"
   ]
  },
  {
   "cell_type": "code",
   "execution_count": 34,
   "id": "2d273587",
   "metadata": {},
   "outputs": [
    {
     "data": {
      "text/plain": [
       "3"
      ]
     },
     "execution_count": 34,
     "metadata": {},
     "output_type": "execute_result"
    }
   ],
   "source": [
    "mylist.index(400)"
   ]
  },
  {
   "cell_type": "code",
   "execution_count": 35,
   "id": "f103277b",
   "metadata": {},
   "outputs": [
    {
     "data": {
      "text/plain": [
       "500"
      ]
     },
     "execution_count": 35,
     "metadata": {},
     "output_type": "execute_result"
    }
   ],
   "source": [
    "mylist[4]"
   ]
  },
  {
   "cell_type": "code",
   "execution_count": null,
   "id": "638a5e4d",
   "metadata": {},
   "outputs": [],
   "source": []
  },
  {
   "cell_type": "code",
   "execution_count": 40,
   "id": "03a4a47c",
   "metadata": {},
   "outputs": [],
   "source": [
    "number = [33,12,300,50,2,44]"
   ]
  },
  {
   "cell_type": "code",
   "execution_count": 37,
   "id": "60513858",
   "metadata": {},
   "outputs": [
    {
     "data": {
      "text/plain": [
       "[33, 12, 300, 50, 2, 44]"
      ]
     },
     "execution_count": 37,
     "metadata": {},
     "output_type": "execute_result"
    }
   ],
   "source": [
    "number"
   ]
  },
  {
   "cell_type": "code",
   "execution_count": 38,
   "id": "f0e47a35",
   "metadata": {},
   "outputs": [],
   "source": [
    "number.sort()"
   ]
  },
  {
   "cell_type": "code",
   "execution_count": 39,
   "id": "07a24d16",
   "metadata": {},
   "outputs": [
    {
     "name": "stdout",
     "output_type": "stream",
     "text": [
      "[2, 12, 33, 44, 50, 300]\n"
     ]
    }
   ],
   "source": [
    "print(number)"
   ]
  },
  {
   "cell_type": "code",
   "execution_count": 41,
   "id": "34c6fc46",
   "metadata": {},
   "outputs": [
    {
     "data": {
      "text/plain": [
       "[33, 12, 300, 50, 2, 44]"
      ]
     },
     "execution_count": 41,
     "metadata": {},
     "output_type": "execute_result"
    }
   ],
   "source": [
    "number"
   ]
  },
  {
   "cell_type": "code",
   "execution_count": 42,
   "id": "79275509",
   "metadata": {},
   "outputs": [],
   "source": [
    "number.sort(reverse=True)"
   ]
  },
  {
   "cell_type": "code",
   "execution_count": 43,
   "id": "d2addab0",
   "metadata": {},
   "outputs": [
    {
     "data": {
      "text/plain": [
       "[300, 50, 44, 33, 12, 2]"
      ]
     },
     "execution_count": 43,
     "metadata": {},
     "output_type": "execute_result"
    }
   ],
   "source": [
    "number"
   ]
  },
  {
   "cell_type": "code",
   "execution_count": null,
   "id": "399c7817",
   "metadata": {},
   "outputs": [],
   "source": []
  },
  {
   "cell_type": "code",
   "execution_count": 44,
   "id": "fd2ac8fc",
   "metadata": {},
   "outputs": [],
   "source": [
    "city = [\"mumbai\",\"pune\",\"chennai\",\"ahmedabad\"]"
   ]
  },
  {
   "cell_type": "code",
   "execution_count": 45,
   "id": "9d933c4e",
   "metadata": {},
   "outputs": [
    {
     "data": {
      "text/plain": [
       "['mumbai', 'pune', 'chennai', 'ahmedabad']"
      ]
     },
     "execution_count": 45,
     "metadata": {},
     "output_type": "execute_result"
    }
   ],
   "source": [
    "city"
   ]
  },
  {
   "cell_type": "code",
   "execution_count": 46,
   "id": "06b70ab8",
   "metadata": {},
   "outputs": [],
   "source": [
    "city.sort()"
   ]
  },
  {
   "cell_type": "code",
   "execution_count": 47,
   "id": "6a59c5a7",
   "metadata": {},
   "outputs": [
    {
     "data": {
      "text/plain": [
       "['ahmedabad', 'chennai', 'mumbai', 'pune']"
      ]
     },
     "execution_count": 47,
     "metadata": {},
     "output_type": "execute_result"
    }
   ],
   "source": [
    "city"
   ]
  },
  {
   "cell_type": "code",
   "execution_count": 48,
   "id": "df9d581c",
   "metadata": {},
   "outputs": [],
   "source": [
    "city = ['pune','punjab','panji','peru']"
   ]
  },
  {
   "cell_type": "code",
   "execution_count": 49,
   "id": "ee2eecb3",
   "metadata": {},
   "outputs": [],
   "source": [
    "city.sort()"
   ]
  },
  {
   "cell_type": "code",
   "execution_count": 50,
   "id": "9086d6f8",
   "metadata": {},
   "outputs": [
    {
     "data": {
      "text/plain": [
       "['panji', 'peru', 'pune', 'punjab']"
      ]
     },
     "execution_count": 50,
     "metadata": {},
     "output_type": "execute_result"
    }
   ],
   "source": [
    "city"
   ]
  },
  {
   "cell_type": "code",
   "execution_count": null,
   "id": "f4c3f1ec",
   "metadata": {},
   "outputs": [],
   "source": []
  },
  {
   "cell_type": "code",
   "execution_count": 51,
   "id": "0cdf5c76",
   "metadata": {},
   "outputs": [],
   "source": [
    "number = [33,12,300,50,2,44]"
   ]
  },
  {
   "cell_type": "code",
   "execution_count": 52,
   "id": "01496e42",
   "metadata": {},
   "outputs": [],
   "source": [
    "number.reverse()"
   ]
  },
  {
   "cell_type": "code",
   "execution_count": 53,
   "id": "77729551",
   "metadata": {},
   "outputs": [
    {
     "data": {
      "text/plain": [
       "[44, 2, 50, 300, 12, 33]"
      ]
     },
     "execution_count": 53,
     "metadata": {},
     "output_type": "execute_result"
    }
   ],
   "source": [
    "number"
   ]
  },
  {
   "cell_type": "code",
   "execution_count": null,
   "id": "875083f1",
   "metadata": {},
   "outputs": [],
   "source": []
  },
  {
   "cell_type": "code",
   "execution_count": 1,
   "id": "18021e7b",
   "metadata": {},
   "outputs": [],
   "source": [
    "mylist = [100,200,300,400,500]"
   ]
  },
  {
   "cell_type": "code",
   "execution_count": 2,
   "id": "097a43d7",
   "metadata": {},
   "outputs": [
    {
     "data": {
      "text/plain": [
       "[100, 200, 300, 400, 500]"
      ]
     },
     "execution_count": 2,
     "metadata": {},
     "output_type": "execute_result"
    }
   ],
   "source": [
    "mylist"
   ]
  },
  {
   "cell_type": "code",
   "execution_count": 3,
   "id": "9d4c7ac2",
   "metadata": {},
   "outputs": [],
   "source": [
    "copied_list = mylist.copy()"
   ]
  },
  {
   "cell_type": "code",
   "execution_count": 4,
   "id": "06ef02d1",
   "metadata": {},
   "outputs": [
    {
     "data": {
      "text/plain": [
       "[100, 200, 300, 400, 500]"
      ]
     },
     "execution_count": 4,
     "metadata": {},
     "output_type": "execute_result"
    }
   ],
   "source": [
    "copied_list"
   ]
  },
  {
   "cell_type": "code",
   "execution_count": 5,
   "id": "45b22dda",
   "metadata": {},
   "outputs": [],
   "source": [
    "copied_list.append('hello')"
   ]
  },
  {
   "cell_type": "code",
   "execution_count": 6,
   "id": "882038e2",
   "metadata": {},
   "outputs": [
    {
     "data": {
      "text/plain": [
       "[100, 200, 300, 400, 500, 'hello']"
      ]
     },
     "execution_count": 6,
     "metadata": {},
     "output_type": "execute_result"
    }
   ],
   "source": [
    "copied_list"
   ]
  },
  {
   "cell_type": "code",
   "execution_count": 7,
   "id": "fb22e6ea",
   "metadata": {},
   "outputs": [
    {
     "data": {
      "text/plain": [
       "[100, 200, 300, 400, 500]"
      ]
     },
     "execution_count": 7,
     "metadata": {},
     "output_type": "execute_result"
    }
   ],
   "source": [
    "mylist"
   ]
  },
  {
   "cell_type": "code",
   "execution_count": 8,
   "id": "46570be8",
   "metadata": {},
   "outputs": [
    {
     "data": {
      "text/plain": [
       "500"
      ]
     },
     "execution_count": 8,
     "metadata": {},
     "output_type": "execute_result"
    }
   ],
   "source": [
    "mylist.pop()"
   ]
  },
  {
   "cell_type": "code",
   "execution_count": 9,
   "id": "2f61f0df",
   "metadata": {},
   "outputs": [
    {
     "data": {
      "text/plain": [
       "[100, 200, 300, 400]"
      ]
     },
     "execution_count": 9,
     "metadata": {},
     "output_type": "execute_result"
    }
   ],
   "source": [
    "mylist"
   ]
  },
  {
   "cell_type": "code",
   "execution_count": 10,
   "id": "bec3a0d8",
   "metadata": {},
   "outputs": [
    {
     "data": {
      "text/plain": [
       "[100, 200, 300, 400, 500, 'hello']"
      ]
     },
     "execution_count": 10,
     "metadata": {},
     "output_type": "execute_result"
    }
   ],
   "source": [
    "copied_list"
   ]
  },
  {
   "cell_type": "code",
   "execution_count": null,
   "id": "4b0f1b43",
   "metadata": {},
   "outputs": [],
   "source": []
  },
  {
   "cell_type": "code",
   "execution_count": 11,
   "id": "23dc372d",
   "metadata": {},
   "outputs": [
    {
     "data": {
      "text/plain": [
       "[100, 200, 300, 400]"
      ]
     },
     "execution_count": 11,
     "metadata": {},
     "output_type": "execute_result"
    }
   ],
   "source": [
    "mylist"
   ]
  },
  {
   "cell_type": "code",
   "execution_count": 12,
   "id": "81c7fb59",
   "metadata": {},
   "outputs": [],
   "source": [
    "mycopy = mylist"
   ]
  },
  {
   "cell_type": "code",
   "execution_count": 13,
   "id": "bf603104",
   "metadata": {},
   "outputs": [
    {
     "data": {
      "text/plain": [
       "[100, 200, 300, 400]"
      ]
     },
     "execution_count": 13,
     "metadata": {},
     "output_type": "execute_result"
    }
   ],
   "source": [
    "mycopy"
   ]
  },
  {
   "cell_type": "code",
   "execution_count": 14,
   "id": "fd4fd235",
   "metadata": {},
   "outputs": [
    {
     "data": {
      "text/plain": [
       "[100, 200, 300, 400]"
      ]
     },
     "execution_count": 14,
     "metadata": {},
     "output_type": "execute_result"
    }
   ],
   "source": [
    "mylist"
   ]
  },
  {
   "cell_type": "code",
   "execution_count": 15,
   "id": "2a35caa9",
   "metadata": {},
   "outputs": [],
   "source": [
    "mycopy.append('test')"
   ]
  },
  {
   "cell_type": "code",
   "execution_count": 16,
   "id": "fe3090a8",
   "metadata": {},
   "outputs": [
    {
     "data": {
      "text/plain": [
       "[100, 200, 300, 400, 'test']"
      ]
     },
     "execution_count": 16,
     "metadata": {},
     "output_type": "execute_result"
    }
   ],
   "source": [
    "mycopy"
   ]
  },
  {
   "cell_type": "code",
   "execution_count": 17,
   "id": "ae6caff4",
   "metadata": {},
   "outputs": [
    {
     "data": {
      "text/plain": [
       "[100, 200, 300, 400, 'test']"
      ]
     },
     "execution_count": 17,
     "metadata": {},
     "output_type": "execute_result"
    }
   ],
   "source": [
    "mylist"
   ]
  },
  {
   "cell_type": "code",
   "execution_count": 18,
   "id": "06e32a6e",
   "metadata": {},
   "outputs": [],
   "source": [
    "mylist.remove(100)"
   ]
  },
  {
   "cell_type": "code",
   "execution_count": 19,
   "id": "8ffb3cfa",
   "metadata": {},
   "outputs": [
    {
     "data": {
      "text/plain": [
       "[200, 300, 400, 'test']"
      ]
     },
     "execution_count": 19,
     "metadata": {},
     "output_type": "execute_result"
    }
   ],
   "source": [
    "mylist"
   ]
  },
  {
   "cell_type": "code",
   "execution_count": 20,
   "id": "56cd3d1d",
   "metadata": {},
   "outputs": [
    {
     "data": {
      "text/plain": [
       "[200, 300, 400, 'test']"
      ]
     },
     "execution_count": 20,
     "metadata": {},
     "output_type": "execute_result"
    }
   ],
   "source": [
    "mycopy"
   ]
  },
  {
   "cell_type": "code",
   "execution_count": null,
   "id": "037d8ad1",
   "metadata": {},
   "outputs": [],
   "source": []
  },
  {
   "cell_type": "code",
   "execution_count": 21,
   "id": "429f0640",
   "metadata": {},
   "outputs": [],
   "source": [
    "mylist.extend([\"mumbai\",\"pune\",\"chennai\",\"delhi\",\"nagpur\"])"
   ]
  },
  {
   "cell_type": "code",
   "execution_count": 22,
   "id": "4d45286c",
   "metadata": {},
   "outputs": [
    {
     "data": {
      "text/plain": [
       "[200, 300, 400, 'test', 'mumbai', 'pune', 'chennai', 'delhi', 'nagpur']"
      ]
     },
     "execution_count": 22,
     "metadata": {},
     "output_type": "execute_result"
    }
   ],
   "source": [
    "mylist"
   ]
  },
  {
   "cell_type": "code",
   "execution_count": null,
   "id": "6425f40c",
   "metadata": {},
   "outputs": [],
   "source": []
  },
  {
   "cell_type": "code",
   "execution_count": 23,
   "id": "1e05dfd0",
   "metadata": {},
   "outputs": [],
   "source": [
    "mylist.append(['python','java','c'])"
   ]
  },
  {
   "cell_type": "code",
   "execution_count": 24,
   "id": "c4cecaa6",
   "metadata": {},
   "outputs": [
    {
     "data": {
      "text/plain": [
       "[200,\n",
       " 300,\n",
       " 400,\n",
       " 'test',\n",
       " 'mumbai',\n",
       " 'pune',\n",
       " 'chennai',\n",
       " 'delhi',\n",
       " 'nagpur',\n",
       " ['python', 'java', 'c']]"
      ]
     },
     "execution_count": 24,
     "metadata": {},
     "output_type": "execute_result"
    }
   ],
   "source": [
    "mylist"
   ]
  },
  {
   "cell_type": "code",
   "execution_count": 25,
   "id": "0acb3037",
   "metadata": {},
   "outputs": [
    {
     "data": {
      "text/plain": [
       "['python', 'java', 'c']"
      ]
     },
     "execution_count": 25,
     "metadata": {},
     "output_type": "execute_result"
    }
   ],
   "source": [
    "mylist[9]"
   ]
  },
  {
   "cell_type": "code",
   "execution_count": 26,
   "id": "e026c8d1",
   "metadata": {},
   "outputs": [
    {
     "data": {
      "text/plain": [
       "'java'"
      ]
     },
     "execution_count": 26,
     "metadata": {},
     "output_type": "execute_result"
    }
   ],
   "source": [
    "mylist[9][1]"
   ]
  },
  {
   "cell_type": "code",
   "execution_count": 27,
   "id": "9c4900e8",
   "metadata": {},
   "outputs": [],
   "source": [
    "nested_list = [\n",
    "    [\n",
    "        [\"hello\",\"welcome\",33]\n",
    "    ],\n",
    "    [\n",
    "        [222,333,444]\n",
    "    ]\n",
    "   \n",
    "]"
   ]
  },
  {
   "cell_type": "code",
   "execution_count": 28,
   "id": "5d5b7f45",
   "metadata": {},
   "outputs": [
    {
     "data": {
      "text/plain": [
       "[[['hello', 'welcome', 33]], [[222, 333, 444]]]"
      ]
     },
     "execution_count": 28,
     "metadata": {},
     "output_type": "execute_result"
    }
   ],
   "source": [
    "nested_list"
   ]
  },
  {
   "cell_type": "code",
   "execution_count": 29,
   "id": "5fb06523",
   "metadata": {},
   "outputs": [
    {
     "data": {
      "text/plain": [
       "[['hello', 'welcome', 33]]"
      ]
     },
     "execution_count": 29,
     "metadata": {},
     "output_type": "execute_result"
    }
   ],
   "source": [
    "nested_list[0]"
   ]
  },
  {
   "cell_type": "code",
   "execution_count": 30,
   "id": "0741f1c1",
   "metadata": {},
   "outputs": [
    {
     "data": {
      "text/plain": [
       "['hello', 'welcome', 33]"
      ]
     },
     "execution_count": 30,
     "metadata": {},
     "output_type": "execute_result"
    }
   ],
   "source": [
    "nested_list[0][0]"
   ]
  },
  {
   "cell_type": "code",
   "execution_count": 31,
   "id": "516bf936",
   "metadata": {},
   "outputs": [
    {
     "data": {
      "text/plain": [
       "'welcome'"
      ]
     },
     "execution_count": 31,
     "metadata": {},
     "output_type": "execute_result"
    }
   ],
   "source": [
    "nested_list[0][0][1]"
   ]
  },
  {
   "cell_type": "code",
   "execution_count": 34,
   "id": "a38103db",
   "metadata": {},
   "outputs": [
    {
     "data": {
      "text/plain": [
       "444"
      ]
     },
     "execution_count": 34,
     "metadata": {},
     "output_type": "execute_result"
    }
   ],
   "source": [
    "nested_list[1][0][2]"
   ]
  },
  {
   "cell_type": "code",
   "execution_count": 35,
   "id": "bf28ef60",
   "metadata": {},
   "outputs": [],
   "source": [
    "l = [\n",
    "    [\n",
    "        [\n",
    "            [\n",
    "                [\"i\",\"have\",\"the\"],[\"knowledge\",\"of\",\"programming\"]\n",
    "            ]\n",
    "        ]\n",
    "    ]\n",
    "]"
   ]
  },
  {
   "cell_type": "code",
   "execution_count": 36,
   "id": "0d8bc648",
   "metadata": {},
   "outputs": [
    {
     "data": {
      "text/plain": [
       "[[[[['i', 'have', 'the'], ['knowledge', 'of', 'programming']]]]]"
      ]
     },
     "execution_count": 36,
     "metadata": {},
     "output_type": "execute_result"
    }
   ],
   "source": [
    "l"
   ]
  },
  {
   "cell_type": "code",
   "execution_count": 39,
   "id": "c757992f",
   "metadata": {},
   "outputs": [
    {
     "data": {
      "text/plain": [
       "[[[[['i', 'have', 'the'], ['knowledge', 'of', 'programming']]]]]"
      ]
     },
     "execution_count": 39,
     "metadata": {},
     "output_type": "execute_result"
    }
   ],
   "source": [
    "l"
   ]
  },
  {
   "cell_type": "code",
   "execution_count": 40,
   "id": "96a000cd",
   "metadata": {},
   "outputs": [
    {
     "data": {
      "text/plain": [
       "[[[['i', 'have', 'the'], ['knowledge', 'of', 'programming']]]]"
      ]
     },
     "execution_count": 40,
     "metadata": {},
     "output_type": "execute_result"
    }
   ],
   "source": [
    "l[0]"
   ]
  },
  {
   "cell_type": "code",
   "execution_count": 41,
   "id": "b672e5b3",
   "metadata": {},
   "outputs": [
    {
     "data": {
      "text/plain": [
       "[[['i', 'have', 'the'], ['knowledge', 'of', 'programming']]]"
      ]
     },
     "execution_count": 41,
     "metadata": {},
     "output_type": "execute_result"
    }
   ],
   "source": [
    "l[0][0]"
   ]
  },
  {
   "cell_type": "code",
   "execution_count": 42,
   "id": "9017dc07",
   "metadata": {},
   "outputs": [
    {
     "data": {
      "text/plain": [
       "[['i', 'have', 'the'], ['knowledge', 'of', 'programming']]"
      ]
     },
     "execution_count": 42,
     "metadata": {},
     "output_type": "execute_result"
    }
   ],
   "source": [
    "l[0][0][0]"
   ]
  },
  {
   "cell_type": "code",
   "execution_count": 43,
   "id": "2e4bcbc2",
   "metadata": {},
   "outputs": [
    {
     "data": {
      "text/plain": [
       "['i', 'have', 'the']"
      ]
     },
     "execution_count": 43,
     "metadata": {},
     "output_type": "execute_result"
    }
   ],
   "source": [
    "l[0][0][0][0]"
   ]
  },
  {
   "cell_type": "code",
   "execution_count": 44,
   "id": "0bffde88",
   "metadata": {},
   "outputs": [
    {
     "data": {
      "text/plain": [
       "'have'"
      ]
     },
     "execution_count": 44,
     "metadata": {},
     "output_type": "execute_result"
    }
   ],
   "source": [
    "l[0][0][0][0][1]"
   ]
  },
  {
   "cell_type": "code",
   "execution_count": 45,
   "id": "687efac0",
   "metadata": {},
   "outputs": [
    {
     "data": {
      "text/plain": [
       "[[[['i', 'have', 'the'], ['knowledge', 'of', 'programming']]]]"
      ]
     },
     "execution_count": 45,
     "metadata": {},
     "output_type": "execute_result"
    }
   ],
   "source": [
    "l[0]"
   ]
  },
  {
   "cell_type": "code",
   "execution_count": 46,
   "id": "645f3809",
   "metadata": {},
   "outputs": [
    {
     "data": {
      "text/plain": [
       "[[['i', 'have', 'the'], ['knowledge', 'of', 'programming']]]"
      ]
     },
     "execution_count": 46,
     "metadata": {},
     "output_type": "execute_result"
    }
   ],
   "source": [
    "l[0][0]"
   ]
  },
  {
   "cell_type": "code",
   "execution_count": 47,
   "id": "43ecaaf2",
   "metadata": {},
   "outputs": [
    {
     "data": {
      "text/plain": [
       "[['i', 'have', 'the'], ['knowledge', 'of', 'programming']]"
      ]
     },
     "execution_count": 47,
     "metadata": {},
     "output_type": "execute_result"
    }
   ],
   "source": [
    "l[0][0][0]"
   ]
  },
  {
   "cell_type": "code",
   "execution_count": 49,
   "id": "b332a7a2",
   "metadata": {},
   "outputs": [
    {
     "data": {
      "text/plain": [
       "'programming'"
      ]
     },
     "execution_count": 49,
     "metadata": {},
     "output_type": "execute_result"
    }
   ],
   "source": [
    "l[0][0][0][1][2]"
   ]
  },
  {
   "cell_type": "code",
   "execution_count": null,
   "id": "9a816668",
   "metadata": {},
   "outputs": [],
   "source": []
  },
  {
   "cell_type": "code",
   "execution_count": 50,
   "id": "931c4085",
   "metadata": {},
   "outputs": [],
   "source": [
    "new_list = [[[[['i', 'have', 'the', 'power', 'of', 'coding'],\n",
    "    ['knowledge', 'in', 'programming', 'python']]]]]"
   ]
  },
  {
   "cell_type": "code",
   "execution_count": 51,
   "id": "28a0ac31",
   "metadata": {},
   "outputs": [
    {
     "data": {
      "text/plain": [
       "[[[[['i', 'have', 'the', 'power', 'of', 'coding'],\n",
       "    ['knowledge', 'in', 'programming', 'python']]]]]"
      ]
     },
     "execution_count": 51,
     "metadata": {},
     "output_type": "execute_result"
    }
   ],
   "source": [
    "new_list"
   ]
  },
  {
   "cell_type": "code",
   "execution_count": 57,
   "id": "df523c62",
   "metadata": {},
   "outputs": [
    {
     "data": {
      "text/plain": [
       "'i'"
      ]
     },
     "execution_count": 57,
     "metadata": {},
     "output_type": "execute_result"
    }
   ],
   "source": [
    "new_list[0][0][0][0][0]"
   ]
  },
  {
   "cell_type": "code",
   "execution_count": 58,
   "id": "e87b66e1",
   "metadata": {},
   "outputs": [
    {
     "data": {
      "text/plain": [
       "'power'"
      ]
     },
     "execution_count": 58,
     "metadata": {},
     "output_type": "execute_result"
    }
   ],
   "source": [
    "new_list[0][0][0][0][3]"
   ]
  },
  {
   "cell_type": "code",
   "execution_count": 60,
   "id": "aef8f427",
   "metadata": {},
   "outputs": [
    {
     "data": {
      "text/plain": [
       "'knowledge'"
      ]
     },
     "execution_count": 60,
     "metadata": {},
     "output_type": "execute_result"
    }
   ],
   "source": [
    "new_list[0][0][0][1][0]"
   ]
  },
  {
   "cell_type": "code",
   "execution_count": 61,
   "id": "5e3c0d1f",
   "metadata": {},
   "outputs": [
    {
     "data": {
      "text/plain": [
       "'in'"
      ]
     },
     "execution_count": 61,
     "metadata": {},
     "output_type": "execute_result"
    }
   ],
   "source": [
    "new_list[0][0][0][1][1]"
   ]
  },
  {
   "cell_type": "code",
   "execution_count": null,
   "id": "9f78793d",
   "metadata": {},
   "outputs": [],
   "source": []
  },
  {
   "cell_type": "code",
   "execution_count": null,
   "id": "556f2495",
   "metadata": {},
   "outputs": [],
   "source": []
  },
  {
   "cell_type": "markdown",
   "id": "73e4a04a",
   "metadata": {},
   "source": [
    "## Tuples"
   ]
  },
  {
   "cell_type": "markdown",
   "id": "a87222dc",
   "metadata": {},
   "source": [
    "* Tuple is immutable -- (cannot be updated)\n",
    "\n",
    "* Tuples can store duplicate values.\n",
    "\n",
    "* Tuple can store any data type \n",
    "\n",
    "* the indexing in tuple starts from 0"
   ]
  },
  {
   "cell_type": "code",
   "execution_count": 62,
   "id": "19218ea5",
   "metadata": {},
   "outputs": [],
   "source": [
    "mytup = (100,200,300,400,500)"
   ]
  },
  {
   "cell_type": "code",
   "execution_count": 63,
   "id": "3e2318b1",
   "metadata": {},
   "outputs": [
    {
     "name": "stdout",
     "output_type": "stream",
     "text": [
      "(100, 200, 300, 400, 500)\n"
     ]
    }
   ],
   "source": [
    "print(mytup)"
   ]
  },
  {
   "cell_type": "code",
   "execution_count": 67,
   "id": "04d4364f",
   "metadata": {},
   "outputs": [
    {
     "name": "stdout",
     "output_type": "stream",
     "text": [
      "<class 'int'>\n"
     ]
    }
   ],
   "source": [
    "print(type(mytup[0]))"
   ]
  },
  {
   "cell_type": "code",
   "execution_count": 65,
   "id": "b7b2223e",
   "metadata": {},
   "outputs": [],
   "source": [
    "mytup1 = ('mumbai','pune',100,200,33.33,True,'mumbai')"
   ]
  },
  {
   "cell_type": "code",
   "execution_count": 66,
   "id": "56da3ae6",
   "metadata": {},
   "outputs": [
    {
     "data": {
      "text/plain": [
       "('mumbai', 'pune', 100, 200, 33.33, True, 'mumbai')"
      ]
     },
     "execution_count": 66,
     "metadata": {},
     "output_type": "execute_result"
    }
   ],
   "source": [
    "mytup1"
   ]
  },
  {
   "cell_type": "code",
   "execution_count": null,
   "id": "6fe91885",
   "metadata": {},
   "outputs": [],
   "source": []
  },
  {
   "cell_type": "code",
   "execution_count": 68,
   "id": "b71238bc",
   "metadata": {},
   "outputs": [
    {
     "data": {
      "text/plain": [
       "1"
      ]
     },
     "execution_count": 68,
     "metadata": {},
     "output_type": "execute_result"
    }
   ],
   "source": [
    "mytup1.index('pune')"
   ]
  },
  {
   "cell_type": "code",
   "execution_count": 69,
   "id": "2fea0f91",
   "metadata": {},
   "outputs": [
    {
     "data": {
      "text/plain": [
       "2"
      ]
     },
     "execution_count": 69,
     "metadata": {},
     "output_type": "execute_result"
    }
   ],
   "source": [
    "mytup1.count('mumbai')"
   ]
  },
  {
   "cell_type": "code",
   "execution_count": null,
   "id": "ee651b6f",
   "metadata": {},
   "outputs": [],
   "source": []
  },
  {
   "cell_type": "code",
   "execution_count": 70,
   "id": "e5fced8c",
   "metadata": {},
   "outputs": [],
   "source": [
    "nested_tup = (\n",
    "    \n",
    "    (100,200,300,400),\n",
    "    (\"mumbai\",\"pune\",\"chennai\")\n",
    "    \n",
    ")"
   ]
  },
  {
   "cell_type": "code",
   "execution_count": 71,
   "id": "157a031a",
   "metadata": {},
   "outputs": [
    {
     "data": {
      "text/plain": [
       "((100, 200, 300, 400), ('mumbai', 'pune', 'chennai'))"
      ]
     },
     "execution_count": 71,
     "metadata": {},
     "output_type": "execute_result"
    }
   ],
   "source": [
    "nested_tup"
   ]
  },
  {
   "cell_type": "code",
   "execution_count": null,
   "id": "ad53cc9e",
   "metadata": {},
   "outputs": [],
   "source": []
  },
  {
   "cell_type": "code",
   "execution_count": 72,
   "id": "d3ed4986",
   "metadata": {},
   "outputs": [],
   "source": [
    "mixed = [\n",
    "    \n",
    "    (1000,2000,3000,4000),\n",
    "    (\"mumbai\",\"new york\",\"tokyo\"),\n",
    "    [\"hello\",\"hi\",\"bye\"]\n",
    "]\n"
   ]
  },
  {
   "cell_type": "code",
   "execution_count": 73,
   "id": "5b4ce0ae",
   "metadata": {},
   "outputs": [
    {
     "data": {
      "text/plain": [
       "[(1000, 2000, 3000, 4000),\n",
       " ('mumbai', 'new york', 'tokyo'),\n",
       " ['hello', 'hi', 'bye']]"
      ]
     },
     "execution_count": 73,
     "metadata": {},
     "output_type": "execute_result"
    }
   ],
   "source": [
    "mixed"
   ]
  },
  {
   "cell_type": "code",
   "execution_count": 76,
   "id": "c406310f",
   "metadata": {},
   "outputs": [
    {
     "data": {
      "text/plain": [
       "(1000, 2000, 3000, 4000)"
      ]
     },
     "execution_count": 76,
     "metadata": {},
     "output_type": "execute_result"
    }
   ],
   "source": [
    "mixed[0]"
   ]
  },
  {
   "cell_type": "code",
   "execution_count": 78,
   "id": "8a9fa847",
   "metadata": {},
   "outputs": [],
   "source": [
    "mixed[2].append('tata')"
   ]
  },
  {
   "cell_type": "code",
   "execution_count": 79,
   "id": "c31597f9",
   "metadata": {},
   "outputs": [
    {
     "data": {
      "text/plain": [
       "[(1000, 2000, 3000, 4000),\n",
       " ('mumbai', 'new york', 'tokyo'),\n",
       " ['hello', 'hi', 'bye', 'tata']]"
      ]
     },
     "execution_count": 79,
     "metadata": {},
     "output_type": "execute_result"
    }
   ],
   "source": [
    "mixed"
   ]
  },
  {
   "cell_type": "code",
   "execution_count": 81,
   "id": "99818d28",
   "metadata": {},
   "outputs": [],
   "source": [
    "mixed.append('python')"
   ]
  },
  {
   "cell_type": "code",
   "execution_count": 82,
   "id": "24e8459f",
   "metadata": {},
   "outputs": [
    {
     "data": {
      "text/plain": [
       "[(1000, 2000, 3000, 4000),\n",
       " ('mumbai', 'new york', 'tokyo'),\n",
       " ['hello', 'hi', 'bye', 'tata'],\n",
       " 'python']"
      ]
     },
     "execution_count": 82,
     "metadata": {},
     "output_type": "execute_result"
    }
   ],
   "source": [
    "mixed"
   ]
  },
  {
   "cell_type": "code",
   "execution_count": null,
   "id": "1ce18068",
   "metadata": {},
   "outputs": [],
   "source": []
  },
  {
   "cell_type": "code",
   "execution_count": 83,
   "id": "d9b85457",
   "metadata": {},
   "outputs": [],
   "source": [
    "mixed2= (\n",
    "    \n",
    "    ['python','c','c++'],\n",
    "    ['mumbai','pune','chennai'],\n",
    "    [1000,200,3000],\n",
    "    (\"hi\",\"bye\")\n",
    ")"
   ]
  },
  {
   "cell_type": "code",
   "execution_count": 87,
   "id": "668472bd",
   "metadata": {},
   "outputs": [
    {
     "data": {
      "text/plain": [
       "('hi', 'bye')"
      ]
     },
     "execution_count": 87,
     "metadata": {},
     "output_type": "execute_result"
    }
   ],
   "source": [
    "mixed2[3]"
   ]
  },
  {
   "cell_type": "code",
   "execution_count": 85,
   "id": "5136e3fd",
   "metadata": {},
   "outputs": [
    {
     "ename": "AttributeError",
     "evalue": "'tuple' object has no attribute 'append'",
     "output_type": "error",
     "traceback": [
      "\u001b[0;31m---------------------------------------------------------------------------\u001b[0m",
      "\u001b[0;31mAttributeError\u001b[0m                            Traceback (most recent call last)",
      "Input \u001b[0;32mIn [85]\u001b[0m, in \u001b[0;36m<module>\u001b[0;34m\u001b[0m\n\u001b[0;32m----> 1\u001b[0m \u001b[43mmixed2\u001b[49m\u001b[38;5;241;43m.\u001b[39;49m\u001b[43mappend\u001b[49m(\u001b[38;5;241m5000\u001b[39m)\n",
      "\u001b[0;31mAttributeError\u001b[0m: 'tuple' object has no attribute 'append'"
     ]
    }
   ],
   "source": [
    "mixed2.append(5000)"
   ]
  },
  {
   "cell_type": "code",
   "execution_count": null,
   "id": "31d683b3",
   "metadata": {},
   "outputs": [],
   "source": []
  },
  {
   "cell_type": "code",
   "execution_count": null,
   "id": "afb3fd3d",
   "metadata": {},
   "outputs": [],
   "source": []
  },
  {
   "cell_type": "markdown",
   "id": "8f0473ea",
   "metadata": {},
   "source": [
    "## Dictionary"
   ]
  },
  {
   "cell_type": "markdown",
   "id": "5c414f0d",
   "metadata": {},
   "source": [
    "* Dictionary are mutable data structure in python\n",
    "\n",
    "* The data is stored in key value pair\n",
    "\n",
    "* The keys can be (integer, boolean,float,string)\n",
    "\n",
    "* The keys should not be repeated"
   ]
  },
  {
   "cell_type": "code",
   "execution_count": null,
   "id": "dfcda4b8",
   "metadata": {},
   "outputs": [],
   "source": []
  },
  {
   "cell_type": "code",
   "execution_count": 88,
   "id": "a7d4296a",
   "metadata": {},
   "outputs": [],
   "source": [
    "mydictionary = {\n",
    "    'name':'punit',\n",
    "    'age':30,\n",
    "    'designation':'SDE',\n",
    "    'location':'Mumbai'\n",
    "}"
   ]
  },
  {
   "cell_type": "code",
   "execution_count": 89,
   "id": "dc5cb53f",
   "metadata": {},
   "outputs": [
    {
     "data": {
      "text/plain": [
       "{'name': 'punit', 'age': 30, 'designation': 'SDE', 'location': 'Mumbai'}"
      ]
     },
     "execution_count": 89,
     "metadata": {},
     "output_type": "execute_result"
    }
   ],
   "source": [
    "mydictionary"
   ]
  },
  {
   "cell_type": "code",
   "execution_count": 90,
   "id": "1cc2fbe8",
   "metadata": {},
   "outputs": [
    {
     "data": {
      "text/plain": [
       "'Mumbai'"
      ]
     },
     "execution_count": 90,
     "metadata": {},
     "output_type": "execute_result"
    }
   ],
   "source": [
    "mydictionary['location']"
   ]
  },
  {
   "cell_type": "code",
   "execution_count": 91,
   "id": "264f9e12",
   "metadata": {},
   "outputs": [
    {
     "ename": "KeyError",
     "evalue": "'Location'",
     "output_type": "error",
     "traceback": [
      "\u001b[0;31m---------------------------------------------------------------------------\u001b[0m",
      "\u001b[0;31mKeyError\u001b[0m                                  Traceback (most recent call last)",
      "Input \u001b[0;32mIn [91]\u001b[0m, in \u001b[0;36m<module>\u001b[0;34m\u001b[0m\n\u001b[0;32m----> 1\u001b[0m \u001b[43mmydictionary\u001b[49m\u001b[43m[\u001b[49m\u001b[38;5;124;43m'\u001b[39;49m\u001b[38;5;124;43mLocation\u001b[39;49m\u001b[38;5;124;43m'\u001b[39;49m\u001b[43m]\u001b[49m\n",
      "\u001b[0;31mKeyError\u001b[0m: 'Location'"
     ]
    }
   ],
   "source": [
    "mydictionary['Location']"
   ]
  },
  {
   "cell_type": "code",
   "execution_count": 92,
   "id": "854d4252",
   "metadata": {},
   "outputs": [
    {
     "data": {
      "text/plain": [
       "30"
      ]
     },
     "execution_count": 92,
     "metadata": {},
     "output_type": "execute_result"
    }
   ],
   "source": [
    "mydictionary['age']"
   ]
  },
  {
   "cell_type": "code",
   "execution_count": null,
   "id": "138704ed",
   "metadata": {},
   "outputs": [],
   "source": []
  },
  {
   "cell_type": "code",
   "execution_count": 93,
   "id": "6e4a5a82",
   "metadata": {},
   "outputs": [],
   "source": [
    "mixed = {\n",
    "    'city':'Mumbai',\n",
    "    10 : 'This is an integer',\n",
    "    33.33 : 'This is a float',\n",
    "    True:'This is a boolean'\n",
    "    \n",
    "}"
   ]
  },
  {
   "cell_type": "code",
   "execution_count": 94,
   "id": "8f5711a1",
   "metadata": {},
   "outputs": [
    {
     "data": {
      "text/plain": [
       "{'city': 'Mumbai',\n",
       " 10: 'This is an integer',\n",
       " 33.33: 'This is a float',\n",
       " True: 'This is a boolean'}"
      ]
     },
     "execution_count": 94,
     "metadata": {},
     "output_type": "execute_result"
    }
   ],
   "source": [
    "mixed"
   ]
  },
  {
   "cell_type": "code",
   "execution_count": 98,
   "id": "f06a3333",
   "metadata": {},
   "outputs": [
    {
     "data": {
      "text/plain": [
       "'This is a boolean'"
      ]
     },
     "execution_count": 98,
     "metadata": {},
     "output_type": "execute_result"
    }
   ],
   "source": [
    "mixed[True]"
   ]
  },
  {
   "cell_type": "markdown",
   "id": "ad12e864",
   "metadata": {},
   "source": [
    "<img src = \"https://techvidvan.com/tutorials/wp-content/uploads/sites/2/2021/07/TechVidvan-Hash-Table.jpg\" width=\"400\">"
   ]
  },
  {
   "cell_type": "code",
   "execution_count": 99,
   "id": "f6a3535e",
   "metadata": {},
   "outputs": [],
   "source": [
    "mixed1 = {\n",
    "    1 : 'This is an integer',\n",
    "    1.0 : 'This is a float',\n",
    "    True: 'This is a boolean'\n",
    "}"
   ]
  },
  {
   "cell_type": "code",
   "execution_count": 107,
   "id": "6d8cd77c",
   "metadata": {},
   "outputs": [
    {
     "data": {
      "text/plain": [
       "'This is a boolean'"
      ]
     },
     "execution_count": 107,
     "metadata": {},
     "output_type": "execute_result"
    }
   ],
   "source": [
    "mixed1[True]"
   ]
  },
  {
   "cell_type": "code",
   "execution_count": 102,
   "id": "c285eac6",
   "metadata": {},
   "outputs": [
    {
     "data": {
      "text/plain": [
       "1"
      ]
     },
     "execution_count": 102,
     "metadata": {},
     "output_type": "execute_result"
    }
   ],
   "source": [
    "hash(1)"
   ]
  },
  {
   "cell_type": "code",
   "execution_count": 103,
   "id": "124a5422",
   "metadata": {},
   "outputs": [
    {
     "data": {
      "text/plain": [
       "1"
      ]
     },
     "execution_count": 103,
     "metadata": {},
     "output_type": "execute_result"
    }
   ],
   "source": [
    "hash(1.0)"
   ]
  },
  {
   "cell_type": "code",
   "execution_count": 104,
   "id": "255c4089",
   "metadata": {},
   "outputs": [
    {
     "data": {
      "text/plain": [
       "1"
      ]
     },
     "execution_count": 104,
     "metadata": {},
     "output_type": "execute_result"
    }
   ],
   "source": [
    "hash(True)"
   ]
  },
  {
   "cell_type": "code",
   "execution_count": null,
   "id": "a2fe8cfc",
   "metadata": {},
   "outputs": [],
   "source": []
  },
  {
   "cell_type": "code",
   "execution_count": null,
   "id": "5f8b9481",
   "metadata": {},
   "outputs": [],
   "source": []
  },
  {
   "cell_type": "code",
   "execution_count": 108,
   "id": "3571a711",
   "metadata": {},
   "outputs": [
    {
     "data": {
      "text/plain": [
       "{'name': 'punit', 'age': 30, 'designation': 'SDE', 'location': 'Mumbai'}"
      ]
     },
     "execution_count": 108,
     "metadata": {},
     "output_type": "execute_result"
    }
   ],
   "source": [
    "mydictionary"
   ]
  },
  {
   "cell_type": "code",
   "execution_count": 16,
   "id": "1bb6ac5c",
   "metadata": {},
   "outputs": [],
   "source": [
    "mydidctionary = {'name': 'punit', 'age': 30, 'designation': 'SDE', 'location': 'Mumbai'}"
   ]
  },
  {
   "cell_type": "code",
   "execution_count": 2,
   "id": "08171ec0",
   "metadata": {},
   "outputs": [
    {
     "name": "stdout",
     "output_type": "stream",
     "text": [
      "{'name': 'punit', 'age': 30, 'designation': 'SDE', 'location': 'Mumbai'}\n"
     ]
    }
   ],
   "source": [
    "print(mydidctionary)"
   ]
  },
  {
   "cell_type": "code",
   "execution_count": 3,
   "id": "b1f118fa",
   "metadata": {},
   "outputs": [],
   "source": [
    "mydidctionary.clear()"
   ]
  },
  {
   "cell_type": "code",
   "execution_count": 4,
   "id": "d870ce04",
   "metadata": {},
   "outputs": [
    {
     "data": {
      "text/plain": [
       "{}"
      ]
     },
     "execution_count": 4,
     "metadata": {},
     "output_type": "execute_result"
    }
   ],
   "source": [
    "mydidctionary"
   ]
  },
  {
   "cell_type": "code",
   "execution_count": 6,
   "id": "3b52f427",
   "metadata": {},
   "outputs": [],
   "source": [
    "copied = mydidctionary.copy()"
   ]
  },
  {
   "cell_type": "code",
   "execution_count": 7,
   "id": "adf926b8",
   "metadata": {},
   "outputs": [
    {
     "data": {
      "text/plain": [
       "{'name': 'punit', 'age': 30, 'designation': 'SDE', 'location': 'Mumbai'}"
      ]
     },
     "execution_count": 7,
     "metadata": {},
     "output_type": "execute_result"
    }
   ],
   "source": [
    "copied"
   ]
  },
  {
   "cell_type": "code",
   "execution_count": 8,
   "id": "713847d2",
   "metadata": {},
   "outputs": [
    {
     "data": {
      "text/plain": [
       "{'name': 'punit', 'age': 30, 'designation': 'SDE', 'location': 'Mumbai'}"
      ]
     },
     "execution_count": 8,
     "metadata": {},
     "output_type": "execute_result"
    }
   ],
   "source": [
    "mydidctionary"
   ]
  },
  {
   "cell_type": "code",
   "execution_count": 9,
   "id": "6603ea67",
   "metadata": {},
   "outputs": [],
   "source": [
    "mydidctionary.clear()"
   ]
  },
  {
   "cell_type": "code",
   "execution_count": 10,
   "id": "64cc7bd6",
   "metadata": {},
   "outputs": [
    {
     "data": {
      "text/plain": [
       "{}"
      ]
     },
     "execution_count": 10,
     "metadata": {},
     "output_type": "execute_result"
    }
   ],
   "source": [
    "mydidctionary"
   ]
  },
  {
   "cell_type": "code",
   "execution_count": 11,
   "id": "839f2bdb",
   "metadata": {},
   "outputs": [
    {
     "data": {
      "text/plain": [
       "{'name': 'punit', 'age': 30, 'designation': 'SDE', 'location': 'Mumbai'}"
      ]
     },
     "execution_count": 11,
     "metadata": {},
     "output_type": "execute_result"
    }
   ],
   "source": [
    "copied"
   ]
  },
  {
   "cell_type": "code",
   "execution_count": 12,
   "id": "47627cf2",
   "metadata": {},
   "outputs": [],
   "source": [
    "new_copy = copied"
   ]
  },
  {
   "cell_type": "code",
   "execution_count": 13,
   "id": "f92f7dfb",
   "metadata": {},
   "outputs": [],
   "source": [
    "copied.clear()"
   ]
  },
  {
   "cell_type": "code",
   "execution_count": 14,
   "id": "76634988",
   "metadata": {},
   "outputs": [
    {
     "data": {
      "text/plain": [
       "{}"
      ]
     },
     "execution_count": 14,
     "metadata": {},
     "output_type": "execute_result"
    }
   ],
   "source": [
    "new_copy"
   ]
  },
  {
   "cell_type": "code",
   "execution_count": 15,
   "id": "5981e399",
   "metadata": {},
   "outputs": [
    {
     "data": {
      "text/plain": [
       "{}"
      ]
     },
     "execution_count": 15,
     "metadata": {},
     "output_type": "execute_result"
    }
   ],
   "source": [
    "copied\n"
   ]
  },
  {
   "cell_type": "code",
   "execution_count": 17,
   "id": "3b6a4fb2",
   "metadata": {},
   "outputs": [
    {
     "data": {
      "text/plain": [
       "'punit'"
      ]
     },
     "execution_count": 17,
     "metadata": {},
     "output_type": "execute_result"
    }
   ],
   "source": [
    "mydidctionary.get('name')"
   ]
  },
  {
   "cell_type": "code",
   "execution_count": 18,
   "id": "3071e4ca",
   "metadata": {},
   "outputs": [
    {
     "data": {
      "text/plain": [
       "'punit'"
      ]
     },
     "execution_count": 18,
     "metadata": {},
     "output_type": "execute_result"
    }
   ],
   "source": [
    "mydidctionary['name']"
   ]
  },
  {
   "cell_type": "code",
   "execution_count": 19,
   "id": "3c0a60b2",
   "metadata": {},
   "outputs": [],
   "source": [
    "mydidctionary.get('loc')"
   ]
  },
  {
   "cell_type": "code",
   "execution_count": 20,
   "id": "7aa192f3",
   "metadata": {},
   "outputs": [
    {
     "ename": "KeyError",
     "evalue": "'loc'",
     "output_type": "error",
     "traceback": [
      "\u001b[0;31m---------------------------------------------------------------------------\u001b[0m",
      "\u001b[0;31mKeyError\u001b[0m                                  Traceback (most recent call last)",
      "Input \u001b[0;32mIn [20]\u001b[0m, in \u001b[0;36m<module>\u001b[0;34m\u001b[0m\n\u001b[0;32m----> 1\u001b[0m \u001b[43mmydidctionary\u001b[49m\u001b[43m[\u001b[49m\u001b[38;5;124;43m'\u001b[39;49m\u001b[38;5;124;43mloc\u001b[39;49m\u001b[38;5;124;43m'\u001b[39;49m\u001b[43m]\u001b[49m\n",
      "\u001b[0;31mKeyError\u001b[0m: 'loc'"
     ]
    }
   ],
   "source": [
    "mydidctionary['loc']"
   ]
  },
  {
   "cell_type": "code",
   "execution_count": null,
   "id": "9fd464b4",
   "metadata": {},
   "outputs": [],
   "source": []
  },
  {
   "cell_type": "code",
   "execution_count": 21,
   "id": "5c595d19",
   "metadata": {},
   "outputs": [
    {
     "data": {
      "text/plain": [
       "{'name': 'punit', 'age': 30, 'designation': 'SDE', 'location': 'Mumbai'}"
      ]
     },
     "execution_count": 21,
     "metadata": {},
     "output_type": "execute_result"
    }
   ],
   "source": [
    "mydidctionary"
   ]
  },
  {
   "cell_type": "code",
   "execution_count": 22,
   "id": "2bbebbeb",
   "metadata": {},
   "outputs": [
    {
     "data": {
      "text/plain": [
       "dict_keys(['name', 'age', 'designation', 'location'])"
      ]
     },
     "execution_count": 22,
     "metadata": {},
     "output_type": "execute_result"
    }
   ],
   "source": [
    "mydidctionary.keys()"
   ]
  },
  {
   "cell_type": "code",
   "execution_count": 23,
   "id": "aedca0da",
   "metadata": {},
   "outputs": [
    {
     "data": {
      "text/plain": [
       "dict_values(['punit', 30, 'SDE', 'Mumbai'])"
      ]
     },
     "execution_count": 23,
     "metadata": {},
     "output_type": "execute_result"
    }
   ],
   "source": [
    "mydidctionary.values()"
   ]
  },
  {
   "cell_type": "code",
   "execution_count": 24,
   "id": "2c0df4a3",
   "metadata": {},
   "outputs": [
    {
     "data": {
      "text/plain": [
       "dict_items([('name', 'punit'), ('age', 30), ('designation', 'SDE'), ('location', 'Mumbai')])"
      ]
     },
     "execution_count": 24,
     "metadata": {},
     "output_type": "execute_result"
    }
   ],
   "source": [
    "mydidctionary.items()"
   ]
  },
  {
   "cell_type": "code",
   "execution_count": null,
   "id": "dcc1c1b6",
   "metadata": {},
   "outputs": [],
   "source": []
  },
  {
   "cell_type": "code",
   "execution_count": 26,
   "id": "c0ec159b",
   "metadata": {},
   "outputs": [
    {
     "data": {
      "text/plain": [
       "30"
      ]
     },
     "execution_count": 26,
     "metadata": {},
     "output_type": "execute_result"
    }
   ],
   "source": [
    "mydidctionary.pop('age')"
   ]
  },
  {
   "cell_type": "code",
   "execution_count": 27,
   "id": "89d7d293",
   "metadata": {},
   "outputs": [
    {
     "data": {
      "text/plain": [
       "{'name': 'punit', 'designation': 'SDE', 'location': 'Mumbai'}"
      ]
     },
     "execution_count": 27,
     "metadata": {},
     "output_type": "execute_result"
    }
   ],
   "source": [
    "mydidctionary"
   ]
  },
  {
   "cell_type": "code",
   "execution_count": 28,
   "id": "75c07303",
   "metadata": {},
   "outputs": [
    {
     "ename": "KeyError",
     "evalue": "'loc'",
     "output_type": "error",
     "traceback": [
      "\u001b[0;31m---------------------------------------------------------------------------\u001b[0m",
      "\u001b[0;31mKeyError\u001b[0m                                  Traceback (most recent call last)",
      "Input \u001b[0;32mIn [28]\u001b[0m, in \u001b[0;36m<module>\u001b[0;34m\u001b[0m\n\u001b[0;32m----> 1\u001b[0m \u001b[43mmydidctionary\u001b[49m\u001b[38;5;241;43m.\u001b[39;49m\u001b[43mpop\u001b[49m\u001b[43m(\u001b[49m\u001b[38;5;124;43m'\u001b[39;49m\u001b[38;5;124;43mloc\u001b[39;49m\u001b[38;5;124;43m'\u001b[39;49m\u001b[43m)\u001b[49m\n",
      "\u001b[0;31mKeyError\u001b[0m: 'loc'"
     ]
    }
   ],
   "source": [
    "mydidctionary.pop('loc')"
   ]
  },
  {
   "cell_type": "code",
   "execution_count": 29,
   "id": "1f4643ca",
   "metadata": {},
   "outputs": [
    {
     "data": {
      "text/plain": [
       "('location', 'Mumbai')"
      ]
     },
     "execution_count": 29,
     "metadata": {},
     "output_type": "execute_result"
    }
   ],
   "source": [
    "mydidctionary.popitem()"
   ]
  },
  {
   "cell_type": "code",
   "execution_count": 36,
   "id": "ed0d0e15",
   "metadata": {},
   "outputs": [
    {
     "data": {
      "text/plain": [
       "{'name': 'demo', 'designation': 'SDE', 'loc': 'Khar'}"
      ]
     },
     "execution_count": 36,
     "metadata": {},
     "output_type": "execute_result"
    }
   ],
   "source": [
    "mydidctionary\n"
   ]
  },
  {
   "cell_type": "code",
   "execution_count": null,
   "id": "50944c51",
   "metadata": {},
   "outputs": [],
   "source": []
  },
  {
   "cell_type": "code",
   "execution_count": 31,
   "id": "d4fa7731",
   "metadata": {},
   "outputs": [],
   "source": [
    "mydidctionary.update({'name':'demo'})"
   ]
  },
  {
   "cell_type": "code",
   "execution_count": 32,
   "id": "415ee911",
   "metadata": {},
   "outputs": [
    {
     "data": {
      "text/plain": [
       "{'name': 'demo', 'designation': 'SDE'}"
      ]
     },
     "execution_count": 32,
     "metadata": {},
     "output_type": "execute_result"
    }
   ],
   "source": [
    "mydidctionary"
   ]
  },
  {
   "cell_type": "code",
   "execution_count": 34,
   "id": "94b3212b",
   "metadata": {},
   "outputs": [],
   "source": [
    "mydidctionary.update({'loc':'Khar'})"
   ]
  },
  {
   "cell_type": "code",
   "execution_count": 35,
   "id": "b444dd24",
   "metadata": {},
   "outputs": [
    {
     "data": {
      "text/plain": [
       "{'name': 'demo', 'designation': 'SDE', 'loc': 'Khar'}"
      ]
     },
     "execution_count": 35,
     "metadata": {},
     "output_type": "execute_result"
    }
   ],
   "source": [
    "mydidctionary"
   ]
  },
  {
   "cell_type": "code",
   "execution_count": 37,
   "id": "59a13cfa",
   "metadata": {},
   "outputs": [],
   "source": [
    "mydidctionary['qualification'] = 'MCA'"
   ]
  },
  {
   "cell_type": "code",
   "execution_count": 38,
   "id": "a5a1c3b9",
   "metadata": {},
   "outputs": [
    {
     "data": {
      "text/plain": [
       "{'name': 'demo', 'designation': 'SDE', 'loc': 'Khar', 'qualification': 'MCA'}"
      ]
     },
     "execution_count": 38,
     "metadata": {},
     "output_type": "execute_result"
    }
   ],
   "source": [
    "mydidctionary"
   ]
  },
  {
   "cell_type": "code",
   "execution_count": 39,
   "id": "b46ddf60",
   "metadata": {},
   "outputs": [
    {
     "ename": "SyntaxError",
     "evalue": "invalid syntax (4150221486.py, line 1)",
     "output_type": "error",
     "traceback": [
      "\u001b[0;36m  Input \u001b[0;32mIn [39]\u001b[0;36m\u001b[0m\n\u001b[0;31m    mydidctionary = {'age':}\u001b[0m\n\u001b[0m                           ^\u001b[0m\n\u001b[0;31mSyntaxError\u001b[0m\u001b[0;31m:\u001b[0m invalid syntax\n"
     ]
    }
   ],
   "source": [
    "mydidctionary = {'age':}"
   ]
  },
  {
   "cell_type": "code",
   "execution_count": 40,
   "id": "60eb9415",
   "metadata": {},
   "outputs": [],
   "source": [
    "mydidctionary.setdefault('pincode')"
   ]
  },
  {
   "cell_type": "code",
   "execution_count": 41,
   "id": "796cd447",
   "metadata": {},
   "outputs": [
    {
     "data": {
      "text/plain": [
       "{'name': 'demo',\n",
       " 'designation': 'SDE',\n",
       " 'loc': 'Khar',\n",
       " 'qualification': 'MCA',\n",
       " 'pincode': None}"
      ]
     },
     "execution_count": 41,
     "metadata": {},
     "output_type": "execute_result"
    }
   ],
   "source": [
    "mydidctionary"
   ]
  },
  {
   "cell_type": "code",
   "execution_count": 42,
   "id": "7cfa202d",
   "metadata": {},
   "outputs": [],
   "source": [
    "mydidctionary.update({'pincode':400001})"
   ]
  },
  {
   "cell_type": "code",
   "execution_count": 43,
   "id": "cb698f76",
   "metadata": {},
   "outputs": [
    {
     "data": {
      "text/plain": [
       "{'name': 'demo',\n",
       " 'designation': 'SDE',\n",
       " 'loc': 'Khar',\n",
       " 'qualification': 'MCA',\n",
       " 'pincode': 400001}"
      ]
     },
     "execution_count": 43,
     "metadata": {},
     "output_type": "execute_result"
    }
   ],
   "source": [
    "mydidctionary"
   ]
  },
  {
   "cell_type": "code",
   "execution_count": null,
   "id": "bedfa223",
   "metadata": {},
   "outputs": [],
   "source": []
  },
  {
   "cell_type": "markdown",
   "id": "f0970277",
   "metadata": {},
   "source": [
    "## nested dictionary"
   ]
  },
  {
   "cell_type": "code",
   "execution_count": 44,
   "id": "a5bf1554",
   "metadata": {},
   "outputs": [],
   "source": [
    "fb_data = {\n",
    "    40001 : {\n",
    "        \"name\":\"punit\",\n",
    "        \"age\":30,\n",
    "        \"likes\":1000,\n",
    "        \"friends\":500,\n",
    "        \"comments\":100\n",
    "        \n",
    "    },\n",
    "    \n",
    "    \n",
    "    40002:{\n",
    "        \"name\":\"aditya\",\n",
    "        \"age\":21,\n",
    "        \"likes\":2000,\n",
    "        \"friends\":278,\n",
    "        \"comments\":200\n",
    "    },\n",
    "    \n",
    "    \n",
    "    40003:{\n",
    "        \"name\":\"tejas\",\n",
    "        \"age\":24,\n",
    "        \"likes\":2500,\n",
    "        \"friends\":1000,\n",
    "        \"comments\":10\n",
    "    },\n",
    "    \n",
    "    40004:{\n",
    "        \"name\":\"javed\",\n",
    "        \"age\":21,\n",
    "        \"likes\":1021,\n",
    "        \"friends\":800,\n",
    "        \"comments\":400\n",
    "        \n",
    "    }\n",
    "    \n",
    "}"
   ]
  },
  {
   "cell_type": "code",
   "execution_count": 45,
   "id": "4ebe6ea7",
   "metadata": {},
   "outputs": [
    {
     "data": {
      "text/plain": [
       "{40001: {'name': 'punit',\n",
       "  'age': 30,\n",
       "  'likes': 1000,\n",
       "  'friends': 500,\n",
       "  'comments': 100},\n",
       " 40002: {'name': 'aditya',\n",
       "  'age': 21,\n",
       "  'likes': 2000,\n",
       "  'friends': 278,\n",
       "  'comments': 200},\n",
       " 40003: {'name': 'tejas',\n",
       "  'age': 24,\n",
       "  'likes': 2500,\n",
       "  'friends': 1000,\n",
       "  'comments': 10},\n",
       " 40004: {'name': 'javed',\n",
       "  'age': 21,\n",
       "  'likes': 1021,\n",
       "  'friends': 800,\n",
       "  'comments': 400}}"
      ]
     },
     "execution_count": 45,
     "metadata": {},
     "output_type": "execute_result"
    }
   ],
   "source": [
    "fb_data"
   ]
  },
  {
   "cell_type": "code",
   "execution_count": 47,
   "id": "6e1afb4f",
   "metadata": {},
   "outputs": [
    {
     "data": {
      "text/plain": [
       "500"
      ]
     },
     "execution_count": 47,
     "metadata": {},
     "output_type": "execute_result"
    }
   ],
   "source": [
    "fb_data[40001]['friends']"
   ]
  },
  {
   "cell_type": "code",
   "execution_count": 50,
   "id": "5dfdc219",
   "metadata": {},
   "outputs": [
    {
     "data": {
      "text/plain": [
       "200"
      ]
     },
     "execution_count": 50,
     "metadata": {},
     "output_type": "execute_result"
    }
   ],
   "source": [
    "fb_data[40002]['comments']"
   ]
  },
  {
   "cell_type": "code",
   "execution_count": 52,
   "id": "2bb9c41f",
   "metadata": {},
   "outputs": [
    {
     "data": {
      "text/plain": [
       "24"
      ]
     },
     "execution_count": 52,
     "metadata": {},
     "output_type": "execute_result"
    }
   ],
   "source": [
    "fb_data[40003]['age']"
   ]
  },
  {
   "cell_type": "code",
   "execution_count": 54,
   "id": "e17e1230",
   "metadata": {},
   "outputs": [
    {
     "data": {
      "text/plain": [
       "1021"
      ]
     },
     "execution_count": 54,
     "metadata": {},
     "output_type": "execute_result"
    }
   ],
   "source": [
    "fb_data[40004]['likes']"
   ]
  },
  {
   "cell_type": "code",
   "execution_count": 56,
   "id": "9d320839",
   "metadata": {},
   "outputs": [],
   "source": [
    "fb_data[40001].update({'hobbies':['cooking','travelling','music','sleeping']})"
   ]
  },
  {
   "cell_type": "code",
   "execution_count": 57,
   "id": "d744ec1b",
   "metadata": {},
   "outputs": [
    {
     "data": {
      "text/plain": [
       "{40001: {'name': 'punit',\n",
       "  'age': 30,\n",
       "  'likes': 1000,\n",
       "  'friends': 500,\n",
       "  'comments': 100,\n",
       "  'hobbies': ['cooking', 'travelling', 'music', 'sleeping']},\n",
       " 40002: {'name': 'aditya',\n",
       "  'age': 21,\n",
       "  'likes': 2000,\n",
       "  'friends': 278,\n",
       "  'comments': 200},\n",
       " 40003: {'name': 'tejas',\n",
       "  'age': 24,\n",
       "  'likes': 2500,\n",
       "  'friends': 1000,\n",
       "  'comments': 10},\n",
       " 40004: {'name': 'javed',\n",
       "  'age': 21,\n",
       "  'likes': 1021,\n",
       "  'friends': 800,\n",
       "  'comments': 400}}"
      ]
     },
     "execution_count": 57,
     "metadata": {},
     "output_type": "execute_result"
    }
   ],
   "source": [
    "fb_data"
   ]
  },
  {
   "cell_type": "code",
   "execution_count": 60,
   "id": "f7c72658",
   "metadata": {},
   "outputs": [
    {
     "data": {
      "text/plain": [
       "'music'"
      ]
     },
     "execution_count": 60,
     "metadata": {},
     "output_type": "execute_result"
    }
   ],
   "source": [
    "fb_data[40001]['hobbies'][2]"
   ]
  },
  {
   "cell_type": "code",
   "execution_count": null,
   "id": "f7adb80b",
   "metadata": {},
   "outputs": [],
   "source": []
  },
  {
   "cell_type": "code",
   "execution_count": null,
   "id": "d0ec0490",
   "metadata": {},
   "outputs": [],
   "source": []
  },
  {
   "cell_type": "markdown",
   "id": "2a62d8fe",
   "metadata": {},
   "source": [
    "## Sets"
   ]
  },
  {
   "cell_type": "markdown",
   "id": "31b3b4a8",
   "metadata": {},
   "source": [
    "* sets are un-ordered collection in python\n",
    "\n",
    "* It does not support indexing\n",
    "\n",
    "* It does not allow us to add duplicate values\n",
    "\n",
    "* You can use different data type to define the sets "
   ]
  },
  {
   "cell_type": "code",
   "execution_count": 78,
   "id": "f66c150f",
   "metadata": {},
   "outputs": [],
   "source": [
    "myset = {10,20,30,0,5,12,33,4,8,32}"
   ]
  },
  {
   "cell_type": "code",
   "execution_count": 62,
   "id": "bb4ca2f9",
   "metadata": {},
   "outputs": [
    {
     "name": "stdout",
     "output_type": "stream",
     "text": [
      "{0, 33, 32, 4, 5, 8, 10, 12, 20, 30}\n"
     ]
    }
   ],
   "source": [
    "print(myset)"
   ]
  },
  {
   "cell_type": "code",
   "execution_count": 63,
   "id": "8abeab22",
   "metadata": {},
   "outputs": [],
   "source": [
    "mixed = {'hello','hi',True,False,44.33,22}"
   ]
  },
  {
   "cell_type": "code",
   "execution_count": 64,
   "id": "26aa7dc7",
   "metadata": {},
   "outputs": [
    {
     "data": {
      "text/plain": [
       "{22, 44.33, False, True, 'hello', 'hi'}"
      ]
     },
     "execution_count": 64,
     "metadata": {},
     "output_type": "execute_result"
    }
   ],
   "source": [
    "mixed"
   ]
  },
  {
   "cell_type": "code",
   "execution_count": 65,
   "id": "7b6ded13",
   "metadata": {},
   "outputs": [],
   "source": [
    "myset2 = {10,20,30,10,20}"
   ]
  },
  {
   "cell_type": "code",
   "execution_count": 66,
   "id": "5a7a13b8",
   "metadata": {},
   "outputs": [
    {
     "data": {
      "text/plain": [
       "{10, 20, 30}"
      ]
     },
     "execution_count": 66,
     "metadata": {},
     "output_type": "execute_result"
    }
   ],
   "source": [
    "myset2"
   ]
  },
  {
   "cell_type": "code",
   "execution_count": 67,
   "id": "cc804fd2",
   "metadata": {},
   "outputs": [
    {
     "data": {
      "text/plain": [
       "{0, 4, 5, 8, 10, 12, 20, 30, 32, 33}"
      ]
     },
     "execution_count": 67,
     "metadata": {},
     "output_type": "execute_result"
    }
   ],
   "source": [
    "myset"
   ]
  },
  {
   "cell_type": "code",
   "execution_count": 70,
   "id": "24cf9633",
   "metadata": {},
   "outputs": [],
   "source": [
    "myset.add(100)"
   ]
  },
  {
   "cell_type": "code",
   "execution_count": 71,
   "id": "b1667c94",
   "metadata": {},
   "outputs": [
    {
     "data": {
      "text/plain": [
       "{0, 4, 5, 8, 10, 12, 20, 30, 32, 33, 100}"
      ]
     },
     "execution_count": 71,
     "metadata": {},
     "output_type": "execute_result"
    }
   ],
   "source": [
    "myset"
   ]
  },
  {
   "cell_type": "code",
   "execution_count": 72,
   "id": "9f31d5a0",
   "metadata": {},
   "outputs": [],
   "source": [
    "myset.clear()\n"
   ]
  },
  {
   "cell_type": "code",
   "execution_count": 73,
   "id": "16cf56b7",
   "metadata": {},
   "outputs": [
    {
     "data": {
      "text/plain": [
       "set()"
      ]
     },
     "execution_count": 73,
     "metadata": {},
     "output_type": "execute_result"
    }
   ],
   "source": [
    "myset"
   ]
  },
  {
   "cell_type": "code",
   "execution_count": 74,
   "id": "f9e313ca",
   "metadata": {},
   "outputs": [],
   "source": [
    "myset3 = {}"
   ]
  },
  {
   "cell_type": "code",
   "execution_count": 75,
   "id": "9c4ab0e2",
   "metadata": {},
   "outputs": [
    {
     "name": "stdout",
     "output_type": "stream",
     "text": [
      "<class 'dict'>\n"
     ]
    }
   ],
   "source": [
    "print(type(myset3))"
   ]
  },
  {
   "cell_type": "code",
   "execution_count": 76,
   "id": "3a08d4e8",
   "metadata": {},
   "outputs": [],
   "source": [
    "myset3 = set()"
   ]
  },
  {
   "cell_type": "code",
   "execution_count": 77,
   "id": "c20979c3",
   "metadata": {},
   "outputs": [
    {
     "data": {
      "text/plain": [
       "set()"
      ]
     },
     "execution_count": 77,
     "metadata": {},
     "output_type": "execute_result"
    }
   ],
   "source": [
    "myset3"
   ]
  },
  {
   "cell_type": "code",
   "execution_count": 79,
   "id": "017ca124",
   "metadata": {},
   "outputs": [],
   "source": [
    "copied = myset.copy()"
   ]
  },
  {
   "cell_type": "code",
   "execution_count": 80,
   "id": "46591f25",
   "metadata": {},
   "outputs": [
    {
     "data": {
      "text/plain": [
       "{0, 4, 5, 8, 10, 12, 20, 30, 32, 33}"
      ]
     },
     "execution_count": 80,
     "metadata": {},
     "output_type": "execute_result"
    }
   ],
   "source": [
    "copied"
   ]
  },
  {
   "cell_type": "code",
   "execution_count": null,
   "id": "fd94ba14",
   "metadata": {},
   "outputs": [],
   "source": []
  },
  {
   "cell_type": "code",
   "execution_count": 81,
   "id": "8d5e18cf",
   "metadata": {},
   "outputs": [
    {
     "data": {
      "text/plain": [
       "0"
      ]
     },
     "execution_count": 81,
     "metadata": {},
     "output_type": "execute_result"
    }
   ],
   "source": [
    "myset.pop()"
   ]
  },
  {
   "cell_type": "code",
   "execution_count": 82,
   "id": "c148e414",
   "metadata": {},
   "outputs": [],
   "source": [
    "myset.remove(33)"
   ]
  },
  {
   "cell_type": "code",
   "execution_count": 83,
   "id": "425eb816",
   "metadata": {},
   "outputs": [
    {
     "data": {
      "text/plain": [
       "{4, 5, 8, 10, 12, 20, 30, 32}"
      ]
     },
     "execution_count": 83,
     "metadata": {},
     "output_type": "execute_result"
    }
   ],
   "source": [
    "myset"
   ]
  },
  {
   "cell_type": "code",
   "execution_count": 84,
   "id": "88340e31",
   "metadata": {},
   "outputs": [],
   "source": [
    "myset1 = {10,20,30,40}\n",
    "myset2 = {40,50,60,70}"
   ]
  },
  {
   "cell_type": "code",
   "execution_count": 85,
   "id": "37656b2c",
   "metadata": {},
   "outputs": [
    {
     "data": {
      "text/plain": [
       "{10, 20, 30, 40, 50, 60, 70}"
      ]
     },
     "execution_count": 85,
     "metadata": {},
     "output_type": "execute_result"
    }
   ],
   "source": [
    "myset1.union(myset2)"
   ]
  },
  {
   "cell_type": "code",
   "execution_count": 86,
   "id": "e68ab9ac",
   "metadata": {},
   "outputs": [
    {
     "data": {
      "text/plain": [
       "{40}"
      ]
     },
     "execution_count": 86,
     "metadata": {},
     "output_type": "execute_result"
    }
   ],
   "source": [
    "myset1.intersection(myset2)"
   ]
  },
  {
   "cell_type": "code",
   "execution_count": null,
   "id": "683a8525",
   "metadata": {},
   "outputs": [],
   "source": []
  },
  {
   "cell_type": "code",
   "execution_count": 87,
   "id": "b055fd3b",
   "metadata": {},
   "outputs": [],
   "source": [
    "myset1 = {'apple','samsung','nokia'}\n",
    "myset2 = {'redmi','oppo','samsung'}"
   ]
  },
  {
   "cell_type": "code",
   "execution_count": 88,
   "id": "eceb8513",
   "metadata": {},
   "outputs": [
    {
     "data": {
      "text/plain": [
       "{'apple', 'nokia'}"
      ]
     },
     "execution_count": 88,
     "metadata": {},
     "output_type": "execute_result"
    }
   ],
   "source": [
    "myset1.difference(myset2)"
   ]
  },
  {
   "cell_type": "code",
   "execution_count": 89,
   "id": "21eccdbe",
   "metadata": {},
   "outputs": [
    {
     "data": {
      "text/plain": [
       "{'oppo', 'redmi'}"
      ]
     },
     "execution_count": 89,
     "metadata": {},
     "output_type": "execute_result"
    }
   ],
   "source": [
    "myset2.difference(myset1)"
   ]
  },
  {
   "cell_type": "code",
   "execution_count": null,
   "id": "2b92e7dc",
   "metadata": {},
   "outputs": [],
   "source": []
  },
  {
   "cell_type": "code",
   "execution_count": 90,
   "id": "8794c4d2",
   "metadata": {},
   "outputs": [],
   "source": [
    "x1 ={'mumbai','pune','chennai'}\n",
    "x2 = {'delhi','nagpur','nasik'}"
   ]
  },
  {
   "cell_type": "code",
   "execution_count": 91,
   "id": "5a7dffe0",
   "metadata": {},
   "outputs": [],
   "source": [
    "x1.update(x2)"
   ]
  },
  {
   "cell_type": "code",
   "execution_count": 92,
   "id": "b68e21fa",
   "metadata": {},
   "outputs": [
    {
     "data": {
      "text/plain": [
       "{'chennai', 'delhi', 'mumbai', 'nagpur', 'nasik', 'pune'}"
      ]
     },
     "execution_count": 92,
     "metadata": {},
     "output_type": "execute_result"
    }
   ],
   "source": [
    "x1"
   ]
  },
  {
   "cell_type": "code",
   "execution_count": 93,
   "id": "5d577fd5",
   "metadata": {},
   "outputs": [
    {
     "data": {
      "text/plain": [
       "{'delhi', 'nagpur', 'nasik'}"
      ]
     },
     "execution_count": 93,
     "metadata": {},
     "output_type": "execute_result"
    }
   ],
   "source": [
    "x2"
   ]
  },
  {
   "cell_type": "code",
   "execution_count": null,
   "id": "2b06586c",
   "metadata": {},
   "outputs": [],
   "source": []
  },
  {
   "cell_type": "code",
   "execution_count": 109,
   "id": "6953cc4a",
   "metadata": {},
   "outputs": [],
   "source": [
    "x = {'a1','b1','c1'}\n",
    "\n",
    "y = {'f','g','h','i','b1','c1','a1'}"
   ]
  },
  {
   "cell_type": "code",
   "execution_count": 100,
   "id": "9bb21026",
   "metadata": {},
   "outputs": [
    {
     "data": {
      "text/plain": [
       "True"
      ]
     },
     "execution_count": 100,
     "metadata": {},
     "output_type": "execute_result"
    }
   ],
   "source": [
    "x.issubset(y)"
   ]
  },
  {
   "cell_type": "code",
   "execution_count": 101,
   "id": "6a97d4fd",
   "metadata": {},
   "outputs": [
    {
     "data": {
      "text/plain": [
       "False"
      ]
     },
     "execution_count": 101,
     "metadata": {},
     "output_type": "execute_result"
    }
   ],
   "source": [
    "x.issuperset(y)"
   ]
  },
  {
   "cell_type": "code",
   "execution_count": 102,
   "id": "da2c7454",
   "metadata": {},
   "outputs": [
    {
     "data": {
      "text/plain": [
       "False"
      ]
     },
     "execution_count": 102,
     "metadata": {},
     "output_type": "execute_result"
    }
   ],
   "source": [
    "y.issubset(x)"
   ]
  },
  {
   "cell_type": "code",
   "execution_count": 103,
   "id": "0374e048",
   "metadata": {},
   "outputs": [
    {
     "data": {
      "text/plain": [
       "{'a1', 'b1', 'c1'}"
      ]
     },
     "execution_count": 103,
     "metadata": {},
     "output_type": "execute_result"
    }
   ],
   "source": [
    "x"
   ]
  },
  {
   "cell_type": "code",
   "execution_count": 104,
   "id": "aa477f86",
   "metadata": {},
   "outputs": [
    {
     "ename": "KeyError",
     "evalue": "'demo'",
     "output_type": "error",
     "traceback": [
      "\u001b[0;31m---------------------------------------------------------------------------\u001b[0m",
      "\u001b[0;31mKeyError\u001b[0m                                  Traceback (most recent call last)",
      "Input \u001b[0;32mIn [104]\u001b[0m, in \u001b[0;36m<module>\u001b[0;34m\u001b[0m\n\u001b[0;32m----> 1\u001b[0m \u001b[43mx\u001b[49m\u001b[38;5;241;43m.\u001b[39;49m\u001b[43mremove\u001b[49m\u001b[43m(\u001b[49m\u001b[38;5;124;43m'\u001b[39;49m\u001b[38;5;124;43mdemo\u001b[39;49m\u001b[38;5;124;43m'\u001b[39;49m\u001b[43m)\u001b[49m\n",
      "\u001b[0;31mKeyError\u001b[0m: 'demo'"
     ]
    }
   ],
   "source": [
    "x.remove('demo')"
   ]
  },
  {
   "cell_type": "code",
   "execution_count": 105,
   "id": "f3fb690b",
   "metadata": {},
   "outputs": [],
   "source": [
    "x.discard('a1')"
   ]
  },
  {
   "cell_type": "code",
   "execution_count": 106,
   "id": "4c250eae",
   "metadata": {},
   "outputs": [
    {
     "data": {
      "text/plain": [
       "{'b1', 'c1'}"
      ]
     },
     "execution_count": 106,
     "metadata": {},
     "output_type": "execute_result"
    }
   ],
   "source": [
    "x"
   ]
  },
  {
   "cell_type": "code",
   "execution_count": 107,
   "id": "19156106",
   "metadata": {},
   "outputs": [],
   "source": [
    "x.discard('demo')"
   ]
  },
  {
   "cell_type": "code",
   "execution_count": 112,
   "id": "506824dc",
   "metadata": {},
   "outputs": [
    {
     "data": {
      "text/plain": [
       "{'a1', 'b1', 'c1'}"
      ]
     },
     "execution_count": 112,
     "metadata": {},
     "output_type": "execute_result"
    }
   ],
   "source": [
    "x"
   ]
  },
  {
   "cell_type": "code",
   "execution_count": 113,
   "id": "eb60e64c",
   "metadata": {},
   "outputs": [
    {
     "data": {
      "text/plain": [
       "{'a1', 'b1', 'c1', 'f', 'g', 'h', 'i'}"
      ]
     },
     "execution_count": 113,
     "metadata": {},
     "output_type": "execute_result"
    }
   ],
   "source": [
    "y"
   ]
  },
  {
   "cell_type": "code",
   "execution_count": 110,
   "id": "1b0d1630",
   "metadata": {},
   "outputs": [
    {
     "data": {
      "text/plain": [
       "{'f', 'g', 'h', 'i'}"
      ]
     },
     "execution_count": 110,
     "metadata": {},
     "output_type": "execute_result"
    }
   ],
   "source": [
    "x.symmetric_difference(y)"
   ]
  },
  {
   "cell_type": "code",
   "execution_count": null,
   "id": "22054d97",
   "metadata": {},
   "outputs": [],
   "source": []
  },
  {
   "cell_type": "code",
   "execution_count": 114,
   "id": "3235675c",
   "metadata": {},
   "outputs": [],
   "source": [
    "x = {'apple','banana','cherry'}\n",
    "y = {'google','microsoft','apple'}"
   ]
  },
  {
   "cell_type": "code",
   "execution_count": 115,
   "id": "1ff1eeb8",
   "metadata": {},
   "outputs": [
    {
     "data": {
      "text/plain": [
       "{'banana', 'cherry', 'google', 'microsoft'}"
      ]
     },
     "execution_count": 115,
     "metadata": {},
     "output_type": "execute_result"
    }
   ],
   "source": [
    "x.symmetric_difference(y)"
   ]
  },
  {
   "cell_type": "code",
   "execution_count": null,
   "id": "932f2471",
   "metadata": {},
   "outputs": [],
   "source": []
  },
  {
   "cell_type": "code",
   "execution_count": 116,
   "id": "392433ac",
   "metadata": {},
   "outputs": [
    {
     "ename": "TypeError",
     "evalue": "unhashable type: 'set'",
     "output_type": "error",
     "traceback": [
      "\u001b[0;31m---------------------------------------------------------------------------\u001b[0m",
      "\u001b[0;31mTypeError\u001b[0m                                 Traceback (most recent call last)",
      "Input \u001b[0;32mIn [116]\u001b[0m, in \u001b[0;36m<module>\u001b[0;34m\u001b[0m\n\u001b[0;32m----> 1\u001b[0m myset \u001b[38;5;241m=\u001b[39m {\n\u001b[1;32m      2\u001b[0m     {\u001b[38;5;241m10\u001b[39m,\u001b[38;5;241m20\u001b[39m,\u001b[38;5;241m30\u001b[39m}\n\u001b[1;32m      3\u001b[0m }\n",
      "\u001b[0;31mTypeError\u001b[0m: unhashable type: 'set'"
     ]
    }
   ],
   "source": [
    "myset = {\n",
    "    {10,20,30}\n",
    "}"
   ]
  },
  {
   "cell_type": "code",
   "execution_count": null,
   "id": "6ce5211b",
   "metadata": {},
   "outputs": [],
   "source": []
  },
  {
   "cell_type": "code",
   "execution_count": 117,
   "id": "ad08f26c",
   "metadata": {},
   "outputs": [
    {
     "data": {
      "text/plain": [
       "{'apple', 'banana', 'cherry'}"
      ]
     },
     "execution_count": 117,
     "metadata": {},
     "output_type": "execute_result"
    }
   ],
   "source": [
    "x"
   ]
  },
  {
   "cell_type": "code",
   "execution_count": 118,
   "id": "1f9569e1",
   "metadata": {},
   "outputs": [],
   "source": [
    "froze_set = frozenset(x)"
   ]
  },
  {
   "cell_type": "code",
   "execution_count": 119,
   "id": "2fba9729",
   "metadata": {},
   "outputs": [
    {
     "data": {
      "text/plain": [
       "frozenset({'apple', 'banana', 'cherry'})"
      ]
     },
     "execution_count": 119,
     "metadata": {},
     "output_type": "execute_result"
    }
   ],
   "source": [
    "froze_set"
   ]
  },
  {
   "cell_type": "code",
   "execution_count": null,
   "id": "e47cc845",
   "metadata": {},
   "outputs": [],
   "source": [
    "froze_set."
   ]
  }
 ],
 "metadata": {
  "kernelspec": {
   "display_name": "Python 3 (ipykernel)",
   "language": "python",
   "name": "python3"
  },
  "language_info": {
   "codemirror_mode": {
    "name": "ipython",
    "version": 3
   },
   "file_extension": ".py",
   "mimetype": "text/x-python",
   "name": "python",
   "nbconvert_exporter": "python",
   "pygments_lexer": "ipython3",
   "version": "3.8.8"
  }
 },
 "nbformat": 4,
 "nbformat_minor": 5
}
